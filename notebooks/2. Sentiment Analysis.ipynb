{
 "cells": [
  {
   "cell_type": "markdown",
   "id": "718aa2a7",
   "metadata": {},
   "source": [
    "# Sentiment Analysis of Donald Trump Rally Speeches\n",
    "\n",
    "This notebook performs comprehensive sentiment analysis on Donald Trump's rally speeches from 2019-2020 using **FinBERT**, a BERT model fine-tuned for financial sentiment analysis. While originally designed for financial text, FinBERT's sentiment classification (positive, negative, neutral) works well for political speech analysis.\n",
    "\n",
    "## Analysis Overview\n",
    "- **Model**: ProsusAI/finbert - Pre-trained BERT for sentiment classification\n",
    "- **Approach**: Chunk long speeches into manageable segments for BERT processing\n",
    "- **Output**: Sentiment scores (positive, negative, neutral) for each speech\n",
    "- **Insights**: Temporal trends, location-based patterns, and aggregate sentiment metrics"
   ]
  },
  {
   "cell_type": "markdown",
   "id": "c2da79cf",
   "metadata": {},
   "source": [
    "## Import Libraries\n",
    "\n",
    "Loading required libraries for deep learning, NLP, and visualization."
   ]
  },
  {
   "cell_type": "code",
   "execution_count": 1,
   "id": "6af38e03",
   "metadata": {},
   "outputs": [
    {
     "name": "stdout",
     "output_type": "stream",
     "text": [
      "WARNING:tensorflow:From c:\\Users\\ksbon\\AppData\\Local\\pypoetry\\Cache\\virtualenvs\\dt-rally-speeches-nlp-jcnckEk--py3.13\\Lib\\site-packages\\tf_keras\\src\\losses.py:2976: The name tf.losses.sparse_softmax_cross_entropy is deprecated. Please use tf.compat.v1.losses.sparse_softmax_cross_entropy instead.\n",
      "\n",
      "TensorFlow version: 2.20.0\n",
      "GPU Available: []\n"
     ]
    }
   ],
   "source": [
    "import numpy as np\n",
    "import pandas as pd\n",
    "import matplotlib.pyplot as plt\n",
    "import seaborn as sns\n",
    "\n",
    "import plotly.graph_objects as go\n",
    "import plotly.express as px\n",
    "from plotly.subplots import make_subplots\n",
    "\n",
    "import math\n",
    "import tensorflow as tf\n",
    "from tqdm.notebook import tqdm\n",
    "from typing import List, Tuple, Dict\n",
    "\n",
    "from transformers import pipeline, AutoTokenizer, TFBertForSequenceClassification\n",
    "from scipy.special import softmax\n",
    "from tensorflow.python.ops.numpy_ops import np_config\n",
    "\n",
    "# Enable NumPy behavior for TensorFlow\n",
    "np_config.enable_numpy_behavior()\n",
    "\n",
    "# Set visualization styles\n",
    "sns.set_style(\"whitegrid\")\n",
    "plt.rcParams['figure.dpi'] = 100\n",
    "\n",
    "print(f\"TensorFlow version: {tf.__version__}\")\n",
    "print(f\"GPU Available: {tf.config.list_physical_devices('GPU')}\")"
   ]
  },
  {
   "cell_type": "markdown",
   "id": "26318174",
   "metadata": {},
   "source": [
    "## Loading and overview of stored dataset"
   ]
  },
  {
   "cell_type": "code",
   "execution_count": 2,
   "id": "05de699d",
   "metadata": {},
   "outputs": [
    {
     "name": "stdout",
     "output_type": "stream",
     "text": [
      "Loaded 35 speeches\n",
      "Date range: Jul 2019 - Sep 2020\n"
     ]
    }
   ],
   "source": [
    "# Load the dataset prepared in Word Clouds notebook\n",
    "%store -r DT_rally_speaches_dataset\n",
    "df = DT_rally_speaches_dataset.copy()\n",
    "\n",
    "print(f\"Loaded {len(df)} speeches\")\n",
    "print(f\"Date range: {df['Month'].iloc[0]} {df['Year'].iloc[0]} - {df['Month'].iloc[-1]} {df['Year'].iloc[-1]}\")"
   ]
  },
  {
   "cell_type": "code",
   "execution_count": 3,
   "id": "2c9cab8c",
   "metadata": {},
   "outputs": [
    {
     "data": {
      "text/html": [
       "<div>\n",
       "<style scoped>\n",
       "    .dataframe tbody tr th:only-of-type {\n",
       "        vertical-align: middle;\n",
       "    }\n",
       "\n",
       "    .dataframe tbody tr th {\n",
       "        vertical-align: top;\n",
       "    }\n",
       "\n",
       "    .dataframe thead th {\n",
       "        text-align: right;\n",
       "    }\n",
       "</style>\n",
       "<table border=\"1\" class=\"dataframe\">\n",
       "  <thead>\n",
       "    <tr style=\"text-align: right;\">\n",
       "      <th></th>\n",
       "      <th>Location</th>\n",
       "      <th>Month</th>\n",
       "      <th>Year</th>\n",
       "      <th>filename</th>\n",
       "      <th>content</th>\n",
       "      <th>Month_Num</th>\n",
       "      <th>Date</th>\n",
       "      <th>word_count</th>\n",
       "    </tr>\n",
       "  </thead>\n",
       "  <tbody>\n",
       "    <tr>\n",
       "      <th>0</th>\n",
       "      <td>Greenville</td>\n",
       "      <td>Jul</td>\n",
       "      <td>2019</td>\n",
       "      <td>GreenvilleJul17_2019.txt</td>\n",
       "      <td>Thank you very much. Thank you. Thank you. Tha...</td>\n",
       "      <td>7</td>\n",
       "      <td>2019-07-15</td>\n",
       "      <td>10605</td>\n",
       "    </tr>\n",
       "    <tr>\n",
       "      <th>1</th>\n",
       "      <td>Cincinnati</td>\n",
       "      <td>Aug</td>\n",
       "      <td>2019</td>\n",
       "      <td>CincinnatiAug1_2019.txt</td>\n",
       "      <td>Thank you all. Thank you very much. Thank you ...</td>\n",
       "      <td>8</td>\n",
       "      <td>2019-08-15</td>\n",
       "      <td>8170</td>\n",
       "    </tr>\n",
       "    <tr>\n",
       "      <th>2</th>\n",
       "      <td>New Hampshire</td>\n",
       "      <td>Aug</td>\n",
       "      <td>2019</td>\n",
       "      <td>NewHampshireAug15_2019.txt</td>\n",
       "      <td>Thank you very much everybody. Thank you. Wow...</td>\n",
       "      <td>8</td>\n",
       "      <td>2019-08-15</td>\n",
       "      <td>10141</td>\n",
       "    </tr>\n",
       "    <tr>\n",
       "      <th>3</th>\n",
       "      <td>Texas</td>\n",
       "      <td>Sep</td>\n",
       "      <td>2019</td>\n",
       "      <td>TexasSep23_2019.txt</td>\n",
       "      <td>Hello, Houston. I am so thrilled to be here in...</td>\n",
       "      <td>9</td>\n",
       "      <td>2019-09-15</td>\n",
       "      <td>2487</td>\n",
       "    </tr>\n",
       "    <tr>\n",
       "      <th>4</th>\n",
       "      <td>New Mexico</td>\n",
       "      <td>Sep</td>\n",
       "      <td>2019</td>\n",
       "      <td>NewMexicoSep16_2019.txt</td>\n",
       "      <td>Wow, thank you. Thank you, New Mexico. Thank ...</td>\n",
       "      <td>9</td>\n",
       "      <td>2019-09-15</td>\n",
       "      <td>11498</td>\n",
       "    </tr>\n",
       "  </tbody>\n",
       "</table>\n",
       "</div>"
      ],
      "text/plain": [
       "        Location Month  Year                    filename  \\\n",
       "0     Greenville   Jul  2019    GreenvilleJul17_2019.txt   \n",
       "1     Cincinnati   Aug  2019     CincinnatiAug1_2019.txt   \n",
       "2  New Hampshire   Aug  2019  NewHampshireAug15_2019.txt   \n",
       "3          Texas   Sep  2019         TexasSep23_2019.txt   \n",
       "4     New Mexico   Sep  2019     NewMexicoSep16_2019.txt   \n",
       "\n",
       "                                             content  Month_Num       Date  \\\n",
       "0  Thank you very much. Thank you. Thank you. Tha...          7 2019-07-15   \n",
       "1  Thank you all. Thank you very much. Thank you ...          8 2019-08-15   \n",
       "2   Thank you very much everybody. Thank you. Wow...          8 2019-08-15   \n",
       "3  Hello, Houston. I am so thrilled to be here in...          9 2019-09-15   \n",
       "4   Wow, thank you. Thank you, New Mexico. Thank ...          9 2019-09-15   \n",
       "\n",
       "   word_count  \n",
       "0       10605  \n",
       "1        8170  \n",
       "2       10141  \n",
       "3        2487  \n",
       "4       11498  "
      ]
     },
     "execution_count": 3,
     "metadata": {},
     "output_type": "execute_result"
    }
   ],
   "source": [
    "df.head()"
   ]
  },
  {
   "cell_type": "markdown",
   "id": "490e8d61",
   "metadata": {},
   "source": [
    "## Model and tokenizer setup"
   ]
  },
  {
   "cell_type": "markdown",
   "id": "a21e00d2",
   "metadata": {},
   "source": [
    "We're using **FinBERT** (ProsusAI/finbert), a BERT model fine-tuned for sentiment analysis. It classifies text into three categories:\n",
    "- **Positive**: Optimistic, confident language\n",
    "- **Negative**: Critical, pessimistic language  \n",
    "- **Neutral**: Factual, balanced statements"
   ]
  },
  {
   "cell_type": "code",
   "execution_count": 4,
   "id": "1146d0b3",
   "metadata": {},
   "outputs": [],
   "source": [
    "import ssl\n",
    "ssl._create_default_https_context = ssl._create_unverified_context"
   ]
  },
  {
   "cell_type": "code",
   "execution_count": 5,
   "id": "8371855d",
   "metadata": {},
   "outputs": [
    {
     "name": "stdout",
     "output_type": "stream",
     "text": [
      "Loading FinBERT model and tokenizer...\n"
     ]
    },
    {
     "data": {
      "application/vnd.jupyter.widget-view+json": {
       "model_id": "a043ad9d51fe4c59a09da29b411d4abb",
       "version_major": 2,
       "version_minor": 0
      },
      "text/plain": [
       "tokenizer_config.json:   0%|          | 0.00/252 [00:00<?, ?B/s]"
      ]
     },
     "metadata": {},
     "output_type": "display_data"
    },
    {
     "name": "stderr",
     "output_type": "stream",
     "text": [
      "c:\\Users\\ksbon\\AppData\\Local\\pypoetry\\Cache\\virtualenvs\\dt-rally-speeches-nlp-jcnckEk--py3.13\\Lib\\site-packages\\huggingface_hub\\file_download.py:143: UserWarning: `huggingface_hub` cache-system uses symlinks by default to efficiently store duplicated files but your machine does not support them in C:\\Users\\ksbon\\.cache\\huggingface\\hub\\models--ProsusAI--finbert. Caching files will still work but in a degraded version that might require more space on your disk. This warning can be disabled by setting the `HF_HUB_DISABLE_SYMLINKS_WARNING` environment variable. For more details, see https://huggingface.co/docs/huggingface_hub/how-to-cache#limitations.\n",
      "To support symlinks on Windows, you either need to activate Developer Mode or to run Python as an administrator. In order to activate developer mode, see this article: https://docs.microsoft.com/en-us/windows/apps/get-started/enable-your-device-for-development\n",
      "  warnings.warn(message)\n"
     ]
    },
    {
     "data": {
      "application/vnd.jupyter.widget-view+json": {
       "model_id": "2da5eaaf7bd443b38956db1e17843d0d",
       "version_major": 2,
       "version_minor": 0
      },
      "text/plain": [
       "config.json:   0%|          | 0.00/758 [00:00<?, ?B/s]"
      ]
     },
     "metadata": {},
     "output_type": "display_data"
    },
    {
     "data": {
      "application/vnd.jupyter.widget-view+json": {
       "model_id": "28c54621bcfd4e8ca243ce5b470f4d2c",
       "version_major": 2,
       "version_minor": 0
      },
      "text/plain": [
       "vocab.txt: 0.00B [00:00, ?B/s]"
      ]
     },
     "metadata": {},
     "output_type": "display_data"
    },
    {
     "data": {
      "application/vnd.jupyter.widget-view+json": {
       "model_id": "396ef03f7a7348f5bb7815eb0a1a85cd",
       "version_major": 2,
       "version_minor": 0
      },
      "text/plain": [
       "special_tokens_map.json:   0%|          | 0.00/112 [00:00<?, ?B/s]"
      ]
     },
     "metadata": {},
     "output_type": "display_data"
    },
    {
     "name": "stderr",
     "output_type": "stream",
     "text": [
      "Xet Storage is enabled for this repo, but the 'hf_xet' package is not installed. Falling back to regular HTTP download. For better performance, install the package with: `pip install huggingface_hub[hf_xet]` or `pip install hf_xet`\n"
     ]
    },
    {
     "data": {
      "application/vnd.jupyter.widget-view+json": {
       "model_id": "417c61ae1d9a44d6b56026eec9b6cdce",
       "version_major": 2,
       "version_minor": 0
      },
      "text/plain": [
       "tf_model.h5:   0%|          | 0.00/438M [00:00<?, ?B/s]"
      ]
     },
     "metadata": {},
     "output_type": "display_data"
    },
    {
     "name": "stdout",
     "output_type": "stream",
     "text": [
      "WARNING:tensorflow:From c:\\Users\\ksbon\\AppData\\Local\\pypoetry\\Cache\\virtualenvs\\dt-rally-speeches-nlp-jcnckEk--py3.13\\Lib\\site-packages\\tf_keras\\src\\backend.py:873: The name tf.get_default_graph is deprecated. Please use tf.compat.v1.get_default_graph instead.\n",
      "\n"
     ]
    },
    {
     "name": "stderr",
     "output_type": "stream",
     "text": [
      "TensorFlow and JAX classes are deprecated and will be removed in Transformers v5. We recommend migrating to PyTorch classes or pinning your version of Transformers.\n",
      "All model checkpoint layers were used when initializing TFBertForSequenceClassification.\n",
      "\n",
      "Some layers of TFBertForSequenceClassification were not initialized from the model checkpoint at ProsusAI/finbert and are newly initialized: ['classifier']\n",
      "You should probably TRAIN this model on a down-stream task to be able to use it for predictions and inference.\n"
     ]
    },
    {
     "name": "stdout",
     "output_type": "stream",
     "text": [
      "\n",
      "Model: ProsusAI/finbert\n",
      "Labels: {0: 'positive', 1: 'negative', 2: 'neutral'}\n",
      "Max sequence length: 512\n"
     ]
    }
   ],
   "source": [
    "# Load FinBERT model and tokenizer\n",
    "MODEL_CHECKPOINT = 'ProsusAI/finbert'\n",
    "\n",
    "print(\"Loading FinBERT model and tokenizer...\")\n",
    "tokenizer = AutoTokenizer.from_pretrained(MODEL_CHECKPOINT)\n",
    "model = TFBertForSequenceClassification.from_pretrained(MODEL_CHECKPOINT)\n",
    "\n",
    "# Display model configuration\n",
    "print(f\"\\nModel: {MODEL_CHECKPOINT}\")\n",
    "print(f\"Labels: {model.config.id2label}\")\n",
    "print(f\"Max sequence length: {tokenizer.model_max_length}\")"
   ]
  },
  {
   "cell_type": "markdown",
   "id": "46e799cf",
   "metadata": {},
   "source": [
    "## Text Processing Functions\n",
    "\n",
    "BERT models have a maximum sequence length (512 tokens). We need to split long speeches into manageable chunks."
   ]
  },
  {
   "cell_type": "code",
   "execution_count": 6,
   "id": "e9f9d596",
   "metadata": {},
   "outputs": [],
   "source": [
    "def chunk_text_for_bert(text: str, tokenizer, max_length: int = 510) -> List[Dict]:\n",
    "    \"\"\"\n",
    "    Split text into chunks that fit within BERT's token limits.\n",
    "    \n",
    "    Parameters:\n",
    "        text: Input text to chunk\n",
    "        tokenizer: HuggingFace tokenizer\n",
    "        max_length: Maximum tokens per chunk (510 to leave room for [CLS] and [SEP])\n",
    "        \n",
    "    Returns:\n",
    "        List of encoded chunks ready for model input\n",
    "    \"\"\"\n",
    "    # Tokenize the full text\n",
    "    tokens = tokenizer.tokenize(text)\n",
    "    \n",
    "    # Split into chunks\n",
    "    chunks = []\n",
    "    for i in range(0, len(tokens), max_length):\n",
    "        chunk_tokens = tokens[i:i + max_length]\n",
    "        chunk_text = tokenizer.convert_tokens_to_string(chunk_tokens)\n",
    "        \n",
    "        # Encode with special tokens\n",
    "        encoding = tokenizer.encode_plus(\n",
    "            chunk_text,\n",
    "            add_special_tokens=True,\n",
    "            max_length=max_length + 2,  # +2 for [CLS] and [SEP]\n",
    "            padding='max_length',\n",
    "            truncation=True,\n",
    "            return_tensors='tf'\n",
    "        )\n",
    "        chunks.append(encoding)\n",
    "    \n",
    "    return chunks\n",
    "\n",
    "\n",
    "def analyze_sentiment(chunks: List[Dict], model) -> Tuple[np.ndarray, np.ndarray]:\n",
    "    \"\"\"\n",
    "    Run sentiment analysis on text chunks.\n",
    "    \n",
    "    Parameters:\n",
    "        chunks: List of encoded text chunks\n",
    "        model: Loaded sentiment analysis model\n",
    "        \n",
    "    Returns:\n",
    "        Tuple of (all_predictions, mean_sentiment) as numpy arrays\n",
    "    \"\"\"\n",
    "    all_predictions = []\n",
    "    \n",
    "    for chunk in chunks:\n",
    "        # Get model predictions\n",
    "        outputs = model(chunk)\n",
    "        \n",
    "        # Convert logits to probabilities\n",
    "        probs = tf.nn.softmax(outputs.logits, axis=-1)\n",
    "        all_predictions.append(probs.numpy())\n",
    "    \n",
    "    # Stack all predictions\n",
    "    all_predictions = np.vstack(all_predictions)\n",
    "    \n",
    "    # Calculate mean sentiment across all chunks\n",
    "    mean_sentiment = np.mean(all_predictions, axis=0)\n",
    "    \n",
    "    return all_predictions, mean_sentiment"
   ]
  },
  {
   "cell_type": "code",
   "execution_count": 7,
   "id": "aad9b431",
   "metadata": {},
   "outputs": [
    {
     "name": "stdout",
     "output_type": "stream",
     "text": [
      "🔄 Processing all speeches for sentiment analysis...\n",
      "\n"
     ]
    },
    {
     "data": {
      "application/vnd.jupyter.widget-view+json": {
       "model_id": "bf04f3b641294474a2fd63a0a1a7cb64",
       "version_major": 2,
       "version_minor": 0
      },
      "text/plain": [
       "Analyzing speeches:   0%|          | 0/35 [00:00<?, ?it/s]"
      ]
     },
     "metadata": {},
     "output_type": "display_data"
    },
    {
     "name": "stderr",
     "output_type": "stream",
     "text": [
      "Token indices sequence length is longer than the specified maximum sequence length for this model (14239 > 512). Running this sequence through the model will result in indexing errors\n"
     ]
    },
    {
     "name": "stdout",
     "output_type": "stream",
     "text": [
      "\n",
      "✅ Successfully analyzed 35 speeches!\n"
     ]
    }
   ],
   "source": [
    "# Process all speeches with progress tracking\n",
    "print(\"🔄 Processing all speeches for sentiment analysis...\\n\")\n",
    "\n",
    "sentiment_results = []\n",
    "\n",
    "for idx, row in tqdm(df.iterrows(), total=len(df), desc=\"Analyzing speeches\"):\n",
    "    try:\n",
    "        # Chunk the speech text\n",
    "        chunks = chunk_text_for_bert(row['content'], tokenizer, max_length=510)\n",
    "        \n",
    "        # Analyze sentiment\n",
    "        chunk_predictions, mean_sentiment = analyze_sentiment(chunks, model)\n",
    "        \n",
    "        # Store results\n",
    "        sentiment_results.append({\n",
    "            'speech_idx': idx,\n",
    "            'location': row['Location'],\n",
    "            'month': row['Month'],\n",
    "            'year': row['Year'],\n",
    "            'num_chunks': len(chunks),\n",
    "            'positive': mean_sentiment[0],\n",
    "            'negative': mean_sentiment[1],\n",
    "            'neutral': mean_sentiment[2],\n",
    "            'chunk_predictions': chunk_predictions,\n",
    "            'dominant_sentiment': model.config.id2label[np.argmax(mean_sentiment)]\n",
    "        })\n",
    "        \n",
    "    except Exception as e:\n",
    "        print(f\"\\n⚠️  Error processing speech {idx} ({row['Location']}): {e}\")\n",
    "        continue\n",
    "\n",
    "print(f\"\\n✅ Successfully analyzed {len(sentiment_results)} speeches!\")\n",
    "\n",
    "# Create results DataFrame\n",
    "sentiment_df = pd.DataFrame([{k: v for k, v in r.items() if k != 'chunk_predictions'} \n",
    "                              for r in sentiment_results])"
   ]
  },
  {
   "cell_type": "markdown",
   "id": "bea136f6",
   "metadata": {},
   "source": [
    "## Sentiment Analysis Results\n",
    "\n",
    "Let's examine the sentiment scores for each speech."
   ]
  },
  {
   "cell_type": "code",
   "execution_count": 8,
   "id": "379de42f",
   "metadata": {},
   "outputs": [
    {
     "name": "stdout",
     "output_type": "stream",
     "text": [
      "Sentiment Scores by Speech:\n",
      "\n",
      "================================================================================\n",
      "Greenville.................... (Jul 2019)\n",
      "   Positive: 0.240 | Negative: 0.258 | Neutral: 0.503\n",
      "   Dominant: neutral | Chunks: 28\n",
      "\n",
      "Cincinnati.................... (Aug 2019)\n",
      "   Positive: 0.239 | Negative: 0.260 | Neutral: 0.502\n",
      "   Dominant: neutral | Chunks: 21\n",
      "\n",
      "New Hampshire................. (Aug 2019)\n",
      "   Positive: 0.237 | Negative: 0.260 | Neutral: 0.502\n",
      "   Dominant: neutral | Chunks: 26\n",
      "\n",
      "Texas......................... (Sep 2019)\n",
      "   Positive: 0.338 | Negative: 0.249 | Neutral: 0.414\n",
      "   Dominant: neutral | Chunks: 6\n",
      "\n",
      "New Mexico.................... (Sep 2019)\n",
      "   Positive: 0.249 | Negative: 0.260 | Neutral: 0.491\n",
      "   Dominant: neutral | Chunks: 31\n",
      "\n",
      "Fayetteville.................. (Sep 2019)\n",
      "   Positive: 0.267 | Negative: 0.248 | Neutral: 0.485\n",
      "   Dominant: neutral | Chunks: 24\n",
      "\n",
      "Dallas........................ (Oct 2019)\n",
      "   Positive: 0.243 | Negative: 0.258 | Neutral: 0.499\n",
      "   Dominant: neutral | Chunks: 28\n",
      "\n",
      "Minneapolis................... (Oct 2019)\n",
      "   Positive: 0.240 | Negative: 0.255 | Neutral: 0.505\n",
      "   Dominant: neutral | Chunks: 31\n",
      "\n",
      "Tupelo........................ (Nov 2019)\n",
      "   Positive: 0.228 | Negative: 0.260 | Neutral: 0.512\n",
      "   Dominant: neutral | Chunks: 25\n",
      "\n",
      "Lexington..................... (Nov 2019)\n",
      "   Positive: 0.245 | Negative: 0.259 | Neutral: 0.496\n",
      "   Dominant: neutral | Chunks: 24\n",
      "\n",
      "Battle Creek.................. (Dec 2019)\n",
      "   Positive: 0.231 | Negative: 0.260 | Neutral: 0.508\n",
      "   Dominant: neutral | Chunks: 48\n",
      "\n",
      "Hershey....................... (Dec 2019)\n",
      "   Positive: 0.236 | Negative: 0.259 | Neutral: 0.504\n",
      "   Dominant: neutral | Chunks: 26\n",
      "\n",
      "Wildwood...................... (Jan 2020)\n",
      "   Positive: 0.257 | Negative: 0.254 | Neutral: 0.490\n",
      "   Dominant: neutral | Chunks: 18\n",
      "\n",
      "Toledo........................ (Jan 2020)\n",
      "   Positive: 0.239 | Negative: 0.259 | Neutral: 0.502\n",
      "   Dominant: neutral | Chunks: 29\n",
      "\n",
      "Milwaukee..................... (Jan 2020)\n",
      "   Positive: 0.243 | Negative: 0.259 | Neutral: 0.498\n",
      "   Dominant: neutral | Chunks: 25\n",
      "\n",
      "Des Moines.................... (Jan 2020)\n",
      "   Positive: 0.244 | Negative: 0.255 | Neutral: 0.501\n",
      "   Dominant: neutral | Chunks: 31\n",
      "\n",
      "Charleston.................... (Feb 2020)\n",
      "   Positive: 0.249 | Negative: 0.254 | Neutral: 0.497\n",
      "   Dominant: neutral | Chunks: 25\n",
      "\n",
      "Colorador Springs............. (Feb 2020)\n",
      "   Positive: 0.247 | Negative: 0.252 | Neutral: 0.501\n",
      "   Dominant: neutral | Chunks: 31\n",
      "\n",
      "Phoenix....................... (Feb 2020)\n",
      "   Positive: 0.253 | Negative: 0.255 | Neutral: 0.492\n",
      "   Dominant: neutral | Chunks: 25\n",
      "\n",
      "Las Vegas..................... (Feb 2020)\n",
      "   Positive: 0.236 | Negative: 0.255 | Neutral: 0.509\n",
      "   Dominant: neutral | Chunks: 36\n",
      "\n",
      "New Hampshire................. (Feb 2020)\n",
      "   Positive: 0.253 | Negative: 0.251 | Neutral: 0.496\n",
      "   Dominant: neutral | Chunks: 17\n",
      "\n",
      "Charlotte..................... (Mar 2020)\n",
      "   Positive: 0.267 | Negative: 0.247 | Neutral: 0.486\n",
      "   Dominant: neutral | Chunks: 18\n",
      "\n",
      "Tulsa......................... (Jun 2020)\n",
      "   Positive: 0.226 | Negative: 0.261 | Neutral: 0.513\n",
      "   Dominant: neutral | Chunks: 30\n",
      "\n",
      "Yuma.......................... (Aug 2020)\n",
      "   Positive: 0.239 | Negative: 0.256 | Neutral: 0.505\n",
      "   Dominant: neutral | Chunks: 17\n",
      "\n",
      "New Hampshire................. (Aug 2020)\n",
      "   Positive: 0.233 | Negative: 0.261 | Neutral: 0.506\n",
      "   Dominant: neutral | Chunks: 24\n",
      "\n",
      "Fayetteville.................. (Sep 2020)\n",
      "   Positive: 0.244 | Negative: 0.253 | Neutral: 0.503\n",
      "   Dominant: neutral | Chunks: 45\n",
      "\n",
      "Ohio.......................... (Sep 2020)\n",
      "   Positive: 0.237 | Negative: 0.255 | Neutral: 0.509\n",
      "   Dominant: neutral | Chunks: 29\n",
      "\n",
      "Mosinee....................... (Sep 2020)\n",
      "   Positive: 0.234 | Negative: 0.259 | Neutral: 0.507\n",
      "   Dominant: neutral | Chunks: 38\n",
      "\n",
      "Pittsburgh.................... (Sep 2020)\n",
      "   Positive: 0.238 | Negative: 0.258 | Neutral: 0.504\n",
      "   Dominant: neutral | Chunks: 32\n",
      "\n",
      "Freeland...................... (Sep 2020)\n",
      "   Positive: 0.245 | Negative: 0.253 | Neutral: 0.502\n",
      "   Dominant: neutral | Chunks: 27\n",
      "\n",
      "Minden........................ (Sep 2020)\n",
      "   Positive: 0.226 | Negative: 0.261 | Neutral: 0.513\n",
      "   Dominant: neutral | Chunks: 38\n",
      "\n",
      "Salem......................... (Sep 2020)\n",
      "   Positive: 0.244 | Negative: 0.257 | Neutral: 0.499\n",
      "   Dominant: neutral | Chunks: 29\n",
      "\n",
      "Henderson..................... (Sep 2020)\n",
      "   Positive: 0.250 | Negative: 0.251 | Neutral: 0.499\n",
      "   Dominant: neutral | Chunks: 24\n",
      "\n",
      "Bemidji....................... (Sep 2020)\n",
      "   Positive: 0.240 | Negative: 0.257 | Neutral: 0.503\n",
      "   Dominant: neutral | Chunks: 46\n",
      "\n",
      "Latrobe....................... (Sep 2020)\n",
      "   Positive: 0.231 | Negative: 0.262 | Neutral: 0.508\n",
      "   Dominant: neutral | Chunks: 33\n",
      "\n"
     ]
    },
    {
     "data": {
      "text/html": [
       "<div>\n",
       "<style scoped>\n",
       "    .dataframe tbody tr th:only-of-type {\n",
       "        vertical-align: middle;\n",
       "    }\n",
       "\n",
       "    .dataframe tbody tr th {\n",
       "        vertical-align: top;\n",
       "    }\n",
       "\n",
       "    .dataframe thead th {\n",
       "        text-align: right;\n",
       "    }\n",
       "</style>\n",
       "<table border=\"1\" class=\"dataframe\">\n",
       "  <thead>\n",
       "    <tr style=\"text-align: right;\">\n",
       "      <th></th>\n",
       "      <th>speech_idx</th>\n",
       "      <th>location</th>\n",
       "      <th>month</th>\n",
       "      <th>year</th>\n",
       "      <th>num_chunks</th>\n",
       "      <th>positive</th>\n",
       "      <th>negative</th>\n",
       "      <th>neutral</th>\n",
       "      <th>dominant_sentiment</th>\n",
       "    </tr>\n",
       "  </thead>\n",
       "  <tbody>\n",
       "    <tr>\n",
       "      <th>0</th>\n",
       "      <td>0</td>\n",
       "      <td>Greenville</td>\n",
       "      <td>Jul</td>\n",
       "      <td>2019</td>\n",
       "      <td>28</td>\n",
       "      <td>0.239927</td>\n",
       "      <td>0.257548</td>\n",
       "      <td>0.502525</td>\n",
       "      <td>neutral</td>\n",
       "    </tr>\n",
       "    <tr>\n",
       "      <th>1</th>\n",
       "      <td>1</td>\n",
       "      <td>Cincinnati</td>\n",
       "      <td>Aug</td>\n",
       "      <td>2019</td>\n",
       "      <td>21</td>\n",
       "      <td>0.238780</td>\n",
       "      <td>0.259619</td>\n",
       "      <td>0.501601</td>\n",
       "      <td>neutral</td>\n",
       "    </tr>\n",
       "    <tr>\n",
       "      <th>2</th>\n",
       "      <td>2</td>\n",
       "      <td>New Hampshire</td>\n",
       "      <td>Aug</td>\n",
       "      <td>2019</td>\n",
       "      <td>26</td>\n",
       "      <td>0.237486</td>\n",
       "      <td>0.260018</td>\n",
       "      <td>0.502497</td>\n",
       "      <td>neutral</td>\n",
       "    </tr>\n",
       "    <tr>\n",
       "      <th>3</th>\n",
       "      <td>3</td>\n",
       "      <td>Texas</td>\n",
       "      <td>Sep</td>\n",
       "      <td>2019</td>\n",
       "      <td>6</td>\n",
       "      <td>0.337545</td>\n",
       "      <td>0.248865</td>\n",
       "      <td>0.413589</td>\n",
       "      <td>neutral</td>\n",
       "    </tr>\n",
       "    <tr>\n",
       "      <th>4</th>\n",
       "      <td>4</td>\n",
       "      <td>New Mexico</td>\n",
       "      <td>Sep</td>\n",
       "      <td>2019</td>\n",
       "      <td>31</td>\n",
       "      <td>0.248865</td>\n",
       "      <td>0.260312</td>\n",
       "      <td>0.490823</td>\n",
       "      <td>neutral</td>\n",
       "    </tr>\n",
       "    <tr>\n",
       "      <th>5</th>\n",
       "      <td>5</td>\n",
       "      <td>Fayetteville</td>\n",
       "      <td>Sep</td>\n",
       "      <td>2019</td>\n",
       "      <td>24</td>\n",
       "      <td>0.267319</td>\n",
       "      <td>0.247545</td>\n",
       "      <td>0.485135</td>\n",
       "      <td>neutral</td>\n",
       "    </tr>\n",
       "    <tr>\n",
       "      <th>6</th>\n",
       "      <td>6</td>\n",
       "      <td>Dallas</td>\n",
       "      <td>Oct</td>\n",
       "      <td>2019</td>\n",
       "      <td>28</td>\n",
       "      <td>0.242773</td>\n",
       "      <td>0.257889</td>\n",
       "      <td>0.499338</td>\n",
       "      <td>neutral</td>\n",
       "    </tr>\n",
       "    <tr>\n",
       "      <th>7</th>\n",
       "      <td>7</td>\n",
       "      <td>Minneapolis</td>\n",
       "      <td>Oct</td>\n",
       "      <td>2019</td>\n",
       "      <td>31</td>\n",
       "      <td>0.239964</td>\n",
       "      <td>0.254720</td>\n",
       "      <td>0.505316</td>\n",
       "      <td>neutral</td>\n",
       "    </tr>\n",
       "    <tr>\n",
       "      <th>8</th>\n",
       "      <td>8</td>\n",
       "      <td>Tupelo</td>\n",
       "      <td>Nov</td>\n",
       "      <td>2019</td>\n",
       "      <td>25</td>\n",
       "      <td>0.228197</td>\n",
       "      <td>0.259543</td>\n",
       "      <td>0.512260</td>\n",
       "      <td>neutral</td>\n",
       "    </tr>\n",
       "    <tr>\n",
       "      <th>9</th>\n",
       "      <td>9</td>\n",
       "      <td>Lexington</td>\n",
       "      <td>Nov</td>\n",
       "      <td>2019</td>\n",
       "      <td>24</td>\n",
       "      <td>0.245368</td>\n",
       "      <td>0.259118</td>\n",
       "      <td>0.495514</td>\n",
       "      <td>neutral</td>\n",
       "    </tr>\n",
       "  </tbody>\n",
       "</table>\n",
       "</div>"
      ],
      "text/plain": [
       "   speech_idx       location month  year  num_chunks  positive  negative  \\\n",
       "0           0     Greenville   Jul  2019          28  0.239927  0.257548   \n",
       "1           1     Cincinnati   Aug  2019          21  0.238780  0.259619   \n",
       "2           2  New Hampshire   Aug  2019          26  0.237486  0.260018   \n",
       "3           3          Texas   Sep  2019           6  0.337545  0.248865   \n",
       "4           4     New Mexico   Sep  2019          31  0.248865  0.260312   \n",
       "5           5   Fayetteville   Sep  2019          24  0.267319  0.247545   \n",
       "6           6         Dallas   Oct  2019          28  0.242773  0.257889   \n",
       "7           7    Minneapolis   Oct  2019          31  0.239964  0.254720   \n",
       "8           8         Tupelo   Nov  2019          25  0.228197  0.259543   \n",
       "9           9      Lexington   Nov  2019          24  0.245368  0.259118   \n",
       "\n",
       "    neutral dominant_sentiment  \n",
       "0  0.502525            neutral  \n",
       "1  0.501601            neutral  \n",
       "2  0.502497            neutral  \n",
       "3  0.413589            neutral  \n",
       "4  0.490823            neutral  \n",
       "5  0.485135            neutral  \n",
       "6  0.499338            neutral  \n",
       "7  0.505316            neutral  \n",
       "8  0.512260            neutral  \n",
       "9  0.495514            neutral  "
      ]
     },
     "execution_count": 8,
     "metadata": {},
     "output_type": "execute_result"
    }
   ],
   "source": [
    "# Display sentiment scores\n",
    "print(\"Sentiment Scores by Speech:\\n\")\n",
    "print(\"=\"*80)\n",
    "\n",
    "for idx, row in sentiment_df.iterrows():\n",
    "    print(f\"{row['location']:.<30} ({row['month']} {row['year']})\")\n",
    "    print(f\"   Positive: {row['positive']:.3f} | Negative: {row['negative']:.3f} | Neutral: {row['neutral']:.3f}\")\n",
    "    print(f\"   Dominant: {row['dominant_sentiment']} | Chunks: {row['num_chunks']}\")\n",
    "    print()\n",
    "\n",
    "# Show DataFrame\n",
    "sentiment_df.head(10)"
   ]
  },
  {
   "cell_type": "markdown",
   "id": "7d492feb",
   "metadata": {},
   "source": [
    "## Interactive Visualizations\n",
    "\n",
    "Creating interactive charts to explore sentiment patterns."
   ]
  },
  {
   "cell_type": "code",
   "execution_count": 9,
   "id": "e0c20093",
   "metadata": {},
   "outputs": [
    {
     "data": {
      "application/vnd.plotly.v1+json": {
       "config": {
        "plotlyServerURL": "https://plot.ly"
       },
       "data": [
        {
         "marker": {
          "color": "#2ecc71"
         },
         "name": "Positive",
         "showlegend": true,
         "type": "bar",
         "x": [
          "Greenville",
          "Cincinnati",
          "New Hampshire",
          "Texas",
          "New Mexico",
          "Fayetteville",
          "Dallas",
          "Minneapolis",
          "Tupelo",
          "Lexington",
          "Battle Creek",
          "Hershey",
          "Wildwood",
          "Toledo",
          "Milwaukee",
          "Des Moines",
          "Charleston",
          "Colorador Springs",
          "Phoenix",
          "Las Vegas",
          "New Hampshire",
          "Charlotte",
          "Tulsa",
          "Yuma",
          "New Hampshire",
          "Fayetteville",
          "Ohio",
          "Mosinee",
          "Pittsburgh",
          "Freeland",
          "Minden",
          "Salem",
          "Henderson",
          "Bemidji",
          "Latrobe"
         ],
         "xaxis": "x",
         "y": {
          "bdata": "WK91Ps6CdD5sL3M+wdKsPnzWfj4X3og+iZl4PiG5dT6PrGk+1EF7Pmj5bD5WKnI+rGKDPq5vdD5WsHg+e016PiYBfz4xMX0+xoaBPoXocT72qIE+nOOIPux7Zz4GWnQ+r/5uPrCQeT7+MHI+vpRvPnjAcz67YHs+LwBnPmmEeT4j938+nf91PgArbD4=",
          "dtype": "f4"
         },
         "yaxis": "y"
        },
        {
         "marker": {
          "color": "#e74c3c"
         },
         "name": "Negative",
         "showlegend": true,
         "type": "bar",
         "x": [
          "Greenville",
          "Cincinnati",
          "New Hampshire",
          "Texas",
          "New Mexico",
          "Fayetteville",
          "Dallas",
          "Minneapolis",
          "Tupelo",
          "Lexington",
          "Battle Creek",
          "Hershey",
          "Wildwood",
          "Toledo",
          "Milwaukee",
          "Des Moines",
          "Charleston",
          "Colorador Springs",
          "Phoenix",
          "Las Vegas",
          "New Hampshire",
          "Charlotte",
          "Tulsa",
          "Yuma",
          "New Hampshire",
          "Fayetteville",
          "Ohio",
          "Mosinee",
          "Pittsburgh",
          "Freeland",
          "Minden",
          "Salem",
          "Henderson",
          "Bemidji",
          "Latrobe"
         ],
         "xaxis": "x",
         "y": {
          "bdata": "U92DPs3shD4EIYU+kdZ+PqxHhT50fH0+/wmEPplqgj7E4oQ+D6uEPiJVhT7jxoQ+7OqBPtGnhD7KhYQ+z1mCPvzYgT6K5IA+fpqCPmB2gj7EloA+pN58Pqu1hT5FLYM+HKmFPmW2gT7ccoI+M6SEPhUehD4iZIE+DeGFPn20gz6lpIA+V1iDPvTmhT4=",
          "dtype": "f4"
         },
         "yaxis": "y"
        },
        {
         "marker": {
          "color": "#95a5a6"
         },
         "name": "Neutral",
         "showlegend": true,
         "type": "bar",
         "x": [
          "Greenville",
          "Cincinnati",
          "New Hampshire",
          "Texas",
          "New Mexico",
          "Fayetteville",
          "Dallas",
          "Minneapolis",
          "Tupelo",
          "Lexington",
          "Battle Creek",
          "Hershey",
          "Wildwood",
          "Toledo",
          "Milwaukee",
          "Des Moines",
          "Charleston",
          "Colorador Springs",
          "Phoenix",
          "Las Vegas",
          "New Hampshire",
          "Charlotte",
          "Tulsa",
          "Yuma",
          "New Hampshire",
          "Fayetteville",
          "Ohio",
          "Mosinee",
          "Pittsburgh",
          "Freeland",
          "Minden",
          "Salem",
          "Henderson",
          "Bemidji",
          "Latrobe"
         ],
         "xaxis": "x",
         "y": {
          "bdata": "gqUAP+ZoAD+jowA/9cHTPhhN+z6sY/g+Pan/PmtcAT96IwM/B7T9PhUXAj/5EQE/Z7L6PiuQAD8KIv8+uj8AP3Om/j5vQQA/u977PrBKAj9IwP0+Eq34PjFGAz/cUgE/yGsBP6DAAD9SOgI/uMgBP9cAAT+/dQA/bU8DP0+J/z7JX/8+7dMAP8UBAj8=",
          "dtype": "f4"
         },
         "yaxis": "y"
        },
        {
         "marker": {
          "color": "#2ecc71"
         },
         "name": "Positive",
         "showlegend": false,
         "type": "bar",
         "x": [
          "2019",
          "2020"
         ],
         "xaxis": "x2",
         "y": {
          "bdata": "4X9/PgAxeD4=",
          "dtype": "f4"
         },
         "yaxis": "y2"
        },
        {
         "marker": {
          "color": "#e74c3c"
         },
         "name": "Negative",
         "showlegend": false,
         "type": "bar",
         "x": [
          "2019",
          "2020"
         ],
         "xaxis": "x2",
         "y": {
          "bdata": "kJ+DPqf7gj4=",
          "dtype": "f4"
         },
         "yaxis": "y2"
        },
        {
         "marker": {
          "color": "#95a5a6"
         },
         "name": "Neutral",
         "showlegend": false,
         "type": "bar",
         "x": [
          "2019",
          "2020"
         ],
         "xaxis": "x2",
         "y": {
          "bdata": "gKD8Pu11AD8=",
          "dtype": "f4"
         },
         "yaxis": "y2"
        },
        {
         "domain": {
          "x": [
           0,
           0.45
          ],
          "y": [
           0,
           0.375
          ]
         },
         "labels": [
          "neutral"
         ],
         "marker": {
          "colors": [
           "#2ecc71",
           "#e74c3c",
           "#95a5a6"
          ]
         },
         "showlegend": false,
         "type": "pie",
         "values": {
          "bdata": "Iw==",
          "dtype": "i1"
         }
        },
        {
         "line": {
          "color": "#2ecc71",
          "width": 2
         },
         "mode": "lines+markers",
         "name": "Positive",
         "showlegend": false,
         "type": "scatter",
         "x": {
          "bdata": "AAECAwQFBgcICQoLDA0ODxAREhMUFRYXGBkaGxwdHh8gISI=",
          "dtype": "i1"
         },
         "xaxis": "x3",
         "y": {
          "bdata": "WK91Ps6CdD5sL3M+wdKsPnzWfj4X3og+iZl4PiG5dT6PrGk+1EF7Pmj5bD5WKnI+rGKDPq5vdD5WsHg+e016PiYBfz4xMX0+xoaBPoXocT72qIE+nOOIPux7Zz4GWnQ+r/5uPrCQeT7+MHI+vpRvPnjAcz67YHs+LwBnPmmEeT4j938+nf91PgArbD4=",
          "dtype": "f4"
         },
         "yaxis": "y3"
        },
        {
         "line": {
          "color": "#e74c3c",
          "width": 2
         },
         "mode": "lines+markers",
         "name": "Negative",
         "showlegend": false,
         "type": "scatter",
         "x": {
          "bdata": "AAECAwQFBgcICQoLDA0ODxAREhMUFRYXGBkaGxwdHh8gISI=",
          "dtype": "i1"
         },
         "xaxis": "x3",
         "y": {
          "bdata": "U92DPs3shD4EIYU+kdZ+PqxHhT50fH0+/wmEPplqgj7E4oQ+D6uEPiJVhT7jxoQ+7OqBPtGnhD7KhYQ+z1mCPvzYgT6K5IA+fpqCPmB2gj7EloA+pN58Pqu1hT5FLYM+HKmFPmW2gT7ccoI+M6SEPhUehD4iZIE+DeGFPn20gz6lpIA+V1iDPvTmhT4=",
          "dtype": "f4"
         },
         "yaxis": "y3"
        },
        {
         "line": {
          "color": "#95a5a6",
          "width": 2
         },
         "mode": "lines+markers",
         "name": "Neutral",
         "showlegend": false,
         "type": "scatter",
         "x": {
          "bdata": "AAECAwQFBgcICQoLDA0ODxAREhMUFRYXGBkaGxwdHh8gISI=",
          "dtype": "i1"
         },
         "xaxis": "x3",
         "y": {
          "bdata": "gqUAP+ZoAD+jowA/9cHTPhhN+z6sY/g+Pan/PmtcAT96IwM/B7T9PhUXAj/5EQE/Z7L6PiuQAD8KIv8+uj8AP3Om/j5vQQA/u977PrBKAj9IwP0+Eq34PjFGAz/cUgE/yGsBP6DAAD9SOgI/uMgBP9cAAT+/dQA/bU8DP0+J/z7JX/8+7dMAP8UBAj8=",
          "dtype": "f4"
         },
         "yaxis": "y3"
        }
       ],
       "layout": {
        "annotations": [
         {
          "font": {
           "size": 16
          },
          "showarrow": false,
          "text": "Sentiment Distribution Across All Speeches",
          "x": 0.225,
          "xanchor": "center",
          "xref": "paper",
          "y": 1,
          "yanchor": "bottom",
          "yref": "paper"
         },
         {
          "font": {
           "size": 16
          },
          "showarrow": false,
          "text": "Average Sentiment by Year",
          "x": 0.775,
          "xanchor": "center",
          "xref": "paper",
          "y": 1,
          "yanchor": "bottom",
          "yref": "paper"
         },
         {
          "font": {
           "size": 16
          },
          "showarrow": false,
          "text": "Dominant Sentiment Count",
          "x": 0.225,
          "xanchor": "center",
          "xref": "paper",
          "y": 0.375,
          "yanchor": "bottom",
          "yref": "paper"
         },
         {
          "font": {
           "size": 16
          },
          "showarrow": false,
          "text": "Sentiment Trends Over Time",
          "x": 0.775,
          "xanchor": "center",
          "xref": "paper",
          "y": 0.375,
          "yanchor": "bottom",
          "yref": "paper"
         }
        ],
        "barmode": "group",
        "height": 900,
        "showlegend": true,
        "template": {
         "data": {
          "bar": [
           {
            "error_x": {
             "color": "#2a3f5f"
            },
            "error_y": {
             "color": "#2a3f5f"
            },
            "marker": {
             "line": {
              "color": "white",
              "width": 0.5
             },
             "pattern": {
              "fillmode": "overlay",
              "size": 10,
              "solidity": 0.2
             }
            },
            "type": "bar"
           }
          ],
          "barpolar": [
           {
            "marker": {
             "line": {
              "color": "white",
              "width": 0.5
             },
             "pattern": {
              "fillmode": "overlay",
              "size": 10,
              "solidity": 0.2
             }
            },
            "type": "barpolar"
           }
          ],
          "carpet": [
           {
            "aaxis": {
             "endlinecolor": "#2a3f5f",
             "gridcolor": "#C8D4E3",
             "linecolor": "#C8D4E3",
             "minorgridcolor": "#C8D4E3",
             "startlinecolor": "#2a3f5f"
            },
            "baxis": {
             "endlinecolor": "#2a3f5f",
             "gridcolor": "#C8D4E3",
             "linecolor": "#C8D4E3",
             "minorgridcolor": "#C8D4E3",
             "startlinecolor": "#2a3f5f"
            },
            "type": "carpet"
           }
          ],
          "choropleth": [
           {
            "colorbar": {
             "outlinewidth": 0,
             "ticks": ""
            },
            "type": "choropleth"
           }
          ],
          "contour": [
           {
            "colorbar": {
             "outlinewidth": 0,
             "ticks": ""
            },
            "colorscale": [
             [
              0,
              "#0d0887"
             ],
             [
              0.1111111111111111,
              "#46039f"
             ],
             [
              0.2222222222222222,
              "#7201a8"
             ],
             [
              0.3333333333333333,
              "#9c179e"
             ],
             [
              0.4444444444444444,
              "#bd3786"
             ],
             [
              0.5555555555555556,
              "#d8576b"
             ],
             [
              0.6666666666666666,
              "#ed7953"
             ],
             [
              0.7777777777777778,
              "#fb9f3a"
             ],
             [
              0.8888888888888888,
              "#fdca26"
             ],
             [
              1,
              "#f0f921"
             ]
            ],
            "type": "contour"
           }
          ],
          "contourcarpet": [
           {
            "colorbar": {
             "outlinewidth": 0,
             "ticks": ""
            },
            "type": "contourcarpet"
           }
          ],
          "heatmap": [
           {
            "colorbar": {
             "outlinewidth": 0,
             "ticks": ""
            },
            "colorscale": [
             [
              0,
              "#0d0887"
             ],
             [
              0.1111111111111111,
              "#46039f"
             ],
             [
              0.2222222222222222,
              "#7201a8"
             ],
             [
              0.3333333333333333,
              "#9c179e"
             ],
             [
              0.4444444444444444,
              "#bd3786"
             ],
             [
              0.5555555555555556,
              "#d8576b"
             ],
             [
              0.6666666666666666,
              "#ed7953"
             ],
             [
              0.7777777777777778,
              "#fb9f3a"
             ],
             [
              0.8888888888888888,
              "#fdca26"
             ],
             [
              1,
              "#f0f921"
             ]
            ],
            "type": "heatmap"
           }
          ],
          "histogram": [
           {
            "marker": {
             "pattern": {
              "fillmode": "overlay",
              "size": 10,
              "solidity": 0.2
             }
            },
            "type": "histogram"
           }
          ],
          "histogram2d": [
           {
            "colorbar": {
             "outlinewidth": 0,
             "ticks": ""
            },
            "colorscale": [
             [
              0,
              "#0d0887"
             ],
             [
              0.1111111111111111,
              "#46039f"
             ],
             [
              0.2222222222222222,
              "#7201a8"
             ],
             [
              0.3333333333333333,
              "#9c179e"
             ],
             [
              0.4444444444444444,
              "#bd3786"
             ],
             [
              0.5555555555555556,
              "#d8576b"
             ],
             [
              0.6666666666666666,
              "#ed7953"
             ],
             [
              0.7777777777777778,
              "#fb9f3a"
             ],
             [
              0.8888888888888888,
              "#fdca26"
             ],
             [
              1,
              "#f0f921"
             ]
            ],
            "type": "histogram2d"
           }
          ],
          "histogram2dcontour": [
           {
            "colorbar": {
             "outlinewidth": 0,
             "ticks": ""
            },
            "colorscale": [
             [
              0,
              "#0d0887"
             ],
             [
              0.1111111111111111,
              "#46039f"
             ],
             [
              0.2222222222222222,
              "#7201a8"
             ],
             [
              0.3333333333333333,
              "#9c179e"
             ],
             [
              0.4444444444444444,
              "#bd3786"
             ],
             [
              0.5555555555555556,
              "#d8576b"
             ],
             [
              0.6666666666666666,
              "#ed7953"
             ],
             [
              0.7777777777777778,
              "#fb9f3a"
             ],
             [
              0.8888888888888888,
              "#fdca26"
             ],
             [
              1,
              "#f0f921"
             ]
            ],
            "type": "histogram2dcontour"
           }
          ],
          "mesh3d": [
           {
            "colorbar": {
             "outlinewidth": 0,
             "ticks": ""
            },
            "type": "mesh3d"
           }
          ],
          "parcoords": [
           {
            "line": {
             "colorbar": {
              "outlinewidth": 0,
              "ticks": ""
             }
            },
            "type": "parcoords"
           }
          ],
          "pie": [
           {
            "automargin": true,
            "type": "pie"
           }
          ],
          "scatter": [
           {
            "fillpattern": {
             "fillmode": "overlay",
             "size": 10,
             "solidity": 0.2
            },
            "type": "scatter"
           }
          ],
          "scatter3d": [
           {
            "line": {
             "colorbar": {
              "outlinewidth": 0,
              "ticks": ""
             }
            },
            "marker": {
             "colorbar": {
              "outlinewidth": 0,
              "ticks": ""
             }
            },
            "type": "scatter3d"
           }
          ],
          "scattercarpet": [
           {
            "marker": {
             "colorbar": {
              "outlinewidth": 0,
              "ticks": ""
             }
            },
            "type": "scattercarpet"
           }
          ],
          "scattergeo": [
           {
            "marker": {
             "colorbar": {
              "outlinewidth": 0,
              "ticks": ""
             }
            },
            "type": "scattergeo"
           }
          ],
          "scattergl": [
           {
            "marker": {
             "colorbar": {
              "outlinewidth": 0,
              "ticks": ""
             }
            },
            "type": "scattergl"
           }
          ],
          "scattermap": [
           {
            "marker": {
             "colorbar": {
              "outlinewidth": 0,
              "ticks": ""
             }
            },
            "type": "scattermap"
           }
          ],
          "scattermapbox": [
           {
            "marker": {
             "colorbar": {
              "outlinewidth": 0,
              "ticks": ""
             }
            },
            "type": "scattermapbox"
           }
          ],
          "scatterpolar": [
           {
            "marker": {
             "colorbar": {
              "outlinewidth": 0,
              "ticks": ""
             }
            },
            "type": "scatterpolar"
           }
          ],
          "scatterpolargl": [
           {
            "marker": {
             "colorbar": {
              "outlinewidth": 0,
              "ticks": ""
             }
            },
            "type": "scatterpolargl"
           }
          ],
          "scatterternary": [
           {
            "marker": {
             "colorbar": {
              "outlinewidth": 0,
              "ticks": ""
             }
            },
            "type": "scatterternary"
           }
          ],
          "surface": [
           {
            "colorbar": {
             "outlinewidth": 0,
             "ticks": ""
            },
            "colorscale": [
             [
              0,
              "#0d0887"
             ],
             [
              0.1111111111111111,
              "#46039f"
             ],
             [
              0.2222222222222222,
              "#7201a8"
             ],
             [
              0.3333333333333333,
              "#9c179e"
             ],
             [
              0.4444444444444444,
              "#bd3786"
             ],
             [
              0.5555555555555556,
              "#d8576b"
             ],
             [
              0.6666666666666666,
              "#ed7953"
             ],
             [
              0.7777777777777778,
              "#fb9f3a"
             ],
             [
              0.8888888888888888,
              "#fdca26"
             ],
             [
              1,
              "#f0f921"
             ]
            ],
            "type": "surface"
           }
          ],
          "table": [
           {
            "cells": {
             "fill": {
              "color": "#EBF0F8"
             },
             "line": {
              "color": "white"
             }
            },
            "header": {
             "fill": {
              "color": "#C8D4E3"
             },
             "line": {
              "color": "white"
             }
            },
            "type": "table"
           }
          ]
         },
         "layout": {
          "annotationdefaults": {
           "arrowcolor": "#2a3f5f",
           "arrowhead": 0,
           "arrowwidth": 1
          },
          "autotypenumbers": "strict",
          "coloraxis": {
           "colorbar": {
            "outlinewidth": 0,
            "ticks": ""
           }
          },
          "colorscale": {
           "diverging": [
            [
             0,
             "#8e0152"
            ],
            [
             0.1,
             "#c51b7d"
            ],
            [
             0.2,
             "#de77ae"
            ],
            [
             0.3,
             "#f1b6da"
            ],
            [
             0.4,
             "#fde0ef"
            ],
            [
             0.5,
             "#f7f7f7"
            ],
            [
             0.6,
             "#e6f5d0"
            ],
            [
             0.7,
             "#b8e186"
            ],
            [
             0.8,
             "#7fbc41"
            ],
            [
             0.9,
             "#4d9221"
            ],
            [
             1,
             "#276419"
            ]
           ],
           "sequential": [
            [
             0,
             "#0d0887"
            ],
            [
             0.1111111111111111,
             "#46039f"
            ],
            [
             0.2222222222222222,
             "#7201a8"
            ],
            [
             0.3333333333333333,
             "#9c179e"
            ],
            [
             0.4444444444444444,
             "#bd3786"
            ],
            [
             0.5555555555555556,
             "#d8576b"
            ],
            [
             0.6666666666666666,
             "#ed7953"
            ],
            [
             0.7777777777777778,
             "#fb9f3a"
            ],
            [
             0.8888888888888888,
             "#fdca26"
            ],
            [
             1,
             "#f0f921"
            ]
           ],
           "sequentialminus": [
            [
             0,
             "#0d0887"
            ],
            [
             0.1111111111111111,
             "#46039f"
            ],
            [
             0.2222222222222222,
             "#7201a8"
            ],
            [
             0.3333333333333333,
             "#9c179e"
            ],
            [
             0.4444444444444444,
             "#bd3786"
            ],
            [
             0.5555555555555556,
             "#d8576b"
            ],
            [
             0.6666666666666666,
             "#ed7953"
            ],
            [
             0.7777777777777778,
             "#fb9f3a"
            ],
            [
             0.8888888888888888,
             "#fdca26"
            ],
            [
             1,
             "#f0f921"
            ]
           ]
          },
          "colorway": [
           "#636efa",
           "#EF553B",
           "#00cc96",
           "#ab63fa",
           "#FFA15A",
           "#19d3f3",
           "#FF6692",
           "#B6E880",
           "#FF97FF",
           "#FECB52"
          ],
          "font": {
           "color": "#2a3f5f"
          },
          "geo": {
           "bgcolor": "white",
           "lakecolor": "white",
           "landcolor": "white",
           "showlakes": true,
           "showland": true,
           "subunitcolor": "#C8D4E3"
          },
          "hoverlabel": {
           "align": "left"
          },
          "hovermode": "closest",
          "mapbox": {
           "style": "light"
          },
          "paper_bgcolor": "white",
          "plot_bgcolor": "white",
          "polar": {
           "angularaxis": {
            "gridcolor": "#EBF0F8",
            "linecolor": "#EBF0F8",
            "ticks": ""
           },
           "bgcolor": "white",
           "radialaxis": {
            "gridcolor": "#EBF0F8",
            "linecolor": "#EBF0F8",
            "ticks": ""
           }
          },
          "scene": {
           "xaxis": {
            "backgroundcolor": "white",
            "gridcolor": "#DFE8F3",
            "gridwidth": 2,
            "linecolor": "#EBF0F8",
            "showbackground": true,
            "ticks": "",
            "zerolinecolor": "#EBF0F8"
           },
           "yaxis": {
            "backgroundcolor": "white",
            "gridcolor": "#DFE8F3",
            "gridwidth": 2,
            "linecolor": "#EBF0F8",
            "showbackground": true,
            "ticks": "",
            "zerolinecolor": "#EBF0F8"
           },
           "zaxis": {
            "backgroundcolor": "white",
            "gridcolor": "#DFE8F3",
            "gridwidth": 2,
            "linecolor": "#EBF0F8",
            "showbackground": true,
            "ticks": "",
            "zerolinecolor": "#EBF0F8"
           }
          },
          "shapedefaults": {
           "line": {
            "color": "#2a3f5f"
           }
          },
          "ternary": {
           "aaxis": {
            "gridcolor": "#DFE8F3",
            "linecolor": "#A2B1C6",
            "ticks": ""
           },
           "baxis": {
            "gridcolor": "#DFE8F3",
            "linecolor": "#A2B1C6",
            "ticks": ""
           },
           "bgcolor": "white",
           "caxis": {
            "gridcolor": "#DFE8F3",
            "linecolor": "#A2B1C6",
            "ticks": ""
           }
          },
          "title": {
           "x": 0.05
          },
          "xaxis": {
           "automargin": true,
           "gridcolor": "#EBF0F8",
           "linecolor": "#EBF0F8",
           "ticks": "",
           "title": {
            "standoff": 15
           },
           "zerolinecolor": "#EBF0F8",
           "zerolinewidth": 2
          },
          "yaxis": {
           "automargin": true,
           "gridcolor": "#EBF0F8",
           "linecolor": "#EBF0F8",
           "ticks": "",
           "title": {
            "standoff": 15
           },
           "zerolinecolor": "#EBF0F8",
           "zerolinewidth": 2
          }
         }
        },
        "title": {
         "text": "Comprehensive Sentiment Analysis Dashboard"
        },
        "xaxis": {
         "anchor": "y",
         "domain": [
          0,
          0.45
         ],
         "tickangle": -45
        },
        "xaxis2": {
         "anchor": "y2",
         "domain": [
          0.55,
          1
         ]
        },
        "xaxis3": {
         "anchor": "y3",
         "domain": [
          0.55,
          1
         ],
         "title": {
          "text": "Speech Index"
         }
        },
        "yaxis": {
         "anchor": "x",
         "domain": [
          0.625,
          1
         ],
         "title": {
          "text": "Probability"
         }
        },
        "yaxis2": {
         "anchor": "x2",
         "domain": [
          0.625,
          1
         ],
         "title": {
          "text": "Probability"
         }
        },
        "yaxis3": {
         "anchor": "x3",
         "domain": [
          0,
          0.375
         ],
         "title": {
          "text": "Sentiment Score"
         }
        }
       }
      }
     },
     "metadata": {},
     "output_type": "display_data"
    }
   ],
   "source": [
    "# Create comprehensive sentiment visualization\n",
    "fig = make_subplots(\n",
    "    rows=2, cols=2,\n",
    "    subplot_titles=('Sentiment Distribution Across All Speeches',\n",
    "                    'Average Sentiment by Year',\n",
    "                    'Dominant Sentiment Count',\n",
    "                    'Sentiment Trends Over Time'),\n",
    "    specs=[[{\"type\": \"bar\"}, {\"type\": \"bar\"}],\n",
    "           [{\"type\": \"pie\"}, {\"type\": \"scatter\"}]]\n",
    ")\n",
    "\n",
    "# 1. Overall sentiment distribution (stacked bar)\n",
    "fig.add_trace(\n",
    "    go.Bar(name='Positive', x=sentiment_df['location'], y=sentiment_df['positive'],\n",
    "           marker_color='#2ecc71', showlegend=True),\n",
    "    row=1, col=1\n",
    ")\n",
    "fig.add_trace(\n",
    "    go.Bar(name='Negative', x=sentiment_df['location'], y=sentiment_df['negative'],\n",
    "           marker_color='#e74c3c', showlegend=True),\n",
    "    row=1, col=1\n",
    ")\n",
    "fig.add_trace(\n",
    "    go.Bar(name='Neutral', x=sentiment_df['location'], y=sentiment_df['neutral'],\n",
    "           marker_color='#95a5a6', showlegend=True),\n",
    "    row=1, col=1\n",
    ")\n",
    "\n",
    "# 2. Average sentiment by year\n",
    "year_avg = sentiment_df.groupby('year')[['positive', 'negative', 'neutral']].mean()\n",
    "fig.add_trace(\n",
    "    go.Bar(name='Positive', x=year_avg.index, y=year_avg['positive'],\n",
    "           marker_color='#2ecc71', showlegend=False),\n",
    "    row=1, col=2\n",
    ")\n",
    "fig.add_trace(\n",
    "    go.Bar(name='Negative', x=year_avg.index, y=year_avg['negative'],\n",
    "           marker_color='#e74c3c', showlegend=False),\n",
    "    row=1, col=2\n",
    ")\n",
    "fig.add_trace(\n",
    "    go.Bar(name='Neutral', x=year_avg.index, y=year_avg['neutral'],\n",
    "           marker_color='#95a5a6', showlegend=False),\n",
    "    row=1, col=2\n",
    ")\n",
    "\n",
    "# 3. Dominant sentiment pie chart\n",
    "sentiment_counts = sentiment_df['dominant_sentiment'].value_counts()\n",
    "fig.add_trace(\n",
    "    go.Pie(labels=sentiment_counts.index, values=sentiment_counts.values,\n",
    "           marker=dict(colors=['#2ecc71', '#e74c3c', '#95a5a6']),\n",
    "           showlegend=False),\n",
    "    row=2, col=1\n",
    ")\n",
    "\n",
    "# 4. Sentiment timeline\n",
    "fig.add_trace(\n",
    "    go.Scatter(x=sentiment_df['speech_idx'], y=sentiment_df['positive'],\n",
    "               mode='lines+markers', name='Positive',\n",
    "               line=dict(color='#2ecc71', width=2), showlegend=False),\n",
    "    row=2, col=2\n",
    ")\n",
    "fig.add_trace(\n",
    "    go.Scatter(x=sentiment_df['speech_idx'], y=sentiment_df['negative'],\n",
    "               mode='lines+markers', name='Negative',\n",
    "               line=dict(color='#e74c3c', width=2), showlegend=False),\n",
    "    row=2, col=2\n",
    ")\n",
    "fig.add_trace(\n",
    "    go.Scatter(x=sentiment_df['speech_idx'], y=sentiment_df['neutral'],\n",
    "               mode='lines+markers', name='Neutral',\n",
    "               line=dict(color='#95a5a6', width=2), showlegend=False),\n",
    "    row=2, col=2\n",
    ")\n",
    "\n",
    "# Update layout\n",
    "fig.update_layout(\n",
    "    height=900,\n",
    "    title_text=\"Comprehensive Sentiment Analysis Dashboard\",\n",
    "    showlegend=True,\n",
    "    barmode='group',\n",
    "    template='plotly_white'\n",
    ")\n",
    "\n",
    "fig.update_xaxes(tickangle=-45, row=1, col=1)\n",
    "fig.update_yaxes(title_text=\"Probability\", row=1, col=1)\n",
    "fig.update_yaxes(title_text=\"Probability\", row=1, col=2)\n",
    "fig.update_yaxes(title_text=\"Sentiment Score\", row=2, col=2)\n",
    "fig.update_xaxes(title_text=\"Speech Index\", row=2, col=2)\n",
    "\n",
    "fig.show()"
   ]
  },
  {
   "cell_type": "markdown",
   "id": "fa17f9a8",
   "metadata": {},
   "source": [
    "## Sentiment Heatmap\n",
    "\n",
    "Visualizing sentiment patterns across speeches and time."
   ]
  },
  {
   "cell_type": "code",
   "execution_count": 10,
   "id": "210041bc",
   "metadata": {},
   "outputs": [
    {
     "data": {
      "application/vnd.plotly.v1+json": {
       "config": {
        "plotlyServerURL": "https://plot.ly"
       },
       "data": [
        {
         "colorbar": {
          "title": {
           "text": "Probability"
          }
         },
         "colorscale": [
          [
           0,
           "rgb(165,0,38)"
          ],
          [
           0.1,
           "rgb(215,48,39)"
          ],
          [
           0.2,
           "rgb(244,109,67)"
          ],
          [
           0.3,
           "rgb(253,174,97)"
          ],
          [
           0.4,
           "rgb(254,224,139)"
          ],
          [
           0.5,
           "rgb(255,255,191)"
          ],
          [
           0.6,
           "rgb(217,239,139)"
          ],
          [
           0.7,
           "rgb(166,217,106)"
          ],
          [
           0.8,
           "rgb(102,189,99)"
          ],
          [
           0.9,
           "rgb(26,152,80)"
          ],
          [
           1,
           "rgb(0,104,55)"
          ]
         ],
         "text": {
          "bdata": "WK91Ps6CdD5sL3M+wdKsPnzWfj4X3og+iZl4PiG5dT6PrGk+1EF7Pmj5bD5WKnI+rGKDPq5vdD5WsHg+e016PiYBfz4xMX0+xoaBPoXocT72qIE+nOOIPux7Zz4GWnQ+r/5uPrCQeT7+MHI+vpRvPnjAcz67YHs+LwBnPmmEeT4j938+nf91PgArbD5T3YM+zeyEPgQhhT6R1n4+rEeFPnR8fT7/CYQ+mWqCPsTihD4Pq4Q+IlWFPuPGhD7s6oE+0aeEPsqFhD7PWYI+/NiBPorkgD5+moI+YHaCPsSWgD6k3nw+q7WFPkUtgz4cqYU+ZbaBPtxygj4zpIQ+FR6EPiJkgT4N4YU+fbSDPqWkgD5XWIM+9OaFPoKlAD/maAA/o6MAP/XB0z4YTfs+rGP4Pj2p/z5rXAE/eiMDPwe0/T4VFwI/+REBP2ey+j4rkAA/CiL/Pro/AD9zpv4+b0EAP7ve+z6wSgI/SMD9PhKt+D4xRgM/3FIBP8hrAT+gwAA/UjoCP7jIAT/XAAE/v3UAP21PAz9Pif8+yV//Pu3TAD/FAQI/",
          "dtype": "f4",
          "shape": "3, 35"
         },
         "textfont": {
          "size": 10
         },
         "texttemplate": "%{text:.2f}",
         "type": "heatmap",
         "x": [
          "Greenville",
          "Cincinnati",
          "New Hampshire",
          "Texas",
          "New Mexico",
          "Fayetteville",
          "Dallas",
          "Minneapolis",
          "Tupelo",
          "Lexington",
          "Battle Creek",
          "Hershey",
          "Wildwood",
          "Toledo",
          "Milwaukee",
          "Des Moines",
          "Charleston",
          "Colorador Sprin...",
          "Phoenix",
          "Las Vegas",
          "New Hampshire",
          "Charlotte",
          "Tulsa",
          "Yuma",
          "New Hampshire",
          "Fayetteville",
          "Ohio",
          "Mosinee",
          "Pittsburgh",
          "Freeland",
          "Minden",
          "Salem",
          "Henderson",
          "Bemidji",
          "Latrobe"
         ],
         "y": [
          "Positive",
          "Negative",
          "Neutral"
         ],
         "z": {
          "bdata": "WK91Ps6CdD5sL3M+wdKsPnzWfj4X3og+iZl4PiG5dT6PrGk+1EF7Pmj5bD5WKnI+rGKDPq5vdD5WsHg+e016PiYBfz4xMX0+xoaBPoXocT72qIE+nOOIPux7Zz4GWnQ+r/5uPrCQeT7+MHI+vpRvPnjAcz67YHs+LwBnPmmEeT4j938+nf91PgArbD5T3YM+zeyEPgQhhT6R1n4+rEeFPnR8fT7/CYQ+mWqCPsTihD4Pq4Q+IlWFPuPGhD7s6oE+0aeEPsqFhD7PWYI+/NiBPorkgD5+moI+YHaCPsSWgD6k3nw+q7WFPkUtgz4cqYU+ZbaBPtxygj4zpIQ+FR6EPiJkgT4N4YU+fbSDPqWkgD5XWIM+9OaFPoKlAD/maAA/o6MAP/XB0z4YTfs+rGP4Pj2p/z5rXAE/eiMDPwe0/T4VFwI/+REBP2ey+j4rkAA/CiL/Pro/AD9zpv4+b0EAP7ve+z6wSgI/SMD9PhKt+D4xRgM/3FIBP8hrAT+gwAA/UjoCP7jIAT/XAAE/v3UAP21PAz9Pif8+yV//Pu3TAD/FAQI/",
          "dtype": "f4",
          "shape": "3, 35"
         }
        }
       ],
       "layout": {
        "height": 400,
        "template": {
         "data": {
          "bar": [
           {
            "error_x": {
             "color": "#2a3f5f"
            },
            "error_y": {
             "color": "#2a3f5f"
            },
            "marker": {
             "line": {
              "color": "white",
              "width": 0.5
             },
             "pattern": {
              "fillmode": "overlay",
              "size": 10,
              "solidity": 0.2
             }
            },
            "type": "bar"
           }
          ],
          "barpolar": [
           {
            "marker": {
             "line": {
              "color": "white",
              "width": 0.5
             },
             "pattern": {
              "fillmode": "overlay",
              "size": 10,
              "solidity": 0.2
             }
            },
            "type": "barpolar"
           }
          ],
          "carpet": [
           {
            "aaxis": {
             "endlinecolor": "#2a3f5f",
             "gridcolor": "#C8D4E3",
             "linecolor": "#C8D4E3",
             "minorgridcolor": "#C8D4E3",
             "startlinecolor": "#2a3f5f"
            },
            "baxis": {
             "endlinecolor": "#2a3f5f",
             "gridcolor": "#C8D4E3",
             "linecolor": "#C8D4E3",
             "minorgridcolor": "#C8D4E3",
             "startlinecolor": "#2a3f5f"
            },
            "type": "carpet"
           }
          ],
          "choropleth": [
           {
            "colorbar": {
             "outlinewidth": 0,
             "ticks": ""
            },
            "type": "choropleth"
           }
          ],
          "contour": [
           {
            "colorbar": {
             "outlinewidth": 0,
             "ticks": ""
            },
            "colorscale": [
             [
              0,
              "#0d0887"
             ],
             [
              0.1111111111111111,
              "#46039f"
             ],
             [
              0.2222222222222222,
              "#7201a8"
             ],
             [
              0.3333333333333333,
              "#9c179e"
             ],
             [
              0.4444444444444444,
              "#bd3786"
             ],
             [
              0.5555555555555556,
              "#d8576b"
             ],
             [
              0.6666666666666666,
              "#ed7953"
             ],
             [
              0.7777777777777778,
              "#fb9f3a"
             ],
             [
              0.8888888888888888,
              "#fdca26"
             ],
             [
              1,
              "#f0f921"
             ]
            ],
            "type": "contour"
           }
          ],
          "contourcarpet": [
           {
            "colorbar": {
             "outlinewidth": 0,
             "ticks": ""
            },
            "type": "contourcarpet"
           }
          ],
          "heatmap": [
           {
            "colorbar": {
             "outlinewidth": 0,
             "ticks": ""
            },
            "colorscale": [
             [
              0,
              "#0d0887"
             ],
             [
              0.1111111111111111,
              "#46039f"
             ],
             [
              0.2222222222222222,
              "#7201a8"
             ],
             [
              0.3333333333333333,
              "#9c179e"
             ],
             [
              0.4444444444444444,
              "#bd3786"
             ],
             [
              0.5555555555555556,
              "#d8576b"
             ],
             [
              0.6666666666666666,
              "#ed7953"
             ],
             [
              0.7777777777777778,
              "#fb9f3a"
             ],
             [
              0.8888888888888888,
              "#fdca26"
             ],
             [
              1,
              "#f0f921"
             ]
            ],
            "type": "heatmap"
           }
          ],
          "histogram": [
           {
            "marker": {
             "pattern": {
              "fillmode": "overlay",
              "size": 10,
              "solidity": 0.2
             }
            },
            "type": "histogram"
           }
          ],
          "histogram2d": [
           {
            "colorbar": {
             "outlinewidth": 0,
             "ticks": ""
            },
            "colorscale": [
             [
              0,
              "#0d0887"
             ],
             [
              0.1111111111111111,
              "#46039f"
             ],
             [
              0.2222222222222222,
              "#7201a8"
             ],
             [
              0.3333333333333333,
              "#9c179e"
             ],
             [
              0.4444444444444444,
              "#bd3786"
             ],
             [
              0.5555555555555556,
              "#d8576b"
             ],
             [
              0.6666666666666666,
              "#ed7953"
             ],
             [
              0.7777777777777778,
              "#fb9f3a"
             ],
             [
              0.8888888888888888,
              "#fdca26"
             ],
             [
              1,
              "#f0f921"
             ]
            ],
            "type": "histogram2d"
           }
          ],
          "histogram2dcontour": [
           {
            "colorbar": {
             "outlinewidth": 0,
             "ticks": ""
            },
            "colorscale": [
             [
              0,
              "#0d0887"
             ],
             [
              0.1111111111111111,
              "#46039f"
             ],
             [
              0.2222222222222222,
              "#7201a8"
             ],
             [
              0.3333333333333333,
              "#9c179e"
             ],
             [
              0.4444444444444444,
              "#bd3786"
             ],
             [
              0.5555555555555556,
              "#d8576b"
             ],
             [
              0.6666666666666666,
              "#ed7953"
             ],
             [
              0.7777777777777778,
              "#fb9f3a"
             ],
             [
              0.8888888888888888,
              "#fdca26"
             ],
             [
              1,
              "#f0f921"
             ]
            ],
            "type": "histogram2dcontour"
           }
          ],
          "mesh3d": [
           {
            "colorbar": {
             "outlinewidth": 0,
             "ticks": ""
            },
            "type": "mesh3d"
           }
          ],
          "parcoords": [
           {
            "line": {
             "colorbar": {
              "outlinewidth": 0,
              "ticks": ""
             }
            },
            "type": "parcoords"
           }
          ],
          "pie": [
           {
            "automargin": true,
            "type": "pie"
           }
          ],
          "scatter": [
           {
            "fillpattern": {
             "fillmode": "overlay",
             "size": 10,
             "solidity": 0.2
            },
            "type": "scatter"
           }
          ],
          "scatter3d": [
           {
            "line": {
             "colorbar": {
              "outlinewidth": 0,
              "ticks": ""
             }
            },
            "marker": {
             "colorbar": {
              "outlinewidth": 0,
              "ticks": ""
             }
            },
            "type": "scatter3d"
           }
          ],
          "scattercarpet": [
           {
            "marker": {
             "colorbar": {
              "outlinewidth": 0,
              "ticks": ""
             }
            },
            "type": "scattercarpet"
           }
          ],
          "scattergeo": [
           {
            "marker": {
             "colorbar": {
              "outlinewidth": 0,
              "ticks": ""
             }
            },
            "type": "scattergeo"
           }
          ],
          "scattergl": [
           {
            "marker": {
             "colorbar": {
              "outlinewidth": 0,
              "ticks": ""
             }
            },
            "type": "scattergl"
           }
          ],
          "scattermap": [
           {
            "marker": {
             "colorbar": {
              "outlinewidth": 0,
              "ticks": ""
             }
            },
            "type": "scattermap"
           }
          ],
          "scattermapbox": [
           {
            "marker": {
             "colorbar": {
              "outlinewidth": 0,
              "ticks": ""
             }
            },
            "type": "scattermapbox"
           }
          ],
          "scatterpolar": [
           {
            "marker": {
             "colorbar": {
              "outlinewidth": 0,
              "ticks": ""
             }
            },
            "type": "scatterpolar"
           }
          ],
          "scatterpolargl": [
           {
            "marker": {
             "colorbar": {
              "outlinewidth": 0,
              "ticks": ""
             }
            },
            "type": "scatterpolargl"
           }
          ],
          "scatterternary": [
           {
            "marker": {
             "colorbar": {
              "outlinewidth": 0,
              "ticks": ""
             }
            },
            "type": "scatterternary"
           }
          ],
          "surface": [
           {
            "colorbar": {
             "outlinewidth": 0,
             "ticks": ""
            },
            "colorscale": [
             [
              0,
              "#0d0887"
             ],
             [
              0.1111111111111111,
              "#46039f"
             ],
             [
              0.2222222222222222,
              "#7201a8"
             ],
             [
              0.3333333333333333,
              "#9c179e"
             ],
             [
              0.4444444444444444,
              "#bd3786"
             ],
             [
              0.5555555555555556,
              "#d8576b"
             ],
             [
              0.6666666666666666,
              "#ed7953"
             ],
             [
              0.7777777777777778,
              "#fb9f3a"
             ],
             [
              0.8888888888888888,
              "#fdca26"
             ],
             [
              1,
              "#f0f921"
             ]
            ],
            "type": "surface"
           }
          ],
          "table": [
           {
            "cells": {
             "fill": {
              "color": "#EBF0F8"
             },
             "line": {
              "color": "white"
             }
            },
            "header": {
             "fill": {
              "color": "#C8D4E3"
             },
             "line": {
              "color": "white"
             }
            },
            "type": "table"
           }
          ]
         },
         "layout": {
          "annotationdefaults": {
           "arrowcolor": "#2a3f5f",
           "arrowhead": 0,
           "arrowwidth": 1
          },
          "autotypenumbers": "strict",
          "coloraxis": {
           "colorbar": {
            "outlinewidth": 0,
            "ticks": ""
           }
          },
          "colorscale": {
           "diverging": [
            [
             0,
             "#8e0152"
            ],
            [
             0.1,
             "#c51b7d"
            ],
            [
             0.2,
             "#de77ae"
            ],
            [
             0.3,
             "#f1b6da"
            ],
            [
             0.4,
             "#fde0ef"
            ],
            [
             0.5,
             "#f7f7f7"
            ],
            [
             0.6,
             "#e6f5d0"
            ],
            [
             0.7,
             "#b8e186"
            ],
            [
             0.8,
             "#7fbc41"
            ],
            [
             0.9,
             "#4d9221"
            ],
            [
             1,
             "#276419"
            ]
           ],
           "sequential": [
            [
             0,
             "#0d0887"
            ],
            [
             0.1111111111111111,
             "#46039f"
            ],
            [
             0.2222222222222222,
             "#7201a8"
            ],
            [
             0.3333333333333333,
             "#9c179e"
            ],
            [
             0.4444444444444444,
             "#bd3786"
            ],
            [
             0.5555555555555556,
             "#d8576b"
            ],
            [
             0.6666666666666666,
             "#ed7953"
            ],
            [
             0.7777777777777778,
             "#fb9f3a"
            ],
            [
             0.8888888888888888,
             "#fdca26"
            ],
            [
             1,
             "#f0f921"
            ]
           ],
           "sequentialminus": [
            [
             0,
             "#0d0887"
            ],
            [
             0.1111111111111111,
             "#46039f"
            ],
            [
             0.2222222222222222,
             "#7201a8"
            ],
            [
             0.3333333333333333,
             "#9c179e"
            ],
            [
             0.4444444444444444,
             "#bd3786"
            ],
            [
             0.5555555555555556,
             "#d8576b"
            ],
            [
             0.6666666666666666,
             "#ed7953"
            ],
            [
             0.7777777777777778,
             "#fb9f3a"
            ],
            [
             0.8888888888888888,
             "#fdca26"
            ],
            [
             1,
             "#f0f921"
            ]
           ]
          },
          "colorway": [
           "#636efa",
           "#EF553B",
           "#00cc96",
           "#ab63fa",
           "#FFA15A",
           "#19d3f3",
           "#FF6692",
           "#B6E880",
           "#FF97FF",
           "#FECB52"
          ],
          "font": {
           "color": "#2a3f5f"
          },
          "geo": {
           "bgcolor": "white",
           "lakecolor": "white",
           "landcolor": "white",
           "showlakes": true,
           "showland": true,
           "subunitcolor": "#C8D4E3"
          },
          "hoverlabel": {
           "align": "left"
          },
          "hovermode": "closest",
          "mapbox": {
           "style": "light"
          },
          "paper_bgcolor": "white",
          "plot_bgcolor": "white",
          "polar": {
           "angularaxis": {
            "gridcolor": "#EBF0F8",
            "linecolor": "#EBF0F8",
            "ticks": ""
           },
           "bgcolor": "white",
           "radialaxis": {
            "gridcolor": "#EBF0F8",
            "linecolor": "#EBF0F8",
            "ticks": ""
           }
          },
          "scene": {
           "xaxis": {
            "backgroundcolor": "white",
            "gridcolor": "#DFE8F3",
            "gridwidth": 2,
            "linecolor": "#EBF0F8",
            "showbackground": true,
            "ticks": "",
            "zerolinecolor": "#EBF0F8"
           },
           "yaxis": {
            "backgroundcolor": "white",
            "gridcolor": "#DFE8F3",
            "gridwidth": 2,
            "linecolor": "#EBF0F8",
            "showbackground": true,
            "ticks": "",
            "zerolinecolor": "#EBF0F8"
           },
           "zaxis": {
            "backgroundcolor": "white",
            "gridcolor": "#DFE8F3",
            "gridwidth": 2,
            "linecolor": "#EBF0F8",
            "showbackground": true,
            "ticks": "",
            "zerolinecolor": "#EBF0F8"
           }
          },
          "shapedefaults": {
           "line": {
            "color": "#2a3f5f"
           }
          },
          "ternary": {
           "aaxis": {
            "gridcolor": "#DFE8F3",
            "linecolor": "#A2B1C6",
            "ticks": ""
           },
           "baxis": {
            "gridcolor": "#DFE8F3",
            "linecolor": "#A2B1C6",
            "ticks": ""
           },
           "bgcolor": "white",
           "caxis": {
            "gridcolor": "#DFE8F3",
            "linecolor": "#A2B1C6",
            "ticks": ""
           }
          },
          "title": {
           "x": 0.05
          },
          "xaxis": {
           "automargin": true,
           "gridcolor": "#EBF0F8",
           "linecolor": "#EBF0F8",
           "ticks": "",
           "title": {
            "standoff": 15
           },
           "zerolinecolor": "#EBF0F8",
           "zerolinewidth": 2
          },
          "yaxis": {
           "automargin": true,
           "gridcolor": "#EBF0F8",
           "linecolor": "#EBF0F8",
           "ticks": "",
           "title": {
            "standoff": 15
           },
           "zerolinecolor": "#EBF0F8",
           "zerolinewidth": 2
          }
         }
        },
        "title": {
         "text": "Sentiment Heatmap: All Speeches"
        },
        "xaxis": {
         "tickangle": -45,
         "title": {
          "text": "Speech Location"
         }
        },
        "yaxis": {
         "title": {
          "text": "Sentiment Type"
         }
        }
       }
      }
     },
     "metadata": {},
     "output_type": "display_data"
    }
   ],
   "source": [
    "# Create sentiment heatmap\n",
    "heatmap_data = sentiment_df[['positive', 'negative', 'neutral']].T\n",
    "heatmap_data.columns = [f\"{row['location'][:15]}...\" if len(row['location']) > 15 \n",
    "                        else row['location'] \n",
    "                        for _, row in sentiment_df.iterrows()]\n",
    "\n",
    "fig = go.Figure(data=go.Heatmap(\n",
    "    z=heatmap_data.values,\n",
    "    x=heatmap_data.columns,\n",
    "    y=['Positive', 'Negative', 'Neutral'],\n",
    "    colorscale='RdYlGn',\n",
    "    text=heatmap_data.values,\n",
    "    texttemplate='%{text:.2f}',\n",
    "    textfont={\"size\": 10},\n",
    "    colorbar=dict(title=\"Probability\")\n",
    "))\n",
    "\n",
    "fig.update_layout(\n",
    "    title='Sentiment Heatmap: All Speeches',\n",
    "    xaxis_title='Speech Location',\n",
    "    yaxis_title='Sentiment Type',\n",
    "    height=400,\n",
    "    template='plotly_white'\n",
    ")\n",
    "\n",
    "fig.update_xaxes(tickangle=-45)\n",
    "fig.show()"
   ]
  },
  {
   "cell_type": "markdown",
   "id": "6e2918e7",
   "metadata": {},
   "source": [
    "## Chunk-Level Sentiment Analysis\n",
    "\n",
    "Examining sentiment variation within individual speeches."
   ]
  },
  {
   "cell_type": "code",
   "execution_count": 11,
   "id": "7de657e6",
   "metadata": {},
   "outputs": [
    {
     "data": {
      "application/vnd.plotly.v1+json": {
       "config": {
        "plotlyServerURL": "https://plot.ly"
       },
       "data": [
        {
         "line": {
          "color": "#2ecc71"
         },
         "mode": "lines+markers",
         "name": "Positive",
         "showlegend": true,
         "type": "scatter",
         "x": [
          0,
          1,
          2,
          3,
          4,
          5,
          6,
          7,
          8,
          9,
          10,
          11,
          12,
          13,
          14,
          15,
          16,
          17,
          18,
          19,
          20,
          21,
          22,
          23,
          24,
          25,
          26,
          27
         ],
         "xaxis": "x",
         "y": {
          "bdata": "RiN2PrX+gD4gklA+c0BKPgIBZz6FazA+fetbPqYQQz7QSFw+xzhYPrFYqT64BHc+YS49PgJ9XT4G900+QZmWPrgnUj4lKIc+PGx0PvrOhD4yuXg+enSFPiv5kz6l21A+VvdkPoILlz41DbI+6tSXPg==",
          "dtype": "f4"
         },
         "yaxis": "y"
        },
        {
         "line": {
          "color": "#e74c3c"
         },
         "mode": "lines+markers",
         "name": "Negative",
         "showlegend": true,
         "type": "scatter",
         "x": [
          0,
          1,
          2,
          3,
          4,
          5,
          6,
          7,
          8,
          9,
          10,
          11,
          12,
          13,
          14,
          15,
          16,
          17,
          18,
          19,
          20,
          21,
          22,
          23,
          24,
          25,
          26,
          27
         ],
         "xaxis": "x",
         "y": {
          "bdata": "GhGFPk2+gD5WmY4+OMCFPhUSiz4gvI4+IUaLPv+Fhz4LC4c+P0aLPvZCVT6elII+NC6RPiWLiz6++og+z9poPqnDhz6RboQ+45SDPnlWgj7epII+FuKFPv7ZeD52goU+F0CJPoUndT7p+GQ+M8lxPg==",
          "dtype": "f4"
         },
         "yaxis": "y"
        },
        {
         "line": {
          "color": "#95a5a6"
         },
         "mode": "lines+markers",
         "name": "Neutral",
         "showlegend": true,
         "type": "scatter",
         "x": [
          0,
          1,
          2,
          3,
          4,
          5,
          6,
          7,
          8,
          9,
          10,
          11,
          12,
          13,
          14,
          15,
          16,
          17,
          18,
          19,
          20,
          21,
          22,
          23,
          24,
          25,
          26,
          27
         ],
         "xaxis": "x",
         "y": {
          "bdata": "Rd3/Pv9C/j7MjgQ/yY8KP7W2AD8Ohww/EGIDP9Z4Cz9GaAU/sE4EP9QF7D6D9AA/Th0IPy7bAj/gBAg/Wfn0Pj6UBz9KafQ+fxoBP43a+D5FfwA/c6n0PtSZ7z7aBwk/ICICP71g7j5Vdts+ekbvPg==",
          "dtype": "f4"
         },
         "yaxis": "y"
        },
        {
         "line": {
          "color": "#2ecc71"
         },
         "mode": "lines+markers",
         "name": "Positive",
         "showlegend": false,
         "type": "scatter",
         "x": [
          0,
          1,
          2,
          3,
          4,
          5,
          6,
          7,
          8,
          9,
          10,
          11,
          12,
          13,
          14,
          15,
          16,
          17,
          18,
          19,
          20,
          21,
          22,
          23,
          24,
          25,
          26,
          27,
          28,
          29,
          30,
          31,
          32,
          33,
          34,
          35,
          36,
          37,
          38,
          39,
          40,
          41,
          42,
          43,
          44,
          45,
          46,
          47
         ],
         "xaxis": "x2",
         "y": {
          "bdata": "BFiXPhfOSD4KQl8+MlNoPorZdD68nnc+Ut5oPmLxlz49gFs+TO9oPgu5aD5E3Ck+EXCDPmvbPD4pCmE+gZ5LPvdrez6Egz4+fSVTPq4Kez4fbjk+N3RtPlbMgz7a014+pEpKPqr5XD6R+Uc+bSSWPiwYXj7UvlU+k6OMPoeNrj7BtVs+FMNoPnRDZT4UqTM+L1VxPsCSTD4nkjk+wAZZPtlnVT7vNX0+L1mhPqmXaj6x138+CLKFPsupSj7eFcI+",
          "dtype": "f4"
         },
         "yaxis": "y2"
        },
        {
         "line": {
          "color": "#e74c3c"
         },
         "mode": "lines+markers",
         "name": "Negative",
         "showlegend": false,
         "type": "scatter",
         "x": [
          0,
          1,
          2,
          3,
          4,
          5,
          6,
          7,
          8,
          9,
          10,
          11,
          12,
          13,
          14,
          15,
          16,
          17,
          18,
          19,
          20,
          21,
          22,
          23,
          24,
          25,
          26,
          27,
          28,
          29,
          30,
          31,
          32,
          33,
          34,
          35,
          36,
          37,
          38,
          39,
          40,
          41,
          42,
          43,
          44,
          45,
          46,
          47
         ],
         "xaxis": "x2",
         "y": {
          "bdata": "bORtPl4njD5O04E+2+mIPuIPhT6GvYM+y7GFPh91bD5p2Ik+AfuDPhTZhj7mo4g+Fh9+PlQnjj7+KYg+Bh+HPg2BfD5IFZA+cHGGPmDWgz7lT40+pCmDPoC2ej7XVos++SGKPpVqjD59cYc+Eht1Po9ahz46gog+pSR5Pq0qbj65/Yo+Y4OKPvJMhz5YDpU+YrqNPrmBjD7zUJM+NF+IPnoGjz6c34U+Zg5nPsVThT4n1YI+FWVzPpJUiD48rFY+",
          "dtype": "f4"
         },
         "yaxis": "y2"
        },
        {
         "line": {
          "color": "#95a5a6"
         },
         "mode": "lines+markers",
         "name": "Neutral",
         "showlegend": false,
         "type": "scatter",
         "x": [
          0,
          1,
          2,
          3,
          4,
          5,
          6,
          7,
          8,
          9,
          10,
          11,
          12,
          13,
          14,
          15,
          16,
          17,
          18,
          19,
          20,
          21,
          22,
          23,
          24,
          25,
          26,
          27,
          28,
          29,
          30,
          31,
          32,
          33,
          34,
          35,
          36,
          37,
          38,
          39,
          40,
          41,
          42,
          43,
          44,
          45,
          46,
          47
         ],
         "xaxis": "x2",
         "y": {
          "bdata": "xbXxPsy4Bz/XRQc/R3YBP61BAD+OOQA/hu8CPw/U8T67MwQ/rMYDPzNlAj/7NhE/YoD9Pnu1CT93qAM/3YgJP78EAj96VAg/6P0HP0uk/j6H/Ao/IA4DP2vY/j6enwI/W1wIP0uMAj/dSAo/DE7vPq3MBD8uTwY/Gsr2PiFd2j60kwM/iY0AP6kIAz+Qjgg/CJv5PnSaBj/88gc/tY4FP84iAz9rhfs+nh/rPjOwAj8BP/0+tk0AP0UrCT8ClNI+",
          "dtype": "f4"
         },
         "yaxis": "y2"
        },
        {
         "line": {
          "color": "#2ecc71"
         },
         "mode": "lines+markers",
         "name": "Positive",
         "showlegend": false,
         "type": "scatter",
         "x": [
          0,
          1,
          2,
          3,
          4,
          5,
          6,
          7,
          8,
          9,
          10,
          11,
          12,
          13,
          14,
          15,
          16
         ],
         "xaxis": "x3",
         "y": {
          "bdata": "piF7Ps0GXD7VqHM+qTiXPuj0nD79UKE+jJJFPqHbQD5N64Q+htpkPnH2Uz7LR2Q+wEQ3PmmFaz44DrA+wuaiPkdIpj4=",
          "dtype": "f4"
         },
         "yaxis": "y3"
        },
        {
         "line": {
          "color": "#e74c3c"
         },
         "mode": "lines+markers",
         "name": "Negative",
         "showlegend": false,
         "type": "scatter",
         "x": [
          0,
          1,
          2,
          3,
          4,
          5,
          6,
          7,
          8,
          9,
          10,
          11,
          12,
          13,
          14,
          15,
          16
         ],
         "xaxis": "x3",
         "y": {
          "bdata": "SoSCPvwQhT6nAoM+dHtoPgngXz4SlmM+9OGlPj7XkD7cQ4M+BUyEPkcxjT6eToc+saCDPsPsfD7+kGE+/2xlPoUmYj4=",
          "dtype": "f4"
         },
         "yaxis": "y3"
        },
        {
         "line": {
          "color": "#95a5a6"
         },
         "mode": "lines+markers",
         "name": "Neutral",
         "showlegend": false,
         "type": "scatter",
         "x": [
          0,
          1,
          2,
          3,
          4,
          5,
          6,
          7,
          8,
          9,
          10,
          11,
          12,
          13,
          14,
          15,
          16
         ],
         "xaxis": "x3",
         "y": {
          "bdata": "4ur/Ps91Bj92lAE/non0PhQb8z774+w+xVT3PnhdBz/Y0Pc+XaMEP8BpBD++RgM/eV4QP3bjBT9IKd8+vmLqPnik6D4=",
          "dtype": "f4"
         },
         "yaxis": "y3"
        },
        {
         "line": {
          "color": "#2ecc71"
         },
         "mode": "lines+markers",
         "name": "Positive",
         "showlegend": false,
         "type": "scatter",
         "x": [
          0,
          1,
          2,
          3,
          4,
          5,
          6,
          7,
          8,
          9,
          10,
          11,
          12,
          13,
          14,
          15,
          16,
          17,
          18,
          19,
          20,
          21,
          22,
          23,
          24,
          25,
          26,
          27,
          28,
          29,
          30,
          31,
          32,
          33,
          34,
          35,
          36,
          37
         ],
         "xaxis": "x4",
         "y": {
          "bdata": "FRdrPnroXz43KFE+bdc/PvtQOT545z4+08JmPmnoKj6F/2A+ruBsPtqCgj5Ntm0+75VOPn2egz5OcVw+BZ0+PgKJSz5d2XA+djuDPndtXD7QVUk+rgdEPsf8Rz58VVk+oro5PllXuD7q/Jc+HwyJPvAmWD77CWY+UN9MPkqcZD5gG3s+ahthPqvzQz79Ko0+qSx9PpdtqD4=",
          "dtype": "f4"
         },
         "yaxis": "y4"
        },
        {
         "line": {
          "color": "#e74c3c"
         },
         "mode": "lines+markers",
         "name": "Negative",
         "showlegend": false,
         "type": "scatter",
         "x": [
          0,
          1,
          2,
          3,
          4,
          5,
          6,
          7,
          8,
          9,
          10,
          11,
          12,
          13,
          14,
          15,
          16,
          17,
          18,
          19,
          20,
          21,
          22,
          23,
          24,
          25,
          26,
          27,
          28,
          29,
          30,
          31,
          32,
          33,
          34,
          35,
          36,
          37
         ],
         "xaxis": "x4",
         "y": {
          "bdata": "R9+FPrgHhj460Ik+KXGQPovujD58r4s+z0qHPtrNhT4FLIk+AiWGPguUeD5uKIY+enCKPuNkgT7mm4g+qVaSPioejT5utYk+ICx9PgG5hz6tBoU+HqqNPtPujT44aYk+8ieLPk/UUz5DDmc+PL5/PtxJhz5ERow+R1+NPkzthT4bq30+l9aFPoSUiT6DVXk+hT2KPkeoXj4=",
          "dtype": "f4"
         },
         "yaxis": "y4"
        },
        {
         "line": {
          "color": "#95a5a6"
         },
         "mode": "lines+markers",
         "name": "Neutral",
         "showlegend": false,
         "type": "scatter",
         "x": [
          0,
          1,
          2,
          3,
          4,
          5,
          6,
          7,
          8,
          9,
          10,
          11,
          12,
          13,
          14,
          15,
          16,
          17,
          18,
          19,
          20,
          21,
          22,
          23,
          24,
          25,
          26,
          27,
          28,
          29,
          30,
          31,
          32,
          33,
          34,
          35,
          36,
          37
         ],
         "xaxis": "x4",
         "y": {
          "bdata": "l0oCPwQCBT/VzQY/kNEHP300Cz9kbgo/5KkCP/leEj8bKgM/U7UBP5GZAD82fgE/RyIHP6D8+j67lQQ/ai0HP6uOBj/l3f0+ey7+PiEIBT80Jws/BSkIP2UJBz8F9gQ/Xv0LP3++3T7ye/Q+wRT3PldRBj9gWgA/iRgGP0jiAz9izgE/2s0EP9Q4Cj8/KvY+JSz3Pkc+6D4=",
          "dtype": "f4"
         },
         "yaxis": "y4"
        }
       ],
       "layout": {
        "annotations": [
         {
          "font": {
           "size": 16
          },
          "showarrow": false,
          "text": "Greenville (Jul 2019)",
          "x": 0.225,
          "xanchor": "center",
          "xref": "paper",
          "y": 1,
          "yanchor": "bottom",
          "yref": "paper"
         },
         {
          "font": {
           "size": 16
          },
          "showarrow": false,
          "text": "Battle Creek (Dec 2019)",
          "x": 0.775,
          "xanchor": "center",
          "xref": "paper",
          "y": 1,
          "yanchor": "bottom",
          "yref": "paper"
         },
         {
          "font": {
           "size": 16
          },
          "showarrow": false,
          "text": "New Hampshire (Feb 2020)",
          "x": 0.225,
          "xanchor": "center",
          "xref": "paper",
          "y": 0.375,
          "yanchor": "bottom",
          "yref": "paper"
         },
         {
          "font": {
           "size": 16
          },
          "showarrow": false,
          "text": "Minden (Sep 2020)",
          "x": 0.775,
          "xanchor": "center",
          "xref": "paper",
          "y": 0.375,
          "yanchor": "bottom",
          "yref": "paper"
         }
        ],
        "height": 800,
        "showlegend": true,
        "template": {
         "data": {
          "bar": [
           {
            "error_x": {
             "color": "#2a3f5f"
            },
            "error_y": {
             "color": "#2a3f5f"
            },
            "marker": {
             "line": {
              "color": "white",
              "width": 0.5
             },
             "pattern": {
              "fillmode": "overlay",
              "size": 10,
              "solidity": 0.2
             }
            },
            "type": "bar"
           }
          ],
          "barpolar": [
           {
            "marker": {
             "line": {
              "color": "white",
              "width": 0.5
             },
             "pattern": {
              "fillmode": "overlay",
              "size": 10,
              "solidity": 0.2
             }
            },
            "type": "barpolar"
           }
          ],
          "carpet": [
           {
            "aaxis": {
             "endlinecolor": "#2a3f5f",
             "gridcolor": "#C8D4E3",
             "linecolor": "#C8D4E3",
             "minorgridcolor": "#C8D4E3",
             "startlinecolor": "#2a3f5f"
            },
            "baxis": {
             "endlinecolor": "#2a3f5f",
             "gridcolor": "#C8D4E3",
             "linecolor": "#C8D4E3",
             "minorgridcolor": "#C8D4E3",
             "startlinecolor": "#2a3f5f"
            },
            "type": "carpet"
           }
          ],
          "choropleth": [
           {
            "colorbar": {
             "outlinewidth": 0,
             "ticks": ""
            },
            "type": "choropleth"
           }
          ],
          "contour": [
           {
            "colorbar": {
             "outlinewidth": 0,
             "ticks": ""
            },
            "colorscale": [
             [
              0,
              "#0d0887"
             ],
             [
              0.1111111111111111,
              "#46039f"
             ],
             [
              0.2222222222222222,
              "#7201a8"
             ],
             [
              0.3333333333333333,
              "#9c179e"
             ],
             [
              0.4444444444444444,
              "#bd3786"
             ],
             [
              0.5555555555555556,
              "#d8576b"
             ],
             [
              0.6666666666666666,
              "#ed7953"
             ],
             [
              0.7777777777777778,
              "#fb9f3a"
             ],
             [
              0.8888888888888888,
              "#fdca26"
             ],
             [
              1,
              "#f0f921"
             ]
            ],
            "type": "contour"
           }
          ],
          "contourcarpet": [
           {
            "colorbar": {
             "outlinewidth": 0,
             "ticks": ""
            },
            "type": "contourcarpet"
           }
          ],
          "heatmap": [
           {
            "colorbar": {
             "outlinewidth": 0,
             "ticks": ""
            },
            "colorscale": [
             [
              0,
              "#0d0887"
             ],
             [
              0.1111111111111111,
              "#46039f"
             ],
             [
              0.2222222222222222,
              "#7201a8"
             ],
             [
              0.3333333333333333,
              "#9c179e"
             ],
             [
              0.4444444444444444,
              "#bd3786"
             ],
             [
              0.5555555555555556,
              "#d8576b"
             ],
             [
              0.6666666666666666,
              "#ed7953"
             ],
             [
              0.7777777777777778,
              "#fb9f3a"
             ],
             [
              0.8888888888888888,
              "#fdca26"
             ],
             [
              1,
              "#f0f921"
             ]
            ],
            "type": "heatmap"
           }
          ],
          "histogram": [
           {
            "marker": {
             "pattern": {
              "fillmode": "overlay",
              "size": 10,
              "solidity": 0.2
             }
            },
            "type": "histogram"
           }
          ],
          "histogram2d": [
           {
            "colorbar": {
             "outlinewidth": 0,
             "ticks": ""
            },
            "colorscale": [
             [
              0,
              "#0d0887"
             ],
             [
              0.1111111111111111,
              "#46039f"
             ],
             [
              0.2222222222222222,
              "#7201a8"
             ],
             [
              0.3333333333333333,
              "#9c179e"
             ],
             [
              0.4444444444444444,
              "#bd3786"
             ],
             [
              0.5555555555555556,
              "#d8576b"
             ],
             [
              0.6666666666666666,
              "#ed7953"
             ],
             [
              0.7777777777777778,
              "#fb9f3a"
             ],
             [
              0.8888888888888888,
              "#fdca26"
             ],
             [
              1,
              "#f0f921"
             ]
            ],
            "type": "histogram2d"
           }
          ],
          "histogram2dcontour": [
           {
            "colorbar": {
             "outlinewidth": 0,
             "ticks": ""
            },
            "colorscale": [
             [
              0,
              "#0d0887"
             ],
             [
              0.1111111111111111,
              "#46039f"
             ],
             [
              0.2222222222222222,
              "#7201a8"
             ],
             [
              0.3333333333333333,
              "#9c179e"
             ],
             [
              0.4444444444444444,
              "#bd3786"
             ],
             [
              0.5555555555555556,
              "#d8576b"
             ],
             [
              0.6666666666666666,
              "#ed7953"
             ],
             [
              0.7777777777777778,
              "#fb9f3a"
             ],
             [
              0.8888888888888888,
              "#fdca26"
             ],
             [
              1,
              "#f0f921"
             ]
            ],
            "type": "histogram2dcontour"
           }
          ],
          "mesh3d": [
           {
            "colorbar": {
             "outlinewidth": 0,
             "ticks": ""
            },
            "type": "mesh3d"
           }
          ],
          "parcoords": [
           {
            "line": {
             "colorbar": {
              "outlinewidth": 0,
              "ticks": ""
             }
            },
            "type": "parcoords"
           }
          ],
          "pie": [
           {
            "automargin": true,
            "type": "pie"
           }
          ],
          "scatter": [
           {
            "fillpattern": {
             "fillmode": "overlay",
             "size": 10,
             "solidity": 0.2
            },
            "type": "scatter"
           }
          ],
          "scatter3d": [
           {
            "line": {
             "colorbar": {
              "outlinewidth": 0,
              "ticks": ""
             }
            },
            "marker": {
             "colorbar": {
              "outlinewidth": 0,
              "ticks": ""
             }
            },
            "type": "scatter3d"
           }
          ],
          "scattercarpet": [
           {
            "marker": {
             "colorbar": {
              "outlinewidth": 0,
              "ticks": ""
             }
            },
            "type": "scattercarpet"
           }
          ],
          "scattergeo": [
           {
            "marker": {
             "colorbar": {
              "outlinewidth": 0,
              "ticks": ""
             }
            },
            "type": "scattergeo"
           }
          ],
          "scattergl": [
           {
            "marker": {
             "colorbar": {
              "outlinewidth": 0,
              "ticks": ""
             }
            },
            "type": "scattergl"
           }
          ],
          "scattermap": [
           {
            "marker": {
             "colorbar": {
              "outlinewidth": 0,
              "ticks": ""
             }
            },
            "type": "scattermap"
           }
          ],
          "scattermapbox": [
           {
            "marker": {
             "colorbar": {
              "outlinewidth": 0,
              "ticks": ""
             }
            },
            "type": "scattermapbox"
           }
          ],
          "scatterpolar": [
           {
            "marker": {
             "colorbar": {
              "outlinewidth": 0,
              "ticks": ""
             }
            },
            "type": "scatterpolar"
           }
          ],
          "scatterpolargl": [
           {
            "marker": {
             "colorbar": {
              "outlinewidth": 0,
              "ticks": ""
             }
            },
            "type": "scatterpolargl"
           }
          ],
          "scatterternary": [
           {
            "marker": {
             "colorbar": {
              "outlinewidth": 0,
              "ticks": ""
             }
            },
            "type": "scatterternary"
           }
          ],
          "surface": [
           {
            "colorbar": {
             "outlinewidth": 0,
             "ticks": ""
            },
            "colorscale": [
             [
              0,
              "#0d0887"
             ],
             [
              0.1111111111111111,
              "#46039f"
             ],
             [
              0.2222222222222222,
              "#7201a8"
             ],
             [
              0.3333333333333333,
              "#9c179e"
             ],
             [
              0.4444444444444444,
              "#bd3786"
             ],
             [
              0.5555555555555556,
              "#d8576b"
             ],
             [
              0.6666666666666666,
              "#ed7953"
             ],
             [
              0.7777777777777778,
              "#fb9f3a"
             ],
             [
              0.8888888888888888,
              "#fdca26"
             ],
             [
              1,
              "#f0f921"
             ]
            ],
            "type": "surface"
           }
          ],
          "table": [
           {
            "cells": {
             "fill": {
              "color": "#EBF0F8"
             },
             "line": {
              "color": "white"
             }
            },
            "header": {
             "fill": {
              "color": "#C8D4E3"
             },
             "line": {
              "color": "white"
             }
            },
            "type": "table"
           }
          ]
         },
         "layout": {
          "annotationdefaults": {
           "arrowcolor": "#2a3f5f",
           "arrowhead": 0,
           "arrowwidth": 1
          },
          "autotypenumbers": "strict",
          "coloraxis": {
           "colorbar": {
            "outlinewidth": 0,
            "ticks": ""
           }
          },
          "colorscale": {
           "diverging": [
            [
             0,
             "#8e0152"
            ],
            [
             0.1,
             "#c51b7d"
            ],
            [
             0.2,
             "#de77ae"
            ],
            [
             0.3,
             "#f1b6da"
            ],
            [
             0.4,
             "#fde0ef"
            ],
            [
             0.5,
             "#f7f7f7"
            ],
            [
             0.6,
             "#e6f5d0"
            ],
            [
             0.7,
             "#b8e186"
            ],
            [
             0.8,
             "#7fbc41"
            ],
            [
             0.9,
             "#4d9221"
            ],
            [
             1,
             "#276419"
            ]
           ],
           "sequential": [
            [
             0,
             "#0d0887"
            ],
            [
             0.1111111111111111,
             "#46039f"
            ],
            [
             0.2222222222222222,
             "#7201a8"
            ],
            [
             0.3333333333333333,
             "#9c179e"
            ],
            [
             0.4444444444444444,
             "#bd3786"
            ],
            [
             0.5555555555555556,
             "#d8576b"
            ],
            [
             0.6666666666666666,
             "#ed7953"
            ],
            [
             0.7777777777777778,
             "#fb9f3a"
            ],
            [
             0.8888888888888888,
             "#fdca26"
            ],
            [
             1,
             "#f0f921"
            ]
           ],
           "sequentialminus": [
            [
             0,
             "#0d0887"
            ],
            [
             0.1111111111111111,
             "#46039f"
            ],
            [
             0.2222222222222222,
             "#7201a8"
            ],
            [
             0.3333333333333333,
             "#9c179e"
            ],
            [
             0.4444444444444444,
             "#bd3786"
            ],
            [
             0.5555555555555556,
             "#d8576b"
            ],
            [
             0.6666666666666666,
             "#ed7953"
            ],
            [
             0.7777777777777778,
             "#fb9f3a"
            ],
            [
             0.8888888888888888,
             "#fdca26"
            ],
            [
             1,
             "#f0f921"
            ]
           ]
          },
          "colorway": [
           "#636efa",
           "#EF553B",
           "#00cc96",
           "#ab63fa",
           "#FFA15A",
           "#19d3f3",
           "#FF6692",
           "#B6E880",
           "#FF97FF",
           "#FECB52"
          ],
          "font": {
           "color": "#2a3f5f"
          },
          "geo": {
           "bgcolor": "white",
           "lakecolor": "white",
           "landcolor": "white",
           "showlakes": true,
           "showland": true,
           "subunitcolor": "#C8D4E3"
          },
          "hoverlabel": {
           "align": "left"
          },
          "hovermode": "closest",
          "mapbox": {
           "style": "light"
          },
          "paper_bgcolor": "white",
          "plot_bgcolor": "white",
          "polar": {
           "angularaxis": {
            "gridcolor": "#EBF0F8",
            "linecolor": "#EBF0F8",
            "ticks": ""
           },
           "bgcolor": "white",
           "radialaxis": {
            "gridcolor": "#EBF0F8",
            "linecolor": "#EBF0F8",
            "ticks": ""
           }
          },
          "scene": {
           "xaxis": {
            "backgroundcolor": "white",
            "gridcolor": "#DFE8F3",
            "gridwidth": 2,
            "linecolor": "#EBF0F8",
            "showbackground": true,
            "ticks": "",
            "zerolinecolor": "#EBF0F8"
           },
           "yaxis": {
            "backgroundcolor": "white",
            "gridcolor": "#DFE8F3",
            "gridwidth": 2,
            "linecolor": "#EBF0F8",
            "showbackground": true,
            "ticks": "",
            "zerolinecolor": "#EBF0F8"
           },
           "zaxis": {
            "backgroundcolor": "white",
            "gridcolor": "#DFE8F3",
            "gridwidth": 2,
            "linecolor": "#EBF0F8",
            "showbackground": true,
            "ticks": "",
            "zerolinecolor": "#EBF0F8"
           }
          },
          "shapedefaults": {
           "line": {
            "color": "#2a3f5f"
           }
          },
          "ternary": {
           "aaxis": {
            "gridcolor": "#DFE8F3",
            "linecolor": "#A2B1C6",
            "ticks": ""
           },
           "baxis": {
            "gridcolor": "#DFE8F3",
            "linecolor": "#A2B1C6",
            "ticks": ""
           },
           "bgcolor": "white",
           "caxis": {
            "gridcolor": "#DFE8F3",
            "linecolor": "#A2B1C6",
            "ticks": ""
           }
          },
          "title": {
           "x": 0.05
          },
          "xaxis": {
           "automargin": true,
           "gridcolor": "#EBF0F8",
           "linecolor": "#EBF0F8",
           "ticks": "",
           "title": {
            "standoff": 15
           },
           "zerolinecolor": "#EBF0F8",
           "zerolinewidth": 2
          },
          "yaxis": {
           "automargin": true,
           "gridcolor": "#EBF0F8",
           "linecolor": "#EBF0F8",
           "ticks": "",
           "title": {
            "standoff": 15
           },
           "zerolinecolor": "#EBF0F8",
           "zerolinewidth": 2
          }
         }
        },
        "title": {
         "text": "Sentiment Variation Within Individual Speeches"
        },
        "xaxis": {
         "anchor": "y",
         "domain": [
          0,
          0.45
         ],
         "title": {
          "text": "Chunk Index"
         }
        },
        "xaxis2": {
         "anchor": "y2",
         "domain": [
          0.55,
          1
         ],
         "title": {
          "text": "Chunk Index"
         }
        },
        "xaxis3": {
         "anchor": "y3",
         "domain": [
          0,
          0.45
         ],
         "title": {
          "text": "Chunk Index"
         }
        },
        "xaxis4": {
         "anchor": "y4",
         "domain": [
          0.55,
          1
         ],
         "title": {
          "text": "Chunk Index"
         }
        },
        "yaxis": {
         "anchor": "x",
         "domain": [
          0.625,
          1
         ],
         "title": {
          "text": "Sentiment Score"
         }
        },
        "yaxis2": {
         "anchor": "x2",
         "domain": [
          0.625,
          1
         ],
         "title": {
          "text": "Sentiment Score"
         }
        },
        "yaxis3": {
         "anchor": "x3",
         "domain": [
          0,
          0.375
         ],
         "title": {
          "text": "Sentiment Score"
         }
        },
        "yaxis4": {
         "anchor": "x4",
         "domain": [
          0,
          0.375
         ],
         "title": {
          "text": "Sentiment Score"
         }
        }
       }
      }
     },
     "metadata": {},
     "output_type": "display_data"
    }
   ],
   "source": [
    "# Select a few interesting speeches to examine in detail\n",
    "selected_speeches = [0, 10, 20, 30]  # First, middle, and later speeches\n",
    "\n",
    "fig = make_subplots(\n",
    "    rows=2, cols=2,\n",
    "    subplot_titles=[f\"{sentiment_results[i]['location']} ({sentiment_results[i]['month']} {sentiment_results[i]['year']})\" \n",
    "                    for i in selected_speeches]\n",
    ")\n",
    "\n",
    "positions = [(1, 1), (1, 2), (2, 1), (2, 2)]\n",
    "\n",
    "for idx, (speech_idx, pos) in enumerate(zip(selected_speeches, positions)):\n",
    "    result = sentiment_results[speech_idx]\n",
    "    chunks = result['chunk_predictions']\n",
    "    \n",
    "    chunk_indices = list(range(len(chunks)))\n",
    "    \n",
    "    # Add traces for each sentiment\n",
    "    fig.add_trace(\n",
    "        go.Scatter(x=chunk_indices, y=chunks[:, 0],\n",
    "                   mode='lines+markers', name='Positive',\n",
    "                   line=dict(color='#2ecc71'), showlegend=(idx == 0)),\n",
    "        row=pos[0], col=pos[1]\n",
    "    )\n",
    "    fig.add_trace(\n",
    "        go.Scatter(x=chunk_indices, y=chunks[:, 1],\n",
    "                   mode='lines+markers', name='Negative',\n",
    "                   line=dict(color='#e74c3c'), showlegend=(idx == 0)),\n",
    "        row=pos[0], col=pos[1]\n",
    "    )\n",
    "    fig.add_trace(\n",
    "        go.Scatter(x=chunk_indices, y=chunks[:, 2],\n",
    "                   mode='lines+markers', name='Neutral',\n",
    "                   line=dict(color='#95a5a6'), showlegend=(idx == 0)),\n",
    "        row=pos[0], col=pos[1]\n",
    "    )\n",
    "    \n",
    "    fig.update_xaxes(title_text=\"Chunk Index\", row=pos[0], col=pos[1])\n",
    "    fig.update_yaxes(title_text=\"Sentiment Score\", row=pos[0], col=pos[1])\n",
    "\n",
    "fig.update_layout(\n",
    "    height=800,\n",
    "    title_text=\"Sentiment Variation Within Individual Speeches\",\n",
    "    template='plotly_white',\n",
    "    showlegend=True\n",
    ")\n",
    "\n",
    "fig.show()"
   ]
  },
  {
   "cell_type": "markdown",
   "id": "3a2ae2c4",
   "metadata": {},
   "source": [
    "## Temporal Analysis: Sentiment Over Time\n",
    "\n",
    "Analyzing how sentiment evolved throughout 2019 and 2020."
   ]
  },
  {
   "cell_type": "code",
   "execution_count": 17,
   "id": "33016fbf",
   "metadata": {},
   "outputs": [
    {
     "data": {
      "application/vnd.plotly.v1+json": {
       "config": {
        "plotlyServerURL": "https://plot.ly"
       },
       "data": [
        {
         "hovertemplate": "<b>%{text}</b><br>Positive: %{y:.3f}<extra></extra>",
         "line": {
          "color": "#2ecc71",
          "width": 3
         },
         "marker": {
          "size": 8
         },
         "mode": "lines+markers",
         "name": "Positive",
         "text": [
          "Greenville",
          "Cincinnati",
          "New Hampshire",
          "Texas",
          "New Mexico",
          "Fayetteville",
          "Dallas",
          "Minneapolis",
          "Lexington",
          "Tupelo",
          "Battle Creek",
          "Hershey",
          "Wildwood",
          "Toledo",
          "Milwaukee",
          "Des Moines",
          "Colorador Springs",
          "New Hampshire",
          "Charleston",
          "Phoenix",
          "Las Vegas",
          "Charlotte",
          "Tulsa",
          "Yuma",
          "New Hampshire",
          "Salem",
          "Henderson",
          "Bemidji",
          "Fayetteville",
          "Ohio",
          "Mosinee",
          "Pittsburgh",
          "Freeland",
          "Minden",
          "Latrobe"
         ],
         "type": "scatter",
         "x": [
          "2019-07-15T00:00:00.000000000",
          "2019-08-15T00:00:00.000000000",
          "2019-08-15T00:00:00.000000000",
          "2019-09-15T00:00:00.000000000",
          "2019-09-15T00:00:00.000000000",
          "2019-09-15T00:00:00.000000000",
          "2019-10-15T00:00:00.000000000",
          "2019-10-15T00:00:00.000000000",
          "2019-11-15T00:00:00.000000000",
          "2019-11-15T00:00:00.000000000",
          "2019-12-15T00:00:00.000000000",
          "2019-12-15T00:00:00.000000000",
          "2020-01-15T00:00:00.000000000",
          "2020-01-15T00:00:00.000000000",
          "2020-01-15T00:00:00.000000000",
          "2020-01-15T00:00:00.000000000",
          "2020-02-15T00:00:00.000000000",
          "2020-02-15T00:00:00.000000000",
          "2020-02-15T00:00:00.000000000",
          "2020-02-15T00:00:00.000000000",
          "2020-02-15T00:00:00.000000000",
          "2020-03-15T00:00:00.000000000",
          "2020-06-15T00:00:00.000000000",
          "2020-08-15T00:00:00.000000000",
          "2020-08-15T00:00:00.000000000",
          "2020-09-15T00:00:00.000000000",
          "2020-09-15T00:00:00.000000000",
          "2020-09-15T00:00:00.000000000",
          "2020-09-15T00:00:00.000000000",
          "2020-09-15T00:00:00.000000000",
          "2020-09-15T00:00:00.000000000",
          "2020-09-15T00:00:00.000000000",
          "2020-09-15T00:00:00.000000000",
          "2020-09-15T00:00:00.000000000",
          "2020-09-15T00:00:00.000000000"
         ],
         "y": {
          "bdata": "WK91Ps6CdD5sL3M+wdKsPnzWfj4X3og+iZl4PiG5dT7UQXs+j6xpPmj5bD5WKnI+rGKDPq5vdD5WsHg+e016PjExfT72qIE+JgF/PsaGgT6F6HE+nOOIPux7Zz4GWnQ+r/5uPmmEeT4j938+nf91PrCQeT7+MHI+vpRvPnjAcz67YHs+LwBnPgArbD4=",
          "dtype": "f4"
         }
        },
        {
         "hovertemplate": "<b>%{text}</b><br>Negative: %{y:.3f}<extra></extra>",
         "line": {
          "color": "#e74c3c",
          "width": 3
         },
         "marker": {
          "size": 8
         },
         "mode": "lines+markers",
         "name": "Negative",
         "text": [
          "Greenville",
          "Cincinnati",
          "New Hampshire",
          "Texas",
          "New Mexico",
          "Fayetteville",
          "Dallas",
          "Minneapolis",
          "Lexington",
          "Tupelo",
          "Battle Creek",
          "Hershey",
          "Wildwood",
          "Toledo",
          "Milwaukee",
          "Des Moines",
          "Colorador Springs",
          "New Hampshire",
          "Charleston",
          "Phoenix",
          "Las Vegas",
          "Charlotte",
          "Tulsa",
          "Yuma",
          "New Hampshire",
          "Salem",
          "Henderson",
          "Bemidji",
          "Fayetteville",
          "Ohio",
          "Mosinee",
          "Pittsburgh",
          "Freeland",
          "Minden",
          "Latrobe"
         ],
         "type": "scatter",
         "x": [
          "2019-07-15T00:00:00.000000000",
          "2019-08-15T00:00:00.000000000",
          "2019-08-15T00:00:00.000000000",
          "2019-09-15T00:00:00.000000000",
          "2019-09-15T00:00:00.000000000",
          "2019-09-15T00:00:00.000000000",
          "2019-10-15T00:00:00.000000000",
          "2019-10-15T00:00:00.000000000",
          "2019-11-15T00:00:00.000000000",
          "2019-11-15T00:00:00.000000000",
          "2019-12-15T00:00:00.000000000",
          "2019-12-15T00:00:00.000000000",
          "2020-01-15T00:00:00.000000000",
          "2020-01-15T00:00:00.000000000",
          "2020-01-15T00:00:00.000000000",
          "2020-01-15T00:00:00.000000000",
          "2020-02-15T00:00:00.000000000",
          "2020-02-15T00:00:00.000000000",
          "2020-02-15T00:00:00.000000000",
          "2020-02-15T00:00:00.000000000",
          "2020-02-15T00:00:00.000000000",
          "2020-03-15T00:00:00.000000000",
          "2020-06-15T00:00:00.000000000",
          "2020-08-15T00:00:00.000000000",
          "2020-08-15T00:00:00.000000000",
          "2020-09-15T00:00:00.000000000",
          "2020-09-15T00:00:00.000000000",
          "2020-09-15T00:00:00.000000000",
          "2020-09-15T00:00:00.000000000",
          "2020-09-15T00:00:00.000000000",
          "2020-09-15T00:00:00.000000000",
          "2020-09-15T00:00:00.000000000",
          "2020-09-15T00:00:00.000000000",
          "2020-09-15T00:00:00.000000000",
          "2020-09-15T00:00:00.000000000"
         ],
         "y": {
          "bdata": "U92DPs3shD4EIYU+kdZ+PqxHhT50fH0+/wmEPplqgj4Pq4Q+xOKEPiJVhT7jxoQ+7OqBPtGnhD7KhYQ+z1mCPorkgD7EloA+/NiBPn6agj5gdoI+pN58Pqu1hT5FLYM+HKmFPn20gz6lpIA+V1iDPmW2gT7ccoI+M6SEPhUehD4iZIE+DeGFPvTmhT4=",
          "dtype": "f4"
         }
        },
        {
         "hovertemplate": "<b>%{text}</b><br>Neutral: %{y:.3f}<extra></extra>",
         "line": {
          "color": "#95a5a6",
          "width": 3
         },
         "marker": {
          "size": 8
         },
         "mode": "lines+markers",
         "name": "Neutral",
         "text": [
          "Greenville",
          "Cincinnati",
          "New Hampshire",
          "Texas",
          "New Mexico",
          "Fayetteville",
          "Dallas",
          "Minneapolis",
          "Lexington",
          "Tupelo",
          "Battle Creek",
          "Hershey",
          "Wildwood",
          "Toledo",
          "Milwaukee",
          "Des Moines",
          "Colorador Springs",
          "New Hampshire",
          "Charleston",
          "Phoenix",
          "Las Vegas",
          "Charlotte",
          "Tulsa",
          "Yuma",
          "New Hampshire",
          "Salem",
          "Henderson",
          "Bemidji",
          "Fayetteville",
          "Ohio",
          "Mosinee",
          "Pittsburgh",
          "Freeland",
          "Minden",
          "Latrobe"
         ],
         "type": "scatter",
         "x": [
          "2019-07-15T00:00:00.000000000",
          "2019-08-15T00:00:00.000000000",
          "2019-08-15T00:00:00.000000000",
          "2019-09-15T00:00:00.000000000",
          "2019-09-15T00:00:00.000000000",
          "2019-09-15T00:00:00.000000000",
          "2019-10-15T00:00:00.000000000",
          "2019-10-15T00:00:00.000000000",
          "2019-11-15T00:00:00.000000000",
          "2019-11-15T00:00:00.000000000",
          "2019-12-15T00:00:00.000000000",
          "2019-12-15T00:00:00.000000000",
          "2020-01-15T00:00:00.000000000",
          "2020-01-15T00:00:00.000000000",
          "2020-01-15T00:00:00.000000000",
          "2020-01-15T00:00:00.000000000",
          "2020-02-15T00:00:00.000000000",
          "2020-02-15T00:00:00.000000000",
          "2020-02-15T00:00:00.000000000",
          "2020-02-15T00:00:00.000000000",
          "2020-02-15T00:00:00.000000000",
          "2020-03-15T00:00:00.000000000",
          "2020-06-15T00:00:00.000000000",
          "2020-08-15T00:00:00.000000000",
          "2020-08-15T00:00:00.000000000",
          "2020-09-15T00:00:00.000000000",
          "2020-09-15T00:00:00.000000000",
          "2020-09-15T00:00:00.000000000",
          "2020-09-15T00:00:00.000000000",
          "2020-09-15T00:00:00.000000000",
          "2020-09-15T00:00:00.000000000",
          "2020-09-15T00:00:00.000000000",
          "2020-09-15T00:00:00.000000000",
          "2020-09-15T00:00:00.000000000",
          "2020-09-15T00:00:00.000000000"
         ],
         "y": {
          "bdata": "gqUAP+ZoAD+jowA/9cHTPhhN+z6sY/g+Pan/PmtcAT8HtP0+eiMDPxUXAj/5EQE/Z7L6PiuQAD8KIv8+uj8AP29BAD9IwP0+c6b+Prve+z6wSgI/Eq34PjFGAz/cUgE/yGsBP0+J/z7JX/8+7dMAP6DAAD9SOgI/uMgBP9cAAT+/dQA/bU8DP8UBAj8=",
          "dtype": "f4"
         }
        }
       ],
       "layout": {
        "annotations": [
         {
          "showarrow": false,
          "text": "2020 Begins",
          "x": "2020-01-01T00:00:00",
          "xref": "x",
          "y": 1.02,
          "yref": "paper"
         }
        ],
        "height": 500,
        "hovermode": "x unified",
        "shapes": [
         {
          "line": {
           "color": "gray",
           "dash": "dash"
          },
          "type": "line",
          "x0": "2020-01-01T00:00:00",
          "x1": "2020-01-01T00:00:00",
          "xref": "x",
          "y0": 0,
          "y1": 1,
          "yref": "paper"
         }
        ],
        "template": {
         "data": {
          "bar": [
           {
            "error_x": {
             "color": "#2a3f5f"
            },
            "error_y": {
             "color": "#2a3f5f"
            },
            "marker": {
             "line": {
              "color": "white",
              "width": 0.5
             },
             "pattern": {
              "fillmode": "overlay",
              "size": 10,
              "solidity": 0.2
             }
            },
            "type": "bar"
           }
          ],
          "barpolar": [
           {
            "marker": {
             "line": {
              "color": "white",
              "width": 0.5
             },
             "pattern": {
              "fillmode": "overlay",
              "size": 10,
              "solidity": 0.2
             }
            },
            "type": "barpolar"
           }
          ],
          "carpet": [
           {
            "aaxis": {
             "endlinecolor": "#2a3f5f",
             "gridcolor": "#C8D4E3",
             "linecolor": "#C8D4E3",
             "minorgridcolor": "#C8D4E3",
             "startlinecolor": "#2a3f5f"
            },
            "baxis": {
             "endlinecolor": "#2a3f5f",
             "gridcolor": "#C8D4E3",
             "linecolor": "#C8D4E3",
             "minorgridcolor": "#C8D4E3",
             "startlinecolor": "#2a3f5f"
            },
            "type": "carpet"
           }
          ],
          "choropleth": [
           {
            "colorbar": {
             "outlinewidth": 0,
             "ticks": ""
            },
            "type": "choropleth"
           }
          ],
          "contour": [
           {
            "colorbar": {
             "outlinewidth": 0,
             "ticks": ""
            },
            "colorscale": [
             [
              0,
              "#0d0887"
             ],
             [
              0.1111111111111111,
              "#46039f"
             ],
             [
              0.2222222222222222,
              "#7201a8"
             ],
             [
              0.3333333333333333,
              "#9c179e"
             ],
             [
              0.4444444444444444,
              "#bd3786"
             ],
             [
              0.5555555555555556,
              "#d8576b"
             ],
             [
              0.6666666666666666,
              "#ed7953"
             ],
             [
              0.7777777777777778,
              "#fb9f3a"
             ],
             [
              0.8888888888888888,
              "#fdca26"
             ],
             [
              1,
              "#f0f921"
             ]
            ],
            "type": "contour"
           }
          ],
          "contourcarpet": [
           {
            "colorbar": {
             "outlinewidth": 0,
             "ticks": ""
            },
            "type": "contourcarpet"
           }
          ],
          "heatmap": [
           {
            "colorbar": {
             "outlinewidth": 0,
             "ticks": ""
            },
            "colorscale": [
             [
              0,
              "#0d0887"
             ],
             [
              0.1111111111111111,
              "#46039f"
             ],
             [
              0.2222222222222222,
              "#7201a8"
             ],
             [
              0.3333333333333333,
              "#9c179e"
             ],
             [
              0.4444444444444444,
              "#bd3786"
             ],
             [
              0.5555555555555556,
              "#d8576b"
             ],
             [
              0.6666666666666666,
              "#ed7953"
             ],
             [
              0.7777777777777778,
              "#fb9f3a"
             ],
             [
              0.8888888888888888,
              "#fdca26"
             ],
             [
              1,
              "#f0f921"
             ]
            ],
            "type": "heatmap"
           }
          ],
          "histogram": [
           {
            "marker": {
             "pattern": {
              "fillmode": "overlay",
              "size": 10,
              "solidity": 0.2
             }
            },
            "type": "histogram"
           }
          ],
          "histogram2d": [
           {
            "colorbar": {
             "outlinewidth": 0,
             "ticks": ""
            },
            "colorscale": [
             [
              0,
              "#0d0887"
             ],
             [
              0.1111111111111111,
              "#46039f"
             ],
             [
              0.2222222222222222,
              "#7201a8"
             ],
             [
              0.3333333333333333,
              "#9c179e"
             ],
             [
              0.4444444444444444,
              "#bd3786"
             ],
             [
              0.5555555555555556,
              "#d8576b"
             ],
             [
              0.6666666666666666,
              "#ed7953"
             ],
             [
              0.7777777777777778,
              "#fb9f3a"
             ],
             [
              0.8888888888888888,
              "#fdca26"
             ],
             [
              1,
              "#f0f921"
             ]
            ],
            "type": "histogram2d"
           }
          ],
          "histogram2dcontour": [
           {
            "colorbar": {
             "outlinewidth": 0,
             "ticks": ""
            },
            "colorscale": [
             [
              0,
              "#0d0887"
             ],
             [
              0.1111111111111111,
              "#46039f"
             ],
             [
              0.2222222222222222,
              "#7201a8"
             ],
             [
              0.3333333333333333,
              "#9c179e"
             ],
             [
              0.4444444444444444,
              "#bd3786"
             ],
             [
              0.5555555555555556,
              "#d8576b"
             ],
             [
              0.6666666666666666,
              "#ed7953"
             ],
             [
              0.7777777777777778,
              "#fb9f3a"
             ],
             [
              0.8888888888888888,
              "#fdca26"
             ],
             [
              1,
              "#f0f921"
             ]
            ],
            "type": "histogram2dcontour"
           }
          ],
          "mesh3d": [
           {
            "colorbar": {
             "outlinewidth": 0,
             "ticks": ""
            },
            "type": "mesh3d"
           }
          ],
          "parcoords": [
           {
            "line": {
             "colorbar": {
              "outlinewidth": 0,
              "ticks": ""
             }
            },
            "type": "parcoords"
           }
          ],
          "pie": [
           {
            "automargin": true,
            "type": "pie"
           }
          ],
          "scatter": [
           {
            "fillpattern": {
             "fillmode": "overlay",
             "size": 10,
             "solidity": 0.2
            },
            "type": "scatter"
           }
          ],
          "scatter3d": [
           {
            "line": {
             "colorbar": {
              "outlinewidth": 0,
              "ticks": ""
             }
            },
            "marker": {
             "colorbar": {
              "outlinewidth": 0,
              "ticks": ""
             }
            },
            "type": "scatter3d"
           }
          ],
          "scattercarpet": [
           {
            "marker": {
             "colorbar": {
              "outlinewidth": 0,
              "ticks": ""
             }
            },
            "type": "scattercarpet"
           }
          ],
          "scattergeo": [
           {
            "marker": {
             "colorbar": {
              "outlinewidth": 0,
              "ticks": ""
             }
            },
            "type": "scattergeo"
           }
          ],
          "scattergl": [
           {
            "marker": {
             "colorbar": {
              "outlinewidth": 0,
              "ticks": ""
             }
            },
            "type": "scattergl"
           }
          ],
          "scattermap": [
           {
            "marker": {
             "colorbar": {
              "outlinewidth": 0,
              "ticks": ""
             }
            },
            "type": "scattermap"
           }
          ],
          "scattermapbox": [
           {
            "marker": {
             "colorbar": {
              "outlinewidth": 0,
              "ticks": ""
             }
            },
            "type": "scattermapbox"
           }
          ],
          "scatterpolar": [
           {
            "marker": {
             "colorbar": {
              "outlinewidth": 0,
              "ticks": ""
             }
            },
            "type": "scatterpolar"
           }
          ],
          "scatterpolargl": [
           {
            "marker": {
             "colorbar": {
              "outlinewidth": 0,
              "ticks": ""
             }
            },
            "type": "scatterpolargl"
           }
          ],
          "scatterternary": [
           {
            "marker": {
             "colorbar": {
              "outlinewidth": 0,
              "ticks": ""
             }
            },
            "type": "scatterternary"
           }
          ],
          "surface": [
           {
            "colorbar": {
             "outlinewidth": 0,
             "ticks": ""
            },
            "colorscale": [
             [
              0,
              "#0d0887"
             ],
             [
              0.1111111111111111,
              "#46039f"
             ],
             [
              0.2222222222222222,
              "#7201a8"
             ],
             [
              0.3333333333333333,
              "#9c179e"
             ],
             [
              0.4444444444444444,
              "#bd3786"
             ],
             [
              0.5555555555555556,
              "#d8576b"
             ],
             [
              0.6666666666666666,
              "#ed7953"
             ],
             [
              0.7777777777777778,
              "#fb9f3a"
             ],
             [
              0.8888888888888888,
              "#fdca26"
             ],
             [
              1,
              "#f0f921"
             ]
            ],
            "type": "surface"
           }
          ],
          "table": [
           {
            "cells": {
             "fill": {
              "color": "#EBF0F8"
             },
             "line": {
              "color": "white"
             }
            },
            "header": {
             "fill": {
              "color": "#C8D4E3"
             },
             "line": {
              "color": "white"
             }
            },
            "type": "table"
           }
          ]
         },
         "layout": {
          "annotationdefaults": {
           "arrowcolor": "#2a3f5f",
           "arrowhead": 0,
           "arrowwidth": 1
          },
          "autotypenumbers": "strict",
          "coloraxis": {
           "colorbar": {
            "outlinewidth": 0,
            "ticks": ""
           }
          },
          "colorscale": {
           "diverging": [
            [
             0,
             "#8e0152"
            ],
            [
             0.1,
             "#c51b7d"
            ],
            [
             0.2,
             "#de77ae"
            ],
            [
             0.3,
             "#f1b6da"
            ],
            [
             0.4,
             "#fde0ef"
            ],
            [
             0.5,
             "#f7f7f7"
            ],
            [
             0.6,
             "#e6f5d0"
            ],
            [
             0.7,
             "#b8e186"
            ],
            [
             0.8,
             "#7fbc41"
            ],
            [
             0.9,
             "#4d9221"
            ],
            [
             1,
             "#276419"
            ]
           ],
           "sequential": [
            [
             0,
             "#0d0887"
            ],
            [
             0.1111111111111111,
             "#46039f"
            ],
            [
             0.2222222222222222,
             "#7201a8"
            ],
            [
             0.3333333333333333,
             "#9c179e"
            ],
            [
             0.4444444444444444,
             "#bd3786"
            ],
            [
             0.5555555555555556,
             "#d8576b"
            ],
            [
             0.6666666666666666,
             "#ed7953"
            ],
            [
             0.7777777777777778,
             "#fb9f3a"
            ],
            [
             0.8888888888888888,
             "#fdca26"
            ],
            [
             1,
             "#f0f921"
            ]
           ],
           "sequentialminus": [
            [
             0,
             "#0d0887"
            ],
            [
             0.1111111111111111,
             "#46039f"
            ],
            [
             0.2222222222222222,
             "#7201a8"
            ],
            [
             0.3333333333333333,
             "#9c179e"
            ],
            [
             0.4444444444444444,
             "#bd3786"
            ],
            [
             0.5555555555555556,
             "#d8576b"
            ],
            [
             0.6666666666666666,
             "#ed7953"
            ],
            [
             0.7777777777777778,
             "#fb9f3a"
            ],
            [
             0.8888888888888888,
             "#fdca26"
            ],
            [
             1,
             "#f0f921"
            ]
           ]
          },
          "colorway": [
           "#636efa",
           "#EF553B",
           "#00cc96",
           "#ab63fa",
           "#FFA15A",
           "#19d3f3",
           "#FF6692",
           "#B6E880",
           "#FF97FF",
           "#FECB52"
          ],
          "font": {
           "color": "#2a3f5f"
          },
          "geo": {
           "bgcolor": "white",
           "lakecolor": "white",
           "landcolor": "white",
           "showlakes": true,
           "showland": true,
           "subunitcolor": "#C8D4E3"
          },
          "hoverlabel": {
           "align": "left"
          },
          "hovermode": "closest",
          "mapbox": {
           "style": "light"
          },
          "paper_bgcolor": "white",
          "plot_bgcolor": "white",
          "polar": {
           "angularaxis": {
            "gridcolor": "#EBF0F8",
            "linecolor": "#EBF0F8",
            "ticks": ""
           },
           "bgcolor": "white",
           "radialaxis": {
            "gridcolor": "#EBF0F8",
            "linecolor": "#EBF0F8",
            "ticks": ""
           }
          },
          "scene": {
           "xaxis": {
            "backgroundcolor": "white",
            "gridcolor": "#DFE8F3",
            "gridwidth": 2,
            "linecolor": "#EBF0F8",
            "showbackground": true,
            "ticks": "",
            "zerolinecolor": "#EBF0F8"
           },
           "yaxis": {
            "backgroundcolor": "white",
            "gridcolor": "#DFE8F3",
            "gridwidth": 2,
            "linecolor": "#EBF0F8",
            "showbackground": true,
            "ticks": "",
            "zerolinecolor": "#EBF0F8"
           },
           "zaxis": {
            "backgroundcolor": "white",
            "gridcolor": "#DFE8F3",
            "gridwidth": 2,
            "linecolor": "#EBF0F8",
            "showbackground": true,
            "ticks": "",
            "zerolinecolor": "#EBF0F8"
           }
          },
          "shapedefaults": {
           "line": {
            "color": "#2a3f5f"
           }
          },
          "ternary": {
           "aaxis": {
            "gridcolor": "#DFE8F3",
            "linecolor": "#A2B1C6",
            "ticks": ""
           },
           "baxis": {
            "gridcolor": "#DFE8F3",
            "linecolor": "#A2B1C6",
            "ticks": ""
           },
           "bgcolor": "white",
           "caxis": {
            "gridcolor": "#DFE8F3",
            "linecolor": "#A2B1C6",
            "ticks": ""
           }
          },
          "title": {
           "x": 0.05
          },
          "xaxis": {
           "automargin": true,
           "gridcolor": "#EBF0F8",
           "linecolor": "#EBF0F8",
           "ticks": "",
           "title": {
            "standoff": 15
           },
           "zerolinecolor": "#EBF0F8",
           "zerolinewidth": 2
          },
          "yaxis": {
           "automargin": true,
           "gridcolor": "#EBF0F8",
           "linecolor": "#EBF0F8",
           "ticks": "",
           "title": {
            "standoff": 15
           },
           "zerolinecolor": "#EBF0F8",
           "zerolinewidth": 2
          }
         }
        },
        "title": {
         "text": "Sentiment Evolution Over Time (2019-2020)"
        },
        "xaxis": {
         "title": {
          "text": "Date"
         }
        },
        "yaxis": {
         "title": {
          "text": "Sentiment Score"
         }
        }
       }
      }
     },
     "metadata": {},
     "output_type": "display_data"
    },
    {
     "data": {
      "application/vnd.plotly.v1+json": {
       "config": {
        "plotlyServerURL": "https://plot.ly"
       },
       "data": [
        {
         "marker": {
          "color": "#2ecc71",
          "opacity": 0.3,
          "size": 6
         },
         "mode": "markers",
         "name": "Positive (raw)",
         "showlegend": true,
         "type": "scatter",
         "x": [
          "2019-07-15T00:00:00.000000000",
          "2019-08-15T00:00:00.000000000",
          "2019-08-15T00:00:00.000000000",
          "2019-09-15T00:00:00.000000000",
          "2019-09-15T00:00:00.000000000",
          "2019-09-15T00:00:00.000000000",
          "2019-10-15T00:00:00.000000000",
          "2019-10-15T00:00:00.000000000",
          "2019-11-15T00:00:00.000000000",
          "2019-11-15T00:00:00.000000000",
          "2019-12-15T00:00:00.000000000",
          "2019-12-15T00:00:00.000000000",
          "2020-01-15T00:00:00.000000000",
          "2020-01-15T00:00:00.000000000",
          "2020-01-15T00:00:00.000000000",
          "2020-01-15T00:00:00.000000000",
          "2020-02-15T00:00:00.000000000",
          "2020-02-15T00:00:00.000000000",
          "2020-02-15T00:00:00.000000000",
          "2020-02-15T00:00:00.000000000",
          "2020-02-15T00:00:00.000000000",
          "2020-03-15T00:00:00.000000000",
          "2020-06-15T00:00:00.000000000",
          "2020-08-15T00:00:00.000000000",
          "2020-08-15T00:00:00.000000000",
          "2020-09-15T00:00:00.000000000",
          "2020-09-15T00:00:00.000000000",
          "2020-09-15T00:00:00.000000000",
          "2020-09-15T00:00:00.000000000",
          "2020-09-15T00:00:00.000000000",
          "2020-09-15T00:00:00.000000000",
          "2020-09-15T00:00:00.000000000",
          "2020-09-15T00:00:00.000000000",
          "2020-09-15T00:00:00.000000000",
          "2020-09-15T00:00:00.000000000"
         ],
         "y": {
          "bdata": "WK91Ps6CdD5sL3M+wdKsPnzWfj4X3og+iZl4PiG5dT7UQXs+j6xpPmj5bD5WKnI+rGKDPq5vdD5WsHg+e016PjExfT72qIE+JgF/PsaGgT6F6HE+nOOIPux7Zz4GWnQ+r/5uPmmEeT4j938+nf91PrCQeT7+MHI+vpRvPnjAcz67YHs+LwBnPgArbD4=",
          "dtype": "f4"
         }
        },
        {
         "marker": {
          "color": "#e74c3c",
          "opacity": 0.3,
          "size": 6
         },
         "mode": "markers",
         "name": "Negative (raw)",
         "showlegend": true,
         "type": "scatter",
         "x": [
          "2019-07-15T00:00:00.000000000",
          "2019-08-15T00:00:00.000000000",
          "2019-08-15T00:00:00.000000000",
          "2019-09-15T00:00:00.000000000",
          "2019-09-15T00:00:00.000000000",
          "2019-09-15T00:00:00.000000000",
          "2019-10-15T00:00:00.000000000",
          "2019-10-15T00:00:00.000000000",
          "2019-11-15T00:00:00.000000000",
          "2019-11-15T00:00:00.000000000",
          "2019-12-15T00:00:00.000000000",
          "2019-12-15T00:00:00.000000000",
          "2020-01-15T00:00:00.000000000",
          "2020-01-15T00:00:00.000000000",
          "2020-01-15T00:00:00.000000000",
          "2020-01-15T00:00:00.000000000",
          "2020-02-15T00:00:00.000000000",
          "2020-02-15T00:00:00.000000000",
          "2020-02-15T00:00:00.000000000",
          "2020-02-15T00:00:00.000000000",
          "2020-02-15T00:00:00.000000000",
          "2020-03-15T00:00:00.000000000",
          "2020-06-15T00:00:00.000000000",
          "2020-08-15T00:00:00.000000000",
          "2020-08-15T00:00:00.000000000",
          "2020-09-15T00:00:00.000000000",
          "2020-09-15T00:00:00.000000000",
          "2020-09-15T00:00:00.000000000",
          "2020-09-15T00:00:00.000000000",
          "2020-09-15T00:00:00.000000000",
          "2020-09-15T00:00:00.000000000",
          "2020-09-15T00:00:00.000000000",
          "2020-09-15T00:00:00.000000000",
          "2020-09-15T00:00:00.000000000",
          "2020-09-15T00:00:00.000000000"
         ],
         "y": {
          "bdata": "U92DPs3shD4EIYU+kdZ+PqxHhT50fH0+/wmEPplqgj4Pq4Q+xOKEPiJVhT7jxoQ+7OqBPtGnhD7KhYQ+z1mCPorkgD7EloA+/NiBPn6agj5gdoI+pN58Pqu1hT5FLYM+HKmFPn20gz6lpIA+V1iDPmW2gT7ccoI+M6SEPhUehD4iZIE+DeGFPvTmhT4=",
          "dtype": "f4"
         }
        },
        {
         "line": {
          "color": "#2ecc71",
          "width": 4
         },
         "mode": "lines",
         "name": "Positive (3-speech avg)",
         "type": "scatter",
         "x": [
          "2019-07-15T00:00:00.000000000",
          "2019-08-15T00:00:00.000000000",
          "2019-08-15T00:00:00.000000000",
          "2019-09-15T00:00:00.000000000",
          "2019-09-15T00:00:00.000000000",
          "2019-09-15T00:00:00.000000000",
          "2019-10-15T00:00:00.000000000",
          "2019-10-15T00:00:00.000000000",
          "2019-11-15T00:00:00.000000000",
          "2019-11-15T00:00:00.000000000",
          "2019-12-15T00:00:00.000000000",
          "2019-12-15T00:00:00.000000000",
          "2020-01-15T00:00:00.000000000",
          "2020-01-15T00:00:00.000000000",
          "2020-01-15T00:00:00.000000000",
          "2020-01-15T00:00:00.000000000",
          "2020-02-15T00:00:00.000000000",
          "2020-02-15T00:00:00.000000000",
          "2020-02-15T00:00:00.000000000",
          "2020-02-15T00:00:00.000000000",
          "2020-02-15T00:00:00.000000000",
          "2020-03-15T00:00:00.000000000",
          "2020-06-15T00:00:00.000000000",
          "2020-08-15T00:00:00.000000000",
          "2020-08-15T00:00:00.000000000",
          "2020-09-15T00:00:00.000000000",
          "2020-09-15T00:00:00.000000000",
          "2020-09-15T00:00:00.000000000",
          "2020-09-15T00:00:00.000000000",
          "2020-09-15T00:00:00.000000000",
          "2020-09-15T00:00:00.000000000",
          "2020-09-15T00:00:00.000000000",
          "2020-09-15T00:00:00.000000000",
          "2020-09-15T00:00:00.000000000",
          "2020-09-15T00:00:00.000000000"
         ],
         "y": {
          "bdata": "AAAAAAAA+H+rqqpqu47OP1VVVZV+XNE/VVVVNZKT0T+rqqrqgDbSP6uqqrrrMNA/q6qqKk8A0D9VVVWV2hDPPwAAAIClcc4/AAAAIFMUzj+rqqqKWLPNPwAAAEC26c4/AAAAgE45zz9VVVXV437PP6uqqkrl+c4/AAAAwEpXzz8AAAAAscjPPwAAACDY+s8/VVVV9a0c0D+rqqpKon/PP1VVVYXxI9A/VVVVtdEhzz8AAADA4TvPP6uqqgrcyM0/VVVVlTaJzj+rqqrKFwXPPwAAAGDMT88/VVVVVU9Qzz8AAAAgY73OP6uqqirveM4/VVVV1ew6zj+rqqoK6pzOP1VVVRVkQc4/VVVVFX/wzT8AAAAAAAD4fw==",
          "dtype": "f8"
         }
        },
        {
         "line": {
          "color": "#e74c3c",
          "width": 4
         },
         "mode": "lines",
         "name": "Negative (3-speech avg)",
         "type": "scatter",
         "x": [
          "2019-07-15T00:00:00.000000000",
          "2019-08-15T00:00:00.000000000",
          "2019-08-15T00:00:00.000000000",
          "2019-09-15T00:00:00.000000000",
          "2019-09-15T00:00:00.000000000",
          "2019-09-15T00:00:00.000000000",
          "2019-10-15T00:00:00.000000000",
          "2019-10-15T00:00:00.000000000",
          "2019-11-15T00:00:00.000000000",
          "2019-11-15T00:00:00.000000000",
          "2019-12-15T00:00:00.000000000",
          "2019-12-15T00:00:00.000000000",
          "2020-01-15T00:00:00.000000000",
          "2020-01-15T00:00:00.000000000",
          "2020-01-15T00:00:00.000000000",
          "2020-01-15T00:00:00.000000000",
          "2020-02-15T00:00:00.000000000",
          "2020-02-15T00:00:00.000000000",
          "2020-02-15T00:00:00.000000000",
          "2020-02-15T00:00:00.000000000",
          "2020-02-15T00:00:00.000000000",
          "2020-03-15T00:00:00.000000000",
          "2020-06-15T00:00:00.000000000",
          "2020-08-15T00:00:00.000000000",
          "2020-08-15T00:00:00.000000000",
          "2020-09-15T00:00:00.000000000",
          "2020-09-15T00:00:00.000000000",
          "2020-09-15T00:00:00.000000000",
          "2020-09-15T00:00:00.000000000",
          "2020-09-15T00:00:00.000000000",
          "2020-09-15T00:00:00.000000000",
          "2020-09-15T00:00:00.000000000",
          "2020-09-15T00:00:00.000000000",
          "2020-09-15T00:00:00.000000000",
          "2020-09-15T00:00:00.000000000"
         ],
         "y": {
          "bdata": "AAAAAAAA+H9VVVXVdpTQP6uqqroLZdA/VVVVBdVo0D9VVVVFtyTQPwAAAOD+VdA/q6qqanM30D9VVVX1pnbQP6uqqiqvf9A/VVVVNcqe0D+rqqoK85/QP6uqqgpKgNA/VVVVVRF50D9VVVX1WnbQPwAAAMD5etA/q6qqytZS0D9VVVU14SjQP1VVVRWDI9A/VVVVlcI10D+rqqpqvknQP1VVVVVXJdA/VVVVNXlG0D9VVVUVGE7QP6uqqiorm9A/AAAAQMmF0D9VVVWVwmrQP1VVVbUPUtA/VVVVtc480D8AAAAAEVDQP1VVVdXkXdA/q6qqKox30D+rqqpqRGzQP6uqqip4edA/VVVVdYGM0D8AAAAAAAD4fw==",
          "dtype": "f8"
         }
        }
       ],
       "layout": {
        "annotations": [
         {
          "showarrow": false,
          "text": "2020 Begins",
          "x": "2020-01-01T00:00:00",
          "xref": "x",
          "y": 1.02,
          "yref": "paper"
         }
        ],
        "height": 500,
        "shapes": [
         {
          "line": {
           "color": "gray",
           "dash": "dash"
          },
          "type": "line",
          "x0": "2020-01-01T00:00:00",
          "x1": "2020-01-01T00:00:00",
          "xref": "x",
          "y0": 0,
          "y1": 1,
          "yref": "paper"
         }
        ],
        "template": {
         "data": {
          "bar": [
           {
            "error_x": {
             "color": "#2a3f5f"
            },
            "error_y": {
             "color": "#2a3f5f"
            },
            "marker": {
             "line": {
              "color": "white",
              "width": 0.5
             },
             "pattern": {
              "fillmode": "overlay",
              "size": 10,
              "solidity": 0.2
             }
            },
            "type": "bar"
           }
          ],
          "barpolar": [
           {
            "marker": {
             "line": {
              "color": "white",
              "width": 0.5
             },
             "pattern": {
              "fillmode": "overlay",
              "size": 10,
              "solidity": 0.2
             }
            },
            "type": "barpolar"
           }
          ],
          "carpet": [
           {
            "aaxis": {
             "endlinecolor": "#2a3f5f",
             "gridcolor": "#C8D4E3",
             "linecolor": "#C8D4E3",
             "minorgridcolor": "#C8D4E3",
             "startlinecolor": "#2a3f5f"
            },
            "baxis": {
             "endlinecolor": "#2a3f5f",
             "gridcolor": "#C8D4E3",
             "linecolor": "#C8D4E3",
             "minorgridcolor": "#C8D4E3",
             "startlinecolor": "#2a3f5f"
            },
            "type": "carpet"
           }
          ],
          "choropleth": [
           {
            "colorbar": {
             "outlinewidth": 0,
             "ticks": ""
            },
            "type": "choropleth"
           }
          ],
          "contour": [
           {
            "colorbar": {
             "outlinewidth": 0,
             "ticks": ""
            },
            "colorscale": [
             [
              0,
              "#0d0887"
             ],
             [
              0.1111111111111111,
              "#46039f"
             ],
             [
              0.2222222222222222,
              "#7201a8"
             ],
             [
              0.3333333333333333,
              "#9c179e"
             ],
             [
              0.4444444444444444,
              "#bd3786"
             ],
             [
              0.5555555555555556,
              "#d8576b"
             ],
             [
              0.6666666666666666,
              "#ed7953"
             ],
             [
              0.7777777777777778,
              "#fb9f3a"
             ],
             [
              0.8888888888888888,
              "#fdca26"
             ],
             [
              1,
              "#f0f921"
             ]
            ],
            "type": "contour"
           }
          ],
          "contourcarpet": [
           {
            "colorbar": {
             "outlinewidth": 0,
             "ticks": ""
            },
            "type": "contourcarpet"
           }
          ],
          "heatmap": [
           {
            "colorbar": {
             "outlinewidth": 0,
             "ticks": ""
            },
            "colorscale": [
             [
              0,
              "#0d0887"
             ],
             [
              0.1111111111111111,
              "#46039f"
             ],
             [
              0.2222222222222222,
              "#7201a8"
             ],
             [
              0.3333333333333333,
              "#9c179e"
             ],
             [
              0.4444444444444444,
              "#bd3786"
             ],
             [
              0.5555555555555556,
              "#d8576b"
             ],
             [
              0.6666666666666666,
              "#ed7953"
             ],
             [
              0.7777777777777778,
              "#fb9f3a"
             ],
             [
              0.8888888888888888,
              "#fdca26"
             ],
             [
              1,
              "#f0f921"
             ]
            ],
            "type": "heatmap"
           }
          ],
          "histogram": [
           {
            "marker": {
             "pattern": {
              "fillmode": "overlay",
              "size": 10,
              "solidity": 0.2
             }
            },
            "type": "histogram"
           }
          ],
          "histogram2d": [
           {
            "colorbar": {
             "outlinewidth": 0,
             "ticks": ""
            },
            "colorscale": [
             [
              0,
              "#0d0887"
             ],
             [
              0.1111111111111111,
              "#46039f"
             ],
             [
              0.2222222222222222,
              "#7201a8"
             ],
             [
              0.3333333333333333,
              "#9c179e"
             ],
             [
              0.4444444444444444,
              "#bd3786"
             ],
             [
              0.5555555555555556,
              "#d8576b"
             ],
             [
              0.6666666666666666,
              "#ed7953"
             ],
             [
              0.7777777777777778,
              "#fb9f3a"
             ],
             [
              0.8888888888888888,
              "#fdca26"
             ],
             [
              1,
              "#f0f921"
             ]
            ],
            "type": "histogram2d"
           }
          ],
          "histogram2dcontour": [
           {
            "colorbar": {
             "outlinewidth": 0,
             "ticks": ""
            },
            "colorscale": [
             [
              0,
              "#0d0887"
             ],
             [
              0.1111111111111111,
              "#46039f"
             ],
             [
              0.2222222222222222,
              "#7201a8"
             ],
             [
              0.3333333333333333,
              "#9c179e"
             ],
             [
              0.4444444444444444,
              "#bd3786"
             ],
             [
              0.5555555555555556,
              "#d8576b"
             ],
             [
              0.6666666666666666,
              "#ed7953"
             ],
             [
              0.7777777777777778,
              "#fb9f3a"
             ],
             [
              0.8888888888888888,
              "#fdca26"
             ],
             [
              1,
              "#f0f921"
             ]
            ],
            "type": "histogram2dcontour"
           }
          ],
          "mesh3d": [
           {
            "colorbar": {
             "outlinewidth": 0,
             "ticks": ""
            },
            "type": "mesh3d"
           }
          ],
          "parcoords": [
           {
            "line": {
             "colorbar": {
              "outlinewidth": 0,
              "ticks": ""
             }
            },
            "type": "parcoords"
           }
          ],
          "pie": [
           {
            "automargin": true,
            "type": "pie"
           }
          ],
          "scatter": [
           {
            "fillpattern": {
             "fillmode": "overlay",
             "size": 10,
             "solidity": 0.2
            },
            "type": "scatter"
           }
          ],
          "scatter3d": [
           {
            "line": {
             "colorbar": {
              "outlinewidth": 0,
              "ticks": ""
             }
            },
            "marker": {
             "colorbar": {
              "outlinewidth": 0,
              "ticks": ""
             }
            },
            "type": "scatter3d"
           }
          ],
          "scattercarpet": [
           {
            "marker": {
             "colorbar": {
              "outlinewidth": 0,
              "ticks": ""
             }
            },
            "type": "scattercarpet"
           }
          ],
          "scattergeo": [
           {
            "marker": {
             "colorbar": {
              "outlinewidth": 0,
              "ticks": ""
             }
            },
            "type": "scattergeo"
           }
          ],
          "scattergl": [
           {
            "marker": {
             "colorbar": {
              "outlinewidth": 0,
              "ticks": ""
             }
            },
            "type": "scattergl"
           }
          ],
          "scattermap": [
           {
            "marker": {
             "colorbar": {
              "outlinewidth": 0,
              "ticks": ""
             }
            },
            "type": "scattermap"
           }
          ],
          "scattermapbox": [
           {
            "marker": {
             "colorbar": {
              "outlinewidth": 0,
              "ticks": ""
             }
            },
            "type": "scattermapbox"
           }
          ],
          "scatterpolar": [
           {
            "marker": {
             "colorbar": {
              "outlinewidth": 0,
              "ticks": ""
             }
            },
            "type": "scatterpolar"
           }
          ],
          "scatterpolargl": [
           {
            "marker": {
             "colorbar": {
              "outlinewidth": 0,
              "ticks": ""
             }
            },
            "type": "scatterpolargl"
           }
          ],
          "scatterternary": [
           {
            "marker": {
             "colorbar": {
              "outlinewidth": 0,
              "ticks": ""
             }
            },
            "type": "scatterternary"
           }
          ],
          "surface": [
           {
            "colorbar": {
             "outlinewidth": 0,
             "ticks": ""
            },
            "colorscale": [
             [
              0,
              "#0d0887"
             ],
             [
              0.1111111111111111,
              "#46039f"
             ],
             [
              0.2222222222222222,
              "#7201a8"
             ],
             [
              0.3333333333333333,
              "#9c179e"
             ],
             [
              0.4444444444444444,
              "#bd3786"
             ],
             [
              0.5555555555555556,
              "#d8576b"
             ],
             [
              0.6666666666666666,
              "#ed7953"
             ],
             [
              0.7777777777777778,
              "#fb9f3a"
             ],
             [
              0.8888888888888888,
              "#fdca26"
             ],
             [
              1,
              "#f0f921"
             ]
            ],
            "type": "surface"
           }
          ],
          "table": [
           {
            "cells": {
             "fill": {
              "color": "#EBF0F8"
             },
             "line": {
              "color": "white"
             }
            },
            "header": {
             "fill": {
              "color": "#C8D4E3"
             },
             "line": {
              "color": "white"
             }
            },
            "type": "table"
           }
          ]
         },
         "layout": {
          "annotationdefaults": {
           "arrowcolor": "#2a3f5f",
           "arrowhead": 0,
           "arrowwidth": 1
          },
          "autotypenumbers": "strict",
          "coloraxis": {
           "colorbar": {
            "outlinewidth": 0,
            "ticks": ""
           }
          },
          "colorscale": {
           "diverging": [
            [
             0,
             "#8e0152"
            ],
            [
             0.1,
             "#c51b7d"
            ],
            [
             0.2,
             "#de77ae"
            ],
            [
             0.3,
             "#f1b6da"
            ],
            [
             0.4,
             "#fde0ef"
            ],
            [
             0.5,
             "#f7f7f7"
            ],
            [
             0.6,
             "#e6f5d0"
            ],
            [
             0.7,
             "#b8e186"
            ],
            [
             0.8,
             "#7fbc41"
            ],
            [
             0.9,
             "#4d9221"
            ],
            [
             1,
             "#276419"
            ]
           ],
           "sequential": [
            [
             0,
             "#0d0887"
            ],
            [
             0.1111111111111111,
             "#46039f"
            ],
            [
             0.2222222222222222,
             "#7201a8"
            ],
            [
             0.3333333333333333,
             "#9c179e"
            ],
            [
             0.4444444444444444,
             "#bd3786"
            ],
            [
             0.5555555555555556,
             "#d8576b"
            ],
            [
             0.6666666666666666,
             "#ed7953"
            ],
            [
             0.7777777777777778,
             "#fb9f3a"
            ],
            [
             0.8888888888888888,
             "#fdca26"
            ],
            [
             1,
             "#f0f921"
            ]
           ],
           "sequentialminus": [
            [
             0,
             "#0d0887"
            ],
            [
             0.1111111111111111,
             "#46039f"
            ],
            [
             0.2222222222222222,
             "#7201a8"
            ],
            [
             0.3333333333333333,
             "#9c179e"
            ],
            [
             0.4444444444444444,
             "#bd3786"
            ],
            [
             0.5555555555555556,
             "#d8576b"
            ],
            [
             0.6666666666666666,
             "#ed7953"
            ],
            [
             0.7777777777777778,
             "#fb9f3a"
            ],
            [
             0.8888888888888888,
             "#fdca26"
            ],
            [
             1,
             "#f0f921"
            ]
           ]
          },
          "colorway": [
           "#636efa",
           "#EF553B",
           "#00cc96",
           "#ab63fa",
           "#FFA15A",
           "#19d3f3",
           "#FF6692",
           "#B6E880",
           "#FF97FF",
           "#FECB52"
          ],
          "font": {
           "color": "#2a3f5f"
          },
          "geo": {
           "bgcolor": "white",
           "lakecolor": "white",
           "landcolor": "white",
           "showlakes": true,
           "showland": true,
           "subunitcolor": "#C8D4E3"
          },
          "hoverlabel": {
           "align": "left"
          },
          "hovermode": "closest",
          "mapbox": {
           "style": "light"
          },
          "paper_bgcolor": "white",
          "plot_bgcolor": "white",
          "polar": {
           "angularaxis": {
            "gridcolor": "#EBF0F8",
            "linecolor": "#EBF0F8",
            "ticks": ""
           },
           "bgcolor": "white",
           "radialaxis": {
            "gridcolor": "#EBF0F8",
            "linecolor": "#EBF0F8",
            "ticks": ""
           }
          },
          "scene": {
           "xaxis": {
            "backgroundcolor": "white",
            "gridcolor": "#DFE8F3",
            "gridwidth": 2,
            "linecolor": "#EBF0F8",
            "showbackground": true,
            "ticks": "",
            "zerolinecolor": "#EBF0F8"
           },
           "yaxis": {
            "backgroundcolor": "white",
            "gridcolor": "#DFE8F3",
            "gridwidth": 2,
            "linecolor": "#EBF0F8",
            "showbackground": true,
            "ticks": "",
            "zerolinecolor": "#EBF0F8"
           },
           "zaxis": {
            "backgroundcolor": "white",
            "gridcolor": "#DFE8F3",
            "gridwidth": 2,
            "linecolor": "#EBF0F8",
            "showbackground": true,
            "ticks": "",
            "zerolinecolor": "#EBF0F8"
           }
          },
          "shapedefaults": {
           "line": {
            "color": "#2a3f5f"
           }
          },
          "ternary": {
           "aaxis": {
            "gridcolor": "#DFE8F3",
            "linecolor": "#A2B1C6",
            "ticks": ""
           },
           "baxis": {
            "gridcolor": "#DFE8F3",
            "linecolor": "#A2B1C6",
            "ticks": ""
           },
           "bgcolor": "white",
           "caxis": {
            "gridcolor": "#DFE8F3",
            "linecolor": "#A2B1C6",
            "ticks": ""
           }
          },
          "title": {
           "x": 0.05
          },
          "xaxis": {
           "automargin": true,
           "gridcolor": "#EBF0F8",
           "linecolor": "#EBF0F8",
           "ticks": "",
           "title": {
            "standoff": 15
           },
           "zerolinecolor": "#EBF0F8",
           "zerolinewidth": 2
          },
          "yaxis": {
           "automargin": true,
           "gridcolor": "#EBF0F8",
           "linecolor": "#EBF0F8",
           "ticks": "",
           "title": {
            "standoff": 15
           },
           "zerolinecolor": "#EBF0F8",
           "zerolinewidth": 2
          }
         }
        },
        "title": {
         "text": "Sentiment Trends with 3-Speech Moving Average"
        },
        "xaxis": {
         "title": {
          "text": "Date"
         }
        },
        "yaxis": {
         "title": {
          "text": "Sentiment Score"
         }
        }
       }
      }
     },
     "metadata": {},
     "output_type": "display_data"
    }
   ],
   "source": [
    "# Add chronological date information to sentiment_df\n",
    "month_map = {'Jan': 1, 'Feb': 2, 'Mar': 3, 'Apr': 4, 'May': 5, 'Jun': 6,\n",
    "             'Jul': 7, 'Aug': 8, 'Sep': 9, 'Oct': 10, 'Nov': 11, 'Dec': 12}\n",
    "sentiment_df['month_num'] = sentiment_df['month'].map(month_map)\n",
    "sentiment_df['date'] = pd.to_datetime(sentiment_df['year'] + '-' + \n",
    "                                       sentiment_df['month_num'].astype(str) + '-15')\n",
    "sentiment_df = sentiment_df.sort_values('date')\n",
    "\n",
    "# Create temporal visualization\n",
    "fig = go.Figure()\n",
    "\n",
    "# Add sentiment traces\n",
    "fig.add_trace(go.Scatter(\n",
    "    x=sentiment_df['date'],\n",
    "    y=sentiment_df['positive'],\n",
    "    mode='lines+markers',\n",
    "    name='Positive',\n",
    "    line=dict(color='#2ecc71', width=3),\n",
    "    marker=dict(size=8),\n",
    "    hovertemplate='<b>%{text}</b><br>Positive: %{y:.3f}<extra></extra>',\n",
    "    text=sentiment_df['location']\n",
    "))\n",
    "\n",
    "fig.add_trace(go.Scatter(\n",
    "    x=sentiment_df['date'],\n",
    "    y=sentiment_df['negative'],\n",
    "    mode='lines+markers',\n",
    "    name='Negative',\n",
    "    line=dict(color='#e74c3c', width=3),\n",
    "    marker=dict(size=8),\n",
    "    hovertemplate='<b>%{text}</b><br>Negative: %{y:.3f}<extra></extra>',\n",
    "    text=sentiment_df['location']\n",
    "))\n",
    "\n",
    "fig.add_trace(go.Scatter(\n",
    "    x=sentiment_df['date'],\n",
    "    y=sentiment_df['neutral'],\n",
    "    mode='lines+markers',\n",
    "    name='Neutral',\n",
    "    line=dict(color='#95a5a6', width=3),\n",
    "    marker=dict(size=8),\n",
    "    hovertemplate='<b>%{text}</b><br>Neutral: %{y:.3f}<extra></extra>',\n",
    "    text=sentiment_df['location']\n",
    "))\n",
    "\n",
    "# Add vertical line to separate years using an explicit shape + annotation with Python datetime\n",
    "import datetime\n",
    "vline_dt = datetime.datetime(2020, 1, 1)\n",
    "fig.add_shape(dict(type='line', x0=vline_dt, x1=vline_dt, y0=0, y1=1, xref='x', yref='paper',\n",
    "                   line=dict(dash='dash', color='gray')))\n",
    "fig.add_annotation(dict(x=vline_dt, y=1.02, xref='x', yref='paper', showarrow=False, text='2020 Begins'))\n",
    "\n",
    "fig.update_layout(\n",
    "    title='Sentiment Evolution Over Time (2019-2020)',\n",
    "    xaxis_title='Date',\n",
    "    yaxis_title='Sentiment Score',\n",
    "    height=500,\n",
    "    template='plotly_white',\n",
    "    hovermode='x unified'\n",
    ")\n",
    "\n",
    "fig.show()\n",
    "\n",
    "# Calculate rolling average\n",
    "window = 3\n",
    "sentiment_df['positive_ma'] = sentiment_df['positive'].rolling(window=window, center=True).mean()\n",
    "sentiment_df['negative_ma'] = sentiment_df['negative'].rolling(window=window, center=True).mean()\n",
    "sentiment_df['neutral_ma'] = sentiment_df['neutral'].rolling(window=window, center=True).mean()\n",
    "\n",
    "# Plot with moving average\n",
    "fig2 = go.Figure()\n",
    "\n",
    "# Raw data (lighter)\n",
    "fig2.add_trace(go.Scatter(x=sentiment_df['date'], y=sentiment_df['positive'],\n",
    "                          mode='markers', name='Positive (raw)',\n",
    "                          marker=dict(color='#2ecc71', size=6, opacity=0.3),\n",
    "                          showlegend=True))\n",
    "fig2.add_trace(go.Scatter(x=sentiment_df['date'], y=sentiment_df['negative'],\n",
    "                          mode='markers', name='Negative (raw)',\n",
    "                          marker=dict(color='#e74c3c', size=6, opacity=0.3),\n",
    "                          showlegend=True))\n",
    "\n",
    "# Moving averages (bold)\n",
    "fig2.add_trace(go.Scatter(x=sentiment_df['date'], y=sentiment_df['positive_ma'],\n",
    "                          mode='lines', name=f'Positive ({window}-speech avg)',\n",
    "                          line=dict(color='#2ecc71', width=4)))\n",
    "fig2.add_trace(go.Scatter(x=sentiment_df['date'], y=sentiment_df['negative_ma'],\n",
    "                          mode='lines', name=f'Negative ({window}-speech avg)',\n",
    "                          line=dict(color='#e74c3c', width=4)))\n",
    "\n",
    "# Add the same vertical line to fig2\n",
    "fig2.add_shape(dict(type='line', x0=vline_dt, x1=vline_dt, y0=0, y1=1, xref='x', yref='paper',\n",
    "                    line=dict(dash='dash', color='gray')))\n",
    "fig2.add_annotation(dict(x=vline_dt, y=1.02, xref='x', yref='paper', showarrow=False, text='2020 Begins'))\n",
    "\n",
    "fig2.update_layout(\n",
    "    title=f'Sentiment Trends with {window}-Speech Moving Average',\n",
    "    xaxis_title='Date',\n",
    "    yaxis_title='Sentiment Score',\n",
    "    height=500,\n",
    "    template='plotly_white'\n",
    ")\n",
    "\n",
    "fig2.show()\n"
   ]
  },
  {
   "cell_type": "markdown",
   "id": "e0864966",
   "metadata": {},
   "source": [
    "## Year-over-Year Comparison\n",
    "\n",
    "Comparing sentiment patterns between 2019 and 2020."
   ]
  },
  {
   "cell_type": "code",
   "execution_count": 14,
   "id": "74adf837",
   "metadata": {},
   "outputs": [
    {
     "name": "stdout",
     "output_type": "stream",
     "text": [
      "Year-over-Year Sentiment Statistics:\n",
      "================================================================================\n",
      "     positive                      negative                      neutral  \\\n",
      "         mean    std    min    max     mean    std    min    max    mean   \n",
      "year                                                                       \n",
      "2019    0.250  0.029  0.228  0.338    0.257  0.004  0.248  0.260   0.493   \n",
      "2020    0.242  0.010  0.226  0.267    0.256  0.004  0.247  0.262   0.502   \n",
      "\n",
      "                          speech_idx  \n",
      "        std    min    max      count  \n",
      "year                                  \n",
      "2019  0.026  0.414  0.512         12  \n",
      "2020  0.007  0.486  0.513         23  \n",
      "\n"
     ]
    },
    {
     "data": {
      "application/vnd.plotly.v1+json": {
       "config": {
        "plotlyServerURL": "https://plot.ly"
       },
       "data": [
        {
         "marker": {
          "color": "#2ecc71"
         },
         "name": "2019",
         "showlegend": true,
         "type": "box",
         "xaxis": "x",
         "y": {
          "bdata": "WK91Ps6CdD5sL3M+wdKsPnzWfj4X3og+iZl4PiG5dT6PrGk+1EF7Pmj5bD5WKnI+",
          "dtype": "f4"
         },
         "yaxis": "y"
        },
        {
         "marker": {
          "color": "#e74c3c"
         },
         "name": "2019",
         "showlegend": false,
         "type": "box",
         "xaxis": "x2",
         "y": {
          "bdata": "U92DPs3shD4EIYU+kdZ+PqxHhT50fH0+/wmEPplqgj7E4oQ+D6uEPiJVhT7jxoQ+",
          "dtype": "f4"
         },
         "yaxis": "y2"
        },
        {
         "marker": {
          "color": "#95a5a6"
         },
         "name": "2019",
         "showlegend": false,
         "type": "box",
         "xaxis": "x3",
         "y": {
          "bdata": "gqUAP+ZoAD+jowA/9cHTPhhN+z6sY/g+Pan/PmtcAT96IwM/B7T9PhUXAj/5EQE/",
          "dtype": "f4"
         },
         "yaxis": "y3"
        },
        {
         "marker": {
          "color": "#27ae60"
         },
         "name": "2020",
         "showlegend": true,
         "type": "box",
         "xaxis": "x",
         "y": {
          "bdata": "rGKDPq5vdD5WsHg+e016PsaGgT4mAX8+hehxPvaogT4xMX0+nOOIPux7Zz4GWnQ+r/5uPiP3fz6d/3U+sJB5Pv4wcj6+lG8+eMBzPrtgez4vAGc+aYR5PgArbD4=",
          "dtype": "f4"
         },
         "yaxis": "y"
        },
        {
         "marker": {
          "color": "#c0392b"
         },
         "name": "2020",
         "showlegend": false,
         "type": "box",
         "xaxis": "x2",
         "y": {
          "bdata": "7OqBPtGnhD7KhYQ+z1mCPn6agj782IE+YHaCPsSWgD6K5IA+pN58Pqu1hT5FLYM+HKmFPqWkgD5XWIM+ZbaBPtxygj4zpIQ+FR6EPiJkgT4N4YU+fbSDPvTmhT4=",
          "dtype": "f4"
         },
         "yaxis": "y2"
        },
        {
         "marker": {
          "color": "#7f8c8d"
         },
         "name": "2020",
         "showlegend": false,
         "type": "box",
         "xaxis": "x3",
         "y": {
          "bdata": "Z7L6PiuQAD8KIv8+uj8AP7ve+z5zpv4+sEoCP0jA/T5vQQA/Eq34PjFGAz/cUgE/yGsBP8lf/z7t0wA/oMAAP1I6Aj+4yAE/1wABP791AD9tTwM/T4n/PsUBAj8=",
          "dtype": "f4"
         },
         "yaxis": "y3"
        }
       ],
       "layout": {
        "annotations": [
         {
          "font": {
           "size": 16
          },
          "showarrow": false,
          "text": "Positive Sentiment",
          "x": 0.14444444444444446,
          "xanchor": "center",
          "xref": "paper",
          "y": 1,
          "yanchor": "bottom",
          "yref": "paper"
         },
         {
          "font": {
           "size": 16
          },
          "showarrow": false,
          "text": "Negative Sentiment",
          "x": 0.5,
          "xanchor": "center",
          "xref": "paper",
          "y": 1,
          "yanchor": "bottom",
          "yref": "paper"
         },
         {
          "font": {
           "size": 16
          },
          "showarrow": false,
          "text": "Neutral Sentiment",
          "x": 0.8555555555555556,
          "xanchor": "center",
          "xref": "paper",
          "y": 1,
          "yanchor": "bottom",
          "yref": "paper"
         }
        ],
        "height": 400,
        "showlegend": true,
        "template": {
         "data": {
          "bar": [
           {
            "error_x": {
             "color": "#2a3f5f"
            },
            "error_y": {
             "color": "#2a3f5f"
            },
            "marker": {
             "line": {
              "color": "white",
              "width": 0.5
             },
             "pattern": {
              "fillmode": "overlay",
              "size": 10,
              "solidity": 0.2
             }
            },
            "type": "bar"
           }
          ],
          "barpolar": [
           {
            "marker": {
             "line": {
              "color": "white",
              "width": 0.5
             },
             "pattern": {
              "fillmode": "overlay",
              "size": 10,
              "solidity": 0.2
             }
            },
            "type": "barpolar"
           }
          ],
          "carpet": [
           {
            "aaxis": {
             "endlinecolor": "#2a3f5f",
             "gridcolor": "#C8D4E3",
             "linecolor": "#C8D4E3",
             "minorgridcolor": "#C8D4E3",
             "startlinecolor": "#2a3f5f"
            },
            "baxis": {
             "endlinecolor": "#2a3f5f",
             "gridcolor": "#C8D4E3",
             "linecolor": "#C8D4E3",
             "minorgridcolor": "#C8D4E3",
             "startlinecolor": "#2a3f5f"
            },
            "type": "carpet"
           }
          ],
          "choropleth": [
           {
            "colorbar": {
             "outlinewidth": 0,
             "ticks": ""
            },
            "type": "choropleth"
           }
          ],
          "contour": [
           {
            "colorbar": {
             "outlinewidth": 0,
             "ticks": ""
            },
            "colorscale": [
             [
              0,
              "#0d0887"
             ],
             [
              0.1111111111111111,
              "#46039f"
             ],
             [
              0.2222222222222222,
              "#7201a8"
             ],
             [
              0.3333333333333333,
              "#9c179e"
             ],
             [
              0.4444444444444444,
              "#bd3786"
             ],
             [
              0.5555555555555556,
              "#d8576b"
             ],
             [
              0.6666666666666666,
              "#ed7953"
             ],
             [
              0.7777777777777778,
              "#fb9f3a"
             ],
             [
              0.8888888888888888,
              "#fdca26"
             ],
             [
              1,
              "#f0f921"
             ]
            ],
            "type": "contour"
           }
          ],
          "contourcarpet": [
           {
            "colorbar": {
             "outlinewidth": 0,
             "ticks": ""
            },
            "type": "contourcarpet"
           }
          ],
          "heatmap": [
           {
            "colorbar": {
             "outlinewidth": 0,
             "ticks": ""
            },
            "colorscale": [
             [
              0,
              "#0d0887"
             ],
             [
              0.1111111111111111,
              "#46039f"
             ],
             [
              0.2222222222222222,
              "#7201a8"
             ],
             [
              0.3333333333333333,
              "#9c179e"
             ],
             [
              0.4444444444444444,
              "#bd3786"
             ],
             [
              0.5555555555555556,
              "#d8576b"
             ],
             [
              0.6666666666666666,
              "#ed7953"
             ],
             [
              0.7777777777777778,
              "#fb9f3a"
             ],
             [
              0.8888888888888888,
              "#fdca26"
             ],
             [
              1,
              "#f0f921"
             ]
            ],
            "type": "heatmap"
           }
          ],
          "histogram": [
           {
            "marker": {
             "pattern": {
              "fillmode": "overlay",
              "size": 10,
              "solidity": 0.2
             }
            },
            "type": "histogram"
           }
          ],
          "histogram2d": [
           {
            "colorbar": {
             "outlinewidth": 0,
             "ticks": ""
            },
            "colorscale": [
             [
              0,
              "#0d0887"
             ],
             [
              0.1111111111111111,
              "#46039f"
             ],
             [
              0.2222222222222222,
              "#7201a8"
             ],
             [
              0.3333333333333333,
              "#9c179e"
             ],
             [
              0.4444444444444444,
              "#bd3786"
             ],
             [
              0.5555555555555556,
              "#d8576b"
             ],
             [
              0.6666666666666666,
              "#ed7953"
             ],
             [
              0.7777777777777778,
              "#fb9f3a"
             ],
             [
              0.8888888888888888,
              "#fdca26"
             ],
             [
              1,
              "#f0f921"
             ]
            ],
            "type": "histogram2d"
           }
          ],
          "histogram2dcontour": [
           {
            "colorbar": {
             "outlinewidth": 0,
             "ticks": ""
            },
            "colorscale": [
             [
              0,
              "#0d0887"
             ],
             [
              0.1111111111111111,
              "#46039f"
             ],
             [
              0.2222222222222222,
              "#7201a8"
             ],
             [
              0.3333333333333333,
              "#9c179e"
             ],
             [
              0.4444444444444444,
              "#bd3786"
             ],
             [
              0.5555555555555556,
              "#d8576b"
             ],
             [
              0.6666666666666666,
              "#ed7953"
             ],
             [
              0.7777777777777778,
              "#fb9f3a"
             ],
             [
              0.8888888888888888,
              "#fdca26"
             ],
             [
              1,
              "#f0f921"
             ]
            ],
            "type": "histogram2dcontour"
           }
          ],
          "mesh3d": [
           {
            "colorbar": {
             "outlinewidth": 0,
             "ticks": ""
            },
            "type": "mesh3d"
           }
          ],
          "parcoords": [
           {
            "line": {
             "colorbar": {
              "outlinewidth": 0,
              "ticks": ""
             }
            },
            "type": "parcoords"
           }
          ],
          "pie": [
           {
            "automargin": true,
            "type": "pie"
           }
          ],
          "scatter": [
           {
            "fillpattern": {
             "fillmode": "overlay",
             "size": 10,
             "solidity": 0.2
            },
            "type": "scatter"
           }
          ],
          "scatter3d": [
           {
            "line": {
             "colorbar": {
              "outlinewidth": 0,
              "ticks": ""
             }
            },
            "marker": {
             "colorbar": {
              "outlinewidth": 0,
              "ticks": ""
             }
            },
            "type": "scatter3d"
           }
          ],
          "scattercarpet": [
           {
            "marker": {
             "colorbar": {
              "outlinewidth": 0,
              "ticks": ""
             }
            },
            "type": "scattercarpet"
           }
          ],
          "scattergeo": [
           {
            "marker": {
             "colorbar": {
              "outlinewidth": 0,
              "ticks": ""
             }
            },
            "type": "scattergeo"
           }
          ],
          "scattergl": [
           {
            "marker": {
             "colorbar": {
              "outlinewidth": 0,
              "ticks": ""
             }
            },
            "type": "scattergl"
           }
          ],
          "scattermap": [
           {
            "marker": {
             "colorbar": {
              "outlinewidth": 0,
              "ticks": ""
             }
            },
            "type": "scattermap"
           }
          ],
          "scattermapbox": [
           {
            "marker": {
             "colorbar": {
              "outlinewidth": 0,
              "ticks": ""
             }
            },
            "type": "scattermapbox"
           }
          ],
          "scatterpolar": [
           {
            "marker": {
             "colorbar": {
              "outlinewidth": 0,
              "ticks": ""
             }
            },
            "type": "scatterpolar"
           }
          ],
          "scatterpolargl": [
           {
            "marker": {
             "colorbar": {
              "outlinewidth": 0,
              "ticks": ""
             }
            },
            "type": "scatterpolargl"
           }
          ],
          "scatterternary": [
           {
            "marker": {
             "colorbar": {
              "outlinewidth": 0,
              "ticks": ""
             }
            },
            "type": "scatterternary"
           }
          ],
          "surface": [
           {
            "colorbar": {
             "outlinewidth": 0,
             "ticks": ""
            },
            "colorscale": [
             [
              0,
              "#0d0887"
             ],
             [
              0.1111111111111111,
              "#46039f"
             ],
             [
              0.2222222222222222,
              "#7201a8"
             ],
             [
              0.3333333333333333,
              "#9c179e"
             ],
             [
              0.4444444444444444,
              "#bd3786"
             ],
             [
              0.5555555555555556,
              "#d8576b"
             ],
             [
              0.6666666666666666,
              "#ed7953"
             ],
             [
              0.7777777777777778,
              "#fb9f3a"
             ],
             [
              0.8888888888888888,
              "#fdca26"
             ],
             [
              1,
              "#f0f921"
             ]
            ],
            "type": "surface"
           }
          ],
          "table": [
           {
            "cells": {
             "fill": {
              "color": "#EBF0F8"
             },
             "line": {
              "color": "white"
             }
            },
            "header": {
             "fill": {
              "color": "#C8D4E3"
             },
             "line": {
              "color": "white"
             }
            },
            "type": "table"
           }
          ]
         },
         "layout": {
          "annotationdefaults": {
           "arrowcolor": "#2a3f5f",
           "arrowhead": 0,
           "arrowwidth": 1
          },
          "autotypenumbers": "strict",
          "coloraxis": {
           "colorbar": {
            "outlinewidth": 0,
            "ticks": ""
           }
          },
          "colorscale": {
           "diverging": [
            [
             0,
             "#8e0152"
            ],
            [
             0.1,
             "#c51b7d"
            ],
            [
             0.2,
             "#de77ae"
            ],
            [
             0.3,
             "#f1b6da"
            ],
            [
             0.4,
             "#fde0ef"
            ],
            [
             0.5,
             "#f7f7f7"
            ],
            [
             0.6,
             "#e6f5d0"
            ],
            [
             0.7,
             "#b8e186"
            ],
            [
             0.8,
             "#7fbc41"
            ],
            [
             0.9,
             "#4d9221"
            ],
            [
             1,
             "#276419"
            ]
           ],
           "sequential": [
            [
             0,
             "#0d0887"
            ],
            [
             0.1111111111111111,
             "#46039f"
            ],
            [
             0.2222222222222222,
             "#7201a8"
            ],
            [
             0.3333333333333333,
             "#9c179e"
            ],
            [
             0.4444444444444444,
             "#bd3786"
            ],
            [
             0.5555555555555556,
             "#d8576b"
            ],
            [
             0.6666666666666666,
             "#ed7953"
            ],
            [
             0.7777777777777778,
             "#fb9f3a"
            ],
            [
             0.8888888888888888,
             "#fdca26"
            ],
            [
             1,
             "#f0f921"
            ]
           ],
           "sequentialminus": [
            [
             0,
             "#0d0887"
            ],
            [
             0.1111111111111111,
             "#46039f"
            ],
            [
             0.2222222222222222,
             "#7201a8"
            ],
            [
             0.3333333333333333,
             "#9c179e"
            ],
            [
             0.4444444444444444,
             "#bd3786"
            ],
            [
             0.5555555555555556,
             "#d8576b"
            ],
            [
             0.6666666666666666,
             "#ed7953"
            ],
            [
             0.7777777777777778,
             "#fb9f3a"
            ],
            [
             0.8888888888888888,
             "#fdca26"
            ],
            [
             1,
             "#f0f921"
            ]
           ]
          },
          "colorway": [
           "#636efa",
           "#EF553B",
           "#00cc96",
           "#ab63fa",
           "#FFA15A",
           "#19d3f3",
           "#FF6692",
           "#B6E880",
           "#FF97FF",
           "#FECB52"
          ],
          "font": {
           "color": "#2a3f5f"
          },
          "geo": {
           "bgcolor": "white",
           "lakecolor": "white",
           "landcolor": "white",
           "showlakes": true,
           "showland": true,
           "subunitcolor": "#C8D4E3"
          },
          "hoverlabel": {
           "align": "left"
          },
          "hovermode": "closest",
          "mapbox": {
           "style": "light"
          },
          "paper_bgcolor": "white",
          "plot_bgcolor": "white",
          "polar": {
           "angularaxis": {
            "gridcolor": "#EBF0F8",
            "linecolor": "#EBF0F8",
            "ticks": ""
           },
           "bgcolor": "white",
           "radialaxis": {
            "gridcolor": "#EBF0F8",
            "linecolor": "#EBF0F8",
            "ticks": ""
           }
          },
          "scene": {
           "xaxis": {
            "backgroundcolor": "white",
            "gridcolor": "#DFE8F3",
            "gridwidth": 2,
            "linecolor": "#EBF0F8",
            "showbackground": true,
            "ticks": "",
            "zerolinecolor": "#EBF0F8"
           },
           "yaxis": {
            "backgroundcolor": "white",
            "gridcolor": "#DFE8F3",
            "gridwidth": 2,
            "linecolor": "#EBF0F8",
            "showbackground": true,
            "ticks": "",
            "zerolinecolor": "#EBF0F8"
           },
           "zaxis": {
            "backgroundcolor": "white",
            "gridcolor": "#DFE8F3",
            "gridwidth": 2,
            "linecolor": "#EBF0F8",
            "showbackground": true,
            "ticks": "",
            "zerolinecolor": "#EBF0F8"
           }
          },
          "shapedefaults": {
           "line": {
            "color": "#2a3f5f"
           }
          },
          "ternary": {
           "aaxis": {
            "gridcolor": "#DFE8F3",
            "linecolor": "#A2B1C6",
            "ticks": ""
           },
           "baxis": {
            "gridcolor": "#DFE8F3",
            "linecolor": "#A2B1C6",
            "ticks": ""
           },
           "bgcolor": "white",
           "caxis": {
            "gridcolor": "#DFE8F3",
            "linecolor": "#A2B1C6",
            "ticks": ""
           }
          },
          "title": {
           "x": 0.05
          },
          "xaxis": {
           "automargin": true,
           "gridcolor": "#EBF0F8",
           "linecolor": "#EBF0F8",
           "ticks": "",
           "title": {
            "standoff": 15
           },
           "zerolinecolor": "#EBF0F8",
           "zerolinewidth": 2
          },
          "yaxis": {
           "automargin": true,
           "gridcolor": "#EBF0F8",
           "linecolor": "#EBF0F8",
           "ticks": "",
           "title": {
            "standoff": 15
           },
           "zerolinecolor": "#EBF0F8",
           "zerolinewidth": 2
          }
         }
        },
        "title": {
         "text": "Sentiment Distribution by Year"
        },
        "xaxis": {
         "anchor": "y",
         "domain": [
          0,
          0.2888888888888889
         ]
        },
        "xaxis2": {
         "anchor": "y2",
         "domain": [
          0.35555555555555557,
          0.6444444444444445
         ]
        },
        "xaxis3": {
         "anchor": "y3",
         "domain": [
          0.7111111111111111,
          1
         ]
        },
        "yaxis": {
         "anchor": "x",
         "domain": [
          0,
          1
         ],
         "title": {
          "text": "Sentiment Score"
         }
        },
        "yaxis2": {
         "anchor": "x2",
         "domain": [
          0,
          1
         ],
         "title": {
          "text": "Sentiment Score"
         }
        },
        "yaxis3": {
         "anchor": "x3",
         "domain": [
          0,
          1
         ],
         "title": {
          "text": "Sentiment Score"
         }
        }
       }
      }
     },
     "metadata": {},
     "output_type": "display_data"
    },
    {
     "name": "stdout",
     "output_type": "stream",
     "text": [
      "\n",
      "📊 Key Insights:\n",
      "================================================================================\n",
      "\n",
      "2019:\n",
      "  • Average Positive: 0.250 (±0.029)\n",
      "  • Average Negative: 0.257 (±0.004)\n",
      "  • Average Neutral:  0.493 (±0.026)\n",
      "  • Speeches: 12\n",
      "\n",
      "2020:\n",
      "  • Average Positive: 0.242 (±0.010)\n",
      "  • Average Negative: 0.256 (±0.004)\n",
      "  • Average Neutral:  0.502 (±0.007)\n",
      "  • Speeches: 23\n"
     ]
    }
   ],
   "source": [
    "# Compare sentiment statistics by year\n",
    "year_stats = sentiment_df.groupby('year').agg({\n",
    "    'positive': ['mean', 'std', 'min', 'max'],\n",
    "    'negative': ['mean', 'std', 'min', 'max'],\n",
    "    'neutral': ['mean', 'std', 'min', 'max'],\n",
    "    'speech_idx': 'count'\n",
    "}).round(3)\n",
    "\n",
    "print(\"Year-over-Year Sentiment Statistics:\")\n",
    "print(\"=\"*80)\n",
    "print(year_stats)\n",
    "print()\n",
    "\n",
    "# Create box plots for sentiment distribution by year\n",
    "fig = make_subplots(\n",
    "    rows=1, cols=3,\n",
    "    subplot_titles=('Positive Sentiment', 'Negative Sentiment', 'Neutral Sentiment')\n",
    ")\n",
    "\n",
    "for year in sentiment_df['year'].unique():\n",
    "    year_data = sentiment_df[sentiment_df['year'] == year]\n",
    "    \n",
    "    fig.add_trace(\n",
    "        go.Box(y=year_data['positive'], name=year, showlegend=True,\n",
    "               marker_color='#2ecc71' if year == '2019' else '#27ae60'),\n",
    "        row=1, col=1\n",
    "    )\n",
    "    fig.add_trace(\n",
    "        go.Box(y=year_data['negative'], name=year, showlegend=False,\n",
    "               marker_color='#e74c3c' if year == '2019' else '#c0392b'),\n",
    "        row=1, col=2\n",
    "    )\n",
    "    fig.add_trace(\n",
    "        go.Box(y=year_data['neutral'], name=year, showlegend=False,\n",
    "               marker_color='#95a5a6' if year == '2019' else '#7f8c8d'),\n",
    "        row=1, col=3\n",
    "    )\n",
    "\n",
    "fig.update_layout(\n",
    "    title_text='Sentiment Distribution by Year',\n",
    "    height=400,\n",
    "    template='plotly_white',\n",
    "    showlegend=True\n",
    ")\n",
    "\n",
    "fig.update_yaxes(title_text=\"Sentiment Score\", row=1, col=1)\n",
    "fig.update_yaxes(title_text=\"Sentiment Score\", row=1, col=2)\n",
    "fig.update_yaxes(title_text=\"Sentiment Score\", row=1, col=3)\n",
    "\n",
    "fig.show()\n",
    "\n",
    "# Statistical comparison\n",
    "print(\"\\n📊 Key Insights:\")\n",
    "print(\"=\"*80)\n",
    "for year in sorted(sentiment_df['year'].unique()):\n",
    "    year_data = sentiment_df[sentiment_df['year'] == year]\n",
    "    print(f\"\\n{year}:\")\n",
    "    print(f\"  • Average Positive: {year_data['positive'].mean():.3f} (±{year_data['positive'].std():.3f})\")\n",
    "    print(f\"  • Average Negative: {year_data['negative'].mean():.3f} (±{year_data['negative'].std():.3f})\")\n",
    "    print(f\"  • Average Neutral:  {year_data['neutral'].mean():.3f} (±{year_data['neutral'].std():.3f})\")\n",
    "    print(f\"  • Speeches: {len(year_data)}\")"
   ]
  },
  {
   "cell_type": "markdown",
   "id": "851c8a55",
   "metadata": {},
   "source": [
    "## Summary Statistics and Insights"
   ]
  },
  {
   "cell_type": "code",
   "execution_count": 15,
   "id": "48608a58",
   "metadata": {},
   "outputs": [
    {
     "name": "stdout",
     "output_type": "stream",
     "text": [
      "================================================================================\n",
      "📊 SENTIMENT ANALYSIS SUMMARY\n",
      "================================================================================\n",
      "\n",
      "🎤 Dataset Overview:\n",
      "   Total Speeches Analyzed: 35\n",
      "   Time Period: July 2019 - September 2020\n",
      "   Total Text Chunks Processed: 985\n",
      "   Average Chunks per Speech: 28.1\n",
      "\n",
      "📈 Overall Sentiment Scores:\n",
      "   Positive: 0.245 (±0.019)\n",
      "   Negative: 0.256 (±0.004)\n",
      "   Neutral:  0.499 (±0.016)\n",
      "\n",
      "🎯 Dominant Sentiment Distribution:\n",
      "   neutral: 35 speeches (100.0%)\n",
      "\n",
      "✨ Most Positive Speeches:\n",
      "   • Texas (Sep 2019): 0.338\n",
      "   • Charlotte (Mar 2020): 0.267\n",
      "   • Fayetteville (Sep 2019): 0.267\n",
      "\n",
      "⚠️  Most Negative Speeches:\n",
      "   • Latrobe (Sep 2020): 0.262\n",
      "   • Minden (Sep 2020): 0.261\n",
      "   • Tulsa (Jun 2020): 0.261\n",
      "\n",
      "📊 Sentiment Variation:\n",
      "   Speeches with Most Sentiment Variation:\n",
      "   • Texas (Sep 2019): variance = 0.0035\n",
      "   • New Mexico (Sep 2019): variance = 0.0024\n",
      "   • Charlotte (Mar 2020): variance = 0.0021\n",
      "\n",
      "   Speeches with Most Consistent Sentiment:\n",
      "   • Freeland (Sep 2020): variance = 0.0008\n",
      "   • Pittsburgh (Sep 2020): variance = 0.0006\n",
      "   • Salem (Sep 2020): variance = 0.0006\n",
      "\n",
      "================================================================================\n"
     ]
    }
   ],
   "source": [
    "# Comprehensive summary\n",
    "print(\"=\" * 80)\n",
    "print(\"📊 SENTIMENT ANALYSIS SUMMARY\")\n",
    "print(\"=\" * 80)\n",
    "\n",
    "# Overall statistics\n",
    "print(f\"\\n🎤 Dataset Overview:\")\n",
    "print(f\"   Total Speeches Analyzed: {len(sentiment_df)}\")\n",
    "print(f\"   Time Period: {sentiment_df['date'].min().strftime('%B %Y')} - {sentiment_df['date'].max().strftime('%B %Y')}\")\n",
    "print(f\"   Total Text Chunks Processed: {sentiment_df['num_chunks'].sum():,}\")\n",
    "print(f\"   Average Chunks per Speech: {sentiment_df['num_chunks'].mean():.1f}\")\n",
    "\n",
    "# Overall sentiment averages\n",
    "print(f\"\\n📈 Overall Sentiment Scores:\")\n",
    "print(f\"   Positive: {sentiment_df['positive'].mean():.3f} (±{sentiment_df['positive'].std():.3f})\")\n",
    "print(f\"   Negative: {sentiment_df['negative'].mean():.3f} (±{sentiment_df['negative'].std():.3f})\")\n",
    "print(f\"   Neutral:  {sentiment_df['neutral'].mean():.3f} (±{sentiment_df['neutral'].std():.3f})\")\n",
    "\n",
    "# Dominant sentiment\n",
    "dominant_counts = sentiment_df['dominant_sentiment'].value_counts()\n",
    "print(f\"\\n🎯 Dominant Sentiment Distribution:\")\n",
    "for sentiment, count in dominant_counts.items():\n",
    "    percentage = (count / len(sentiment_df)) * 100\n",
    "    print(f\"   {sentiment}: {count} speeches ({percentage:.1f}%)\")\n",
    "\n",
    "# Most/least positive speeches\n",
    "most_positive = sentiment_df.nlargest(3, 'positive')\n",
    "most_negative = sentiment_df.nlargest(3, 'negative')\n",
    "\n",
    "print(f\"\\n✨ Most Positive Speeches:\")\n",
    "for _, row in most_positive.iterrows():\n",
    "    print(f\"   • {row['location']} ({row['month']} {row['year']}): {row['positive']:.3f}\")\n",
    "\n",
    "print(f\"\\n⚠️  Most Negative Speeches:\")\n",
    "for _, row in most_negative.iterrows():\n",
    "    print(f\"   • {row['location']} ({row['month']} {row['year']}): {row['negative']:.3f}\")\n",
    "\n",
    "# Sentiment volatility (speeches with high variance in chunks)\n",
    "print(f\"\\n📊 Sentiment Variation:\")\n",
    "chunk_variances = []\n",
    "for result in sentiment_results:\n",
    "    chunks = result['chunk_predictions']\n",
    "    variance = np.var(chunks, axis=0).mean()\n",
    "    chunk_variances.append((result['location'], result['month'], result['year'], variance))\n",
    "\n",
    "chunk_variances.sort(key=lambda x: x[3], reverse=True)\n",
    "print(f\"   Speeches with Most Sentiment Variation:\")\n",
    "for location, month, year, var in chunk_variances[:3]:\n",
    "    print(f\"   • {location} ({month} {year}): variance = {var:.4f}\")\n",
    "\n",
    "print(f\"\\n   Speeches with Most Consistent Sentiment:\")\n",
    "for location, month, year, var in chunk_variances[-3:]:\n",
    "    print(f\"   • {location} ({month} {year}): variance = {var:.4f}\")\n",
    "\n",
    "print(\"\\n\" + \"=\" * 80)"
   ]
  },
  {
   "cell_type": "markdown",
   "id": "e67e1749",
   "metadata": {},
   "source": [
    "## Save Results to DataFrame\n",
    "\n",
    "Adding sentiment scores to the original dataset for further analysis."
   ]
  },
  {
   "cell_type": "code",
   "execution_count": 16,
   "id": "d4f3ff23",
   "metadata": {},
   "outputs": [
    {
     "name": "stdout",
     "output_type": "stream",
     "text": [
      "Stored 'DT_rally_speeches_with_sentiment' (DataFrame)\n",
      "✅ Sentiment scores added to DataFrame!\n",
      "\n",
      "New columns: sentiment_positive, sentiment_negative, sentiment_neutral, dominant_sentiment\n",
      "\n",
      "DataFrame shape: (35, 12)\n",
      "\n",
      "📁 Dataset stored as 'DT_rally_speeches_with_sentiment' for use in other notebooks\n"
     ]
    },
    {
     "data": {
      "text/html": [
       "<div>\n",
       "<style scoped>\n",
       "    .dataframe tbody tr th:only-of-type {\n",
       "        vertical-align: middle;\n",
       "    }\n",
       "\n",
       "    .dataframe tbody tr th {\n",
       "        vertical-align: top;\n",
       "    }\n",
       "\n",
       "    .dataframe thead th {\n",
       "        text-align: right;\n",
       "    }\n",
       "</style>\n",
       "<table border=\"1\" class=\"dataframe\">\n",
       "  <thead>\n",
       "    <tr style=\"text-align: right;\">\n",
       "      <th></th>\n",
       "      <th>Location</th>\n",
       "      <th>Month</th>\n",
       "      <th>Year</th>\n",
       "      <th>sentiment_positive</th>\n",
       "      <th>sentiment_negative</th>\n",
       "      <th>sentiment_neutral</th>\n",
       "      <th>dominant_sentiment</th>\n",
       "    </tr>\n",
       "  </thead>\n",
       "  <tbody>\n",
       "    <tr>\n",
       "      <th>0</th>\n",
       "      <td>Greenville</td>\n",
       "      <td>Jul</td>\n",
       "      <td>2019</td>\n",
       "      <td>0.239927</td>\n",
       "      <td>0.257548</td>\n",
       "      <td>0.502525</td>\n",
       "      <td>neutral</td>\n",
       "    </tr>\n",
       "    <tr>\n",
       "      <th>1</th>\n",
       "      <td>Cincinnati</td>\n",
       "      <td>Aug</td>\n",
       "      <td>2019</td>\n",
       "      <td>0.238780</td>\n",
       "      <td>0.259619</td>\n",
       "      <td>0.501601</td>\n",
       "      <td>neutral</td>\n",
       "    </tr>\n",
       "    <tr>\n",
       "      <th>2</th>\n",
       "      <td>New Hampshire</td>\n",
       "      <td>Aug</td>\n",
       "      <td>2019</td>\n",
       "      <td>0.237486</td>\n",
       "      <td>0.260018</td>\n",
       "      <td>0.502497</td>\n",
       "      <td>neutral</td>\n",
       "    </tr>\n",
       "    <tr>\n",
       "      <th>3</th>\n",
       "      <td>Texas</td>\n",
       "      <td>Sep</td>\n",
       "      <td>2019</td>\n",
       "      <td>0.337545</td>\n",
       "      <td>0.248865</td>\n",
       "      <td>0.413589</td>\n",
       "      <td>neutral</td>\n",
       "    </tr>\n",
       "    <tr>\n",
       "      <th>4</th>\n",
       "      <td>New Mexico</td>\n",
       "      <td>Sep</td>\n",
       "      <td>2019</td>\n",
       "      <td>0.248865</td>\n",
       "      <td>0.260312</td>\n",
       "      <td>0.490823</td>\n",
       "      <td>neutral</td>\n",
       "    </tr>\n",
       "    <tr>\n",
       "      <th>5</th>\n",
       "      <td>Fayetteville</td>\n",
       "      <td>Sep</td>\n",
       "      <td>2019</td>\n",
       "      <td>0.267319</td>\n",
       "      <td>0.247545</td>\n",
       "      <td>0.485135</td>\n",
       "      <td>neutral</td>\n",
       "    </tr>\n",
       "    <tr>\n",
       "      <th>6</th>\n",
       "      <td>Dallas</td>\n",
       "      <td>Oct</td>\n",
       "      <td>2019</td>\n",
       "      <td>0.242773</td>\n",
       "      <td>0.257889</td>\n",
       "      <td>0.499338</td>\n",
       "      <td>neutral</td>\n",
       "    </tr>\n",
       "    <tr>\n",
       "      <th>7</th>\n",
       "      <td>Minneapolis</td>\n",
       "      <td>Oct</td>\n",
       "      <td>2019</td>\n",
       "      <td>0.239964</td>\n",
       "      <td>0.254720</td>\n",
       "      <td>0.505316</td>\n",
       "      <td>neutral</td>\n",
       "    </tr>\n",
       "    <tr>\n",
       "      <th>8</th>\n",
       "      <td>Tupelo</td>\n",
       "      <td>Nov</td>\n",
       "      <td>2019</td>\n",
       "      <td>0.228197</td>\n",
       "      <td>0.259543</td>\n",
       "      <td>0.512260</td>\n",
       "      <td>neutral</td>\n",
       "    </tr>\n",
       "    <tr>\n",
       "      <th>9</th>\n",
       "      <td>Lexington</td>\n",
       "      <td>Nov</td>\n",
       "      <td>2019</td>\n",
       "      <td>0.245368</td>\n",
       "      <td>0.259118</td>\n",
       "      <td>0.495514</td>\n",
       "      <td>neutral</td>\n",
       "    </tr>\n",
       "  </tbody>\n",
       "</table>\n",
       "</div>"
      ],
      "text/plain": [
       "        Location Month  Year  sentiment_positive  sentiment_negative  \\\n",
       "0     Greenville   Jul  2019            0.239927            0.257548   \n",
       "1     Cincinnati   Aug  2019            0.238780            0.259619   \n",
       "2  New Hampshire   Aug  2019            0.237486            0.260018   \n",
       "3          Texas   Sep  2019            0.337545            0.248865   \n",
       "4     New Mexico   Sep  2019            0.248865            0.260312   \n",
       "5   Fayetteville   Sep  2019            0.267319            0.247545   \n",
       "6         Dallas   Oct  2019            0.242773            0.257889   \n",
       "7    Minneapolis   Oct  2019            0.239964            0.254720   \n",
       "8         Tupelo   Nov  2019            0.228197            0.259543   \n",
       "9      Lexington   Nov  2019            0.245368            0.259118   \n",
       "\n",
       "   sentiment_neutral dominant_sentiment  \n",
       "0           0.502525            neutral  \n",
       "1           0.501601            neutral  \n",
       "2           0.502497            neutral  \n",
       "3           0.413589            neutral  \n",
       "4           0.490823            neutral  \n",
       "5           0.485135            neutral  \n",
       "6           0.499338            neutral  \n",
       "7           0.505316            neutral  \n",
       "8           0.512260            neutral  \n",
       "9           0.495514            neutral  "
      ]
     },
     "execution_count": 16,
     "metadata": {},
     "output_type": "execute_result"
    }
   ],
   "source": [
    "# Merge sentiment scores back into original DataFrame\n",
    "df_with_sentiment = df.copy()\n",
    "df_with_sentiment['sentiment_positive'] = sentiment_df['positive'].values\n",
    "df_with_sentiment['sentiment_negative'] = sentiment_df['negative'].values\n",
    "df_with_sentiment['sentiment_neutral'] = sentiment_df['neutral'].values\n",
    "df_with_sentiment['dominant_sentiment'] = sentiment_df['dominant_sentiment'].values\n",
    "\n",
    "# Store the enhanced dataset\n",
    "DT_rally_speeches_with_sentiment = df_with_sentiment\n",
    "%store DT_rally_speeches_with_sentiment\n",
    "\n",
    "print(\"✅ Sentiment scores added to DataFrame!\")\n",
    "print(f\"\\nNew columns: sentiment_positive, sentiment_negative, sentiment_neutral, dominant_sentiment\")\n",
    "print(f\"\\nDataFrame shape: {df_with_sentiment.shape}\")\n",
    "print(\"\\n📁 Dataset stored as 'DT_rally_speeches_with_sentiment' for use in other notebooks\")\n",
    "\n",
    "# Display sample\n",
    "df_with_sentiment[['Location', 'Month', 'Year', 'sentiment_positive', \n",
    "                    'sentiment_negative', 'sentiment_neutral', 'dominant_sentiment']].head(10)"
   ]
  }
 ],
 "metadata": {
  "kernelspec": {
   "display_name": "dt-rally-speeches-nlp-jcnckEk--py3.13",
   "language": "python",
   "name": "python3"
  },
  "language_info": {
   "codemirror_mode": {
    "name": "ipython",
    "version": 3
   },
   "file_extension": ".py",
   "mimetype": "text/x-python",
   "name": "python",
   "nbconvert_exporter": "python",
   "pygments_lexer": "ipython3",
   "version": "3.13.3"
  }
 },
 "nbformat": 4,
 "nbformat_minor": 5
}
