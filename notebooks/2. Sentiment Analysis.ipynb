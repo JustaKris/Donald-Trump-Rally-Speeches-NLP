{
 "cells": [
  {
   "cell_type": "markdown",
   "id": "718aa2a7",
   "metadata": {},
   "source": [
    "# Sentiment Analysis of Donald Trump Rally Speeches\n",
    "\n",
    "This notebook performs comprehensive sentiment analysis on Donald Trump's rally speeches from 2019-2020 using **FinBERT**, a BERT model fine-tuned for financial sentiment analysis. While originally designed for financial text, FinBERT's sentiment classification (positive, negative, neutral) works well for political speech analysis.\n",
    "\n",
    "## Analysis Overview\n",
    "- **Model**: ProsusAI/finbert - Pre-trained BERT for sentiment classification\n",
    "- **Approach**: Chunk long speeches into manageable segments for BERT processing\n",
    "- **Output**: Sentiment scores (positive, negative, neutral) for each speech\n",
    "- **Insights**: Temporal trends, location-based patterns, and aggregate sentiment metrics"
   ]
  },
  {
   "cell_type": "markdown",
   "id": "c2da79cf",
   "metadata": {},
   "source": [
    "## Import Libraries\n",
    "\n",
    "Loading required libraries for deep learning, NLP, and visualization."
   ]
  },
  {
   "cell_type": "code",
   "execution_count": 1,
   "id": "6af38e03",
   "metadata": {},
   "outputs": [
    {
     "name": "stdout",
     "output_type": "stream",
     "text": [
      "✅ Libraries loaded successfully\n",
      "TensorFlow version: 2.20.0\n",
      "GPU Available: False\n"
     ]
    }
   ],
   "source": [
    "# Suppress warnings for cleaner output\n",
    "import warnings\n",
    "import os\n",
    "warnings.filterwarnings('ignore')\n",
    "os.environ['TF_CPP_MIN_LOG_LEVEL'] = '2'  # Suppress TensorFlow warnings\n",
    "os.environ['HF_HUB_DISABLE_SYMLINKS_WARNING'] = '1'  # Disable symlink warnings\n",
    "\n",
    "import numpy as np\n",
    "import pandas as pd\n",
    "import matplotlib.pyplot as plt\n",
    "import seaborn as sns\n",
    "\n",
    "import plotly.graph_objects as go\n",
    "import plotly.express as px\n",
    "from plotly.subplots import make_subplots\n",
    "\n",
    "import math\n",
    "import tensorflow as tf\n",
    "from tqdm.notebook import tqdm\n",
    "from typing import List, Tuple, Dict\n",
    "\n",
    "# Configure TensorFlow logging\n",
    "import logging\n",
    "logging.getLogger('tensorflow').setLevel(logging.ERROR)\n",
    "\n",
    "from transformers import pipeline, AutoTokenizer, TFBertForSequenceClassification\n",
    "from scipy.special import softmax\n",
    "from tensorflow.python.ops.numpy_ops import np_config\n",
    "\n",
    "# Enable NumPy behavior for TensorFlow\n",
    "np_config.enable_numpy_behavior()\n",
    "\n",
    "# Set visualization styles\n",
    "sns.set_style(\"whitegrid\")\n",
    "plt.rcParams['figure.dpi'] = 100\n",
    "\n",
    "print(f\"✅ Libraries loaded successfully\")\n",
    "print(f\"TensorFlow version: {tf.__version__}\")\n",
    "print(f\"GPU Available: {len(tf.config.list_physical_devices('GPU')) > 0}\")"
   ]
  },
  {
   "cell_type": "markdown",
   "id": "26318174",
   "metadata": {},
   "source": [
    "## Loading and overview of stored dataset"
   ]
  },
  {
   "cell_type": "code",
   "execution_count": 2,
   "id": "05de699d",
   "metadata": {},
   "outputs": [
    {
     "name": "stdout",
     "output_type": "stream",
     "text": [
      "Loaded 35 speeches\n",
      "Date range: Jul 2019 - Sep 2020\n"
     ]
    }
   ],
   "source": [
    "# Load the dataset prepared in Word Clouds notebook\n",
    "%store -r DT_rally_speaches_dataset\n",
    "df = DT_rally_speaches_dataset.copy()\n",
    "\n",
    "print(f\"Loaded {len(df)} speeches\")\n",
    "print(f\"Date range: {df['Month'].iloc[0]} {df['Year'].iloc[0]} - {df['Month'].iloc[-1]} {df['Year'].iloc[-1]}\")"
   ]
  },
  {
   "cell_type": "code",
   "execution_count": 3,
   "id": "2c9cab8c",
   "metadata": {},
   "outputs": [
    {
     "data": {
      "text/html": [
       "<div>\n",
       "<style scoped>\n",
       "    .dataframe tbody tr th:only-of-type {\n",
       "        vertical-align: middle;\n",
       "    }\n",
       "\n",
       "    .dataframe tbody tr th {\n",
       "        vertical-align: top;\n",
       "    }\n",
       "\n",
       "    .dataframe thead th {\n",
       "        text-align: right;\n",
       "    }\n",
       "</style>\n",
       "<table border=\"1\" class=\"dataframe\">\n",
       "  <thead>\n",
       "    <tr style=\"text-align: right;\">\n",
       "      <th></th>\n",
       "      <th>Location</th>\n",
       "      <th>Month</th>\n",
       "      <th>Year</th>\n",
       "      <th>filename</th>\n",
       "      <th>content</th>\n",
       "      <th>Month_Num</th>\n",
       "      <th>Date</th>\n",
       "      <th>word_count</th>\n",
       "    </tr>\n",
       "  </thead>\n",
       "  <tbody>\n",
       "    <tr>\n",
       "      <th>0</th>\n",
       "      <td>Greenville</td>\n",
       "      <td>Jul</td>\n",
       "      <td>2019</td>\n",
       "      <td>GreenvilleJul17_2019.txt</td>\n",
       "      <td>Thank you very much. Thank you. Thank you. Tha...</td>\n",
       "      <td>7</td>\n",
       "      <td>2019-07-15</td>\n",
       "      <td>10605</td>\n",
       "    </tr>\n",
       "    <tr>\n",
       "      <th>1</th>\n",
       "      <td>Cincinnati</td>\n",
       "      <td>Aug</td>\n",
       "      <td>2019</td>\n",
       "      <td>CincinnatiAug1_2019.txt</td>\n",
       "      <td>Thank you all. Thank you very much. Thank you ...</td>\n",
       "      <td>8</td>\n",
       "      <td>2019-08-15</td>\n",
       "      <td>8170</td>\n",
       "    </tr>\n",
       "    <tr>\n",
       "      <th>2</th>\n",
       "      <td>New Hampshire</td>\n",
       "      <td>Aug</td>\n",
       "      <td>2019</td>\n",
       "      <td>NewHampshireAug15_2019.txt</td>\n",
       "      <td>Thank you very much everybody. Thank you. Wow...</td>\n",
       "      <td>8</td>\n",
       "      <td>2019-08-15</td>\n",
       "      <td>10141</td>\n",
       "    </tr>\n",
       "    <tr>\n",
       "      <th>3</th>\n",
       "      <td>Texas</td>\n",
       "      <td>Sep</td>\n",
       "      <td>2019</td>\n",
       "      <td>TexasSep23_2019.txt</td>\n",
       "      <td>Hello, Houston. I am so thrilled to be here in...</td>\n",
       "      <td>9</td>\n",
       "      <td>2019-09-15</td>\n",
       "      <td>2487</td>\n",
       "    </tr>\n",
       "    <tr>\n",
       "      <th>4</th>\n",
       "      <td>New Mexico</td>\n",
       "      <td>Sep</td>\n",
       "      <td>2019</td>\n",
       "      <td>NewMexicoSep16_2019.txt</td>\n",
       "      <td>Wow, thank you. Thank you, New Mexico. Thank ...</td>\n",
       "      <td>9</td>\n",
       "      <td>2019-09-15</td>\n",
       "      <td>11498</td>\n",
       "    </tr>\n",
       "  </tbody>\n",
       "</table>\n",
       "</div>"
      ],
      "text/plain": [
       "        Location Month  Year                    filename  \\\n",
       "0     Greenville   Jul  2019    GreenvilleJul17_2019.txt   \n",
       "1     Cincinnati   Aug  2019     CincinnatiAug1_2019.txt   \n",
       "2  New Hampshire   Aug  2019  NewHampshireAug15_2019.txt   \n",
       "3          Texas   Sep  2019         TexasSep23_2019.txt   \n",
       "4     New Mexico   Sep  2019     NewMexicoSep16_2019.txt   \n",
       "\n",
       "                                             content  Month_Num       Date  \\\n",
       "0  Thank you very much. Thank you. Thank you. Tha...          7 2019-07-15   \n",
       "1  Thank you all. Thank you very much. Thank you ...          8 2019-08-15   \n",
       "2   Thank you very much everybody. Thank you. Wow...          8 2019-08-15   \n",
       "3  Hello, Houston. I am so thrilled to be here in...          9 2019-09-15   \n",
       "4   Wow, thank you. Thank you, New Mexico. Thank ...          9 2019-09-15   \n",
       "\n",
       "   word_count  \n",
       "0       10605  \n",
       "1        8170  \n",
       "2       10141  \n",
       "3        2487  \n",
       "4       11498  "
      ]
     },
     "execution_count": 3,
     "metadata": {},
     "output_type": "execute_result"
    }
   ],
   "source": [
    "df.head()"
   ]
  },
  {
   "cell_type": "markdown",
   "id": "490e8d61",
   "metadata": {},
   "source": [
    "## Model and tokenizer setup"
   ]
  },
  {
   "cell_type": "markdown",
   "id": "a21e00d2",
   "metadata": {},
   "source": [
    "We're using **FinBERT** (ProsusAI/finbert), a BERT model fine-tuned for sentiment analysis. It classifies text into three categories:\n",
    "- **Positive**: Optimistic, confident language\n",
    "- **Negative**: Critical, pessimistic language  \n",
    "- **Neutral**: Factual, balanced statements\n",
    "\n",
    "**Note**: The model download may take a few minutes on first run. Progress bars and some warnings are normal during model loading."
   ]
  },
  {
   "cell_type": "code",
   "execution_count": 4,
   "id": "8371855d",
   "metadata": {},
   "outputs": [
    {
     "name": "stdout",
     "output_type": "stream",
     "text": [
      "🔄 Loading FinBERT model and tokenizer...\n",
      "   (This may take a few moments on first run)\n",
      "\n",
      "✅ Model loaded successfully!\n",
      "\n",
      "📋 Model Configuration:\n",
      "   Model: ProsusAI/finbert\n",
      "   Labels: {0: 'positive', 1: 'negative', 2: 'neutral'}\n",
      "   Max sequence length: 512 tokens\n"
     ]
    }
   ],
   "source": [
    "# Load FinBERT model and tokenizer\n",
    "MODEL_CHECKPOINT = 'ProsusAI/finbert'\n",
    "\n",
    "print(\"🔄 Loading FinBERT model and tokenizer...\")\n",
    "print(\"   (This may take a few moments on first run)\\n\")\n",
    "\n",
    "# Suppress transformers warnings temporarily during model loading\n",
    "import transformers\n",
    "transformers.logging.set_verbosity_error()\n",
    "\n",
    "try:\n",
    "    tokenizer = AutoTokenizer.from_pretrained(MODEL_CHECKPOINT)\n",
    "    model = TFBertForSequenceClassification.from_pretrained(MODEL_CHECKPOINT)\n",
    "    \n",
    "    # Display model configuration\n",
    "    print(f\"✅ Model loaded successfully!\")\n",
    "    print(f\"\\n📋 Model Configuration:\")\n",
    "    print(f\"   Model: {MODEL_CHECKPOINT}\")\n",
    "    print(f\"   Labels: {model.config.id2label}\")\n",
    "    print(f\"   Max sequence length: {tokenizer.model_max_length} tokens\")\n",
    "    \n",
    "except Exception as e:\n",
    "    print(f\"❌ Error loading model: {e}\")\n",
    "    print(\"💡 Tip: Check your internet connection or try re-running the cell\")\n",
    "    raise\n",
    "\n",
    "# Restore normal logging for rest of notebook\n",
    "transformers.logging.set_verbosity_warning()"
   ]
  },
  {
   "cell_type": "markdown",
   "id": "46e799cf",
   "metadata": {},
   "source": [
    "## Text Processing Functions\n",
    "\n",
    "BERT models have a maximum sequence length (512 tokens). We need to split long speeches into manageable chunks."
   ]
  },
  {
   "cell_type": "code",
   "execution_count": 5,
   "id": "e9f9d596",
   "metadata": {},
   "outputs": [],
   "source": [
    "def chunk_text_for_bert(text: str, tokenizer, max_length: int = 510) -> List[Dict]:\n",
    "    \"\"\"\n",
    "    Split text into chunks that fit within BERT's token limits.\n",
    "    \n",
    "    Parameters:\n",
    "        text: Input text to chunk\n",
    "        tokenizer: HuggingFace tokenizer\n",
    "        max_length: Maximum tokens per chunk (510 to leave room for [CLS] and [SEP])\n",
    "        \n",
    "    Returns:\n",
    "        List of encoded chunks ready for model input\n",
    "    \"\"\"\n",
    "    # Tokenize the full text\n",
    "    tokens = tokenizer.tokenize(text)\n",
    "    \n",
    "    # Split into chunks\n",
    "    chunks = []\n",
    "    for i in range(0, len(tokens), max_length):\n",
    "        chunk_tokens = tokens[i:i + max_length]\n",
    "        chunk_text = tokenizer.convert_tokens_to_string(chunk_tokens)\n",
    "        \n",
    "        # Encode with special tokens\n",
    "        encoding = tokenizer.encode_plus(\n",
    "            chunk_text,\n",
    "            add_special_tokens=True,\n",
    "            max_length=max_length + 2,  # +2 for [CLS] and [SEP]\n",
    "            padding='max_length',\n",
    "            truncation=True,\n",
    "            return_tensors='tf'\n",
    "        )\n",
    "        chunks.append(encoding)\n",
    "    \n",
    "    return chunks\n",
    "\n",
    "\n",
    "def analyze_sentiment(chunks: List[Dict], model) -> Tuple[np.ndarray, np.ndarray]:\n",
    "    \"\"\"\n",
    "    Run sentiment analysis on text chunks.\n",
    "    \n",
    "    Parameters:\n",
    "        chunks: List of encoded text chunks\n",
    "        model: Loaded sentiment analysis model\n",
    "        \n",
    "    Returns:\n",
    "        Tuple of (all_predictions, mean_sentiment) as numpy arrays\n",
    "    \"\"\"\n",
    "    all_predictions = []\n",
    "    \n",
    "    for chunk in chunks:\n",
    "        # Get model predictions\n",
    "        outputs = model(chunk)\n",
    "        \n",
    "        # Convert logits to probabilities\n",
    "        probs = tf.nn.softmax(outputs.logits, axis=-1)\n",
    "        all_predictions.append(probs.numpy())\n",
    "    \n",
    "    # Stack all predictions\n",
    "    all_predictions = np.vstack(all_predictions)\n",
    "    \n",
    "    # Calculate mean sentiment across all chunks\n",
    "    mean_sentiment = np.mean(all_predictions, axis=0)\n",
    "    \n",
    "    return all_predictions, mean_sentiment"
   ]
  },
  {
   "cell_type": "code",
   "execution_count": 6,
   "id": "aad9b431",
   "metadata": {},
   "outputs": [
    {
     "name": "stdout",
     "output_type": "stream",
     "text": [
      "🔄 Processing all speeches for sentiment analysis...\n",
      "\n"
     ]
    },
    {
     "data": {
      "application/vnd.jupyter.widget-view+json": {
       "model_id": "022c164e44134373b0f38f510d8e4972",
       "version_major": 2,
       "version_minor": 0
      },
      "text/plain": [
       "Analyzing speeches:   0%|          | 0/35 [00:00<?, ?it/s]"
      ]
     },
     "metadata": {},
     "output_type": "display_data"
    },
    {
     "name": "stderr",
     "output_type": "stream",
     "text": [
      "Token indices sequence length is longer than the specified maximum sequence length for this model (14239 > 512). Running this sequence through the model will result in indexing errors\n"
     ]
    },
    {
     "name": "stdout",
     "output_type": "stream",
     "text": [
      "\n",
      "✅ Successfully analyzed 35 speeches!\n"
     ]
    }
   ],
   "source": [
    "# Process all speeches with progress tracking\n",
    "print(\"🔄 Processing all speeches for sentiment analysis...\\n\")\n",
    "\n",
    "sentiment_results = []\n",
    "\n",
    "for idx, row in tqdm(df.iterrows(), total=len(df), desc=\"Analyzing speeches\"):\n",
    "    try:\n",
    "        # Chunk the speech text\n",
    "        chunks = chunk_text_for_bert(row['content'], tokenizer, max_length=510)\n",
    "        \n",
    "        # Analyze sentiment\n",
    "        chunk_predictions, mean_sentiment = analyze_sentiment(chunks, model)\n",
    "        \n",
    "        # Store results\n",
    "        sentiment_results.append({\n",
    "            'speech_idx': idx,\n",
    "            'location': row['Location'],\n",
    "            'month': row['Month'],\n",
    "            'year': row['Year'],\n",
    "            'num_chunks': len(chunks),\n",
    "            'positive': mean_sentiment[0],\n",
    "            'negative': mean_sentiment[1],\n",
    "            'neutral': mean_sentiment[2],\n",
    "            'chunk_predictions': chunk_predictions,\n",
    "            'dominant_sentiment': model.config.id2label[np.argmax(mean_sentiment)]\n",
    "        })\n",
    "        \n",
    "    except Exception as e:\n",
    "        print(f\"\\n⚠️  Error processing speech {idx} ({row['Location']}): {e}\")\n",
    "        continue\n",
    "\n",
    "print(f\"\\n✅ Successfully analyzed {len(sentiment_results)} speeches!\")\n",
    "\n",
    "# Create results DataFrame\n",
    "sentiment_df = pd.DataFrame([{k: v for k, v in r.items() if k != 'chunk_predictions'} \n",
    "                              for r in sentiment_results])"
   ]
  },
  {
   "cell_type": "markdown",
   "id": "bea136f6",
   "metadata": {},
   "source": [
    "## Sentiment Analysis Results\n",
    "\n",
    "Let's examine the sentiment scores for each speech."
   ]
  },
  {
   "cell_type": "code",
   "execution_count": 7,
   "id": "379de42f",
   "metadata": {},
   "outputs": [
    {
     "name": "stdout",
     "output_type": "stream",
     "text": [
      "Sentiment Scores by Speech:\n",
      "\n",
      "================================================================================\n",
      "Greenville.................... (Jul 2019)\n",
      "   Positive: 0.572 | Negative: 0.274 | Neutral: 0.153\n",
      "   Dominant: positive | Chunks: 28\n",
      "\n",
      "Cincinnati.................... (Aug 2019)\n",
      "   Positive: 0.565 | Negative: 0.279 | Neutral: 0.156\n",
      "   Dominant: positive | Chunks: 21\n",
      "\n",
      "New Hampshire................. (Aug 2019)\n",
      "   Positive: 0.567 | Negative: 0.277 | Neutral: 0.155\n",
      "   Dominant: positive | Chunks: 26\n",
      "\n",
      "Texas......................... (Sep 2019)\n",
      "   Positive: 0.426 | Negative: 0.324 | Neutral: 0.250\n",
      "   Dominant: positive | Chunks: 6\n",
      "\n",
      "New Mexico.................... (Sep 2019)\n",
      "   Positive: 0.551 | Negative: 0.283 | Neutral: 0.166\n",
      "   Dominant: positive | Chunks: 31\n",
      "\n",
      "Fayetteville.................. (Sep 2019)\n",
      "   Positive: 0.541 | Negative: 0.289 | Neutral: 0.170\n",
      "   Dominant: positive | Chunks: 24\n",
      "\n",
      "Dallas........................ (Oct 2019)\n",
      "   Positive: 0.560 | Negative: 0.282 | Neutral: 0.159\n",
      "   Dominant: positive | Chunks: 28\n",
      "\n",
      "Minneapolis................... (Oct 2019)\n",
      "   Positive: 0.576 | Negative: 0.274 | Neutral: 0.150\n",
      "   Dominant: positive | Chunks: 31\n",
      "\n",
      "Tupelo........................ (Nov 2019)\n",
      "   Positive: 0.577 | Negative: 0.270 | Neutral: 0.153\n",
      "   Dominant: positive | Chunks: 25\n",
      "\n",
      "Lexington..................... (Nov 2019)\n",
      "   Positive: 0.566 | Negative: 0.275 | Neutral: 0.158\n",
      "   Dominant: positive | Chunks: 24\n",
      "\n",
      "Battle Creek.................. (Dec 2019)\n",
      "   Positive: 0.580 | Negative: 0.271 | Neutral: 0.149\n",
      "   Dominant: positive | Chunks: 48\n",
      "\n",
      "Hershey....................... (Dec 2019)\n",
      "   Positive: 0.580 | Negative: 0.269 | Neutral: 0.151\n",
      "   Dominant: positive | Chunks: 26\n",
      "\n",
      "Wildwood...................... (Jan 2020)\n",
      "   Positive: 0.551 | Negative: 0.287 | Neutral: 0.162\n",
      "   Dominant: positive | Chunks: 18\n",
      "\n",
      "Toledo........................ (Jan 2020)\n",
      "   Positive: 0.567 | Negative: 0.279 | Neutral: 0.154\n",
      "   Dominant: positive | Chunks: 29\n",
      "\n",
      "Milwaukee..................... (Jan 2020)\n",
      "   Positive: 0.568 | Negative: 0.277 | Neutral: 0.155\n",
      "   Dominant: positive | Chunks: 25\n",
      "\n",
      "Des Moines.................... (Jan 2020)\n",
      "   Positive: 0.568 | Negative: 0.278 | Neutral: 0.154\n",
      "   Dominant: positive | Chunks: 31\n",
      "\n",
      "Charleston.................... (Feb 2020)\n",
      "   Positive: 0.565 | Negative: 0.278 | Neutral: 0.157\n",
      "   Dominant: positive | Chunks: 25\n",
      "\n",
      "Colorador Springs............. (Feb 2020)\n",
      "   Positive: 0.563 | Negative: 0.285 | Neutral: 0.153\n",
      "   Dominant: positive | Chunks: 31\n",
      "\n",
      "Phoenix....................... (Feb 2020)\n",
      "   Positive: 0.555 | Negative: 0.282 | Neutral: 0.163\n",
      "   Dominant: positive | Chunks: 25\n",
      "\n",
      "Las Vegas..................... (Feb 2020)\n",
      "   Positive: 0.580 | Negative: 0.273 | Neutral: 0.147\n",
      "   Dominant: positive | Chunks: 36\n",
      "\n",
      "New Hampshire................. (Feb 2020)\n",
      "   Positive: 0.549 | Negative: 0.284 | Neutral: 0.167\n",
      "   Dominant: positive | Chunks: 17\n",
      "\n",
      "Charlotte..................... (Mar 2020)\n",
      "   Positive: 0.545 | Negative: 0.288 | Neutral: 0.167\n",
      "   Dominant: positive | Chunks: 18\n",
      "\n",
      "Tulsa......................... (Jun 2020)\n",
      "   Positive: 0.585 | Negative: 0.269 | Neutral: 0.147\n",
      "   Dominant: positive | Chunks: 30\n",
      "\n",
      "Yuma.......................... (Aug 2020)\n",
      "   Positive: 0.571 | Negative: 0.275 | Neutral: 0.154\n",
      "   Dominant: positive | Chunks: 17\n",
      "\n",
      "New Hampshire................. (Aug 2020)\n",
      "   Positive: 0.580 | Negative: 0.268 | Neutral: 0.151\n",
      "   Dominant: positive | Chunks: 24\n",
      "\n",
      "Fayetteville.................. (Sep 2020)\n",
      "   Positive: 0.565 | Negative: 0.283 | Neutral: 0.152\n",
      "   Dominant: positive | Chunks: 45\n",
      "\n",
      "Ohio.......................... (Sep 2020)\n",
      "   Positive: 0.569 | Negative: 0.279 | Neutral: 0.152\n",
      "   Dominant: positive | Chunks: 29\n",
      "\n",
      "Mosinee....................... (Sep 2020)\n",
      "   Positive: 0.574 | Negative: 0.276 | Neutral: 0.151\n",
      "   Dominant: positive | Chunks: 38\n",
      "\n",
      "Pittsburgh.................... (Sep 2020)\n",
      "   Positive: 0.582 | Negative: 0.272 | Neutral: 0.146\n",
      "   Dominant: positive | Chunks: 32\n",
      "\n",
      "Freeland...................... (Sep 2020)\n",
      "   Positive: 0.556 | Negative: 0.284 | Neutral: 0.160\n",
      "   Dominant: positive | Chunks: 27\n",
      "\n",
      "Minden........................ (Sep 2020)\n",
      "   Positive: 0.586 | Negative: 0.269 | Neutral: 0.146\n",
      "   Dominant: positive | Chunks: 38\n",
      "\n",
      "Salem......................... (Sep 2020)\n",
      "   Positive: 0.564 | Negative: 0.281 | Neutral: 0.155\n",
      "   Dominant: positive | Chunks: 29\n",
      "\n",
      "Henderson..................... (Sep 2020)\n",
      "   Positive: 0.565 | Negative: 0.280 | Neutral: 0.156\n",
      "   Dominant: positive | Chunks: 24\n",
      "\n",
      "Bemidji....................... (Sep 2020)\n",
      "   Positive: 0.572 | Negative: 0.280 | Neutral: 0.148\n",
      "   Dominant: positive | Chunks: 46\n",
      "\n",
      "Latrobe....................... (Sep 2020)\n",
      "   Positive: 0.575 | Negative: 0.274 | Neutral: 0.151\n",
      "   Dominant: positive | Chunks: 33\n",
      "\n"
     ]
    },
    {
     "data": {
      "text/html": [
       "<div>\n",
       "<style scoped>\n",
       "    .dataframe tbody tr th:only-of-type {\n",
       "        vertical-align: middle;\n",
       "    }\n",
       "\n",
       "    .dataframe tbody tr th {\n",
       "        vertical-align: top;\n",
       "    }\n",
       "\n",
       "    .dataframe thead th {\n",
       "        text-align: right;\n",
       "    }\n",
       "</style>\n",
       "<table border=\"1\" class=\"dataframe\">\n",
       "  <thead>\n",
       "    <tr style=\"text-align: right;\">\n",
       "      <th></th>\n",
       "      <th>speech_idx</th>\n",
       "      <th>location</th>\n",
       "      <th>month</th>\n",
       "      <th>year</th>\n",
       "      <th>num_chunks</th>\n",
       "      <th>positive</th>\n",
       "      <th>negative</th>\n",
       "      <th>neutral</th>\n",
       "      <th>dominant_sentiment</th>\n",
       "    </tr>\n",
       "  </thead>\n",
       "  <tbody>\n",
       "    <tr>\n",
       "      <th>0</th>\n",
       "      <td>0</td>\n",
       "      <td>Greenville</td>\n",
       "      <td>Jul</td>\n",
       "      <td>2019</td>\n",
       "      <td>28</td>\n",
       "      <td>0.572434</td>\n",
       "      <td>0.274166</td>\n",
       "      <td>0.153400</td>\n",
       "      <td>positive</td>\n",
       "    </tr>\n",
       "    <tr>\n",
       "      <th>1</th>\n",
       "      <td>1</td>\n",
       "      <td>Cincinnati</td>\n",
       "      <td>Aug</td>\n",
       "      <td>2019</td>\n",
       "      <td>21</td>\n",
       "      <td>0.564755</td>\n",
       "      <td>0.279329</td>\n",
       "      <td>0.155916</td>\n",
       "      <td>positive</td>\n",
       "    </tr>\n",
       "    <tr>\n",
       "      <th>2</th>\n",
       "      <td>2</td>\n",
       "      <td>New Hampshire</td>\n",
       "      <td>Aug</td>\n",
       "      <td>2019</td>\n",
       "      <td>26</td>\n",
       "      <td>0.567399</td>\n",
       "      <td>0.277195</td>\n",
       "      <td>0.155406</td>\n",
       "      <td>positive</td>\n",
       "    </tr>\n",
       "    <tr>\n",
       "      <th>3</th>\n",
       "      <td>3</td>\n",
       "      <td>Texas</td>\n",
       "      <td>Sep</td>\n",
       "      <td>2019</td>\n",
       "      <td>6</td>\n",
       "      <td>0.425736</td>\n",
       "      <td>0.324423</td>\n",
       "      <td>0.249841</td>\n",
       "      <td>positive</td>\n",
       "    </tr>\n",
       "    <tr>\n",
       "      <th>4</th>\n",
       "      <td>4</td>\n",
       "      <td>New Mexico</td>\n",
       "      <td>Sep</td>\n",
       "      <td>2019</td>\n",
       "      <td>31</td>\n",
       "      <td>0.550716</td>\n",
       "      <td>0.282880</td>\n",
       "      <td>0.166404</td>\n",
       "      <td>positive</td>\n",
       "    </tr>\n",
       "    <tr>\n",
       "      <th>5</th>\n",
       "      <td>5</td>\n",
       "      <td>Fayetteville</td>\n",
       "      <td>Sep</td>\n",
       "      <td>2019</td>\n",
       "      <td>24</td>\n",
       "      <td>0.540782</td>\n",
       "      <td>0.289273</td>\n",
       "      <td>0.169946</td>\n",
       "      <td>positive</td>\n",
       "    </tr>\n",
       "    <tr>\n",
       "      <th>6</th>\n",
       "      <td>6</td>\n",
       "      <td>Dallas</td>\n",
       "      <td>Oct</td>\n",
       "      <td>2019</td>\n",
       "      <td>28</td>\n",
       "      <td>0.559747</td>\n",
       "      <td>0.281512</td>\n",
       "      <td>0.158741</td>\n",
       "      <td>positive</td>\n",
       "    </tr>\n",
       "    <tr>\n",
       "      <th>7</th>\n",
       "      <td>7</td>\n",
       "      <td>Minneapolis</td>\n",
       "      <td>Oct</td>\n",
       "      <td>2019</td>\n",
       "      <td>31</td>\n",
       "      <td>0.576170</td>\n",
       "      <td>0.274016</td>\n",
       "      <td>0.149814</td>\n",
       "      <td>positive</td>\n",
       "    </tr>\n",
       "    <tr>\n",
       "      <th>8</th>\n",
       "      <td>8</td>\n",
       "      <td>Tupelo</td>\n",
       "      <td>Nov</td>\n",
       "      <td>2019</td>\n",
       "      <td>25</td>\n",
       "      <td>0.576783</td>\n",
       "      <td>0.270095</td>\n",
       "      <td>0.153122</td>\n",
       "      <td>positive</td>\n",
       "    </tr>\n",
       "    <tr>\n",
       "      <th>9</th>\n",
       "      <td>9</td>\n",
       "      <td>Lexington</td>\n",
       "      <td>Nov</td>\n",
       "      <td>2019</td>\n",
       "      <td>24</td>\n",
       "      <td>0.566354</td>\n",
       "      <td>0.275151</td>\n",
       "      <td>0.158495</td>\n",
       "      <td>positive</td>\n",
       "    </tr>\n",
       "  </tbody>\n",
       "</table>\n",
       "</div>"
      ],
      "text/plain": [
       "   speech_idx       location month  year  num_chunks  positive  negative  \\\n",
       "0           0     Greenville   Jul  2019          28  0.572434  0.274166   \n",
       "1           1     Cincinnati   Aug  2019          21  0.564755  0.279329   \n",
       "2           2  New Hampshire   Aug  2019          26  0.567399  0.277195   \n",
       "3           3          Texas   Sep  2019           6  0.425736  0.324423   \n",
       "4           4     New Mexico   Sep  2019          31  0.550716  0.282880   \n",
       "5           5   Fayetteville   Sep  2019          24  0.540782  0.289273   \n",
       "6           6         Dallas   Oct  2019          28  0.559747  0.281512   \n",
       "7           7    Minneapolis   Oct  2019          31  0.576170  0.274016   \n",
       "8           8         Tupelo   Nov  2019          25  0.576783  0.270095   \n",
       "9           9      Lexington   Nov  2019          24  0.566354  0.275151   \n",
       "\n",
       "    neutral dominant_sentiment  \n",
       "0  0.153400           positive  \n",
       "1  0.155916           positive  \n",
       "2  0.155406           positive  \n",
       "3  0.249841           positive  \n",
       "4  0.166404           positive  \n",
       "5  0.169946           positive  \n",
       "6  0.158741           positive  \n",
       "7  0.149814           positive  \n",
       "8  0.153122           positive  \n",
       "9  0.158495           positive  "
      ]
     },
     "execution_count": 7,
     "metadata": {},
     "output_type": "execute_result"
    }
   ],
   "source": [
    "# Display sentiment scores\n",
    "print(\"Sentiment Scores by Speech:\\n\")\n",
    "print(\"=\"*80)\n",
    "\n",
    "for idx, row in sentiment_df.iterrows():\n",
    "    print(f\"{row['location']:.<30} ({row['month']} {row['year']})\")\n",
    "    print(f\"   Positive: {row['positive']:.3f} | Negative: {row['negative']:.3f} | Neutral: {row['neutral']:.3f}\")\n",
    "    print(f\"   Dominant: {row['dominant_sentiment']} | Chunks: {row['num_chunks']}\")\n",
    "    print()\n",
    "\n",
    "# Show DataFrame\n",
    "sentiment_df.head(10)"
   ]
  },
  {
   "cell_type": "markdown",
   "id": "7d492feb",
   "metadata": {},
   "source": [
    "## Interactive Visualizations\n",
    "\n",
    "Creating interactive charts to explore sentiment patterns."
   ]
  },
  {
   "cell_type": "code",
   "execution_count": 8,
   "id": "e0c20093",
   "metadata": {},
   "outputs": [
    {
     "data": {
      "application/vnd.plotly.v1+json": {
       "config": {
        "plotlyServerURL": "https://plot.ly"
       },
       "data": [
        {
         "marker": {
          "color": "#2ecc71"
         },
         "name": "Positive",
         "showlegend": true,
         "type": "bar",
         "x": [
          "Greenville",
          "Cincinnati",
          "New Hampshire",
          "Texas",
          "New Mexico",
          "Fayetteville",
          "Dallas",
          "Minneapolis",
          "Tupelo",
          "Lexington",
          "Battle Creek",
          "Hershey",
          "Wildwood",
          "Toledo",
          "Milwaukee",
          "Des Moines",
          "Charleston",
          "Colorador Springs",
          "Phoenix",
          "Las Vegas",
          "New Hampshire",
          "Charlotte",
          "Tulsa",
          "Yuma",
          "New Hampshire",
          "Fayetteville",
          "Ohio",
          "Mosinee",
          "Pittsburgh",
          "Freeland",
          "Minden",
          "Salem",
          "Henderson",
          "Bemidji",
          "Latrobe"
         ],
         "xaxis": "x",
         "y": {
          "bdata": "CIsSP8iTED8WQRE/D/rZPrP7DD+rcAo/j0sPP+R/Ez8RqBM/l/wQP5CMFD+MfxQ/nAMNP1EkET/qdBE/rWsRP6alED/9DRA/cREOP2CVFD/1nww/MYoLP9mkFT/gKRI/WYwUP7apED/3xBE/7uISPyLuFD8xQw4/uf4VP252ED9ggxA/gFASP2QcEz8=",
          "dtype": "f4"
         },
         "yaxis": "y"
        },
        {
         "marker": {
          "color": "#e74c3c"
         },
         "name": "Negative",
         "showlegend": true,
         "type": "bar",
         "x": [
          "Greenville",
          "Cincinnati",
          "New Hampshire",
          "Texas",
          "New Mexico",
          "Fayetteville",
          "Dallas",
          "Minneapolis",
          "Tupelo",
          "Lexington",
          "Battle Creek",
          "Hershey",
          "Wildwood",
          "Toledo",
          "Milwaukee",
          "Des Moines",
          "Charleston",
          "Colorador Springs",
          "Phoenix",
          "Las Vegas",
          "New Hampshire",
          "Charlotte",
          "Tulsa",
          "Yuma",
          "New Hampshire",
          "Fayetteville",
          "Ohio",
          "Mosinee",
          "Pittsburgh",
          "Freeland",
          "Minden",
          "Salem",
          "Henderson",
          "Bemidji",
          "Latrobe"
         ],
         "xaxis": "x",
         "y": {
          "bdata": "e1+MPjsEjz527I0+uxqmPqXVkD6JG5Q+XyKQPtdLjD7dSYo+l+CMPhazij7BtIk+NwiTPtWgjj5E040+PjKOPsaNjj5hzJE+gJOQPgnMiz5PcJE+jqSTPimiiT6+oYw+EliJPiQPkT7R144+KCaNPut9iz5/i5E+83uJPo/Pjz7MOo8+02CPPpFTjD4=",
          "dtype": "f4"
         },
         "yaxis": "y"
        },
        {
         "marker": {
          "color": "#95a5a6"
         },
         "name": "Neutral",
         "showlegend": true,
         "type": "bar",
         "x": [
          "Greenville",
          "Cincinnati",
          "New Hampshire",
          "Texas",
          "New Mexico",
          "Fayetteville",
          "Dallas",
          "Minneapolis",
          "Tupelo",
          "Lexington",
          "Battle Creek",
          "Hershey",
          "Wildwood",
          "Toledo",
          "Milwaukee",
          "Des Moines",
          "Charleston",
          "Colorador Springs",
          "Phoenix",
          "Las Vegas",
          "New Hampshire",
          "Charlotte",
          "Tulsa",
          "Yuma",
          "New Hampshire",
          "Fayetteville",
          "Ohio",
          "Mosinee",
          "Pittsburgh",
          "Freeland",
          "Minden",
          "Salem",
          "Henderson",
          "Bemidji",
          "Latrobe"
         ],
         "xaxis": "x",
         "y": {
          "bdata": "4xQdPnGoHz67Ih8+cNZ/Pu5lKj4/Bi4+B40iPsVoGT4AzBw+ckwiPpFnGD5LmBo+JOElPhQtHj7QhR4+zuwdPtxNID5PLxw+OpMmPm4SFj6Nnyo+Ho4qPlEoFj4JFR4+dx4bPt86Gz5+PBs+9ycaPp5LFT4/3CM+Nw0VPiiHHj7vfB8+WfwXPkTnGj4=",
          "dtype": "f4"
         },
         "yaxis": "y"
        },
        {
         "marker": {
          "color": "#2ecc71"
         },
         "name": "Positive",
         "showlegend": false,
         "type": "bar",
         "x": [
          "2019",
          "2020"
         ],
         "xaxis": "x2",
         "y": {
          "bdata": "IBsOP9pLET8=",
          "dtype": "f4"
         },
         "yaxis": "y2"
        },
        {
         "marker": {
          "color": "#e74c3c"
         },
         "name": "Negative",
         "showlegend": false,
         "type": "bar",
         "x": [
          "2019",
          "2020"
         ],
         "xaxis": "x2",
         "y": {
          "bdata": "YrKPPg9/jj4=",
          "dtype": "f4"
         },
         "yaxis": "y2"
        },
        {
         "marker": {
          "color": "#95a5a6"
         },
         "name": "Neutral",
         "showlegend": false,
         "type": "bar",
         "x": [
          "2019",
          "2020"
         ],
         "xaxis": "x2",
         "y": {
          "bdata": "uy4oPn3SHT4=",
          "dtype": "f4"
         },
         "yaxis": "y2"
        },
        {
         "domain": {
          "x": [
           0,
           0.45
          ],
          "y": [
           0,
           0.375
          ]
         },
         "labels": [
          "positive"
         ],
         "marker": {
          "colors": [
           "#2ecc71",
           "#e74c3c",
           "#95a5a6"
          ]
         },
         "showlegend": false,
         "type": "pie",
         "values": {
          "bdata": "Iw==",
          "dtype": "i1"
         }
        },
        {
         "line": {
          "color": "#2ecc71",
          "width": 2
         },
         "mode": "lines+markers",
         "name": "Positive",
         "showlegend": false,
         "type": "scatter",
         "x": {
          "bdata": "AAECAwQFBgcICQoLDA0ODxAREhMUFRYXGBkaGxwdHh8gISI=",
          "dtype": "i1"
         },
         "xaxis": "x3",
         "y": {
          "bdata": "CIsSP8iTED8WQRE/D/rZPrP7DD+rcAo/j0sPP+R/Ez8RqBM/l/wQP5CMFD+MfxQ/nAMNP1EkET/qdBE/rWsRP6alED/9DRA/cREOP2CVFD/1nww/MYoLP9mkFT/gKRI/WYwUP7apED/3xBE/7uISPyLuFD8xQw4/uf4VP252ED9ggxA/gFASP2QcEz8=",
          "dtype": "f4"
         },
         "yaxis": "y3"
        },
        {
         "line": {
          "color": "#e74c3c",
          "width": 2
         },
         "mode": "lines+markers",
         "name": "Negative",
         "showlegend": false,
         "type": "scatter",
         "x": {
          "bdata": "AAECAwQFBgcICQoLDA0ODxAREhMUFRYXGBkaGxwdHh8gISI=",
          "dtype": "i1"
         },
         "xaxis": "x3",
         "y": {
          "bdata": "e1+MPjsEjz527I0+uxqmPqXVkD6JG5Q+XyKQPtdLjD7dSYo+l+CMPhazij7BtIk+NwiTPtWgjj5E040+PjKOPsaNjj5hzJE+gJOQPgnMiz5PcJE+jqSTPimiiT6+oYw+EliJPiQPkT7R144+KCaNPut9iz5/i5E+83uJPo/Pjz7MOo8+02CPPpFTjD4=",
          "dtype": "f4"
         },
         "yaxis": "y3"
        },
        {
         "line": {
          "color": "#95a5a6",
          "width": 2
         },
         "mode": "lines+markers",
         "name": "Neutral",
         "showlegend": false,
         "type": "scatter",
         "x": {
          "bdata": "AAECAwQFBgcICQoLDA0ODxAREhMUFRYXGBkaGxwdHh8gISI=",
          "dtype": "i1"
         },
         "xaxis": "x3",
         "y": {
          "bdata": "4xQdPnGoHz67Ih8+cNZ/Pu5lKj4/Bi4+B40iPsVoGT4AzBw+ckwiPpFnGD5LmBo+JOElPhQtHj7QhR4+zuwdPtxNID5PLxw+OpMmPm4SFj6Nnyo+Ho4qPlEoFj4JFR4+dx4bPt86Gz5+PBs+9ycaPp5LFT4/3CM+Nw0VPiiHHj7vfB8+WfwXPkTnGj4=",
          "dtype": "f4"
         },
         "yaxis": "y3"
        }
       ],
       "layout": {
        "annotations": [
         {
          "font": {
           "size": 16
          },
          "showarrow": false,
          "text": "Sentiment Distribution Across All Speeches",
          "x": 0.225,
          "xanchor": "center",
          "xref": "paper",
          "y": 1,
          "yanchor": "bottom",
          "yref": "paper"
         },
         {
          "font": {
           "size": 16
          },
          "showarrow": false,
          "text": "Average Sentiment by Year",
          "x": 0.775,
          "xanchor": "center",
          "xref": "paper",
          "y": 1,
          "yanchor": "bottom",
          "yref": "paper"
         },
         {
          "font": {
           "size": 16
          },
          "showarrow": false,
          "text": "Dominant Sentiment Count",
          "x": 0.225,
          "xanchor": "center",
          "xref": "paper",
          "y": 0.375,
          "yanchor": "bottom",
          "yref": "paper"
         },
         {
          "font": {
           "size": 16
          },
          "showarrow": false,
          "text": "Sentiment Trends Over Time",
          "x": 0.775,
          "xanchor": "center",
          "xref": "paper",
          "y": 0.375,
          "yanchor": "bottom",
          "yref": "paper"
         }
        ],
        "barmode": "group",
        "height": 900,
        "showlegend": true,
        "template": {
         "data": {
          "bar": [
           {
            "error_x": {
             "color": "#2a3f5f"
            },
            "error_y": {
             "color": "#2a3f5f"
            },
            "marker": {
             "line": {
              "color": "white",
              "width": 0.5
             },
             "pattern": {
              "fillmode": "overlay",
              "size": 10,
              "solidity": 0.2
             }
            },
            "type": "bar"
           }
          ],
          "barpolar": [
           {
            "marker": {
             "line": {
              "color": "white",
              "width": 0.5
             },
             "pattern": {
              "fillmode": "overlay",
              "size": 10,
              "solidity": 0.2
             }
            },
            "type": "barpolar"
           }
          ],
          "carpet": [
           {
            "aaxis": {
             "endlinecolor": "#2a3f5f",
             "gridcolor": "#C8D4E3",
             "linecolor": "#C8D4E3",
             "minorgridcolor": "#C8D4E3",
             "startlinecolor": "#2a3f5f"
            },
            "baxis": {
             "endlinecolor": "#2a3f5f",
             "gridcolor": "#C8D4E3",
             "linecolor": "#C8D4E3",
             "minorgridcolor": "#C8D4E3",
             "startlinecolor": "#2a3f5f"
            },
            "type": "carpet"
           }
          ],
          "choropleth": [
           {
            "colorbar": {
             "outlinewidth": 0,
             "ticks": ""
            },
            "type": "choropleth"
           }
          ],
          "contour": [
           {
            "colorbar": {
             "outlinewidth": 0,
             "ticks": ""
            },
            "colorscale": [
             [
              0,
              "#0d0887"
             ],
             [
              0.1111111111111111,
              "#46039f"
             ],
             [
              0.2222222222222222,
              "#7201a8"
             ],
             [
              0.3333333333333333,
              "#9c179e"
             ],
             [
              0.4444444444444444,
              "#bd3786"
             ],
             [
              0.5555555555555556,
              "#d8576b"
             ],
             [
              0.6666666666666666,
              "#ed7953"
             ],
             [
              0.7777777777777778,
              "#fb9f3a"
             ],
             [
              0.8888888888888888,
              "#fdca26"
             ],
             [
              1,
              "#f0f921"
             ]
            ],
            "type": "contour"
           }
          ],
          "contourcarpet": [
           {
            "colorbar": {
             "outlinewidth": 0,
             "ticks": ""
            },
            "type": "contourcarpet"
           }
          ],
          "heatmap": [
           {
            "colorbar": {
             "outlinewidth": 0,
             "ticks": ""
            },
            "colorscale": [
             [
              0,
              "#0d0887"
             ],
             [
              0.1111111111111111,
              "#46039f"
             ],
             [
              0.2222222222222222,
              "#7201a8"
             ],
             [
              0.3333333333333333,
              "#9c179e"
             ],
             [
              0.4444444444444444,
              "#bd3786"
             ],
             [
              0.5555555555555556,
              "#d8576b"
             ],
             [
              0.6666666666666666,
              "#ed7953"
             ],
             [
              0.7777777777777778,
              "#fb9f3a"
             ],
             [
              0.8888888888888888,
              "#fdca26"
             ],
             [
              1,
              "#f0f921"
             ]
            ],
            "type": "heatmap"
           }
          ],
          "histogram": [
           {
            "marker": {
             "pattern": {
              "fillmode": "overlay",
              "size": 10,
              "solidity": 0.2
             }
            },
            "type": "histogram"
           }
          ],
          "histogram2d": [
           {
            "colorbar": {
             "outlinewidth": 0,
             "ticks": ""
            },
            "colorscale": [
             [
              0,
              "#0d0887"
             ],
             [
              0.1111111111111111,
              "#46039f"
             ],
             [
              0.2222222222222222,
              "#7201a8"
             ],
             [
              0.3333333333333333,
              "#9c179e"
             ],
             [
              0.4444444444444444,
              "#bd3786"
             ],
             [
              0.5555555555555556,
              "#d8576b"
             ],
             [
              0.6666666666666666,
              "#ed7953"
             ],
             [
              0.7777777777777778,
              "#fb9f3a"
             ],
             [
              0.8888888888888888,
              "#fdca26"
             ],
             [
              1,
              "#f0f921"
             ]
            ],
            "type": "histogram2d"
           }
          ],
          "histogram2dcontour": [
           {
            "colorbar": {
             "outlinewidth": 0,
             "ticks": ""
            },
            "colorscale": [
             [
              0,
              "#0d0887"
             ],
             [
              0.1111111111111111,
              "#46039f"
             ],
             [
              0.2222222222222222,
              "#7201a8"
             ],
             [
              0.3333333333333333,
              "#9c179e"
             ],
             [
              0.4444444444444444,
              "#bd3786"
             ],
             [
              0.5555555555555556,
              "#d8576b"
             ],
             [
              0.6666666666666666,
              "#ed7953"
             ],
             [
              0.7777777777777778,
              "#fb9f3a"
             ],
             [
              0.8888888888888888,
              "#fdca26"
             ],
             [
              1,
              "#f0f921"
             ]
            ],
            "type": "histogram2dcontour"
           }
          ],
          "mesh3d": [
           {
            "colorbar": {
             "outlinewidth": 0,
             "ticks": ""
            },
            "type": "mesh3d"
           }
          ],
          "parcoords": [
           {
            "line": {
             "colorbar": {
              "outlinewidth": 0,
              "ticks": ""
             }
            },
            "type": "parcoords"
           }
          ],
          "pie": [
           {
            "automargin": true,
            "type": "pie"
           }
          ],
          "scatter": [
           {
            "fillpattern": {
             "fillmode": "overlay",
             "size": 10,
             "solidity": 0.2
            },
            "type": "scatter"
           }
          ],
          "scatter3d": [
           {
            "line": {
             "colorbar": {
              "outlinewidth": 0,
              "ticks": ""
             }
            },
            "marker": {
             "colorbar": {
              "outlinewidth": 0,
              "ticks": ""
             }
            },
            "type": "scatter3d"
           }
          ],
          "scattercarpet": [
           {
            "marker": {
             "colorbar": {
              "outlinewidth": 0,
              "ticks": ""
             }
            },
            "type": "scattercarpet"
           }
          ],
          "scattergeo": [
           {
            "marker": {
             "colorbar": {
              "outlinewidth": 0,
              "ticks": ""
             }
            },
            "type": "scattergeo"
           }
          ],
          "scattergl": [
           {
            "marker": {
             "colorbar": {
              "outlinewidth": 0,
              "ticks": ""
             }
            },
            "type": "scattergl"
           }
          ],
          "scattermap": [
           {
            "marker": {
             "colorbar": {
              "outlinewidth": 0,
              "ticks": ""
             }
            },
            "type": "scattermap"
           }
          ],
          "scattermapbox": [
           {
            "marker": {
             "colorbar": {
              "outlinewidth": 0,
              "ticks": ""
             }
            },
            "type": "scattermapbox"
           }
          ],
          "scatterpolar": [
           {
            "marker": {
             "colorbar": {
              "outlinewidth": 0,
              "ticks": ""
             }
            },
            "type": "scatterpolar"
           }
          ],
          "scatterpolargl": [
           {
            "marker": {
             "colorbar": {
              "outlinewidth": 0,
              "ticks": ""
             }
            },
            "type": "scatterpolargl"
           }
          ],
          "scatterternary": [
           {
            "marker": {
             "colorbar": {
              "outlinewidth": 0,
              "ticks": ""
             }
            },
            "type": "scatterternary"
           }
          ],
          "surface": [
           {
            "colorbar": {
             "outlinewidth": 0,
             "ticks": ""
            },
            "colorscale": [
             [
              0,
              "#0d0887"
             ],
             [
              0.1111111111111111,
              "#46039f"
             ],
             [
              0.2222222222222222,
              "#7201a8"
             ],
             [
              0.3333333333333333,
              "#9c179e"
             ],
             [
              0.4444444444444444,
              "#bd3786"
             ],
             [
              0.5555555555555556,
              "#d8576b"
             ],
             [
              0.6666666666666666,
              "#ed7953"
             ],
             [
              0.7777777777777778,
              "#fb9f3a"
             ],
             [
              0.8888888888888888,
              "#fdca26"
             ],
             [
              1,
              "#f0f921"
             ]
            ],
            "type": "surface"
           }
          ],
          "table": [
           {
            "cells": {
             "fill": {
              "color": "#EBF0F8"
             },
             "line": {
              "color": "white"
             }
            },
            "header": {
             "fill": {
              "color": "#C8D4E3"
             },
             "line": {
              "color": "white"
             }
            },
            "type": "table"
           }
          ]
         },
         "layout": {
          "annotationdefaults": {
           "arrowcolor": "#2a3f5f",
           "arrowhead": 0,
           "arrowwidth": 1
          },
          "autotypenumbers": "strict",
          "coloraxis": {
           "colorbar": {
            "outlinewidth": 0,
            "ticks": ""
           }
          },
          "colorscale": {
           "diverging": [
            [
             0,
             "#8e0152"
            ],
            [
             0.1,
             "#c51b7d"
            ],
            [
             0.2,
             "#de77ae"
            ],
            [
             0.3,
             "#f1b6da"
            ],
            [
             0.4,
             "#fde0ef"
            ],
            [
             0.5,
             "#f7f7f7"
            ],
            [
             0.6,
             "#e6f5d0"
            ],
            [
             0.7,
             "#b8e186"
            ],
            [
             0.8,
             "#7fbc41"
            ],
            [
             0.9,
             "#4d9221"
            ],
            [
             1,
             "#276419"
            ]
           ],
           "sequential": [
            [
             0,
             "#0d0887"
            ],
            [
             0.1111111111111111,
             "#46039f"
            ],
            [
             0.2222222222222222,
             "#7201a8"
            ],
            [
             0.3333333333333333,
             "#9c179e"
            ],
            [
             0.4444444444444444,
             "#bd3786"
            ],
            [
             0.5555555555555556,
             "#d8576b"
            ],
            [
             0.6666666666666666,
             "#ed7953"
            ],
            [
             0.7777777777777778,
             "#fb9f3a"
            ],
            [
             0.8888888888888888,
             "#fdca26"
            ],
            [
             1,
             "#f0f921"
            ]
           ],
           "sequentialminus": [
            [
             0,
             "#0d0887"
            ],
            [
             0.1111111111111111,
             "#46039f"
            ],
            [
             0.2222222222222222,
             "#7201a8"
            ],
            [
             0.3333333333333333,
             "#9c179e"
            ],
            [
             0.4444444444444444,
             "#bd3786"
            ],
            [
             0.5555555555555556,
             "#d8576b"
            ],
            [
             0.6666666666666666,
             "#ed7953"
            ],
            [
             0.7777777777777778,
             "#fb9f3a"
            ],
            [
             0.8888888888888888,
             "#fdca26"
            ],
            [
             1,
             "#f0f921"
            ]
           ]
          },
          "colorway": [
           "#636efa",
           "#EF553B",
           "#00cc96",
           "#ab63fa",
           "#FFA15A",
           "#19d3f3",
           "#FF6692",
           "#B6E880",
           "#FF97FF",
           "#FECB52"
          ],
          "font": {
           "color": "#2a3f5f"
          },
          "geo": {
           "bgcolor": "white",
           "lakecolor": "white",
           "landcolor": "white",
           "showlakes": true,
           "showland": true,
           "subunitcolor": "#C8D4E3"
          },
          "hoverlabel": {
           "align": "left"
          },
          "hovermode": "closest",
          "mapbox": {
           "style": "light"
          },
          "paper_bgcolor": "white",
          "plot_bgcolor": "white",
          "polar": {
           "angularaxis": {
            "gridcolor": "#EBF0F8",
            "linecolor": "#EBF0F8",
            "ticks": ""
           },
           "bgcolor": "white",
           "radialaxis": {
            "gridcolor": "#EBF0F8",
            "linecolor": "#EBF0F8",
            "ticks": ""
           }
          },
          "scene": {
           "xaxis": {
            "backgroundcolor": "white",
            "gridcolor": "#DFE8F3",
            "gridwidth": 2,
            "linecolor": "#EBF0F8",
            "showbackground": true,
            "ticks": "",
            "zerolinecolor": "#EBF0F8"
           },
           "yaxis": {
            "backgroundcolor": "white",
            "gridcolor": "#DFE8F3",
            "gridwidth": 2,
            "linecolor": "#EBF0F8",
            "showbackground": true,
            "ticks": "",
            "zerolinecolor": "#EBF0F8"
           },
           "zaxis": {
            "backgroundcolor": "white",
            "gridcolor": "#DFE8F3",
            "gridwidth": 2,
            "linecolor": "#EBF0F8",
            "showbackground": true,
            "ticks": "",
            "zerolinecolor": "#EBF0F8"
           }
          },
          "shapedefaults": {
           "line": {
            "color": "#2a3f5f"
           }
          },
          "ternary": {
           "aaxis": {
            "gridcolor": "#DFE8F3",
            "linecolor": "#A2B1C6",
            "ticks": ""
           },
           "baxis": {
            "gridcolor": "#DFE8F3",
            "linecolor": "#A2B1C6",
            "ticks": ""
           },
           "bgcolor": "white",
           "caxis": {
            "gridcolor": "#DFE8F3",
            "linecolor": "#A2B1C6",
            "ticks": ""
           }
          },
          "title": {
           "x": 0.05
          },
          "xaxis": {
           "automargin": true,
           "gridcolor": "#EBF0F8",
           "linecolor": "#EBF0F8",
           "ticks": "",
           "title": {
            "standoff": 15
           },
           "zerolinecolor": "#EBF0F8",
           "zerolinewidth": 2
          },
          "yaxis": {
           "automargin": true,
           "gridcolor": "#EBF0F8",
           "linecolor": "#EBF0F8",
           "ticks": "",
           "title": {
            "standoff": 15
           },
           "zerolinecolor": "#EBF0F8",
           "zerolinewidth": 2
          }
         }
        },
        "title": {
         "text": "Comprehensive Sentiment Analysis Dashboard"
        },
        "xaxis": {
         "anchor": "y",
         "domain": [
          0,
          0.45
         ],
         "tickangle": -45
        },
        "xaxis2": {
         "anchor": "y2",
         "domain": [
          0.55,
          1
         ]
        },
        "xaxis3": {
         "anchor": "y3",
         "domain": [
          0.55,
          1
         ],
         "title": {
          "text": "Speech Index"
         }
        },
        "yaxis": {
         "anchor": "x",
         "domain": [
          0.625,
          1
         ],
         "title": {
          "text": "Probability"
         }
        },
        "yaxis2": {
         "anchor": "x2",
         "domain": [
          0.625,
          1
         ],
         "title": {
          "text": "Probability"
         }
        },
        "yaxis3": {
         "anchor": "x3",
         "domain": [
          0,
          0.375
         ],
         "title": {
          "text": "Sentiment Score"
         }
        }
       }
      }
     },
     "metadata": {},
     "output_type": "display_data"
    }
   ],
   "source": [
    "# Create comprehensive sentiment visualization\n",
    "fig = make_subplots(\n",
    "    rows=2, cols=2,\n",
    "    subplot_titles=('Sentiment Distribution Across All Speeches',\n",
    "                    'Average Sentiment by Year',\n",
    "                    'Dominant Sentiment Count',\n",
    "                    'Sentiment Trends Over Time'),\n",
    "    specs=[[{\"type\": \"bar\"}, {\"type\": \"bar\"}],\n",
    "           [{\"type\": \"pie\"}, {\"type\": \"scatter\"}]]\n",
    ")\n",
    "\n",
    "# 1. Overall sentiment distribution (stacked bar)\n",
    "fig.add_trace(\n",
    "    go.Bar(name='Positive', x=sentiment_df['location'], y=sentiment_df['positive'],\n",
    "           marker_color='#2ecc71', showlegend=True),\n",
    "    row=1, col=1\n",
    ")\n",
    "fig.add_trace(\n",
    "    go.Bar(name='Negative', x=sentiment_df['location'], y=sentiment_df['negative'],\n",
    "           marker_color='#e74c3c', showlegend=True),\n",
    "    row=1, col=1\n",
    ")\n",
    "fig.add_trace(\n",
    "    go.Bar(name='Neutral', x=sentiment_df['location'], y=sentiment_df['neutral'],\n",
    "           marker_color='#95a5a6', showlegend=True),\n",
    "    row=1, col=1\n",
    ")\n",
    "\n",
    "# 2. Average sentiment by year\n",
    "year_avg = sentiment_df.groupby('year')[['positive', 'negative', 'neutral']].mean()\n",
    "fig.add_trace(\n",
    "    go.Bar(name='Positive', x=year_avg.index, y=year_avg['positive'],\n",
    "           marker_color='#2ecc71', showlegend=False),\n",
    "    row=1, col=2\n",
    ")\n",
    "fig.add_trace(\n",
    "    go.Bar(name='Negative', x=year_avg.index, y=year_avg['negative'],\n",
    "           marker_color='#e74c3c', showlegend=False),\n",
    "    row=1, col=2\n",
    ")\n",
    "fig.add_trace(\n",
    "    go.Bar(name='Neutral', x=year_avg.index, y=year_avg['neutral'],\n",
    "           marker_color='#95a5a6', showlegend=False),\n",
    "    row=1, col=2\n",
    ")\n",
    "\n",
    "# 3. Dominant sentiment pie chart\n",
    "sentiment_counts = sentiment_df['dominant_sentiment'].value_counts()\n",
    "fig.add_trace(\n",
    "    go.Pie(labels=sentiment_counts.index, values=sentiment_counts.values,\n",
    "           marker=dict(colors=['#2ecc71', '#e74c3c', '#95a5a6']),\n",
    "           showlegend=False),\n",
    "    row=2, col=1\n",
    ")\n",
    "\n",
    "# 4. Sentiment timeline\n",
    "fig.add_trace(\n",
    "    go.Scatter(x=sentiment_df['speech_idx'], y=sentiment_df['positive'],\n",
    "               mode='lines+markers', name='Positive',\n",
    "               line=dict(color='#2ecc71', width=2), showlegend=False),\n",
    "    row=2, col=2\n",
    ")\n",
    "fig.add_trace(\n",
    "    go.Scatter(x=sentiment_df['speech_idx'], y=sentiment_df['negative'],\n",
    "               mode='lines+markers', name='Negative',\n",
    "               line=dict(color='#e74c3c', width=2), showlegend=False),\n",
    "    row=2, col=2\n",
    ")\n",
    "fig.add_trace(\n",
    "    go.Scatter(x=sentiment_df['speech_idx'], y=sentiment_df['neutral'],\n",
    "               mode='lines+markers', name='Neutral',\n",
    "               line=dict(color='#95a5a6', width=2), showlegend=False),\n",
    "    row=2, col=2\n",
    ")\n",
    "\n",
    "# Update layout\n",
    "fig.update_layout(\n",
    "    height=900,\n",
    "    title_text=\"Comprehensive Sentiment Analysis Dashboard\",\n",
    "    showlegend=True,\n",
    "    barmode='group',\n",
    "    template='plotly_white'\n",
    ")\n",
    "\n",
    "fig.update_xaxes(tickangle=-45, row=1, col=1)\n",
    "fig.update_yaxes(title_text=\"Probability\", row=1, col=1)\n",
    "fig.update_yaxes(title_text=\"Probability\", row=1, col=2)\n",
    "fig.update_yaxes(title_text=\"Sentiment Score\", row=2, col=2)\n",
    "fig.update_xaxes(title_text=\"Speech Index\", row=2, col=2)\n",
    "\n",
    "fig.show()"
   ]
  },
  {
   "cell_type": "markdown",
   "id": "fa17f9a8",
   "metadata": {},
   "source": [
    "## Sentiment Heatmap\n",
    "\n",
    "Visualizing sentiment patterns across speeches and time."
   ]
  },
  {
   "cell_type": "code",
   "execution_count": 9,
   "id": "210041bc",
   "metadata": {},
   "outputs": [
    {
     "data": {
      "application/vnd.plotly.v1+json": {
       "config": {
        "plotlyServerURL": "https://plot.ly"
       },
       "data": [
        {
         "colorbar": {
          "title": {
           "text": "Probability"
          }
         },
         "colorscale": [
          [
           0,
           "rgb(165,0,38)"
          ],
          [
           0.1,
           "rgb(215,48,39)"
          ],
          [
           0.2,
           "rgb(244,109,67)"
          ],
          [
           0.3,
           "rgb(253,174,97)"
          ],
          [
           0.4,
           "rgb(254,224,139)"
          ],
          [
           0.5,
           "rgb(255,255,191)"
          ],
          [
           0.6,
           "rgb(217,239,139)"
          ],
          [
           0.7,
           "rgb(166,217,106)"
          ],
          [
           0.8,
           "rgb(102,189,99)"
          ],
          [
           0.9,
           "rgb(26,152,80)"
          ],
          [
           1,
           "rgb(0,104,55)"
          ]
         ],
         "text": {
          "bdata": "CIsSP8iTED8WQRE/D/rZPrP7DD+rcAo/j0sPP+R/Ez8RqBM/l/wQP5CMFD+MfxQ/nAMNP1EkET/qdBE/rWsRP6alED/9DRA/cREOP2CVFD/1nww/MYoLP9mkFT/gKRI/WYwUP7apED/3xBE/7uISPyLuFD8xQw4/uf4VP252ED9ggxA/gFASP2QcEz97X4w+OwSPPnbsjT67GqY+pdWQPokblD5fIpA+10uMPt1Jij6X4Iw+FrOKPsG0iT43CJM+1aCOPkTTjT4+Mo4+xo2OPmHMkT6Ak5A+CcyLPk9wkT6OpJM+KaKJPr6hjD4SWIk+JA+RPtHXjj4oJo0+632LPn+LkT7ze4k+j8+PPsw6jz7TYI8+kVOMPuMUHT5xqB8+uyIfPnDWfz7uZSo+PwYuPgeNIj7FaBk+AMwcPnJMIj6RZxg+S5gaPiThJT4ULR4+0IUePs7sHT7cTSA+Ty8cPjqTJj5uEhY+jZ8qPh6OKj5RKBY+CRUePnceGz7fOhs+fjwbPvcnGj6eSxU+P9wjPjcNFT4ohx4+73wfPln8Fz5E5xo+",
          "dtype": "f4",
          "shape": "3, 35"
         },
         "textfont": {
          "size": 10
         },
         "texttemplate": "%{text:.2f}",
         "type": "heatmap",
         "x": [
          "Greenville",
          "Cincinnati",
          "New Hampshire",
          "Texas",
          "New Mexico",
          "Fayetteville",
          "Dallas",
          "Minneapolis",
          "Tupelo",
          "Lexington",
          "Battle Creek",
          "Hershey",
          "Wildwood",
          "Toledo",
          "Milwaukee",
          "Des Moines",
          "Charleston",
          "Colorador Sprin...",
          "Phoenix",
          "Las Vegas",
          "New Hampshire",
          "Charlotte",
          "Tulsa",
          "Yuma",
          "New Hampshire",
          "Fayetteville",
          "Ohio",
          "Mosinee",
          "Pittsburgh",
          "Freeland",
          "Minden",
          "Salem",
          "Henderson",
          "Bemidji",
          "Latrobe"
         ],
         "y": [
          "Positive",
          "Negative",
          "Neutral"
         ],
         "z": {
          "bdata": "CIsSP8iTED8WQRE/D/rZPrP7DD+rcAo/j0sPP+R/Ez8RqBM/l/wQP5CMFD+MfxQ/nAMNP1EkET/qdBE/rWsRP6alED/9DRA/cREOP2CVFD/1nww/MYoLP9mkFT/gKRI/WYwUP7apED/3xBE/7uISPyLuFD8xQw4/uf4VP252ED9ggxA/gFASP2QcEz97X4w+OwSPPnbsjT67GqY+pdWQPokblD5fIpA+10uMPt1Jij6X4Iw+FrOKPsG0iT43CJM+1aCOPkTTjT4+Mo4+xo2OPmHMkT6Ak5A+CcyLPk9wkT6OpJM+KaKJPr6hjD4SWIk+JA+RPtHXjj4oJo0+632LPn+LkT7ze4k+j8+PPsw6jz7TYI8+kVOMPuMUHT5xqB8+uyIfPnDWfz7uZSo+PwYuPgeNIj7FaBk+AMwcPnJMIj6RZxg+S5gaPiThJT4ULR4+0IUePs7sHT7cTSA+Ty8cPjqTJj5uEhY+jZ8qPh6OKj5RKBY+CRUePnceGz7fOhs+fjwbPvcnGj6eSxU+P9wjPjcNFT4ohx4+73wfPln8Fz5E5xo+",
          "dtype": "f4",
          "shape": "3, 35"
         }
        }
       ],
       "layout": {
        "height": 400,
        "template": {
         "data": {
          "bar": [
           {
            "error_x": {
             "color": "#2a3f5f"
            },
            "error_y": {
             "color": "#2a3f5f"
            },
            "marker": {
             "line": {
              "color": "white",
              "width": 0.5
             },
             "pattern": {
              "fillmode": "overlay",
              "size": 10,
              "solidity": 0.2
             }
            },
            "type": "bar"
           }
          ],
          "barpolar": [
           {
            "marker": {
             "line": {
              "color": "white",
              "width": 0.5
             },
             "pattern": {
              "fillmode": "overlay",
              "size": 10,
              "solidity": 0.2
             }
            },
            "type": "barpolar"
           }
          ],
          "carpet": [
           {
            "aaxis": {
             "endlinecolor": "#2a3f5f",
             "gridcolor": "#C8D4E3",
             "linecolor": "#C8D4E3",
             "minorgridcolor": "#C8D4E3",
             "startlinecolor": "#2a3f5f"
            },
            "baxis": {
             "endlinecolor": "#2a3f5f",
             "gridcolor": "#C8D4E3",
             "linecolor": "#C8D4E3",
             "minorgridcolor": "#C8D4E3",
             "startlinecolor": "#2a3f5f"
            },
            "type": "carpet"
           }
          ],
          "choropleth": [
           {
            "colorbar": {
             "outlinewidth": 0,
             "ticks": ""
            },
            "type": "choropleth"
           }
          ],
          "contour": [
           {
            "colorbar": {
             "outlinewidth": 0,
             "ticks": ""
            },
            "colorscale": [
             [
              0,
              "#0d0887"
             ],
             [
              0.1111111111111111,
              "#46039f"
             ],
             [
              0.2222222222222222,
              "#7201a8"
             ],
             [
              0.3333333333333333,
              "#9c179e"
             ],
             [
              0.4444444444444444,
              "#bd3786"
             ],
             [
              0.5555555555555556,
              "#d8576b"
             ],
             [
              0.6666666666666666,
              "#ed7953"
             ],
             [
              0.7777777777777778,
              "#fb9f3a"
             ],
             [
              0.8888888888888888,
              "#fdca26"
             ],
             [
              1,
              "#f0f921"
             ]
            ],
            "type": "contour"
           }
          ],
          "contourcarpet": [
           {
            "colorbar": {
             "outlinewidth": 0,
             "ticks": ""
            },
            "type": "contourcarpet"
           }
          ],
          "heatmap": [
           {
            "colorbar": {
             "outlinewidth": 0,
             "ticks": ""
            },
            "colorscale": [
             [
              0,
              "#0d0887"
             ],
             [
              0.1111111111111111,
              "#46039f"
             ],
             [
              0.2222222222222222,
              "#7201a8"
             ],
             [
              0.3333333333333333,
              "#9c179e"
             ],
             [
              0.4444444444444444,
              "#bd3786"
             ],
             [
              0.5555555555555556,
              "#d8576b"
             ],
             [
              0.6666666666666666,
              "#ed7953"
             ],
             [
              0.7777777777777778,
              "#fb9f3a"
             ],
             [
              0.8888888888888888,
              "#fdca26"
             ],
             [
              1,
              "#f0f921"
             ]
            ],
            "type": "heatmap"
           }
          ],
          "histogram": [
           {
            "marker": {
             "pattern": {
              "fillmode": "overlay",
              "size": 10,
              "solidity": 0.2
             }
            },
            "type": "histogram"
           }
          ],
          "histogram2d": [
           {
            "colorbar": {
             "outlinewidth": 0,
             "ticks": ""
            },
            "colorscale": [
             [
              0,
              "#0d0887"
             ],
             [
              0.1111111111111111,
              "#46039f"
             ],
             [
              0.2222222222222222,
              "#7201a8"
             ],
             [
              0.3333333333333333,
              "#9c179e"
             ],
             [
              0.4444444444444444,
              "#bd3786"
             ],
             [
              0.5555555555555556,
              "#d8576b"
             ],
             [
              0.6666666666666666,
              "#ed7953"
             ],
             [
              0.7777777777777778,
              "#fb9f3a"
             ],
             [
              0.8888888888888888,
              "#fdca26"
             ],
             [
              1,
              "#f0f921"
             ]
            ],
            "type": "histogram2d"
           }
          ],
          "histogram2dcontour": [
           {
            "colorbar": {
             "outlinewidth": 0,
             "ticks": ""
            },
            "colorscale": [
             [
              0,
              "#0d0887"
             ],
             [
              0.1111111111111111,
              "#46039f"
             ],
             [
              0.2222222222222222,
              "#7201a8"
             ],
             [
              0.3333333333333333,
              "#9c179e"
             ],
             [
              0.4444444444444444,
              "#bd3786"
             ],
             [
              0.5555555555555556,
              "#d8576b"
             ],
             [
              0.6666666666666666,
              "#ed7953"
             ],
             [
              0.7777777777777778,
              "#fb9f3a"
             ],
             [
              0.8888888888888888,
              "#fdca26"
             ],
             [
              1,
              "#f0f921"
             ]
            ],
            "type": "histogram2dcontour"
           }
          ],
          "mesh3d": [
           {
            "colorbar": {
             "outlinewidth": 0,
             "ticks": ""
            },
            "type": "mesh3d"
           }
          ],
          "parcoords": [
           {
            "line": {
             "colorbar": {
              "outlinewidth": 0,
              "ticks": ""
             }
            },
            "type": "parcoords"
           }
          ],
          "pie": [
           {
            "automargin": true,
            "type": "pie"
           }
          ],
          "scatter": [
           {
            "fillpattern": {
             "fillmode": "overlay",
             "size": 10,
             "solidity": 0.2
            },
            "type": "scatter"
           }
          ],
          "scatter3d": [
           {
            "line": {
             "colorbar": {
              "outlinewidth": 0,
              "ticks": ""
             }
            },
            "marker": {
             "colorbar": {
              "outlinewidth": 0,
              "ticks": ""
             }
            },
            "type": "scatter3d"
           }
          ],
          "scattercarpet": [
           {
            "marker": {
             "colorbar": {
              "outlinewidth": 0,
              "ticks": ""
             }
            },
            "type": "scattercarpet"
           }
          ],
          "scattergeo": [
           {
            "marker": {
             "colorbar": {
              "outlinewidth": 0,
              "ticks": ""
             }
            },
            "type": "scattergeo"
           }
          ],
          "scattergl": [
           {
            "marker": {
             "colorbar": {
              "outlinewidth": 0,
              "ticks": ""
             }
            },
            "type": "scattergl"
           }
          ],
          "scattermap": [
           {
            "marker": {
             "colorbar": {
              "outlinewidth": 0,
              "ticks": ""
             }
            },
            "type": "scattermap"
           }
          ],
          "scattermapbox": [
           {
            "marker": {
             "colorbar": {
              "outlinewidth": 0,
              "ticks": ""
             }
            },
            "type": "scattermapbox"
           }
          ],
          "scatterpolar": [
           {
            "marker": {
             "colorbar": {
              "outlinewidth": 0,
              "ticks": ""
             }
            },
            "type": "scatterpolar"
           }
          ],
          "scatterpolargl": [
           {
            "marker": {
             "colorbar": {
              "outlinewidth": 0,
              "ticks": ""
             }
            },
            "type": "scatterpolargl"
           }
          ],
          "scatterternary": [
           {
            "marker": {
             "colorbar": {
              "outlinewidth": 0,
              "ticks": ""
             }
            },
            "type": "scatterternary"
           }
          ],
          "surface": [
           {
            "colorbar": {
             "outlinewidth": 0,
             "ticks": ""
            },
            "colorscale": [
             [
              0,
              "#0d0887"
             ],
             [
              0.1111111111111111,
              "#46039f"
             ],
             [
              0.2222222222222222,
              "#7201a8"
             ],
             [
              0.3333333333333333,
              "#9c179e"
             ],
             [
              0.4444444444444444,
              "#bd3786"
             ],
             [
              0.5555555555555556,
              "#d8576b"
             ],
             [
              0.6666666666666666,
              "#ed7953"
             ],
             [
              0.7777777777777778,
              "#fb9f3a"
             ],
             [
              0.8888888888888888,
              "#fdca26"
             ],
             [
              1,
              "#f0f921"
             ]
            ],
            "type": "surface"
           }
          ],
          "table": [
           {
            "cells": {
             "fill": {
              "color": "#EBF0F8"
             },
             "line": {
              "color": "white"
             }
            },
            "header": {
             "fill": {
              "color": "#C8D4E3"
             },
             "line": {
              "color": "white"
             }
            },
            "type": "table"
           }
          ]
         },
         "layout": {
          "annotationdefaults": {
           "arrowcolor": "#2a3f5f",
           "arrowhead": 0,
           "arrowwidth": 1
          },
          "autotypenumbers": "strict",
          "coloraxis": {
           "colorbar": {
            "outlinewidth": 0,
            "ticks": ""
           }
          },
          "colorscale": {
           "diverging": [
            [
             0,
             "#8e0152"
            ],
            [
             0.1,
             "#c51b7d"
            ],
            [
             0.2,
             "#de77ae"
            ],
            [
             0.3,
             "#f1b6da"
            ],
            [
             0.4,
             "#fde0ef"
            ],
            [
             0.5,
             "#f7f7f7"
            ],
            [
             0.6,
             "#e6f5d0"
            ],
            [
             0.7,
             "#b8e186"
            ],
            [
             0.8,
             "#7fbc41"
            ],
            [
             0.9,
             "#4d9221"
            ],
            [
             1,
             "#276419"
            ]
           ],
           "sequential": [
            [
             0,
             "#0d0887"
            ],
            [
             0.1111111111111111,
             "#46039f"
            ],
            [
             0.2222222222222222,
             "#7201a8"
            ],
            [
             0.3333333333333333,
             "#9c179e"
            ],
            [
             0.4444444444444444,
             "#bd3786"
            ],
            [
             0.5555555555555556,
             "#d8576b"
            ],
            [
             0.6666666666666666,
             "#ed7953"
            ],
            [
             0.7777777777777778,
             "#fb9f3a"
            ],
            [
             0.8888888888888888,
             "#fdca26"
            ],
            [
             1,
             "#f0f921"
            ]
           ],
           "sequentialminus": [
            [
             0,
             "#0d0887"
            ],
            [
             0.1111111111111111,
             "#46039f"
            ],
            [
             0.2222222222222222,
             "#7201a8"
            ],
            [
             0.3333333333333333,
             "#9c179e"
            ],
            [
             0.4444444444444444,
             "#bd3786"
            ],
            [
             0.5555555555555556,
             "#d8576b"
            ],
            [
             0.6666666666666666,
             "#ed7953"
            ],
            [
             0.7777777777777778,
             "#fb9f3a"
            ],
            [
             0.8888888888888888,
             "#fdca26"
            ],
            [
             1,
             "#f0f921"
            ]
           ]
          },
          "colorway": [
           "#636efa",
           "#EF553B",
           "#00cc96",
           "#ab63fa",
           "#FFA15A",
           "#19d3f3",
           "#FF6692",
           "#B6E880",
           "#FF97FF",
           "#FECB52"
          ],
          "font": {
           "color": "#2a3f5f"
          },
          "geo": {
           "bgcolor": "white",
           "lakecolor": "white",
           "landcolor": "white",
           "showlakes": true,
           "showland": true,
           "subunitcolor": "#C8D4E3"
          },
          "hoverlabel": {
           "align": "left"
          },
          "hovermode": "closest",
          "mapbox": {
           "style": "light"
          },
          "paper_bgcolor": "white",
          "plot_bgcolor": "white",
          "polar": {
           "angularaxis": {
            "gridcolor": "#EBF0F8",
            "linecolor": "#EBF0F8",
            "ticks": ""
           },
           "bgcolor": "white",
           "radialaxis": {
            "gridcolor": "#EBF0F8",
            "linecolor": "#EBF0F8",
            "ticks": ""
           }
          },
          "scene": {
           "xaxis": {
            "backgroundcolor": "white",
            "gridcolor": "#DFE8F3",
            "gridwidth": 2,
            "linecolor": "#EBF0F8",
            "showbackground": true,
            "ticks": "",
            "zerolinecolor": "#EBF0F8"
           },
           "yaxis": {
            "backgroundcolor": "white",
            "gridcolor": "#DFE8F3",
            "gridwidth": 2,
            "linecolor": "#EBF0F8",
            "showbackground": true,
            "ticks": "",
            "zerolinecolor": "#EBF0F8"
           },
           "zaxis": {
            "backgroundcolor": "white",
            "gridcolor": "#DFE8F3",
            "gridwidth": 2,
            "linecolor": "#EBF0F8",
            "showbackground": true,
            "ticks": "",
            "zerolinecolor": "#EBF0F8"
           }
          },
          "shapedefaults": {
           "line": {
            "color": "#2a3f5f"
           }
          },
          "ternary": {
           "aaxis": {
            "gridcolor": "#DFE8F3",
            "linecolor": "#A2B1C6",
            "ticks": ""
           },
           "baxis": {
            "gridcolor": "#DFE8F3",
            "linecolor": "#A2B1C6",
            "ticks": ""
           },
           "bgcolor": "white",
           "caxis": {
            "gridcolor": "#DFE8F3",
            "linecolor": "#A2B1C6",
            "ticks": ""
           }
          },
          "title": {
           "x": 0.05
          },
          "xaxis": {
           "automargin": true,
           "gridcolor": "#EBF0F8",
           "linecolor": "#EBF0F8",
           "ticks": "",
           "title": {
            "standoff": 15
           },
           "zerolinecolor": "#EBF0F8",
           "zerolinewidth": 2
          },
          "yaxis": {
           "automargin": true,
           "gridcolor": "#EBF0F8",
           "linecolor": "#EBF0F8",
           "ticks": "",
           "title": {
            "standoff": 15
           },
           "zerolinecolor": "#EBF0F8",
           "zerolinewidth": 2
          }
         }
        },
        "title": {
         "text": "Sentiment Heatmap: All Speeches"
        },
        "xaxis": {
         "tickangle": -45,
         "title": {
          "text": "Speech Location"
         }
        },
        "yaxis": {
         "title": {
          "text": "Sentiment Type"
         }
        }
       }
      }
     },
     "metadata": {},
     "output_type": "display_data"
    }
   ],
   "source": [
    "# Create sentiment heatmap\n",
    "heatmap_data = sentiment_df[['positive', 'negative', 'neutral']].T\n",
    "heatmap_data.columns = [f\"{row['location'][:15]}...\" if len(row['location']) > 15 \n",
    "                        else row['location'] \n",
    "                        for _, row in sentiment_df.iterrows()]\n",
    "\n",
    "fig = go.Figure(data=go.Heatmap(\n",
    "    z=heatmap_data.values,\n",
    "    x=heatmap_data.columns,\n",
    "    y=['Positive', 'Negative', 'Neutral'],\n",
    "    colorscale='RdYlGn',\n",
    "    text=heatmap_data.values,\n",
    "    texttemplate='%{text:.2f}',\n",
    "    textfont={\"size\": 10},\n",
    "    colorbar=dict(title=\"Probability\")\n",
    "))\n",
    "\n",
    "fig.update_layout(\n",
    "    title='Sentiment Heatmap: All Speeches',\n",
    "    xaxis_title='Speech Location',\n",
    "    yaxis_title='Sentiment Type',\n",
    "    height=400,\n",
    "    template='plotly_white'\n",
    ")\n",
    "\n",
    "fig.update_xaxes(tickangle=-45)\n",
    "fig.show()"
   ]
  },
  {
   "cell_type": "markdown",
   "id": "6e2918e7",
   "metadata": {},
   "source": [
    "## Chunk-Level Sentiment Analysis\n",
    "\n",
    "Examining sentiment variation within individual speeches."
   ]
  },
  {
   "cell_type": "code",
   "execution_count": 10,
   "id": "7de657e6",
   "metadata": {},
   "outputs": [
    {
     "data": {
      "application/vnd.plotly.v1+json": {
       "config": {
        "plotlyServerURL": "https://plot.ly"
       },
       "data": [
        {
         "line": {
          "color": "#2ecc71"
         },
         "mode": "lines+markers",
         "name": "Positive",
         "showlegend": true,
         "type": "scatter",
         "x": [
          0,
          1,
          2,
          3,
          4,
          5,
          6,
          7,
          8,
          9,
          10,
          11,
          12,
          13,
          14,
          15,
          16,
          17,
          18,
          19,
          20,
          21,
          22,
          23,
          24,
          25,
          26,
          27
         ],
         "xaxis": "x",
         "y": {
          "bdata": "ohcQPxG7Cz9W+xo/NXcUP1AFGz8L7CI/Z8IeP3i9Gz/wJxs/omYeP5De/T6GOxU/S5wkP/LDFD/DfRY/9z8JP354FD92fQ0/700UP3FcED84whQ/Fs8GP0lYCj9z4xE/tjEXP63w+T5jEAQ/dP8FPw==",
          "dtype": "f4"
         },
         "yaxis": "y"
        },
        {
         "line": {
          "color": "#e74c3c"
         },
         "mode": "lines+markers",
         "name": "Negative",
         "showlegend": true,
         "type": "scatter",
         "x": [
          0,
          1,
          2,
          3,
          4,
          5,
          6,
          7,
          8,
          9,
          10,
          11,
          12,
          13,
          14,
          15,
          16,
          17,
          18,
          19,
          20,
          21,
          22,
          23,
          24,
          25,
          26,
          27
         ],
         "xaxis": "x",
         "y": {
          "bdata": "zp+RPvnnlD7x34A+KOmBPrPgez5bPWY+Pg+APhDefj4wTIE+FEx5PpvroD5D6Ik+gsNlPnigjz6MMoU+3dyZPj+hhz4oGpo+ecGQPqbYkz7VhI8+KWOdPr/rjj7g/Y0+LciLPsQ4oj7S3Jk+rjaePg==",
          "dtype": "f4"
         },
         "yaxis": "y"
        },
        {
         "line": {
          "color": "#95a5a6"
         },
         "mode": "lines+markers",
         "name": "Neutral",
         "showlegend": true,
         "type": "scatter",
         "x": [
          0,
          1,
          2,
          3,
          4,
          5,
          6,
          7,
          8,
          9,
          10,
          11,
          12,
          13,
          14,
          15,
          16,
          17,
          18,
          19,
          20,
          21,
          22,
          23,
          24,
          25,
          26,
          27
         ],
         "xaxis": "x",
         "y": {
          "bdata": "2WEcPshDJz7EUhI+3VAqPgkKGD54Eg4+7NcEPhMsEj7bxxA+ZhkNPqhrQj5mQRc+UssHPk2vDT7boxs+aUYnPorbHj7V1RU+UEUNPvLcFj517Q0+VP0pPmHHOD56dhw+y6gLPiGtRz7NBDw+05QrPg==",
          "dtype": "f4"
         },
         "yaxis": "y"
        },
        {
         "line": {
          "color": "#2ecc71"
         },
         "mode": "lines+markers",
         "name": "Positive",
         "showlegend": false,
         "type": "scatter",
         "x": [
          0,
          1,
          2,
          3,
          4,
          5,
          6,
          7,
          8,
          9,
          10,
          11,
          12,
          13,
          14,
          15,
          16,
          17,
          18,
          19,
          20,
          21,
          22,
          23,
          24,
          25,
          26,
          27,
          28,
          29,
          30,
          31,
          32,
          33,
          34,
          35,
          36,
          37,
          38,
          39,
          40,
          41,
          42,
          43,
          44,
          45,
          46,
          47
         ],
         "xaxis": "x2",
         "y": {
          "bdata": "QYoKPxEeEz+CKRY/5poSP69zDj8sKxE/rOILP3qvBj/HrRs/v78YPwByGD+2ZiQ/6ZUWPyTiHz+6nBc/g5odP9d9GT+2KyM/FncWPzOhFD8smR8/VqoVPwtWFT/pBBc/p10WPzdhGj8MbBc/HAwNP1diCz/ufBk/LIEFP54O/j7lQxo/lO0YP5h8Ez+QGhI/fhAEPwegHj+83B8/pYkYP5HjHT8NTBA/gcMJP0HIGj8+SBk/mtgQP2bTFz92c+g+",
          "dtype": "f4"
         },
         "yaxis": "y2"
        },
        {
         "line": {
          "color": "#e74c3c"
         },
         "mode": "lines+markers",
         "name": "Negative",
         "showlegend": false,
         "type": "scatter",
         "x": [
          0,
          1,
          2,
          3,
          4,
          5,
          6,
          7,
          8,
          9,
          10,
          11,
          12,
          13,
          14,
          15,
          16,
          17,
          18,
          19,
          20,
          21,
          22,
          23,
          24,
          25,
          26,
          27,
          28,
          29,
          30,
          31,
          32,
          33,
          34,
          35,
          36,
          37,
          38,
          39,
          40,
          41,
          42,
          43,
          44,
          45,
          46,
          47
         ],
         "xaxis": "x2",
         "y": {
          "bdata": "BxKPPpLZiT5oAIc+c7eQPiUblT6d6pE+Lb+RPr7plj6g1IQ+8/eNPmBOij4ODWQ+mnuJPtucdz6b4Is+4N2APm1+hz6DBGs+lzSKPghSjD7IomY+KFGPPhU5iT4ri40+wKSJPorkij5axIY+rcSOPpk6kT4P0oU+XMyhPkOZnD6mg4U+aCSMPmPClD4mPoM+lzCgPm/dfD6PGWM+k7GIPnvPgT6QgJI+/T+aPn50hT7zz4g+CJWOPgP2iT6Rv5s+",
          "dtype": "f4"
         },
         "yaxis": "y2"
        },
        {
         "line": {
          "color": "#95a5a6"
         },
         "mode": "lines+markers",
         "name": "Neutral",
         "showlegend": false,
         "type": "scatter",
         "x": [
          0,
          1,
          2,
          3,
          4,
          5,
          6,
          7,
          8,
          9,
          10,
          11,
          12,
          13,
          14,
          15,
          16,
          17,
          18,
          19,
          20,
          21,
          22,
          23,
          24,
          25,
          26,
          27,
          28,
          29,
          30,
          31,
          32,
          33,
          34,
          35,
          36,
          37,
          38,
          39,
          40,
          41,
          42,
          43,
          44,
          45,
          46,
          47
         ],
         "xaxis": "x2",
         "y": {
          "bdata": "87I3Pp3UHz4nWRk+hCUUPvr6Gz4bfhc+/fYsPppuNz6onwc+IBEBPkSbCT4YWAo+K7ESPpbaCD7gywk+MtoHPs0LCz6oTAg+fLoRPinXFD6H+Bo+WrQKPqc1GD4K1gg+5T8TPgyyAD4hxxQ+M0YuPncBMD4raA4+nGImPkKwSj4f6Qs+4wAEPtuICD53GTE+21wvPneiCD58cx0+RHYMPsjSBD6qzhk+/3EkPgD2CT4cPwk+iHMfPmDGDD7xmXc+",
          "dtype": "f4"
         },
         "yaxis": "y2"
        },
        {
         "line": {
          "color": "#2ecc71"
         },
         "mode": "lines+markers",
         "name": "Positive",
         "showlegend": false,
         "type": "scatter",
         "x": [
          0,
          1,
          2,
          3,
          4,
          5,
          6,
          7,
          8,
          9,
          10,
          11,
          12,
          13,
          14,
          15,
          16
         ],
         "xaxis": "x3",
         "y": {
          "bdata": "/fcRP8ZyDT+hwQU/etwHP5vkBj/42gg/k8cOP8yTGz+yHuw+F2sMP8lWEz9+iR0/h6kePyt9Dj/rLgQ/He4LPwm6/T4=",
          "dtype": "f4"
         },
         "yaxis": "y3"
        },
        {
         "line": {
          "color": "#e74c3c"
         },
         "mode": "lines+markers",
         "name": "Negative",
         "showlegend": false,
         "type": "scatter",
         "x": [
          0,
          1,
          2,
          3,
          4,
          5,
          6,
          7,
          8,
          9,
          10,
          11,
          12,
          13,
          14,
          15,
          16
         ],
         "xaxis": "x3",
         "y": {
          "bdata": "FoaSPn5Rjj5YfZg+zsSXPoUpmT7SI5U+HKR3PjN7eT7wdac+BTOcPkZmkD7gkXg+NVN4PmSYmD7M+Zg+FWqRPoAAoT4=",
          "dtype": "f4"
         },
         "yaxis": "y3"
        },
        {
         "line": {
          "color": "#95a5a6"
         },
         "mode": "lines+markers",
         "name": "Neutral",
         "showlegend": false,
         "type": "scatter",
         "x": [
          0,
          1,
          2,
          3,
          4,
          5,
          6,
          7,
          8,
          9,
          10,
          11,
          12,
          13,
          14,
          15,
          16
         ],
         "xaxis": "x3",
         "y": {
          "bdata": "3hMTPueRLT7J/jc+eAQxPokaMj56TDI+mT1NPpw1GD671lg+l+0VPlLYET4rSBE+qgYNPovaFD69UD0+X3MtPvOKQj4=",
          "dtype": "f4"
         },
         "yaxis": "y3"
        },
        {
         "line": {
          "color": "#2ecc71"
         },
         "mode": "lines+markers",
         "name": "Positive",
         "showlegend": false,
         "type": "scatter",
         "x": [
          0,
          1,
          2,
          3,
          4,
          5,
          6,
          7,
          8,
          9,
          10,
          11,
          12,
          13,
          14,
          15,
          16,
          17,
          18,
          19,
          20,
          21,
          22,
          23,
          24,
          25,
          26,
          27,
          28,
          29,
          30,
          31,
          32,
          33,
          34,
          35,
          36,
          37
         ],
         "xaxis": "x4",
         "y": {
          "bdata": "nL4XP73TGj8uuho/KrUkP3bRIz9dpR0/7AUXP2XPIz+XUBs/20UTPzEIDz+y2hU/qQghP0YGFD/2DBQ/16cTP+l6IT/U5Bg/UQ0PPwvqEz+a0hk/s88jP7W0ID9zfBs/U/QiP0dw+T6ugQc/BlgSP8BXFj+0SBU/BzsTP9maDj+O7wo/GJMVPy7kFD8oVww/9b0NP21D7z4=",
          "dtype": "f4"
         },
         "yaxis": "y4"
        },
        {
         "line": {
          "color": "#e74c3c"
         },
         "mode": "lines+markers",
         "name": "Negative",
         "showlegend": false,
         "type": "scatter",
         "x": [
          0,
          1,
          2,
          3,
          4,
          5,
          6,
          7,
          8,
          9,
          10,
          11,
          12,
          13,
          14,
          15,
          16,
          17,
          18,
          19,
          20,
          21,
          22,
          23,
          24,
          25,
          26,
          27,
          28,
          29,
          30,
          31,
          32,
          33,
          34,
          35,
          36,
          37
         ],
         "xaxis": "x4",
         "y": {
          "bdata": "AIuNPnoShj7dGYo+v1ZrPn7xaD7xmXw+0E+MPlTdZj72soc+OiqMPs29lT51K40+GMRyPiy2jz54Lo4+gWaNPpnJbz5RR40+ZqeXPoTyjj4bDIc+LNFtPllkdz5NOIU+CyFpPgqTnj5fxJU+nG6OPmSxjD4y+Yo+JReIPnUZlT6o55E+E+OIPsTehT7uXpY+0UmWPiDioj4=",
          "dtype": "f4"
         },
         "yaxis": "y4"
        },
        {
         "line": {
          "color": "#95a5a6"
         },
         "mode": "lines+markers",
         "name": "Neutral",
         "showlegend": false,
         "type": "scatter",
         "x": [
          0,
          1,
          2,
          3,
          4,
          5,
          6,
          7,
          8,
          9,
          10,
          11,
          12,
          13,
          14,
          15,
          16,
          17,
          18,
          19,
          20,
          21,
          22,
          23,
          24,
          25,
          26,
          27,
          28,
          29,
          30,
          31,
          32,
          33,
          34,
          35,
          36,
          37
         ],
         "xaxis": "x4",
         "y": {
          "bdata": "j+8FPhiMCD6L4wA+nNQBPq3IBz6Y0Aw+sUgLPhvlCT6/VwM+GZQaPp9jGD5SPg4+RhkJPo96ED4zbxM+o5MWPsRKCj4M3gE+7nsUPs9yEj5knQo+CfACPtXIBT6XnQc+qg0LPlj5Tz6McDY+r8IZPjY+DT7R6hQ+m+UiPrVhGz55cjA+d+0XPrqxID6F5SE+iXQcPuW0Wz4=",
          "dtype": "f4"
         },
         "yaxis": "y4"
        }
       ],
       "layout": {
        "annotations": [
         {
          "font": {
           "size": 16
          },
          "showarrow": false,
          "text": "Greenville (Jul 2019)",
          "x": 0.225,
          "xanchor": "center",
          "xref": "paper",
          "y": 1,
          "yanchor": "bottom",
          "yref": "paper"
         },
         {
          "font": {
           "size": 16
          },
          "showarrow": false,
          "text": "Battle Creek (Dec 2019)",
          "x": 0.775,
          "xanchor": "center",
          "xref": "paper",
          "y": 1,
          "yanchor": "bottom",
          "yref": "paper"
         },
         {
          "font": {
           "size": 16
          },
          "showarrow": false,
          "text": "New Hampshire (Feb 2020)",
          "x": 0.225,
          "xanchor": "center",
          "xref": "paper",
          "y": 0.375,
          "yanchor": "bottom",
          "yref": "paper"
         },
         {
          "font": {
           "size": 16
          },
          "showarrow": false,
          "text": "Minden (Sep 2020)",
          "x": 0.775,
          "xanchor": "center",
          "xref": "paper",
          "y": 0.375,
          "yanchor": "bottom",
          "yref": "paper"
         }
        ],
        "height": 800,
        "showlegend": true,
        "template": {
         "data": {
          "bar": [
           {
            "error_x": {
             "color": "#2a3f5f"
            },
            "error_y": {
             "color": "#2a3f5f"
            },
            "marker": {
             "line": {
              "color": "white",
              "width": 0.5
             },
             "pattern": {
              "fillmode": "overlay",
              "size": 10,
              "solidity": 0.2
             }
            },
            "type": "bar"
           }
          ],
          "barpolar": [
           {
            "marker": {
             "line": {
              "color": "white",
              "width": 0.5
             },
             "pattern": {
              "fillmode": "overlay",
              "size": 10,
              "solidity": 0.2
             }
            },
            "type": "barpolar"
           }
          ],
          "carpet": [
           {
            "aaxis": {
             "endlinecolor": "#2a3f5f",
             "gridcolor": "#C8D4E3",
             "linecolor": "#C8D4E3",
             "minorgridcolor": "#C8D4E3",
             "startlinecolor": "#2a3f5f"
            },
            "baxis": {
             "endlinecolor": "#2a3f5f",
             "gridcolor": "#C8D4E3",
             "linecolor": "#C8D4E3",
             "minorgridcolor": "#C8D4E3",
             "startlinecolor": "#2a3f5f"
            },
            "type": "carpet"
           }
          ],
          "choropleth": [
           {
            "colorbar": {
             "outlinewidth": 0,
             "ticks": ""
            },
            "type": "choropleth"
           }
          ],
          "contour": [
           {
            "colorbar": {
             "outlinewidth": 0,
             "ticks": ""
            },
            "colorscale": [
             [
              0,
              "#0d0887"
             ],
             [
              0.1111111111111111,
              "#46039f"
             ],
             [
              0.2222222222222222,
              "#7201a8"
             ],
             [
              0.3333333333333333,
              "#9c179e"
             ],
             [
              0.4444444444444444,
              "#bd3786"
             ],
             [
              0.5555555555555556,
              "#d8576b"
             ],
             [
              0.6666666666666666,
              "#ed7953"
             ],
             [
              0.7777777777777778,
              "#fb9f3a"
             ],
             [
              0.8888888888888888,
              "#fdca26"
             ],
             [
              1,
              "#f0f921"
             ]
            ],
            "type": "contour"
           }
          ],
          "contourcarpet": [
           {
            "colorbar": {
             "outlinewidth": 0,
             "ticks": ""
            },
            "type": "contourcarpet"
           }
          ],
          "heatmap": [
           {
            "colorbar": {
             "outlinewidth": 0,
             "ticks": ""
            },
            "colorscale": [
             [
              0,
              "#0d0887"
             ],
             [
              0.1111111111111111,
              "#46039f"
             ],
             [
              0.2222222222222222,
              "#7201a8"
             ],
             [
              0.3333333333333333,
              "#9c179e"
             ],
             [
              0.4444444444444444,
              "#bd3786"
             ],
             [
              0.5555555555555556,
              "#d8576b"
             ],
             [
              0.6666666666666666,
              "#ed7953"
             ],
             [
              0.7777777777777778,
              "#fb9f3a"
             ],
             [
              0.8888888888888888,
              "#fdca26"
             ],
             [
              1,
              "#f0f921"
             ]
            ],
            "type": "heatmap"
           }
          ],
          "histogram": [
           {
            "marker": {
             "pattern": {
              "fillmode": "overlay",
              "size": 10,
              "solidity": 0.2
             }
            },
            "type": "histogram"
           }
          ],
          "histogram2d": [
           {
            "colorbar": {
             "outlinewidth": 0,
             "ticks": ""
            },
            "colorscale": [
             [
              0,
              "#0d0887"
             ],
             [
              0.1111111111111111,
              "#46039f"
             ],
             [
              0.2222222222222222,
              "#7201a8"
             ],
             [
              0.3333333333333333,
              "#9c179e"
             ],
             [
              0.4444444444444444,
              "#bd3786"
             ],
             [
              0.5555555555555556,
              "#d8576b"
             ],
             [
              0.6666666666666666,
              "#ed7953"
             ],
             [
              0.7777777777777778,
              "#fb9f3a"
             ],
             [
              0.8888888888888888,
              "#fdca26"
             ],
             [
              1,
              "#f0f921"
             ]
            ],
            "type": "histogram2d"
           }
          ],
          "histogram2dcontour": [
           {
            "colorbar": {
             "outlinewidth": 0,
             "ticks": ""
            },
            "colorscale": [
             [
              0,
              "#0d0887"
             ],
             [
              0.1111111111111111,
              "#46039f"
             ],
             [
              0.2222222222222222,
              "#7201a8"
             ],
             [
              0.3333333333333333,
              "#9c179e"
             ],
             [
              0.4444444444444444,
              "#bd3786"
             ],
             [
              0.5555555555555556,
              "#d8576b"
             ],
             [
              0.6666666666666666,
              "#ed7953"
             ],
             [
              0.7777777777777778,
              "#fb9f3a"
             ],
             [
              0.8888888888888888,
              "#fdca26"
             ],
             [
              1,
              "#f0f921"
             ]
            ],
            "type": "histogram2dcontour"
           }
          ],
          "mesh3d": [
           {
            "colorbar": {
             "outlinewidth": 0,
             "ticks": ""
            },
            "type": "mesh3d"
           }
          ],
          "parcoords": [
           {
            "line": {
             "colorbar": {
              "outlinewidth": 0,
              "ticks": ""
             }
            },
            "type": "parcoords"
           }
          ],
          "pie": [
           {
            "automargin": true,
            "type": "pie"
           }
          ],
          "scatter": [
           {
            "fillpattern": {
             "fillmode": "overlay",
             "size": 10,
             "solidity": 0.2
            },
            "type": "scatter"
           }
          ],
          "scatter3d": [
           {
            "line": {
             "colorbar": {
              "outlinewidth": 0,
              "ticks": ""
             }
            },
            "marker": {
             "colorbar": {
              "outlinewidth": 0,
              "ticks": ""
             }
            },
            "type": "scatter3d"
           }
          ],
          "scattercarpet": [
           {
            "marker": {
             "colorbar": {
              "outlinewidth": 0,
              "ticks": ""
             }
            },
            "type": "scattercarpet"
           }
          ],
          "scattergeo": [
           {
            "marker": {
             "colorbar": {
              "outlinewidth": 0,
              "ticks": ""
             }
            },
            "type": "scattergeo"
           }
          ],
          "scattergl": [
           {
            "marker": {
             "colorbar": {
              "outlinewidth": 0,
              "ticks": ""
             }
            },
            "type": "scattergl"
           }
          ],
          "scattermap": [
           {
            "marker": {
             "colorbar": {
              "outlinewidth": 0,
              "ticks": ""
             }
            },
            "type": "scattermap"
           }
          ],
          "scattermapbox": [
           {
            "marker": {
             "colorbar": {
              "outlinewidth": 0,
              "ticks": ""
             }
            },
            "type": "scattermapbox"
           }
          ],
          "scatterpolar": [
           {
            "marker": {
             "colorbar": {
              "outlinewidth": 0,
              "ticks": ""
             }
            },
            "type": "scatterpolar"
           }
          ],
          "scatterpolargl": [
           {
            "marker": {
             "colorbar": {
              "outlinewidth": 0,
              "ticks": ""
             }
            },
            "type": "scatterpolargl"
           }
          ],
          "scatterternary": [
           {
            "marker": {
             "colorbar": {
              "outlinewidth": 0,
              "ticks": ""
             }
            },
            "type": "scatterternary"
           }
          ],
          "surface": [
           {
            "colorbar": {
             "outlinewidth": 0,
             "ticks": ""
            },
            "colorscale": [
             [
              0,
              "#0d0887"
             ],
             [
              0.1111111111111111,
              "#46039f"
             ],
             [
              0.2222222222222222,
              "#7201a8"
             ],
             [
              0.3333333333333333,
              "#9c179e"
             ],
             [
              0.4444444444444444,
              "#bd3786"
             ],
             [
              0.5555555555555556,
              "#d8576b"
             ],
             [
              0.6666666666666666,
              "#ed7953"
             ],
             [
              0.7777777777777778,
              "#fb9f3a"
             ],
             [
              0.8888888888888888,
              "#fdca26"
             ],
             [
              1,
              "#f0f921"
             ]
            ],
            "type": "surface"
           }
          ],
          "table": [
           {
            "cells": {
             "fill": {
              "color": "#EBF0F8"
             },
             "line": {
              "color": "white"
             }
            },
            "header": {
             "fill": {
              "color": "#C8D4E3"
             },
             "line": {
              "color": "white"
             }
            },
            "type": "table"
           }
          ]
         },
         "layout": {
          "annotationdefaults": {
           "arrowcolor": "#2a3f5f",
           "arrowhead": 0,
           "arrowwidth": 1
          },
          "autotypenumbers": "strict",
          "coloraxis": {
           "colorbar": {
            "outlinewidth": 0,
            "ticks": ""
           }
          },
          "colorscale": {
           "diverging": [
            [
             0,
             "#8e0152"
            ],
            [
             0.1,
             "#c51b7d"
            ],
            [
             0.2,
             "#de77ae"
            ],
            [
             0.3,
             "#f1b6da"
            ],
            [
             0.4,
             "#fde0ef"
            ],
            [
             0.5,
             "#f7f7f7"
            ],
            [
             0.6,
             "#e6f5d0"
            ],
            [
             0.7,
             "#b8e186"
            ],
            [
             0.8,
             "#7fbc41"
            ],
            [
             0.9,
             "#4d9221"
            ],
            [
             1,
             "#276419"
            ]
           ],
           "sequential": [
            [
             0,
             "#0d0887"
            ],
            [
             0.1111111111111111,
             "#46039f"
            ],
            [
             0.2222222222222222,
             "#7201a8"
            ],
            [
             0.3333333333333333,
             "#9c179e"
            ],
            [
             0.4444444444444444,
             "#bd3786"
            ],
            [
             0.5555555555555556,
             "#d8576b"
            ],
            [
             0.6666666666666666,
             "#ed7953"
            ],
            [
             0.7777777777777778,
             "#fb9f3a"
            ],
            [
             0.8888888888888888,
             "#fdca26"
            ],
            [
             1,
             "#f0f921"
            ]
           ],
           "sequentialminus": [
            [
             0,
             "#0d0887"
            ],
            [
             0.1111111111111111,
             "#46039f"
            ],
            [
             0.2222222222222222,
             "#7201a8"
            ],
            [
             0.3333333333333333,
             "#9c179e"
            ],
            [
             0.4444444444444444,
             "#bd3786"
            ],
            [
             0.5555555555555556,
             "#d8576b"
            ],
            [
             0.6666666666666666,
             "#ed7953"
            ],
            [
             0.7777777777777778,
             "#fb9f3a"
            ],
            [
             0.8888888888888888,
             "#fdca26"
            ],
            [
             1,
             "#f0f921"
            ]
           ]
          },
          "colorway": [
           "#636efa",
           "#EF553B",
           "#00cc96",
           "#ab63fa",
           "#FFA15A",
           "#19d3f3",
           "#FF6692",
           "#B6E880",
           "#FF97FF",
           "#FECB52"
          ],
          "font": {
           "color": "#2a3f5f"
          },
          "geo": {
           "bgcolor": "white",
           "lakecolor": "white",
           "landcolor": "white",
           "showlakes": true,
           "showland": true,
           "subunitcolor": "#C8D4E3"
          },
          "hoverlabel": {
           "align": "left"
          },
          "hovermode": "closest",
          "mapbox": {
           "style": "light"
          },
          "paper_bgcolor": "white",
          "plot_bgcolor": "white",
          "polar": {
           "angularaxis": {
            "gridcolor": "#EBF0F8",
            "linecolor": "#EBF0F8",
            "ticks": ""
           },
           "bgcolor": "white",
           "radialaxis": {
            "gridcolor": "#EBF0F8",
            "linecolor": "#EBF0F8",
            "ticks": ""
           }
          },
          "scene": {
           "xaxis": {
            "backgroundcolor": "white",
            "gridcolor": "#DFE8F3",
            "gridwidth": 2,
            "linecolor": "#EBF0F8",
            "showbackground": true,
            "ticks": "",
            "zerolinecolor": "#EBF0F8"
           },
           "yaxis": {
            "backgroundcolor": "white",
            "gridcolor": "#DFE8F3",
            "gridwidth": 2,
            "linecolor": "#EBF0F8",
            "showbackground": true,
            "ticks": "",
            "zerolinecolor": "#EBF0F8"
           },
           "zaxis": {
            "backgroundcolor": "white",
            "gridcolor": "#DFE8F3",
            "gridwidth": 2,
            "linecolor": "#EBF0F8",
            "showbackground": true,
            "ticks": "",
            "zerolinecolor": "#EBF0F8"
           }
          },
          "shapedefaults": {
           "line": {
            "color": "#2a3f5f"
           }
          },
          "ternary": {
           "aaxis": {
            "gridcolor": "#DFE8F3",
            "linecolor": "#A2B1C6",
            "ticks": ""
           },
           "baxis": {
            "gridcolor": "#DFE8F3",
            "linecolor": "#A2B1C6",
            "ticks": ""
           },
           "bgcolor": "white",
           "caxis": {
            "gridcolor": "#DFE8F3",
            "linecolor": "#A2B1C6",
            "ticks": ""
           }
          },
          "title": {
           "x": 0.05
          },
          "xaxis": {
           "automargin": true,
           "gridcolor": "#EBF0F8",
           "linecolor": "#EBF0F8",
           "ticks": "",
           "title": {
            "standoff": 15
           },
           "zerolinecolor": "#EBF0F8",
           "zerolinewidth": 2
          },
          "yaxis": {
           "automargin": true,
           "gridcolor": "#EBF0F8",
           "linecolor": "#EBF0F8",
           "ticks": "",
           "title": {
            "standoff": 15
           },
           "zerolinecolor": "#EBF0F8",
           "zerolinewidth": 2
          }
         }
        },
        "title": {
         "text": "Sentiment Variation Within Individual Speeches"
        },
        "xaxis": {
         "anchor": "y",
         "domain": [
          0,
          0.45
         ],
         "title": {
          "text": "Chunk Index"
         }
        },
        "xaxis2": {
         "anchor": "y2",
         "domain": [
          0.55,
          1
         ],
         "title": {
          "text": "Chunk Index"
         }
        },
        "xaxis3": {
         "anchor": "y3",
         "domain": [
          0,
          0.45
         ],
         "title": {
          "text": "Chunk Index"
         }
        },
        "xaxis4": {
         "anchor": "y4",
         "domain": [
          0.55,
          1
         ],
         "title": {
          "text": "Chunk Index"
         }
        },
        "yaxis": {
         "anchor": "x",
         "domain": [
          0.625,
          1
         ],
         "title": {
          "text": "Sentiment Score"
         }
        },
        "yaxis2": {
         "anchor": "x2",
         "domain": [
          0.625,
          1
         ],
         "title": {
          "text": "Sentiment Score"
         }
        },
        "yaxis3": {
         "anchor": "x3",
         "domain": [
          0,
          0.375
         ],
         "title": {
          "text": "Sentiment Score"
         }
        },
        "yaxis4": {
         "anchor": "x4",
         "domain": [
          0,
          0.375
         ],
         "title": {
          "text": "Sentiment Score"
         }
        }
       }
      }
     },
     "metadata": {},
     "output_type": "display_data"
    }
   ],
   "source": [
    "# Select a few interesting speeches to examine in detail\n",
    "selected_speeches = [0, 10, 20, 30]  # First, middle, and later speeches\n",
    "\n",
    "fig = make_subplots(\n",
    "    rows=2, cols=2,\n",
    "    subplot_titles=[f\"{sentiment_results[i]['location']} ({sentiment_results[i]['month']} {sentiment_results[i]['year']})\" \n",
    "                    for i in selected_speeches]\n",
    ")\n",
    "\n",
    "positions = [(1, 1), (1, 2), (2, 1), (2, 2)]\n",
    "\n",
    "for idx, (speech_idx, pos) in enumerate(zip(selected_speeches, positions)):\n",
    "    result = sentiment_results[speech_idx]\n",
    "    chunks = result['chunk_predictions']\n",
    "    \n",
    "    chunk_indices = list(range(len(chunks)))\n",
    "    \n",
    "    # Add traces for each sentiment\n",
    "    fig.add_trace(\n",
    "        go.Scatter(x=chunk_indices, y=chunks[:, 0],\n",
    "                   mode='lines+markers', name='Positive',\n",
    "                   line=dict(color='#2ecc71'), showlegend=(idx == 0)),\n",
    "        row=pos[0], col=pos[1]\n",
    "    )\n",
    "    fig.add_trace(\n",
    "        go.Scatter(x=chunk_indices, y=chunks[:, 1],\n",
    "                   mode='lines+markers', name='Negative',\n",
    "                   line=dict(color='#e74c3c'), showlegend=(idx == 0)),\n",
    "        row=pos[0], col=pos[1]\n",
    "    )\n",
    "    fig.add_trace(\n",
    "        go.Scatter(x=chunk_indices, y=chunks[:, 2],\n",
    "                   mode='lines+markers', name='Neutral',\n",
    "                   line=dict(color='#95a5a6'), showlegend=(idx == 0)),\n",
    "        row=pos[0], col=pos[1]\n",
    "    )\n",
    "    \n",
    "    fig.update_xaxes(title_text=\"Chunk Index\", row=pos[0], col=pos[1])\n",
    "    fig.update_yaxes(title_text=\"Sentiment Score\", row=pos[0], col=pos[1])\n",
    "\n",
    "fig.update_layout(\n",
    "    height=800,\n",
    "    title_text=\"Sentiment Variation Within Individual Speeches\",\n",
    "    template='plotly_white',\n",
    "    showlegend=True\n",
    ")\n",
    "\n",
    "fig.show()"
   ]
  },
  {
   "cell_type": "markdown",
   "id": "3a2ae2c4",
   "metadata": {},
   "source": [
    "## Temporal Analysis: Sentiment Over Time\n",
    "\n",
    "Analyzing how sentiment evolved throughout 2019 and 2020."
   ]
  },
  {
   "cell_type": "code",
   "execution_count": 11,
   "id": "33016fbf",
   "metadata": {},
   "outputs": [
    {
     "data": {
      "application/vnd.plotly.v1+json": {
       "config": {
        "plotlyServerURL": "https://plot.ly"
       },
       "data": [
        {
         "hovertemplate": "<b>%{text}</b><br>Positive: %{y:.3f}<extra></extra>",
         "line": {
          "color": "#2ecc71",
          "width": 3
         },
         "marker": {
          "size": 8
         },
         "mode": "lines+markers",
         "name": "Positive",
         "text": [
          "Greenville",
          "Cincinnati",
          "New Hampshire",
          "Texas",
          "New Mexico",
          "Fayetteville",
          "Dallas",
          "Minneapolis",
          "Lexington",
          "Tupelo",
          "Battle Creek",
          "Hershey",
          "Wildwood",
          "Toledo",
          "Milwaukee",
          "Des Moines",
          "New Hampshire",
          "Las Vegas",
          "Colorador Springs",
          "Charleston",
          "Phoenix",
          "Charlotte",
          "Tulsa",
          "Yuma",
          "New Hampshire",
          "Bemidji",
          "Fayetteville",
          "Ohio",
          "Mosinee",
          "Pittsburgh",
          "Freeland",
          "Minden",
          "Salem",
          "Henderson",
          "Latrobe"
         ],
         "type": "scatter",
         "x": [
          "2019-07-15T00:00:00.000000000",
          "2019-08-15T00:00:00.000000000",
          "2019-08-15T00:00:00.000000000",
          "2019-09-15T00:00:00.000000000",
          "2019-09-15T00:00:00.000000000",
          "2019-09-15T00:00:00.000000000",
          "2019-10-15T00:00:00.000000000",
          "2019-10-15T00:00:00.000000000",
          "2019-11-15T00:00:00.000000000",
          "2019-11-15T00:00:00.000000000",
          "2019-12-15T00:00:00.000000000",
          "2019-12-15T00:00:00.000000000",
          "2020-01-15T00:00:00.000000000",
          "2020-01-15T00:00:00.000000000",
          "2020-01-15T00:00:00.000000000",
          "2020-01-15T00:00:00.000000000",
          "2020-02-15T00:00:00.000000000",
          "2020-02-15T00:00:00.000000000",
          "2020-02-15T00:00:00.000000000",
          "2020-02-15T00:00:00.000000000",
          "2020-02-15T00:00:00.000000000",
          "2020-03-15T00:00:00.000000000",
          "2020-06-15T00:00:00.000000000",
          "2020-08-15T00:00:00.000000000",
          "2020-08-15T00:00:00.000000000",
          "2020-09-15T00:00:00.000000000",
          "2020-09-15T00:00:00.000000000",
          "2020-09-15T00:00:00.000000000",
          "2020-09-15T00:00:00.000000000",
          "2020-09-15T00:00:00.000000000",
          "2020-09-15T00:00:00.000000000",
          "2020-09-15T00:00:00.000000000",
          "2020-09-15T00:00:00.000000000",
          "2020-09-15T00:00:00.000000000",
          "2020-09-15T00:00:00.000000000"
         ],
         "y": {
          "bdata": "CIsSP8iTED8WQRE/D/rZPrP7DD+rcAo/j0sPP+R/Ez+X/BA/EagTP5CMFD+MfxQ/nAMNP1EkET/qdBE/rWsRP/WfDD9glRQ//Q0QP6alED9xEQ4/MYoLP9mkFT/gKRI/WYwUP4BQEj+2qRA/98QRP+7iEj8i7hQ/MUMOP7n+FT9udhA/YIMQP2QcEz8=",
          "dtype": "f4"
         }
        },
        {
         "hovertemplate": "<b>%{text}</b><br>Negative: %{y:.3f}<extra></extra>",
         "line": {
          "color": "#e74c3c",
          "width": 3
         },
         "marker": {
          "size": 8
         },
         "mode": "lines+markers",
         "name": "Negative",
         "text": [
          "Greenville",
          "Cincinnati",
          "New Hampshire",
          "Texas",
          "New Mexico",
          "Fayetteville",
          "Dallas",
          "Minneapolis",
          "Lexington",
          "Tupelo",
          "Battle Creek",
          "Hershey",
          "Wildwood",
          "Toledo",
          "Milwaukee",
          "Des Moines",
          "New Hampshire",
          "Las Vegas",
          "Colorador Springs",
          "Charleston",
          "Phoenix",
          "Charlotte",
          "Tulsa",
          "Yuma",
          "New Hampshire",
          "Bemidji",
          "Fayetteville",
          "Ohio",
          "Mosinee",
          "Pittsburgh",
          "Freeland",
          "Minden",
          "Salem",
          "Henderson",
          "Latrobe"
         ],
         "type": "scatter",
         "x": [
          "2019-07-15T00:00:00.000000000",
          "2019-08-15T00:00:00.000000000",
          "2019-08-15T00:00:00.000000000",
          "2019-09-15T00:00:00.000000000",
          "2019-09-15T00:00:00.000000000",
          "2019-09-15T00:00:00.000000000",
          "2019-10-15T00:00:00.000000000",
          "2019-10-15T00:00:00.000000000",
          "2019-11-15T00:00:00.000000000",
          "2019-11-15T00:00:00.000000000",
          "2019-12-15T00:00:00.000000000",
          "2019-12-15T00:00:00.000000000",
          "2020-01-15T00:00:00.000000000",
          "2020-01-15T00:00:00.000000000",
          "2020-01-15T00:00:00.000000000",
          "2020-01-15T00:00:00.000000000",
          "2020-02-15T00:00:00.000000000",
          "2020-02-15T00:00:00.000000000",
          "2020-02-15T00:00:00.000000000",
          "2020-02-15T00:00:00.000000000",
          "2020-02-15T00:00:00.000000000",
          "2020-03-15T00:00:00.000000000",
          "2020-06-15T00:00:00.000000000",
          "2020-08-15T00:00:00.000000000",
          "2020-08-15T00:00:00.000000000",
          "2020-09-15T00:00:00.000000000",
          "2020-09-15T00:00:00.000000000",
          "2020-09-15T00:00:00.000000000",
          "2020-09-15T00:00:00.000000000",
          "2020-09-15T00:00:00.000000000",
          "2020-09-15T00:00:00.000000000",
          "2020-09-15T00:00:00.000000000",
          "2020-09-15T00:00:00.000000000",
          "2020-09-15T00:00:00.000000000",
          "2020-09-15T00:00:00.000000000"
         ],
         "y": {
          "bdata": "e1+MPjsEjz527I0+uxqmPqXVkD6JG5Q+XyKQPtdLjD6X4Iw+3UmKPhazij7BtIk+NwiTPtWgjj5E040+PjKOPk9wkT4JzIs+YcyRPsaNjj6Ak5A+jqSTPimiiT6+oYw+EliJPtNgjz4kD5E+0deOPigmjT7rfYs+f4uRPvN7iT6Pz48+zDqPPpFTjD4=",
          "dtype": "f4"
         }
        },
        {
         "hovertemplate": "<b>%{text}</b><br>Neutral: %{y:.3f}<extra></extra>",
         "line": {
          "color": "#95a5a6",
          "width": 3
         },
         "marker": {
          "size": 8
         },
         "mode": "lines+markers",
         "name": "Neutral",
         "text": [
          "Greenville",
          "Cincinnati",
          "New Hampshire",
          "Texas",
          "New Mexico",
          "Fayetteville",
          "Dallas",
          "Minneapolis",
          "Lexington",
          "Tupelo",
          "Battle Creek",
          "Hershey",
          "Wildwood",
          "Toledo",
          "Milwaukee",
          "Des Moines",
          "New Hampshire",
          "Las Vegas",
          "Colorador Springs",
          "Charleston",
          "Phoenix",
          "Charlotte",
          "Tulsa",
          "Yuma",
          "New Hampshire",
          "Bemidji",
          "Fayetteville",
          "Ohio",
          "Mosinee",
          "Pittsburgh",
          "Freeland",
          "Minden",
          "Salem",
          "Henderson",
          "Latrobe"
         ],
         "type": "scatter",
         "x": [
          "2019-07-15T00:00:00.000000000",
          "2019-08-15T00:00:00.000000000",
          "2019-08-15T00:00:00.000000000",
          "2019-09-15T00:00:00.000000000",
          "2019-09-15T00:00:00.000000000",
          "2019-09-15T00:00:00.000000000",
          "2019-10-15T00:00:00.000000000",
          "2019-10-15T00:00:00.000000000",
          "2019-11-15T00:00:00.000000000",
          "2019-11-15T00:00:00.000000000",
          "2019-12-15T00:00:00.000000000",
          "2019-12-15T00:00:00.000000000",
          "2020-01-15T00:00:00.000000000",
          "2020-01-15T00:00:00.000000000",
          "2020-01-15T00:00:00.000000000",
          "2020-01-15T00:00:00.000000000",
          "2020-02-15T00:00:00.000000000",
          "2020-02-15T00:00:00.000000000",
          "2020-02-15T00:00:00.000000000",
          "2020-02-15T00:00:00.000000000",
          "2020-02-15T00:00:00.000000000",
          "2020-03-15T00:00:00.000000000",
          "2020-06-15T00:00:00.000000000",
          "2020-08-15T00:00:00.000000000",
          "2020-08-15T00:00:00.000000000",
          "2020-09-15T00:00:00.000000000",
          "2020-09-15T00:00:00.000000000",
          "2020-09-15T00:00:00.000000000",
          "2020-09-15T00:00:00.000000000",
          "2020-09-15T00:00:00.000000000",
          "2020-09-15T00:00:00.000000000",
          "2020-09-15T00:00:00.000000000",
          "2020-09-15T00:00:00.000000000",
          "2020-09-15T00:00:00.000000000",
          "2020-09-15T00:00:00.000000000"
         ],
         "y": {
          "bdata": "4xQdPnGoHz67Ih8+cNZ/Pu5lKj4/Bi4+B40iPsVoGT5yTCI+AMwcPpFnGD5LmBo+JOElPhQtHj7QhR4+zuwdPo2fKj5uEhY+Ty8cPtxNID46kyY+Ho4qPlEoFj4JFR4+dx4bPln8Fz7fOhs+fjwbPvcnGj6eSxU+P9wjPjcNFT4ohx4+73wfPkTnGj4=",
          "dtype": "f4"
         }
        }
       ],
       "layout": {
        "annotations": [
         {
          "showarrow": false,
          "text": "2020 Begins",
          "x": "2020-01-01T00:00:00",
          "xref": "x",
          "y": 1.02,
          "yref": "paper"
         }
        ],
        "height": 500,
        "hovermode": "x unified",
        "shapes": [
         {
          "line": {
           "color": "gray",
           "dash": "dash"
          },
          "type": "line",
          "x0": "2020-01-01T00:00:00",
          "x1": "2020-01-01T00:00:00",
          "xref": "x",
          "y0": 0,
          "y1": 1,
          "yref": "paper"
         }
        ],
        "template": {
         "data": {
          "bar": [
           {
            "error_x": {
             "color": "#2a3f5f"
            },
            "error_y": {
             "color": "#2a3f5f"
            },
            "marker": {
             "line": {
              "color": "white",
              "width": 0.5
             },
             "pattern": {
              "fillmode": "overlay",
              "size": 10,
              "solidity": 0.2
             }
            },
            "type": "bar"
           }
          ],
          "barpolar": [
           {
            "marker": {
             "line": {
              "color": "white",
              "width": 0.5
             },
             "pattern": {
              "fillmode": "overlay",
              "size": 10,
              "solidity": 0.2
             }
            },
            "type": "barpolar"
           }
          ],
          "carpet": [
           {
            "aaxis": {
             "endlinecolor": "#2a3f5f",
             "gridcolor": "#C8D4E3",
             "linecolor": "#C8D4E3",
             "minorgridcolor": "#C8D4E3",
             "startlinecolor": "#2a3f5f"
            },
            "baxis": {
             "endlinecolor": "#2a3f5f",
             "gridcolor": "#C8D4E3",
             "linecolor": "#C8D4E3",
             "minorgridcolor": "#C8D4E3",
             "startlinecolor": "#2a3f5f"
            },
            "type": "carpet"
           }
          ],
          "choropleth": [
           {
            "colorbar": {
             "outlinewidth": 0,
             "ticks": ""
            },
            "type": "choropleth"
           }
          ],
          "contour": [
           {
            "colorbar": {
             "outlinewidth": 0,
             "ticks": ""
            },
            "colorscale": [
             [
              0,
              "#0d0887"
             ],
             [
              0.1111111111111111,
              "#46039f"
             ],
             [
              0.2222222222222222,
              "#7201a8"
             ],
             [
              0.3333333333333333,
              "#9c179e"
             ],
             [
              0.4444444444444444,
              "#bd3786"
             ],
             [
              0.5555555555555556,
              "#d8576b"
             ],
             [
              0.6666666666666666,
              "#ed7953"
             ],
             [
              0.7777777777777778,
              "#fb9f3a"
             ],
             [
              0.8888888888888888,
              "#fdca26"
             ],
             [
              1,
              "#f0f921"
             ]
            ],
            "type": "contour"
           }
          ],
          "contourcarpet": [
           {
            "colorbar": {
             "outlinewidth": 0,
             "ticks": ""
            },
            "type": "contourcarpet"
           }
          ],
          "heatmap": [
           {
            "colorbar": {
             "outlinewidth": 0,
             "ticks": ""
            },
            "colorscale": [
             [
              0,
              "#0d0887"
             ],
             [
              0.1111111111111111,
              "#46039f"
             ],
             [
              0.2222222222222222,
              "#7201a8"
             ],
             [
              0.3333333333333333,
              "#9c179e"
             ],
             [
              0.4444444444444444,
              "#bd3786"
             ],
             [
              0.5555555555555556,
              "#d8576b"
             ],
             [
              0.6666666666666666,
              "#ed7953"
             ],
             [
              0.7777777777777778,
              "#fb9f3a"
             ],
             [
              0.8888888888888888,
              "#fdca26"
             ],
             [
              1,
              "#f0f921"
             ]
            ],
            "type": "heatmap"
           }
          ],
          "histogram": [
           {
            "marker": {
             "pattern": {
              "fillmode": "overlay",
              "size": 10,
              "solidity": 0.2
             }
            },
            "type": "histogram"
           }
          ],
          "histogram2d": [
           {
            "colorbar": {
             "outlinewidth": 0,
             "ticks": ""
            },
            "colorscale": [
             [
              0,
              "#0d0887"
             ],
             [
              0.1111111111111111,
              "#46039f"
             ],
             [
              0.2222222222222222,
              "#7201a8"
             ],
             [
              0.3333333333333333,
              "#9c179e"
             ],
             [
              0.4444444444444444,
              "#bd3786"
             ],
             [
              0.5555555555555556,
              "#d8576b"
             ],
             [
              0.6666666666666666,
              "#ed7953"
             ],
             [
              0.7777777777777778,
              "#fb9f3a"
             ],
             [
              0.8888888888888888,
              "#fdca26"
             ],
             [
              1,
              "#f0f921"
             ]
            ],
            "type": "histogram2d"
           }
          ],
          "histogram2dcontour": [
           {
            "colorbar": {
             "outlinewidth": 0,
             "ticks": ""
            },
            "colorscale": [
             [
              0,
              "#0d0887"
             ],
             [
              0.1111111111111111,
              "#46039f"
             ],
             [
              0.2222222222222222,
              "#7201a8"
             ],
             [
              0.3333333333333333,
              "#9c179e"
             ],
             [
              0.4444444444444444,
              "#bd3786"
             ],
             [
              0.5555555555555556,
              "#d8576b"
             ],
             [
              0.6666666666666666,
              "#ed7953"
             ],
             [
              0.7777777777777778,
              "#fb9f3a"
             ],
             [
              0.8888888888888888,
              "#fdca26"
             ],
             [
              1,
              "#f0f921"
             ]
            ],
            "type": "histogram2dcontour"
           }
          ],
          "mesh3d": [
           {
            "colorbar": {
             "outlinewidth": 0,
             "ticks": ""
            },
            "type": "mesh3d"
           }
          ],
          "parcoords": [
           {
            "line": {
             "colorbar": {
              "outlinewidth": 0,
              "ticks": ""
             }
            },
            "type": "parcoords"
           }
          ],
          "pie": [
           {
            "automargin": true,
            "type": "pie"
           }
          ],
          "scatter": [
           {
            "fillpattern": {
             "fillmode": "overlay",
             "size": 10,
             "solidity": 0.2
            },
            "type": "scatter"
           }
          ],
          "scatter3d": [
           {
            "line": {
             "colorbar": {
              "outlinewidth": 0,
              "ticks": ""
             }
            },
            "marker": {
             "colorbar": {
              "outlinewidth": 0,
              "ticks": ""
             }
            },
            "type": "scatter3d"
           }
          ],
          "scattercarpet": [
           {
            "marker": {
             "colorbar": {
              "outlinewidth": 0,
              "ticks": ""
             }
            },
            "type": "scattercarpet"
           }
          ],
          "scattergeo": [
           {
            "marker": {
             "colorbar": {
              "outlinewidth": 0,
              "ticks": ""
             }
            },
            "type": "scattergeo"
           }
          ],
          "scattergl": [
           {
            "marker": {
             "colorbar": {
              "outlinewidth": 0,
              "ticks": ""
             }
            },
            "type": "scattergl"
           }
          ],
          "scattermap": [
           {
            "marker": {
             "colorbar": {
              "outlinewidth": 0,
              "ticks": ""
             }
            },
            "type": "scattermap"
           }
          ],
          "scattermapbox": [
           {
            "marker": {
             "colorbar": {
              "outlinewidth": 0,
              "ticks": ""
             }
            },
            "type": "scattermapbox"
           }
          ],
          "scatterpolar": [
           {
            "marker": {
             "colorbar": {
              "outlinewidth": 0,
              "ticks": ""
             }
            },
            "type": "scatterpolar"
           }
          ],
          "scatterpolargl": [
           {
            "marker": {
             "colorbar": {
              "outlinewidth": 0,
              "ticks": ""
             }
            },
            "type": "scatterpolargl"
           }
          ],
          "scatterternary": [
           {
            "marker": {
             "colorbar": {
              "outlinewidth": 0,
              "ticks": ""
             }
            },
            "type": "scatterternary"
           }
          ],
          "surface": [
           {
            "colorbar": {
             "outlinewidth": 0,
             "ticks": ""
            },
            "colorscale": [
             [
              0,
              "#0d0887"
             ],
             [
              0.1111111111111111,
              "#46039f"
             ],
             [
              0.2222222222222222,
              "#7201a8"
             ],
             [
              0.3333333333333333,
              "#9c179e"
             ],
             [
              0.4444444444444444,
              "#bd3786"
             ],
             [
              0.5555555555555556,
              "#d8576b"
             ],
             [
              0.6666666666666666,
              "#ed7953"
             ],
             [
              0.7777777777777778,
              "#fb9f3a"
             ],
             [
              0.8888888888888888,
              "#fdca26"
             ],
             [
              1,
              "#f0f921"
             ]
            ],
            "type": "surface"
           }
          ],
          "table": [
           {
            "cells": {
             "fill": {
              "color": "#EBF0F8"
             },
             "line": {
              "color": "white"
             }
            },
            "header": {
             "fill": {
              "color": "#C8D4E3"
             },
             "line": {
              "color": "white"
             }
            },
            "type": "table"
           }
          ]
         },
         "layout": {
          "annotationdefaults": {
           "arrowcolor": "#2a3f5f",
           "arrowhead": 0,
           "arrowwidth": 1
          },
          "autotypenumbers": "strict",
          "coloraxis": {
           "colorbar": {
            "outlinewidth": 0,
            "ticks": ""
           }
          },
          "colorscale": {
           "diverging": [
            [
             0,
             "#8e0152"
            ],
            [
             0.1,
             "#c51b7d"
            ],
            [
             0.2,
             "#de77ae"
            ],
            [
             0.3,
             "#f1b6da"
            ],
            [
             0.4,
             "#fde0ef"
            ],
            [
             0.5,
             "#f7f7f7"
            ],
            [
             0.6,
             "#e6f5d0"
            ],
            [
             0.7,
             "#b8e186"
            ],
            [
             0.8,
             "#7fbc41"
            ],
            [
             0.9,
             "#4d9221"
            ],
            [
             1,
             "#276419"
            ]
           ],
           "sequential": [
            [
             0,
             "#0d0887"
            ],
            [
             0.1111111111111111,
             "#46039f"
            ],
            [
             0.2222222222222222,
             "#7201a8"
            ],
            [
             0.3333333333333333,
             "#9c179e"
            ],
            [
             0.4444444444444444,
             "#bd3786"
            ],
            [
             0.5555555555555556,
             "#d8576b"
            ],
            [
             0.6666666666666666,
             "#ed7953"
            ],
            [
             0.7777777777777778,
             "#fb9f3a"
            ],
            [
             0.8888888888888888,
             "#fdca26"
            ],
            [
             1,
             "#f0f921"
            ]
           ],
           "sequentialminus": [
            [
             0,
             "#0d0887"
            ],
            [
             0.1111111111111111,
             "#46039f"
            ],
            [
             0.2222222222222222,
             "#7201a8"
            ],
            [
             0.3333333333333333,
             "#9c179e"
            ],
            [
             0.4444444444444444,
             "#bd3786"
            ],
            [
             0.5555555555555556,
             "#d8576b"
            ],
            [
             0.6666666666666666,
             "#ed7953"
            ],
            [
             0.7777777777777778,
             "#fb9f3a"
            ],
            [
             0.8888888888888888,
             "#fdca26"
            ],
            [
             1,
             "#f0f921"
            ]
           ]
          },
          "colorway": [
           "#636efa",
           "#EF553B",
           "#00cc96",
           "#ab63fa",
           "#FFA15A",
           "#19d3f3",
           "#FF6692",
           "#B6E880",
           "#FF97FF",
           "#FECB52"
          ],
          "font": {
           "color": "#2a3f5f"
          },
          "geo": {
           "bgcolor": "white",
           "lakecolor": "white",
           "landcolor": "white",
           "showlakes": true,
           "showland": true,
           "subunitcolor": "#C8D4E3"
          },
          "hoverlabel": {
           "align": "left"
          },
          "hovermode": "closest",
          "mapbox": {
           "style": "light"
          },
          "paper_bgcolor": "white",
          "plot_bgcolor": "white",
          "polar": {
           "angularaxis": {
            "gridcolor": "#EBF0F8",
            "linecolor": "#EBF0F8",
            "ticks": ""
           },
           "bgcolor": "white",
           "radialaxis": {
            "gridcolor": "#EBF0F8",
            "linecolor": "#EBF0F8",
            "ticks": ""
           }
          },
          "scene": {
           "xaxis": {
            "backgroundcolor": "white",
            "gridcolor": "#DFE8F3",
            "gridwidth": 2,
            "linecolor": "#EBF0F8",
            "showbackground": true,
            "ticks": "",
            "zerolinecolor": "#EBF0F8"
           },
           "yaxis": {
            "backgroundcolor": "white",
            "gridcolor": "#DFE8F3",
            "gridwidth": 2,
            "linecolor": "#EBF0F8",
            "showbackground": true,
            "ticks": "",
            "zerolinecolor": "#EBF0F8"
           },
           "zaxis": {
            "backgroundcolor": "white",
            "gridcolor": "#DFE8F3",
            "gridwidth": 2,
            "linecolor": "#EBF0F8",
            "showbackground": true,
            "ticks": "",
            "zerolinecolor": "#EBF0F8"
           }
          },
          "shapedefaults": {
           "line": {
            "color": "#2a3f5f"
           }
          },
          "ternary": {
           "aaxis": {
            "gridcolor": "#DFE8F3",
            "linecolor": "#A2B1C6",
            "ticks": ""
           },
           "baxis": {
            "gridcolor": "#DFE8F3",
            "linecolor": "#A2B1C6",
            "ticks": ""
           },
           "bgcolor": "white",
           "caxis": {
            "gridcolor": "#DFE8F3",
            "linecolor": "#A2B1C6",
            "ticks": ""
           }
          },
          "title": {
           "x": 0.05
          },
          "xaxis": {
           "automargin": true,
           "gridcolor": "#EBF0F8",
           "linecolor": "#EBF0F8",
           "ticks": "",
           "title": {
            "standoff": 15
           },
           "zerolinecolor": "#EBF0F8",
           "zerolinewidth": 2
          },
          "yaxis": {
           "automargin": true,
           "gridcolor": "#EBF0F8",
           "linecolor": "#EBF0F8",
           "ticks": "",
           "title": {
            "standoff": 15
           },
           "zerolinecolor": "#EBF0F8",
           "zerolinewidth": 2
          }
         }
        },
        "title": {
         "text": "Sentiment Evolution Over Time (2019-2020)"
        },
        "xaxis": {
         "title": {
          "text": "Date"
         }
        },
        "yaxis": {
         "title": {
          "text": "Sentiment Score"
         }
        }
       }
      }
     },
     "metadata": {},
     "output_type": "display_data"
    },
    {
     "data": {
      "application/vnd.plotly.v1+json": {
       "config": {
        "plotlyServerURL": "https://plot.ly"
       },
       "data": [
        {
         "marker": {
          "color": "#2ecc71",
          "opacity": 0.3,
          "size": 6
         },
         "mode": "markers",
         "name": "Positive (raw)",
         "showlegend": true,
         "type": "scatter",
         "x": [
          "2019-07-15T00:00:00.000000000",
          "2019-08-15T00:00:00.000000000",
          "2019-08-15T00:00:00.000000000",
          "2019-09-15T00:00:00.000000000",
          "2019-09-15T00:00:00.000000000",
          "2019-09-15T00:00:00.000000000",
          "2019-10-15T00:00:00.000000000",
          "2019-10-15T00:00:00.000000000",
          "2019-11-15T00:00:00.000000000",
          "2019-11-15T00:00:00.000000000",
          "2019-12-15T00:00:00.000000000",
          "2019-12-15T00:00:00.000000000",
          "2020-01-15T00:00:00.000000000",
          "2020-01-15T00:00:00.000000000",
          "2020-01-15T00:00:00.000000000",
          "2020-01-15T00:00:00.000000000",
          "2020-02-15T00:00:00.000000000",
          "2020-02-15T00:00:00.000000000",
          "2020-02-15T00:00:00.000000000",
          "2020-02-15T00:00:00.000000000",
          "2020-02-15T00:00:00.000000000",
          "2020-03-15T00:00:00.000000000",
          "2020-06-15T00:00:00.000000000",
          "2020-08-15T00:00:00.000000000",
          "2020-08-15T00:00:00.000000000",
          "2020-09-15T00:00:00.000000000",
          "2020-09-15T00:00:00.000000000",
          "2020-09-15T00:00:00.000000000",
          "2020-09-15T00:00:00.000000000",
          "2020-09-15T00:00:00.000000000",
          "2020-09-15T00:00:00.000000000",
          "2020-09-15T00:00:00.000000000",
          "2020-09-15T00:00:00.000000000",
          "2020-09-15T00:00:00.000000000",
          "2020-09-15T00:00:00.000000000"
         ],
         "y": {
          "bdata": "CIsSP8iTED8WQRE/D/rZPrP7DD+rcAo/j0sPP+R/Ez+X/BA/EagTP5CMFD+MfxQ/nAMNP1EkET/qdBE/rWsRP/WfDD9glRQ//Q0QP6alED9xEQ4/MYoLP9mkFT/gKRI/WYwUP4BQEj+2qRA/98QRP+7iEj8i7hQ/MUMOP7n+FT9udhA/YIMQP2QcEz8=",
          "dtype": "f4"
         }
        },
        {
         "marker": {
          "color": "#e74c3c",
          "opacity": 0.3,
          "size": 6
         },
         "mode": "markers",
         "name": "Negative (raw)",
         "showlegend": true,
         "type": "scatter",
         "x": [
          "2019-07-15T00:00:00.000000000",
          "2019-08-15T00:00:00.000000000",
          "2019-08-15T00:00:00.000000000",
          "2019-09-15T00:00:00.000000000",
          "2019-09-15T00:00:00.000000000",
          "2019-09-15T00:00:00.000000000",
          "2019-10-15T00:00:00.000000000",
          "2019-10-15T00:00:00.000000000",
          "2019-11-15T00:00:00.000000000",
          "2019-11-15T00:00:00.000000000",
          "2019-12-15T00:00:00.000000000",
          "2019-12-15T00:00:00.000000000",
          "2020-01-15T00:00:00.000000000",
          "2020-01-15T00:00:00.000000000",
          "2020-01-15T00:00:00.000000000",
          "2020-01-15T00:00:00.000000000",
          "2020-02-15T00:00:00.000000000",
          "2020-02-15T00:00:00.000000000",
          "2020-02-15T00:00:00.000000000",
          "2020-02-15T00:00:00.000000000",
          "2020-02-15T00:00:00.000000000",
          "2020-03-15T00:00:00.000000000",
          "2020-06-15T00:00:00.000000000",
          "2020-08-15T00:00:00.000000000",
          "2020-08-15T00:00:00.000000000",
          "2020-09-15T00:00:00.000000000",
          "2020-09-15T00:00:00.000000000",
          "2020-09-15T00:00:00.000000000",
          "2020-09-15T00:00:00.000000000",
          "2020-09-15T00:00:00.000000000",
          "2020-09-15T00:00:00.000000000",
          "2020-09-15T00:00:00.000000000",
          "2020-09-15T00:00:00.000000000",
          "2020-09-15T00:00:00.000000000",
          "2020-09-15T00:00:00.000000000"
         ],
         "y": {
          "bdata": "e1+MPjsEjz527I0+uxqmPqXVkD6JG5Q+XyKQPtdLjD6X4Iw+3UmKPhazij7BtIk+NwiTPtWgjj5E040+PjKOPk9wkT4JzIs+YcyRPsaNjj6Ak5A+jqSTPimiiT6+oYw+EliJPtNgjz4kD5E+0deOPigmjT7rfYs+f4uRPvN7iT6Pz48+zDqPPpFTjD4=",
          "dtype": "f4"
         }
        },
        {
         "line": {
          "color": "#2ecc71",
          "width": 4
         },
         "mode": "lines",
         "name": "Positive (3-speech avg)",
         "type": "scatter",
         "x": [
          "2019-07-15T00:00:00.000000000",
          "2019-08-15T00:00:00.000000000",
          "2019-08-15T00:00:00.000000000",
          "2019-09-15T00:00:00.000000000",
          "2019-09-15T00:00:00.000000000",
          "2019-09-15T00:00:00.000000000",
          "2019-10-15T00:00:00.000000000",
          "2019-10-15T00:00:00.000000000",
          "2019-11-15T00:00:00.000000000",
          "2019-11-15T00:00:00.000000000",
          "2019-12-15T00:00:00.000000000",
          "2019-12-15T00:00:00.000000000",
          "2020-01-15T00:00:00.000000000",
          "2020-01-15T00:00:00.000000000",
          "2020-01-15T00:00:00.000000000",
          "2020-01-15T00:00:00.000000000",
          "2020-02-15T00:00:00.000000000",
          "2020-02-15T00:00:00.000000000",
          "2020-02-15T00:00:00.000000000",
          "2020-02-15T00:00:00.000000000",
          "2020-02-15T00:00:00.000000000",
          "2020-03-15T00:00:00.000000000",
          "2020-06-15T00:00:00.000000000",
          "2020-08-15T00:00:00.000000000",
          "2020-08-15T00:00:00.000000000",
          "2020-09-15T00:00:00.000000000",
          "2020-09-15T00:00:00.000000000",
          "2020-09-15T00:00:00.000000000",
          "2020-09-15T00:00:00.000000000",
          "2020-09-15T00:00:00.000000000",
          "2020-09-15T00:00:00.000000000",
          "2020-09-15T00:00:00.000000000",
          "2020-09-15T00:00:00.000000000",
          "2020-09-15T00:00:00.000000000",
          "2020-09-15T00:00:00.000000000"
         ],
         "y": {
          "bdata": "AAAAAAAA+H9VVVWVqS7iP6uqqjoUnuA/VVVVBb534D9VVVXlDi/gP1VVVTX/nOE/AAAAQIHi4T8AAADAVSjiP6uqqirbVuI/AAAAAA1i4j8AAADggYfiP6uqqqqnQOI/VVVVtU8c4j+rqqpK3vvhPwAAAADfKuI/AAAAgLD64T8AAADAChziPwAAAMB4DeI/AAAAIGA44j9VVVXV4PLhP1VVVVW4wuE/AAAAIAX44T+rqqpqtCPiP6uqqmrLg+I/VVVVtUdg4j9VVVX1RVDiPwAAAOChMuI/q6qqyrs44j+rqqpKQGbiP6uqqgrYQOI/AAAAgABi4j8AAAAAWTLiP1VVVfVaSuI/q6qqapcr4j8AAAAAAAD4fw==",
          "dtype": "f8"
         }
        },
        {
         "line": {
          "color": "#e74c3c",
          "width": 4
         },
         "mode": "lines",
         "name": "Negative (3-speech avg)",
         "type": "scatter",
         "x": [
          "2019-07-15T00:00:00.000000000",
          "2019-08-15T00:00:00.000000000",
          "2019-08-15T00:00:00.000000000",
          "2019-09-15T00:00:00.000000000",
          "2019-09-15T00:00:00.000000000",
          "2019-09-15T00:00:00.000000000",
          "2019-10-15T00:00:00.000000000",
          "2019-10-15T00:00:00.000000000",
          "2019-11-15T00:00:00.000000000",
          "2019-11-15T00:00:00.000000000",
          "2019-12-15T00:00:00.000000000",
          "2019-12-15T00:00:00.000000000",
          "2020-01-15T00:00:00.000000000",
          "2020-01-15T00:00:00.000000000",
          "2020-01-15T00:00:00.000000000",
          "2020-01-15T00:00:00.000000000",
          "2020-02-15T00:00:00.000000000",
          "2020-02-15T00:00:00.000000000",
          "2020-02-15T00:00:00.000000000",
          "2020-02-15T00:00:00.000000000",
          "2020-02-15T00:00:00.000000000",
          "2020-03-15T00:00:00.000000000",
          "2020-06-15T00:00:00.000000000",
          "2020-08-15T00:00:00.000000000",
          "2020-08-15T00:00:00.000000000",
          "2020-09-15T00:00:00.000000000",
          "2020-09-15T00:00:00.000000000",
          "2020-09-15T00:00:00.000000000",
          "2020-09-15T00:00:00.000000000",
          "2020-09-15T00:00:00.000000000",
          "2020-09-15T00:00:00.000000000",
          "2020-09-15T00:00:00.000000000",
          "2020-09-15T00:00:00.000000000",
          "2020-09-15T00:00:00.000000000",
          "2020-09-15T00:00:00.000000000"
         ],
         "y": {
          "bdata": "AAAAAAAA+H8AAACArLjRPwAAAIAky9I/q6qq6oje0j+rqqoKfyDTPwAAAOAlNtI/q6qqSr0F0j8AAADgnbjRPwAAACBDetE/VVVVFTtp0T8AAACAZ0fRPwAAAECrpNE/VVVVNZPO0T9VVVVVg/rRP6uqqkruxtE/VVVVtejk0T8AAABARs/RPwAAAGCy9dE/q6qqquzW0T9VVVX15gnSPwAAAICTHdI/AAAAoBfp0T8AAADgBL/RPwAAAGAqUdE/VVVVdXGO0T+rqqoKq73RPwAAAABT+NE/AAAA4Ivg0T8AAACAKaXRP6uqqmr7wdE/AAAA4OOa0T8AAABg9cjRPwAAAEBDsNE/AAAAgJTO0T8AAAAAAAD4fw==",
          "dtype": "f8"
         }
        }
       ],
       "layout": {
        "annotations": [
         {
          "showarrow": false,
          "text": "2020 Begins",
          "x": "2020-01-01T00:00:00",
          "xref": "x",
          "y": 1.02,
          "yref": "paper"
         }
        ],
        "height": 500,
        "shapes": [
         {
          "line": {
           "color": "gray",
           "dash": "dash"
          },
          "type": "line",
          "x0": "2020-01-01T00:00:00",
          "x1": "2020-01-01T00:00:00",
          "xref": "x",
          "y0": 0,
          "y1": 1,
          "yref": "paper"
         }
        ],
        "template": {
         "data": {
          "bar": [
           {
            "error_x": {
             "color": "#2a3f5f"
            },
            "error_y": {
             "color": "#2a3f5f"
            },
            "marker": {
             "line": {
              "color": "white",
              "width": 0.5
             },
             "pattern": {
              "fillmode": "overlay",
              "size": 10,
              "solidity": 0.2
             }
            },
            "type": "bar"
           }
          ],
          "barpolar": [
           {
            "marker": {
             "line": {
              "color": "white",
              "width": 0.5
             },
             "pattern": {
              "fillmode": "overlay",
              "size": 10,
              "solidity": 0.2
             }
            },
            "type": "barpolar"
           }
          ],
          "carpet": [
           {
            "aaxis": {
             "endlinecolor": "#2a3f5f",
             "gridcolor": "#C8D4E3",
             "linecolor": "#C8D4E3",
             "minorgridcolor": "#C8D4E3",
             "startlinecolor": "#2a3f5f"
            },
            "baxis": {
             "endlinecolor": "#2a3f5f",
             "gridcolor": "#C8D4E3",
             "linecolor": "#C8D4E3",
             "minorgridcolor": "#C8D4E3",
             "startlinecolor": "#2a3f5f"
            },
            "type": "carpet"
           }
          ],
          "choropleth": [
           {
            "colorbar": {
             "outlinewidth": 0,
             "ticks": ""
            },
            "type": "choropleth"
           }
          ],
          "contour": [
           {
            "colorbar": {
             "outlinewidth": 0,
             "ticks": ""
            },
            "colorscale": [
             [
              0,
              "#0d0887"
             ],
             [
              0.1111111111111111,
              "#46039f"
             ],
             [
              0.2222222222222222,
              "#7201a8"
             ],
             [
              0.3333333333333333,
              "#9c179e"
             ],
             [
              0.4444444444444444,
              "#bd3786"
             ],
             [
              0.5555555555555556,
              "#d8576b"
             ],
             [
              0.6666666666666666,
              "#ed7953"
             ],
             [
              0.7777777777777778,
              "#fb9f3a"
             ],
             [
              0.8888888888888888,
              "#fdca26"
             ],
             [
              1,
              "#f0f921"
             ]
            ],
            "type": "contour"
           }
          ],
          "contourcarpet": [
           {
            "colorbar": {
             "outlinewidth": 0,
             "ticks": ""
            },
            "type": "contourcarpet"
           }
          ],
          "heatmap": [
           {
            "colorbar": {
             "outlinewidth": 0,
             "ticks": ""
            },
            "colorscale": [
             [
              0,
              "#0d0887"
             ],
             [
              0.1111111111111111,
              "#46039f"
             ],
             [
              0.2222222222222222,
              "#7201a8"
             ],
             [
              0.3333333333333333,
              "#9c179e"
             ],
             [
              0.4444444444444444,
              "#bd3786"
             ],
             [
              0.5555555555555556,
              "#d8576b"
             ],
             [
              0.6666666666666666,
              "#ed7953"
             ],
             [
              0.7777777777777778,
              "#fb9f3a"
             ],
             [
              0.8888888888888888,
              "#fdca26"
             ],
             [
              1,
              "#f0f921"
             ]
            ],
            "type": "heatmap"
           }
          ],
          "histogram": [
           {
            "marker": {
             "pattern": {
              "fillmode": "overlay",
              "size": 10,
              "solidity": 0.2
             }
            },
            "type": "histogram"
           }
          ],
          "histogram2d": [
           {
            "colorbar": {
             "outlinewidth": 0,
             "ticks": ""
            },
            "colorscale": [
             [
              0,
              "#0d0887"
             ],
             [
              0.1111111111111111,
              "#46039f"
             ],
             [
              0.2222222222222222,
              "#7201a8"
             ],
             [
              0.3333333333333333,
              "#9c179e"
             ],
             [
              0.4444444444444444,
              "#bd3786"
             ],
             [
              0.5555555555555556,
              "#d8576b"
             ],
             [
              0.6666666666666666,
              "#ed7953"
             ],
             [
              0.7777777777777778,
              "#fb9f3a"
             ],
             [
              0.8888888888888888,
              "#fdca26"
             ],
             [
              1,
              "#f0f921"
             ]
            ],
            "type": "histogram2d"
           }
          ],
          "histogram2dcontour": [
           {
            "colorbar": {
             "outlinewidth": 0,
             "ticks": ""
            },
            "colorscale": [
             [
              0,
              "#0d0887"
             ],
             [
              0.1111111111111111,
              "#46039f"
             ],
             [
              0.2222222222222222,
              "#7201a8"
             ],
             [
              0.3333333333333333,
              "#9c179e"
             ],
             [
              0.4444444444444444,
              "#bd3786"
             ],
             [
              0.5555555555555556,
              "#d8576b"
             ],
             [
              0.6666666666666666,
              "#ed7953"
             ],
             [
              0.7777777777777778,
              "#fb9f3a"
             ],
             [
              0.8888888888888888,
              "#fdca26"
             ],
             [
              1,
              "#f0f921"
             ]
            ],
            "type": "histogram2dcontour"
           }
          ],
          "mesh3d": [
           {
            "colorbar": {
             "outlinewidth": 0,
             "ticks": ""
            },
            "type": "mesh3d"
           }
          ],
          "parcoords": [
           {
            "line": {
             "colorbar": {
              "outlinewidth": 0,
              "ticks": ""
             }
            },
            "type": "parcoords"
           }
          ],
          "pie": [
           {
            "automargin": true,
            "type": "pie"
           }
          ],
          "scatter": [
           {
            "fillpattern": {
             "fillmode": "overlay",
             "size": 10,
             "solidity": 0.2
            },
            "type": "scatter"
           }
          ],
          "scatter3d": [
           {
            "line": {
             "colorbar": {
              "outlinewidth": 0,
              "ticks": ""
             }
            },
            "marker": {
             "colorbar": {
              "outlinewidth": 0,
              "ticks": ""
             }
            },
            "type": "scatter3d"
           }
          ],
          "scattercarpet": [
           {
            "marker": {
             "colorbar": {
              "outlinewidth": 0,
              "ticks": ""
             }
            },
            "type": "scattercarpet"
           }
          ],
          "scattergeo": [
           {
            "marker": {
             "colorbar": {
              "outlinewidth": 0,
              "ticks": ""
             }
            },
            "type": "scattergeo"
           }
          ],
          "scattergl": [
           {
            "marker": {
             "colorbar": {
              "outlinewidth": 0,
              "ticks": ""
             }
            },
            "type": "scattergl"
           }
          ],
          "scattermap": [
           {
            "marker": {
             "colorbar": {
              "outlinewidth": 0,
              "ticks": ""
             }
            },
            "type": "scattermap"
           }
          ],
          "scattermapbox": [
           {
            "marker": {
             "colorbar": {
              "outlinewidth": 0,
              "ticks": ""
             }
            },
            "type": "scattermapbox"
           }
          ],
          "scatterpolar": [
           {
            "marker": {
             "colorbar": {
              "outlinewidth": 0,
              "ticks": ""
             }
            },
            "type": "scatterpolar"
           }
          ],
          "scatterpolargl": [
           {
            "marker": {
             "colorbar": {
              "outlinewidth": 0,
              "ticks": ""
             }
            },
            "type": "scatterpolargl"
           }
          ],
          "scatterternary": [
           {
            "marker": {
             "colorbar": {
              "outlinewidth": 0,
              "ticks": ""
             }
            },
            "type": "scatterternary"
           }
          ],
          "surface": [
           {
            "colorbar": {
             "outlinewidth": 0,
             "ticks": ""
            },
            "colorscale": [
             [
              0,
              "#0d0887"
             ],
             [
              0.1111111111111111,
              "#46039f"
             ],
             [
              0.2222222222222222,
              "#7201a8"
             ],
             [
              0.3333333333333333,
              "#9c179e"
             ],
             [
              0.4444444444444444,
              "#bd3786"
             ],
             [
              0.5555555555555556,
              "#d8576b"
             ],
             [
              0.6666666666666666,
              "#ed7953"
             ],
             [
              0.7777777777777778,
              "#fb9f3a"
             ],
             [
              0.8888888888888888,
              "#fdca26"
             ],
             [
              1,
              "#f0f921"
             ]
            ],
            "type": "surface"
           }
          ],
          "table": [
           {
            "cells": {
             "fill": {
              "color": "#EBF0F8"
             },
             "line": {
              "color": "white"
             }
            },
            "header": {
             "fill": {
              "color": "#C8D4E3"
             },
             "line": {
              "color": "white"
             }
            },
            "type": "table"
           }
          ]
         },
         "layout": {
          "annotationdefaults": {
           "arrowcolor": "#2a3f5f",
           "arrowhead": 0,
           "arrowwidth": 1
          },
          "autotypenumbers": "strict",
          "coloraxis": {
           "colorbar": {
            "outlinewidth": 0,
            "ticks": ""
           }
          },
          "colorscale": {
           "diverging": [
            [
             0,
             "#8e0152"
            ],
            [
             0.1,
             "#c51b7d"
            ],
            [
             0.2,
             "#de77ae"
            ],
            [
             0.3,
             "#f1b6da"
            ],
            [
             0.4,
             "#fde0ef"
            ],
            [
             0.5,
             "#f7f7f7"
            ],
            [
             0.6,
             "#e6f5d0"
            ],
            [
             0.7,
             "#b8e186"
            ],
            [
             0.8,
             "#7fbc41"
            ],
            [
             0.9,
             "#4d9221"
            ],
            [
             1,
             "#276419"
            ]
           ],
           "sequential": [
            [
             0,
             "#0d0887"
            ],
            [
             0.1111111111111111,
             "#46039f"
            ],
            [
             0.2222222222222222,
             "#7201a8"
            ],
            [
             0.3333333333333333,
             "#9c179e"
            ],
            [
             0.4444444444444444,
             "#bd3786"
            ],
            [
             0.5555555555555556,
             "#d8576b"
            ],
            [
             0.6666666666666666,
             "#ed7953"
            ],
            [
             0.7777777777777778,
             "#fb9f3a"
            ],
            [
             0.8888888888888888,
             "#fdca26"
            ],
            [
             1,
             "#f0f921"
            ]
           ],
           "sequentialminus": [
            [
             0,
             "#0d0887"
            ],
            [
             0.1111111111111111,
             "#46039f"
            ],
            [
             0.2222222222222222,
             "#7201a8"
            ],
            [
             0.3333333333333333,
             "#9c179e"
            ],
            [
             0.4444444444444444,
             "#bd3786"
            ],
            [
             0.5555555555555556,
             "#d8576b"
            ],
            [
             0.6666666666666666,
             "#ed7953"
            ],
            [
             0.7777777777777778,
             "#fb9f3a"
            ],
            [
             0.8888888888888888,
             "#fdca26"
            ],
            [
             1,
             "#f0f921"
            ]
           ]
          },
          "colorway": [
           "#636efa",
           "#EF553B",
           "#00cc96",
           "#ab63fa",
           "#FFA15A",
           "#19d3f3",
           "#FF6692",
           "#B6E880",
           "#FF97FF",
           "#FECB52"
          ],
          "font": {
           "color": "#2a3f5f"
          },
          "geo": {
           "bgcolor": "white",
           "lakecolor": "white",
           "landcolor": "white",
           "showlakes": true,
           "showland": true,
           "subunitcolor": "#C8D4E3"
          },
          "hoverlabel": {
           "align": "left"
          },
          "hovermode": "closest",
          "mapbox": {
           "style": "light"
          },
          "paper_bgcolor": "white",
          "plot_bgcolor": "white",
          "polar": {
           "angularaxis": {
            "gridcolor": "#EBF0F8",
            "linecolor": "#EBF0F8",
            "ticks": ""
           },
           "bgcolor": "white",
           "radialaxis": {
            "gridcolor": "#EBF0F8",
            "linecolor": "#EBF0F8",
            "ticks": ""
           }
          },
          "scene": {
           "xaxis": {
            "backgroundcolor": "white",
            "gridcolor": "#DFE8F3",
            "gridwidth": 2,
            "linecolor": "#EBF0F8",
            "showbackground": true,
            "ticks": "",
            "zerolinecolor": "#EBF0F8"
           },
           "yaxis": {
            "backgroundcolor": "white",
            "gridcolor": "#DFE8F3",
            "gridwidth": 2,
            "linecolor": "#EBF0F8",
            "showbackground": true,
            "ticks": "",
            "zerolinecolor": "#EBF0F8"
           },
           "zaxis": {
            "backgroundcolor": "white",
            "gridcolor": "#DFE8F3",
            "gridwidth": 2,
            "linecolor": "#EBF0F8",
            "showbackground": true,
            "ticks": "",
            "zerolinecolor": "#EBF0F8"
           }
          },
          "shapedefaults": {
           "line": {
            "color": "#2a3f5f"
           }
          },
          "ternary": {
           "aaxis": {
            "gridcolor": "#DFE8F3",
            "linecolor": "#A2B1C6",
            "ticks": ""
           },
           "baxis": {
            "gridcolor": "#DFE8F3",
            "linecolor": "#A2B1C6",
            "ticks": ""
           },
           "bgcolor": "white",
           "caxis": {
            "gridcolor": "#DFE8F3",
            "linecolor": "#A2B1C6",
            "ticks": ""
           }
          },
          "title": {
           "x": 0.05
          },
          "xaxis": {
           "automargin": true,
           "gridcolor": "#EBF0F8",
           "linecolor": "#EBF0F8",
           "ticks": "",
           "title": {
            "standoff": 15
           },
           "zerolinecolor": "#EBF0F8",
           "zerolinewidth": 2
          },
          "yaxis": {
           "automargin": true,
           "gridcolor": "#EBF0F8",
           "linecolor": "#EBF0F8",
           "ticks": "",
           "title": {
            "standoff": 15
           },
           "zerolinecolor": "#EBF0F8",
           "zerolinewidth": 2
          }
         }
        },
        "title": {
         "text": "Sentiment Trends with 3-Speech Moving Average"
        },
        "xaxis": {
         "title": {
          "text": "Date"
         }
        },
        "yaxis": {
         "title": {
          "text": "Sentiment Score"
         }
        }
       }
      }
     },
     "metadata": {},
     "output_type": "display_data"
    }
   ],
   "source": [
    "# Add chronological date information to sentiment_df\n",
    "month_map = {'Jan': 1, 'Feb': 2, 'Mar': 3, 'Apr': 4, 'May': 5, 'Jun': 6,\n",
    "             'Jul': 7, 'Aug': 8, 'Sep': 9, 'Oct': 10, 'Nov': 11, 'Dec': 12}\n",
    "sentiment_df['month_num'] = sentiment_df['month'].map(month_map)\n",
    "sentiment_df['date'] = pd.to_datetime(sentiment_df['year'] + '-' + \n",
    "                                       sentiment_df['month_num'].astype(str) + '-15')\n",
    "sentiment_df = sentiment_df.sort_values('date')\n",
    "\n",
    "# Create temporal visualization\n",
    "fig = go.Figure()\n",
    "\n",
    "# Add sentiment traces\n",
    "fig.add_trace(go.Scatter(\n",
    "    x=sentiment_df['date'],\n",
    "    y=sentiment_df['positive'],\n",
    "    mode='lines+markers',\n",
    "    name='Positive',\n",
    "    line=dict(color='#2ecc71', width=3),\n",
    "    marker=dict(size=8),\n",
    "    hovertemplate='<b>%{text}</b><br>Positive: %{y:.3f}<extra></extra>',\n",
    "    text=sentiment_df['location']\n",
    "))\n",
    "\n",
    "fig.add_trace(go.Scatter(\n",
    "    x=sentiment_df['date'],\n",
    "    y=sentiment_df['negative'],\n",
    "    mode='lines+markers',\n",
    "    name='Negative',\n",
    "    line=dict(color='#e74c3c', width=3),\n",
    "    marker=dict(size=8),\n",
    "    hovertemplate='<b>%{text}</b><br>Negative: %{y:.3f}<extra></extra>',\n",
    "    text=sentiment_df['location']\n",
    "))\n",
    "\n",
    "fig.add_trace(go.Scatter(\n",
    "    x=sentiment_df['date'],\n",
    "    y=sentiment_df['neutral'],\n",
    "    mode='lines+markers',\n",
    "    name='Neutral',\n",
    "    line=dict(color='#95a5a6', width=3),\n",
    "    marker=dict(size=8),\n",
    "    hovertemplate='<b>%{text}</b><br>Neutral: %{y:.3f}<extra></extra>',\n",
    "    text=sentiment_df['location']\n",
    "))\n",
    "\n",
    "# Add vertical line to separate years using an explicit shape + annotation with Python datetime\n",
    "import datetime\n",
    "vline_dt = datetime.datetime(2020, 1, 1)\n",
    "fig.add_shape(dict(type='line', x0=vline_dt, x1=vline_dt, y0=0, y1=1, xref='x', yref='paper',\n",
    "                   line=dict(dash='dash', color='gray')))\n",
    "fig.add_annotation(dict(x=vline_dt, y=1.02, xref='x', yref='paper', showarrow=False, text='2020 Begins'))\n",
    "\n",
    "fig.update_layout(\n",
    "    title='Sentiment Evolution Over Time (2019-2020)',\n",
    "    xaxis_title='Date',\n",
    "    yaxis_title='Sentiment Score',\n",
    "    height=500,\n",
    "    template='plotly_white',\n",
    "    hovermode='x unified'\n",
    ")\n",
    "\n",
    "fig.show()\n",
    "\n",
    "# Calculate rolling average\n",
    "window = 3\n",
    "sentiment_df['positive_ma'] = sentiment_df['positive'].rolling(window=window, center=True).mean()\n",
    "sentiment_df['negative_ma'] = sentiment_df['negative'].rolling(window=window, center=True).mean()\n",
    "sentiment_df['neutral_ma'] = sentiment_df['neutral'].rolling(window=window, center=True).mean()\n",
    "\n",
    "# Plot with moving average\n",
    "fig2 = go.Figure()\n",
    "\n",
    "# Raw data (lighter)\n",
    "fig2.add_trace(go.Scatter(x=sentiment_df['date'], y=sentiment_df['positive'],\n",
    "                          mode='markers', name='Positive (raw)',\n",
    "                          marker=dict(color='#2ecc71', size=6, opacity=0.3),\n",
    "                          showlegend=True))\n",
    "fig2.add_trace(go.Scatter(x=sentiment_df['date'], y=sentiment_df['negative'],\n",
    "                          mode='markers', name='Negative (raw)',\n",
    "                          marker=dict(color='#e74c3c', size=6, opacity=0.3),\n",
    "                          showlegend=True))\n",
    "\n",
    "# Moving averages (bold)\n",
    "fig2.add_trace(go.Scatter(x=sentiment_df['date'], y=sentiment_df['positive_ma'],\n",
    "                          mode='lines', name=f'Positive ({window}-speech avg)',\n",
    "                          line=dict(color='#2ecc71', width=4)))\n",
    "fig2.add_trace(go.Scatter(x=sentiment_df['date'], y=sentiment_df['negative_ma'],\n",
    "                          mode='lines', name=f'Negative ({window}-speech avg)',\n",
    "                          line=dict(color='#e74c3c', width=4)))\n",
    "\n",
    "# Add the same vertical line to fig2\n",
    "fig2.add_shape(dict(type='line', x0=vline_dt, x1=vline_dt, y0=0, y1=1, xref='x', yref='paper',\n",
    "                    line=dict(dash='dash', color='gray')))\n",
    "fig2.add_annotation(dict(x=vline_dt, y=1.02, xref='x', yref='paper', showarrow=False, text='2020 Begins'))\n",
    "\n",
    "fig2.update_layout(\n",
    "    title=f'Sentiment Trends with {window}-Speech Moving Average',\n",
    "    xaxis_title='Date',\n",
    "    yaxis_title='Sentiment Score',\n",
    "    height=500,\n",
    "    template='plotly_white'\n",
    ")\n",
    "\n",
    "fig2.show()\n"
   ]
  },
  {
   "cell_type": "markdown",
   "id": "e0864966",
   "metadata": {},
   "source": [
    "## Year-over-Year Comparison\n",
    "\n",
    "Comparing sentiment patterns between 2019 and 2020."
   ]
  },
  {
   "cell_type": "code",
   "execution_count": 12,
   "id": "74adf837",
   "metadata": {},
   "outputs": [
    {
     "name": "stdout",
     "output_type": "stream",
     "text": [
      "Year-over-Year Sentiment Statistics:\n",
      "================================================================================\n",
      "     positive                      negative                      neutral  \\\n",
      "         mean    std    min    max     mean    std    min    max    mean   \n",
      "year                                                                       \n",
      "2019    0.555  0.042  0.426  0.580    0.281  0.015  0.269  0.324   0.164   \n",
      "2020    0.568  0.011  0.545  0.586    0.278  0.006  0.268  0.288   0.154   \n",
      "\n",
      "                          speech_idx  \n",
      "        std    min    max      count  \n",
      "year                                  \n",
      "2019  0.028  0.149  0.250         12  \n",
      "2020  0.006  0.146  0.167         23  \n",
      "\n"
     ]
    },
    {
     "data": {
      "application/vnd.plotly.v1+json": {
       "config": {
        "plotlyServerURL": "https://plot.ly"
       },
       "data": [
        {
         "marker": {
          "color": "#2ecc71"
         },
         "name": "2019",
         "showlegend": true,
         "type": "box",
         "xaxis": "x",
         "y": {
          "bdata": "CIsSP8iTED8WQRE/D/rZPrP7DD+rcAo/j0sPP+R/Ez+X/BA/EagTP5CMFD+MfxQ/",
          "dtype": "f4"
         },
         "yaxis": "y"
        },
        {
         "marker": {
          "color": "#e74c3c"
         },
         "name": "2019",
         "showlegend": false,
         "type": "box",
         "xaxis": "x2",
         "y": {
          "bdata": "e1+MPjsEjz527I0+uxqmPqXVkD6JG5Q+XyKQPtdLjD6X4Iw+3UmKPhazij7BtIk+",
          "dtype": "f4"
         },
         "yaxis": "y2"
        },
        {
         "marker": {
          "color": "#95a5a6"
         },
         "name": "2019",
         "showlegend": false,
         "type": "box",
         "xaxis": "x3",
         "y": {
          "bdata": "4xQdPnGoHz67Ih8+cNZ/Pu5lKj4/Bi4+B40iPsVoGT5yTCI+AMwcPpFnGD5LmBo+",
          "dtype": "f4"
         },
         "yaxis": "y3"
        },
        {
         "marker": {
          "color": "#27ae60"
         },
         "name": "2020",
         "showlegend": true,
         "type": "box",
         "xaxis": "x",
         "y": {
          "bdata": "nAMNP1EkET/qdBE/rWsRP/WfDD9glRQ//Q0QP6alED9xEQ4/MYoLP9mkFT/gKRI/WYwUP4BQEj+2qRA/98QRP+7iEj8i7hQ/MUMOP7n+FT9udhA/YIMQP2QcEz8=",
          "dtype": "f4"
         },
         "yaxis": "y"
        },
        {
         "marker": {
          "color": "#c0392b"
         },
         "name": "2020",
         "showlegend": false,
         "type": "box",
         "xaxis": "x2",
         "y": {
          "bdata": "NwiTPtWgjj5E040+PjKOPk9wkT4JzIs+YcyRPsaNjj6Ak5A+jqSTPimiiT6+oYw+EliJPtNgjz4kD5E+0deOPigmjT7rfYs+f4uRPvN7iT6Pz48+zDqPPpFTjD4=",
          "dtype": "f4"
         },
         "yaxis": "y2"
        },
        {
         "marker": {
          "color": "#7f8c8d"
         },
         "name": "2020",
         "showlegend": false,
         "type": "box",
         "xaxis": "x3",
         "y": {
          "bdata": "JOElPhQtHj7QhR4+zuwdPo2fKj5uEhY+Ty8cPtxNID46kyY+Ho4qPlEoFj4JFR4+dx4bPln8Fz7fOhs+fjwbPvcnGj6eSxU+P9wjPjcNFT4ohx4+73wfPkTnGj4=",
          "dtype": "f4"
         },
         "yaxis": "y3"
        }
       ],
       "layout": {
        "annotations": [
         {
          "font": {
           "size": 16
          },
          "showarrow": false,
          "text": "Positive Sentiment",
          "x": 0.14444444444444446,
          "xanchor": "center",
          "xref": "paper",
          "y": 1,
          "yanchor": "bottom",
          "yref": "paper"
         },
         {
          "font": {
           "size": 16
          },
          "showarrow": false,
          "text": "Negative Sentiment",
          "x": 0.5,
          "xanchor": "center",
          "xref": "paper",
          "y": 1,
          "yanchor": "bottom",
          "yref": "paper"
         },
         {
          "font": {
           "size": 16
          },
          "showarrow": false,
          "text": "Neutral Sentiment",
          "x": 0.8555555555555556,
          "xanchor": "center",
          "xref": "paper",
          "y": 1,
          "yanchor": "bottom",
          "yref": "paper"
         }
        ],
        "height": 400,
        "showlegend": true,
        "template": {
         "data": {
          "bar": [
           {
            "error_x": {
             "color": "#2a3f5f"
            },
            "error_y": {
             "color": "#2a3f5f"
            },
            "marker": {
             "line": {
              "color": "white",
              "width": 0.5
             },
             "pattern": {
              "fillmode": "overlay",
              "size": 10,
              "solidity": 0.2
             }
            },
            "type": "bar"
           }
          ],
          "barpolar": [
           {
            "marker": {
             "line": {
              "color": "white",
              "width": 0.5
             },
             "pattern": {
              "fillmode": "overlay",
              "size": 10,
              "solidity": 0.2
             }
            },
            "type": "barpolar"
           }
          ],
          "carpet": [
           {
            "aaxis": {
             "endlinecolor": "#2a3f5f",
             "gridcolor": "#C8D4E3",
             "linecolor": "#C8D4E3",
             "minorgridcolor": "#C8D4E3",
             "startlinecolor": "#2a3f5f"
            },
            "baxis": {
             "endlinecolor": "#2a3f5f",
             "gridcolor": "#C8D4E3",
             "linecolor": "#C8D4E3",
             "minorgridcolor": "#C8D4E3",
             "startlinecolor": "#2a3f5f"
            },
            "type": "carpet"
           }
          ],
          "choropleth": [
           {
            "colorbar": {
             "outlinewidth": 0,
             "ticks": ""
            },
            "type": "choropleth"
           }
          ],
          "contour": [
           {
            "colorbar": {
             "outlinewidth": 0,
             "ticks": ""
            },
            "colorscale": [
             [
              0,
              "#0d0887"
             ],
             [
              0.1111111111111111,
              "#46039f"
             ],
             [
              0.2222222222222222,
              "#7201a8"
             ],
             [
              0.3333333333333333,
              "#9c179e"
             ],
             [
              0.4444444444444444,
              "#bd3786"
             ],
             [
              0.5555555555555556,
              "#d8576b"
             ],
             [
              0.6666666666666666,
              "#ed7953"
             ],
             [
              0.7777777777777778,
              "#fb9f3a"
             ],
             [
              0.8888888888888888,
              "#fdca26"
             ],
             [
              1,
              "#f0f921"
             ]
            ],
            "type": "contour"
           }
          ],
          "contourcarpet": [
           {
            "colorbar": {
             "outlinewidth": 0,
             "ticks": ""
            },
            "type": "contourcarpet"
           }
          ],
          "heatmap": [
           {
            "colorbar": {
             "outlinewidth": 0,
             "ticks": ""
            },
            "colorscale": [
             [
              0,
              "#0d0887"
             ],
             [
              0.1111111111111111,
              "#46039f"
             ],
             [
              0.2222222222222222,
              "#7201a8"
             ],
             [
              0.3333333333333333,
              "#9c179e"
             ],
             [
              0.4444444444444444,
              "#bd3786"
             ],
             [
              0.5555555555555556,
              "#d8576b"
             ],
             [
              0.6666666666666666,
              "#ed7953"
             ],
             [
              0.7777777777777778,
              "#fb9f3a"
             ],
             [
              0.8888888888888888,
              "#fdca26"
             ],
             [
              1,
              "#f0f921"
             ]
            ],
            "type": "heatmap"
           }
          ],
          "histogram": [
           {
            "marker": {
             "pattern": {
              "fillmode": "overlay",
              "size": 10,
              "solidity": 0.2
             }
            },
            "type": "histogram"
           }
          ],
          "histogram2d": [
           {
            "colorbar": {
             "outlinewidth": 0,
             "ticks": ""
            },
            "colorscale": [
             [
              0,
              "#0d0887"
             ],
             [
              0.1111111111111111,
              "#46039f"
             ],
             [
              0.2222222222222222,
              "#7201a8"
             ],
             [
              0.3333333333333333,
              "#9c179e"
             ],
             [
              0.4444444444444444,
              "#bd3786"
             ],
             [
              0.5555555555555556,
              "#d8576b"
             ],
             [
              0.6666666666666666,
              "#ed7953"
             ],
             [
              0.7777777777777778,
              "#fb9f3a"
             ],
             [
              0.8888888888888888,
              "#fdca26"
             ],
             [
              1,
              "#f0f921"
             ]
            ],
            "type": "histogram2d"
           }
          ],
          "histogram2dcontour": [
           {
            "colorbar": {
             "outlinewidth": 0,
             "ticks": ""
            },
            "colorscale": [
             [
              0,
              "#0d0887"
             ],
             [
              0.1111111111111111,
              "#46039f"
             ],
             [
              0.2222222222222222,
              "#7201a8"
             ],
             [
              0.3333333333333333,
              "#9c179e"
             ],
             [
              0.4444444444444444,
              "#bd3786"
             ],
             [
              0.5555555555555556,
              "#d8576b"
             ],
             [
              0.6666666666666666,
              "#ed7953"
             ],
             [
              0.7777777777777778,
              "#fb9f3a"
             ],
             [
              0.8888888888888888,
              "#fdca26"
             ],
             [
              1,
              "#f0f921"
             ]
            ],
            "type": "histogram2dcontour"
           }
          ],
          "mesh3d": [
           {
            "colorbar": {
             "outlinewidth": 0,
             "ticks": ""
            },
            "type": "mesh3d"
           }
          ],
          "parcoords": [
           {
            "line": {
             "colorbar": {
              "outlinewidth": 0,
              "ticks": ""
             }
            },
            "type": "parcoords"
           }
          ],
          "pie": [
           {
            "automargin": true,
            "type": "pie"
           }
          ],
          "scatter": [
           {
            "fillpattern": {
             "fillmode": "overlay",
             "size": 10,
             "solidity": 0.2
            },
            "type": "scatter"
           }
          ],
          "scatter3d": [
           {
            "line": {
             "colorbar": {
              "outlinewidth": 0,
              "ticks": ""
             }
            },
            "marker": {
             "colorbar": {
              "outlinewidth": 0,
              "ticks": ""
             }
            },
            "type": "scatter3d"
           }
          ],
          "scattercarpet": [
           {
            "marker": {
             "colorbar": {
              "outlinewidth": 0,
              "ticks": ""
             }
            },
            "type": "scattercarpet"
           }
          ],
          "scattergeo": [
           {
            "marker": {
             "colorbar": {
              "outlinewidth": 0,
              "ticks": ""
             }
            },
            "type": "scattergeo"
           }
          ],
          "scattergl": [
           {
            "marker": {
             "colorbar": {
              "outlinewidth": 0,
              "ticks": ""
             }
            },
            "type": "scattergl"
           }
          ],
          "scattermap": [
           {
            "marker": {
             "colorbar": {
              "outlinewidth": 0,
              "ticks": ""
             }
            },
            "type": "scattermap"
           }
          ],
          "scattermapbox": [
           {
            "marker": {
             "colorbar": {
              "outlinewidth": 0,
              "ticks": ""
             }
            },
            "type": "scattermapbox"
           }
          ],
          "scatterpolar": [
           {
            "marker": {
             "colorbar": {
              "outlinewidth": 0,
              "ticks": ""
             }
            },
            "type": "scatterpolar"
           }
          ],
          "scatterpolargl": [
           {
            "marker": {
             "colorbar": {
              "outlinewidth": 0,
              "ticks": ""
             }
            },
            "type": "scatterpolargl"
           }
          ],
          "scatterternary": [
           {
            "marker": {
             "colorbar": {
              "outlinewidth": 0,
              "ticks": ""
             }
            },
            "type": "scatterternary"
           }
          ],
          "surface": [
           {
            "colorbar": {
             "outlinewidth": 0,
             "ticks": ""
            },
            "colorscale": [
             [
              0,
              "#0d0887"
             ],
             [
              0.1111111111111111,
              "#46039f"
             ],
             [
              0.2222222222222222,
              "#7201a8"
             ],
             [
              0.3333333333333333,
              "#9c179e"
             ],
             [
              0.4444444444444444,
              "#bd3786"
             ],
             [
              0.5555555555555556,
              "#d8576b"
             ],
             [
              0.6666666666666666,
              "#ed7953"
             ],
             [
              0.7777777777777778,
              "#fb9f3a"
             ],
             [
              0.8888888888888888,
              "#fdca26"
             ],
             [
              1,
              "#f0f921"
             ]
            ],
            "type": "surface"
           }
          ],
          "table": [
           {
            "cells": {
             "fill": {
              "color": "#EBF0F8"
             },
             "line": {
              "color": "white"
             }
            },
            "header": {
             "fill": {
              "color": "#C8D4E3"
             },
             "line": {
              "color": "white"
             }
            },
            "type": "table"
           }
          ]
         },
         "layout": {
          "annotationdefaults": {
           "arrowcolor": "#2a3f5f",
           "arrowhead": 0,
           "arrowwidth": 1
          },
          "autotypenumbers": "strict",
          "coloraxis": {
           "colorbar": {
            "outlinewidth": 0,
            "ticks": ""
           }
          },
          "colorscale": {
           "diverging": [
            [
             0,
             "#8e0152"
            ],
            [
             0.1,
             "#c51b7d"
            ],
            [
             0.2,
             "#de77ae"
            ],
            [
             0.3,
             "#f1b6da"
            ],
            [
             0.4,
             "#fde0ef"
            ],
            [
             0.5,
             "#f7f7f7"
            ],
            [
             0.6,
             "#e6f5d0"
            ],
            [
             0.7,
             "#b8e186"
            ],
            [
             0.8,
             "#7fbc41"
            ],
            [
             0.9,
             "#4d9221"
            ],
            [
             1,
             "#276419"
            ]
           ],
           "sequential": [
            [
             0,
             "#0d0887"
            ],
            [
             0.1111111111111111,
             "#46039f"
            ],
            [
             0.2222222222222222,
             "#7201a8"
            ],
            [
             0.3333333333333333,
             "#9c179e"
            ],
            [
             0.4444444444444444,
             "#bd3786"
            ],
            [
             0.5555555555555556,
             "#d8576b"
            ],
            [
             0.6666666666666666,
             "#ed7953"
            ],
            [
             0.7777777777777778,
             "#fb9f3a"
            ],
            [
             0.8888888888888888,
             "#fdca26"
            ],
            [
             1,
             "#f0f921"
            ]
           ],
           "sequentialminus": [
            [
             0,
             "#0d0887"
            ],
            [
             0.1111111111111111,
             "#46039f"
            ],
            [
             0.2222222222222222,
             "#7201a8"
            ],
            [
             0.3333333333333333,
             "#9c179e"
            ],
            [
             0.4444444444444444,
             "#bd3786"
            ],
            [
             0.5555555555555556,
             "#d8576b"
            ],
            [
             0.6666666666666666,
             "#ed7953"
            ],
            [
             0.7777777777777778,
             "#fb9f3a"
            ],
            [
             0.8888888888888888,
             "#fdca26"
            ],
            [
             1,
             "#f0f921"
            ]
           ]
          },
          "colorway": [
           "#636efa",
           "#EF553B",
           "#00cc96",
           "#ab63fa",
           "#FFA15A",
           "#19d3f3",
           "#FF6692",
           "#B6E880",
           "#FF97FF",
           "#FECB52"
          ],
          "font": {
           "color": "#2a3f5f"
          },
          "geo": {
           "bgcolor": "white",
           "lakecolor": "white",
           "landcolor": "white",
           "showlakes": true,
           "showland": true,
           "subunitcolor": "#C8D4E3"
          },
          "hoverlabel": {
           "align": "left"
          },
          "hovermode": "closest",
          "mapbox": {
           "style": "light"
          },
          "paper_bgcolor": "white",
          "plot_bgcolor": "white",
          "polar": {
           "angularaxis": {
            "gridcolor": "#EBF0F8",
            "linecolor": "#EBF0F8",
            "ticks": ""
           },
           "bgcolor": "white",
           "radialaxis": {
            "gridcolor": "#EBF0F8",
            "linecolor": "#EBF0F8",
            "ticks": ""
           }
          },
          "scene": {
           "xaxis": {
            "backgroundcolor": "white",
            "gridcolor": "#DFE8F3",
            "gridwidth": 2,
            "linecolor": "#EBF0F8",
            "showbackground": true,
            "ticks": "",
            "zerolinecolor": "#EBF0F8"
           },
           "yaxis": {
            "backgroundcolor": "white",
            "gridcolor": "#DFE8F3",
            "gridwidth": 2,
            "linecolor": "#EBF0F8",
            "showbackground": true,
            "ticks": "",
            "zerolinecolor": "#EBF0F8"
           },
           "zaxis": {
            "backgroundcolor": "white",
            "gridcolor": "#DFE8F3",
            "gridwidth": 2,
            "linecolor": "#EBF0F8",
            "showbackground": true,
            "ticks": "",
            "zerolinecolor": "#EBF0F8"
           }
          },
          "shapedefaults": {
           "line": {
            "color": "#2a3f5f"
           }
          },
          "ternary": {
           "aaxis": {
            "gridcolor": "#DFE8F3",
            "linecolor": "#A2B1C6",
            "ticks": ""
           },
           "baxis": {
            "gridcolor": "#DFE8F3",
            "linecolor": "#A2B1C6",
            "ticks": ""
           },
           "bgcolor": "white",
           "caxis": {
            "gridcolor": "#DFE8F3",
            "linecolor": "#A2B1C6",
            "ticks": ""
           }
          },
          "title": {
           "x": 0.05
          },
          "xaxis": {
           "automargin": true,
           "gridcolor": "#EBF0F8",
           "linecolor": "#EBF0F8",
           "ticks": "",
           "title": {
            "standoff": 15
           },
           "zerolinecolor": "#EBF0F8",
           "zerolinewidth": 2
          },
          "yaxis": {
           "automargin": true,
           "gridcolor": "#EBF0F8",
           "linecolor": "#EBF0F8",
           "ticks": "",
           "title": {
            "standoff": 15
           },
           "zerolinecolor": "#EBF0F8",
           "zerolinewidth": 2
          }
         }
        },
        "title": {
         "text": "Sentiment Distribution by Year"
        },
        "xaxis": {
         "anchor": "y",
         "domain": [
          0,
          0.2888888888888889
         ]
        },
        "xaxis2": {
         "anchor": "y2",
         "domain": [
          0.35555555555555557,
          0.6444444444444445
         ]
        },
        "xaxis3": {
         "anchor": "y3",
         "domain": [
          0.7111111111111111,
          1
         ]
        },
        "yaxis": {
         "anchor": "x",
         "domain": [
          0,
          1
         ],
         "title": {
          "text": "Sentiment Score"
         }
        },
        "yaxis2": {
         "anchor": "x2",
         "domain": [
          0,
          1
         ],
         "title": {
          "text": "Sentiment Score"
         }
        },
        "yaxis3": {
         "anchor": "x3",
         "domain": [
          0,
          1
         ],
         "title": {
          "text": "Sentiment Score"
         }
        }
       }
      }
     },
     "metadata": {},
     "output_type": "display_data"
    },
    {
     "name": "stdout",
     "output_type": "stream",
     "text": [
      "\n",
      "📊 Key Insights:\n",
      "================================================================================\n",
      "\n",
      "2019:\n",
      "  • Average Positive: 0.555 (±0.042)\n",
      "  • Average Negative: 0.281 (±0.015)\n",
      "  • Average Neutral:  0.164 (±0.028)\n",
      "  • Speeches: 12\n",
      "\n",
      "2020:\n",
      "  • Average Positive: 0.568 (±0.011)\n",
      "  • Average Negative: 0.278 (±0.006)\n",
      "  • Average Neutral:  0.154 (±0.006)\n",
      "  • Speeches: 23\n"
     ]
    }
   ],
   "source": [
    "# Compare sentiment statistics by year\n",
    "year_stats = sentiment_df.groupby('year').agg({\n",
    "    'positive': ['mean', 'std', 'min', 'max'],\n",
    "    'negative': ['mean', 'std', 'min', 'max'],\n",
    "    'neutral': ['mean', 'std', 'min', 'max'],\n",
    "    'speech_idx': 'count'\n",
    "}).round(3)\n",
    "\n",
    "print(\"Year-over-Year Sentiment Statistics:\")\n",
    "print(\"=\"*80)\n",
    "print(year_stats)\n",
    "print()\n",
    "\n",
    "# Create box plots for sentiment distribution by year\n",
    "fig = make_subplots(\n",
    "    rows=1, cols=3,\n",
    "    subplot_titles=('Positive Sentiment', 'Negative Sentiment', 'Neutral Sentiment')\n",
    ")\n",
    "\n",
    "for year in sentiment_df['year'].unique():\n",
    "    year_data = sentiment_df[sentiment_df['year'] == year]\n",
    "    \n",
    "    fig.add_trace(\n",
    "        go.Box(y=year_data['positive'], name=year, showlegend=True,\n",
    "               marker_color='#2ecc71' if year == '2019' else '#27ae60'),\n",
    "        row=1, col=1\n",
    "    )\n",
    "    fig.add_trace(\n",
    "        go.Box(y=year_data['negative'], name=year, showlegend=False,\n",
    "               marker_color='#e74c3c' if year == '2019' else '#c0392b'),\n",
    "        row=1, col=2\n",
    "    )\n",
    "    fig.add_trace(\n",
    "        go.Box(y=year_data['neutral'], name=year, showlegend=False,\n",
    "               marker_color='#95a5a6' if year == '2019' else '#7f8c8d'),\n",
    "        row=1, col=3\n",
    "    )\n",
    "\n",
    "fig.update_layout(\n",
    "    title_text='Sentiment Distribution by Year',\n",
    "    height=400,\n",
    "    template='plotly_white',\n",
    "    showlegend=True\n",
    ")\n",
    "\n",
    "fig.update_yaxes(title_text=\"Sentiment Score\", row=1, col=1)\n",
    "fig.update_yaxes(title_text=\"Sentiment Score\", row=1, col=2)\n",
    "fig.update_yaxes(title_text=\"Sentiment Score\", row=1, col=3)\n",
    "\n",
    "fig.show()\n",
    "\n",
    "# Statistical comparison\n",
    "print(\"\\n📊 Key Insights:\")\n",
    "print(\"=\"*80)\n",
    "for year in sorted(sentiment_df['year'].unique()):\n",
    "    year_data = sentiment_df[sentiment_df['year'] == year]\n",
    "    print(f\"\\n{year}:\")\n",
    "    print(f\"  • Average Positive: {year_data['positive'].mean():.3f} (±{year_data['positive'].std():.3f})\")\n",
    "    print(f\"  • Average Negative: {year_data['negative'].mean():.3f} (±{year_data['negative'].std():.3f})\")\n",
    "    print(f\"  • Average Neutral:  {year_data['neutral'].mean():.3f} (±{year_data['neutral'].std():.3f})\")\n",
    "    print(f\"  • Speeches: {len(year_data)}\")"
   ]
  },
  {
   "cell_type": "markdown",
   "id": "851c8a55",
   "metadata": {},
   "source": [
    "## Summary Statistics and Insights"
   ]
  },
  {
   "cell_type": "code",
   "execution_count": 13,
   "id": "48608a58",
   "metadata": {},
   "outputs": [
    {
     "name": "stdout",
     "output_type": "stream",
     "text": [
      "================================================================================\n",
      "📊 SENTIMENT ANALYSIS SUMMARY\n",
      "================================================================================\n",
      "\n",
      "🎤 Dataset Overview:\n",
      "   Total Speeches Analyzed: 35\n",
      "   Time Period: July 2019 - September 2020\n",
      "   Total Text Chunks Processed: 985\n",
      "   Average Chunks per Speech: 28.1\n",
      "\n",
      "📈 Overall Sentiment Scores:\n",
      "   Positive: 0.563 (±0.026)\n",
      "   Negative: 0.279 (±0.010)\n",
      "   Neutral:  0.158 (±0.017)\n",
      "\n",
      "🎯 Dominant Sentiment Distribution:\n",
      "   positive: 35 speeches (100.0%)\n",
      "\n",
      "✨ Most Positive Speeches:\n",
      "   • Minden (Sep 2020): 0.586\n",
      "   • Tulsa (Jun 2020): 0.585\n",
      "   • Pittsburgh (Sep 2020): 0.582\n",
      "\n",
      "⚠️  Most Negative Speeches:\n",
      "   • Texas (Sep 2019): 0.324\n",
      "   • Fayetteville (Sep 2019): 0.289\n",
      "   • Charlotte (Mar 2020): 0.288\n",
      "\n",
      "📊 Sentiment Variation:\n",
      "   Speeches with Most Sentiment Variation:\n",
      "   • Texas (Sep 2019): variance = 0.0054\n",
      "   • New Mexico (Sep 2019): variance = 0.0035\n",
      "   • Charlotte (Mar 2020): variance = 0.0030\n",
      "\n",
      "   Speeches with Most Consistent Sentiment:\n",
      "   • Mosinee (Sep 2020): variance = 0.0006\n",
      "   • Pittsburgh (Sep 2020): variance = 0.0005\n",
      "   • Freeland (Sep 2020): variance = 0.0005\n",
      "\n",
      "================================================================================\n"
     ]
    }
   ],
   "source": [
    "# Comprehensive summary\n",
    "print(\"=\" * 80)\n",
    "print(\"📊 SENTIMENT ANALYSIS SUMMARY\")\n",
    "print(\"=\" * 80)\n",
    "\n",
    "# Overall statistics\n",
    "print(f\"\\n🎤 Dataset Overview:\")\n",
    "print(f\"   Total Speeches Analyzed: {len(sentiment_df)}\")\n",
    "print(f\"   Time Period: {sentiment_df['date'].min().strftime('%B %Y')} - {sentiment_df['date'].max().strftime('%B %Y')}\")\n",
    "print(f\"   Total Text Chunks Processed: {sentiment_df['num_chunks'].sum():,}\")\n",
    "print(f\"   Average Chunks per Speech: {sentiment_df['num_chunks'].mean():.1f}\")\n",
    "\n",
    "# Overall sentiment averages\n",
    "print(f\"\\n📈 Overall Sentiment Scores:\")\n",
    "print(f\"   Positive: {sentiment_df['positive'].mean():.3f} (±{sentiment_df['positive'].std():.3f})\")\n",
    "print(f\"   Negative: {sentiment_df['negative'].mean():.3f} (±{sentiment_df['negative'].std():.3f})\")\n",
    "print(f\"   Neutral:  {sentiment_df['neutral'].mean():.3f} (±{sentiment_df['neutral'].std():.3f})\")\n",
    "\n",
    "# Dominant sentiment\n",
    "dominant_counts = sentiment_df['dominant_sentiment'].value_counts()\n",
    "print(f\"\\n🎯 Dominant Sentiment Distribution:\")\n",
    "for sentiment, count in dominant_counts.items():\n",
    "    percentage = (count / len(sentiment_df)) * 100\n",
    "    print(f\"   {sentiment}: {count} speeches ({percentage:.1f}%)\")\n",
    "\n",
    "# Most/least positive speeches\n",
    "most_positive = sentiment_df.nlargest(3, 'positive')\n",
    "most_negative = sentiment_df.nlargest(3, 'negative')\n",
    "\n",
    "print(f\"\\n✨ Most Positive Speeches:\")\n",
    "for _, row in most_positive.iterrows():\n",
    "    print(f\"   • {row['location']} ({row['month']} {row['year']}): {row['positive']:.3f}\")\n",
    "\n",
    "print(f\"\\n⚠️  Most Negative Speeches:\")\n",
    "for _, row in most_negative.iterrows():\n",
    "    print(f\"   • {row['location']} ({row['month']} {row['year']}): {row['negative']:.3f}\")\n",
    "\n",
    "# Sentiment volatility (speeches with high variance in chunks)\n",
    "print(f\"\\n📊 Sentiment Variation:\")\n",
    "chunk_variances = []\n",
    "for result in sentiment_results:\n",
    "    chunks = result['chunk_predictions']\n",
    "    variance = np.var(chunks, axis=0).mean()\n",
    "    chunk_variances.append((result['location'], result['month'], result['year'], variance))\n",
    "\n",
    "chunk_variances.sort(key=lambda x: x[3], reverse=True)\n",
    "print(f\"   Speeches with Most Sentiment Variation:\")\n",
    "for location, month, year, var in chunk_variances[:3]:\n",
    "    print(f\"   • {location} ({month} {year}): variance = {var:.4f}\")\n",
    "\n",
    "print(f\"\\n   Speeches with Most Consistent Sentiment:\")\n",
    "for location, month, year, var in chunk_variances[-3:]:\n",
    "    print(f\"   • {location} ({month} {year}): variance = {var:.4f}\")\n",
    "\n",
    "print(\"\\n\" + \"=\" * 80)"
   ]
  },
  {
   "cell_type": "markdown",
   "id": "e67e1749",
   "metadata": {},
   "source": [
    "## Save Results to DataFrame\n",
    "\n",
    "Adding sentiment scores to the original dataset for further analysis."
   ]
  },
  {
   "cell_type": "code",
   "execution_count": 14,
   "id": "d4f3ff23",
   "metadata": {},
   "outputs": [
    {
     "name": "stdout",
     "output_type": "stream",
     "text": [
      "Stored 'DT_rally_speeches_with_sentiment' (DataFrame)\n",
      "✅ Sentiment scores added to DataFrame!\n",
      "\n",
      "New columns: sentiment_positive, sentiment_negative, sentiment_neutral, dominant_sentiment\n",
      "\n",
      "DataFrame shape: (35, 12)\n",
      "\n",
      "📁 Dataset stored as 'DT_rally_speeches_with_sentiment' for use in other notebooks\n"
     ]
    },
    {
     "data": {
      "text/html": [
       "<div>\n",
       "<style scoped>\n",
       "    .dataframe tbody tr th:only-of-type {\n",
       "        vertical-align: middle;\n",
       "    }\n",
       "\n",
       "    .dataframe tbody tr th {\n",
       "        vertical-align: top;\n",
       "    }\n",
       "\n",
       "    .dataframe thead th {\n",
       "        text-align: right;\n",
       "    }\n",
       "</style>\n",
       "<table border=\"1\" class=\"dataframe\">\n",
       "  <thead>\n",
       "    <tr style=\"text-align: right;\">\n",
       "      <th></th>\n",
       "      <th>Location</th>\n",
       "      <th>Month</th>\n",
       "      <th>Year</th>\n",
       "      <th>sentiment_positive</th>\n",
       "      <th>sentiment_negative</th>\n",
       "      <th>sentiment_neutral</th>\n",
       "      <th>dominant_sentiment</th>\n",
       "    </tr>\n",
       "  </thead>\n",
       "  <tbody>\n",
       "    <tr>\n",
       "      <th>0</th>\n",
       "      <td>Greenville</td>\n",
       "      <td>Jul</td>\n",
       "      <td>2019</td>\n",
       "      <td>0.572434</td>\n",
       "      <td>0.274166</td>\n",
       "      <td>0.153400</td>\n",
       "      <td>positive</td>\n",
       "    </tr>\n",
       "    <tr>\n",
       "      <th>1</th>\n",
       "      <td>Cincinnati</td>\n",
       "      <td>Aug</td>\n",
       "      <td>2019</td>\n",
       "      <td>0.564755</td>\n",
       "      <td>0.279329</td>\n",
       "      <td>0.155916</td>\n",
       "      <td>positive</td>\n",
       "    </tr>\n",
       "    <tr>\n",
       "      <th>2</th>\n",
       "      <td>New Hampshire</td>\n",
       "      <td>Aug</td>\n",
       "      <td>2019</td>\n",
       "      <td>0.567399</td>\n",
       "      <td>0.277195</td>\n",
       "      <td>0.155406</td>\n",
       "      <td>positive</td>\n",
       "    </tr>\n",
       "    <tr>\n",
       "      <th>3</th>\n",
       "      <td>Texas</td>\n",
       "      <td>Sep</td>\n",
       "      <td>2019</td>\n",
       "      <td>0.425736</td>\n",
       "      <td>0.324423</td>\n",
       "      <td>0.249841</td>\n",
       "      <td>positive</td>\n",
       "    </tr>\n",
       "    <tr>\n",
       "      <th>4</th>\n",
       "      <td>New Mexico</td>\n",
       "      <td>Sep</td>\n",
       "      <td>2019</td>\n",
       "      <td>0.550716</td>\n",
       "      <td>0.282880</td>\n",
       "      <td>0.166404</td>\n",
       "      <td>positive</td>\n",
       "    </tr>\n",
       "    <tr>\n",
       "      <th>5</th>\n",
       "      <td>Fayetteville</td>\n",
       "      <td>Sep</td>\n",
       "      <td>2019</td>\n",
       "      <td>0.540782</td>\n",
       "      <td>0.289273</td>\n",
       "      <td>0.169946</td>\n",
       "      <td>positive</td>\n",
       "    </tr>\n",
       "    <tr>\n",
       "      <th>6</th>\n",
       "      <td>Dallas</td>\n",
       "      <td>Oct</td>\n",
       "      <td>2019</td>\n",
       "      <td>0.559747</td>\n",
       "      <td>0.281512</td>\n",
       "      <td>0.158741</td>\n",
       "      <td>positive</td>\n",
       "    </tr>\n",
       "    <tr>\n",
       "      <th>7</th>\n",
       "      <td>Minneapolis</td>\n",
       "      <td>Oct</td>\n",
       "      <td>2019</td>\n",
       "      <td>0.576170</td>\n",
       "      <td>0.274016</td>\n",
       "      <td>0.149814</td>\n",
       "      <td>positive</td>\n",
       "    </tr>\n",
       "    <tr>\n",
       "      <th>8</th>\n",
       "      <td>Tupelo</td>\n",
       "      <td>Nov</td>\n",
       "      <td>2019</td>\n",
       "      <td>0.566354</td>\n",
       "      <td>0.275151</td>\n",
       "      <td>0.158495</td>\n",
       "      <td>positive</td>\n",
       "    </tr>\n",
       "    <tr>\n",
       "      <th>9</th>\n",
       "      <td>Lexington</td>\n",
       "      <td>Nov</td>\n",
       "      <td>2019</td>\n",
       "      <td>0.576783</td>\n",
       "      <td>0.270095</td>\n",
       "      <td>0.153122</td>\n",
       "      <td>positive</td>\n",
       "    </tr>\n",
       "  </tbody>\n",
       "</table>\n",
       "</div>"
      ],
      "text/plain": [
       "        Location Month  Year  sentiment_positive  sentiment_negative  \\\n",
       "0     Greenville   Jul  2019            0.572434            0.274166   \n",
       "1     Cincinnati   Aug  2019            0.564755            0.279329   \n",
       "2  New Hampshire   Aug  2019            0.567399            0.277195   \n",
       "3          Texas   Sep  2019            0.425736            0.324423   \n",
       "4     New Mexico   Sep  2019            0.550716            0.282880   \n",
       "5   Fayetteville   Sep  2019            0.540782            0.289273   \n",
       "6         Dallas   Oct  2019            0.559747            0.281512   \n",
       "7    Minneapolis   Oct  2019            0.576170            0.274016   \n",
       "8         Tupelo   Nov  2019            0.566354            0.275151   \n",
       "9      Lexington   Nov  2019            0.576783            0.270095   \n",
       "\n",
       "   sentiment_neutral dominant_sentiment  \n",
       "0           0.153400           positive  \n",
       "1           0.155916           positive  \n",
       "2           0.155406           positive  \n",
       "3           0.249841           positive  \n",
       "4           0.166404           positive  \n",
       "5           0.169946           positive  \n",
       "6           0.158741           positive  \n",
       "7           0.149814           positive  \n",
       "8           0.158495           positive  \n",
       "9           0.153122           positive  "
      ]
     },
     "execution_count": 14,
     "metadata": {},
     "output_type": "execute_result"
    }
   ],
   "source": [
    "# Merge sentiment scores back into original DataFrame\n",
    "df_with_sentiment = df.copy()\n",
    "df_with_sentiment['sentiment_positive'] = sentiment_df['positive'].values\n",
    "df_with_sentiment['sentiment_negative'] = sentiment_df['negative'].values\n",
    "df_with_sentiment['sentiment_neutral'] = sentiment_df['neutral'].values\n",
    "df_with_sentiment['dominant_sentiment'] = sentiment_df['dominant_sentiment'].values\n",
    "\n",
    "# Store the enhanced dataset\n",
    "DT_rally_speeches_with_sentiment = df_with_sentiment\n",
    "%store DT_rally_speeches_with_sentiment\n",
    "\n",
    "print(\"✅ Sentiment scores added to DataFrame!\")\n",
    "print(f\"\\nNew columns: sentiment_positive, sentiment_negative, sentiment_neutral, dominant_sentiment\")\n",
    "print(f\"\\nDataFrame shape: {df_with_sentiment.shape}\")\n",
    "print(\"\\n📁 Dataset stored as 'DT_rally_speeches_with_sentiment' for use in other notebooks\")\n",
    "\n",
    "# Display sample\n",
    "df_with_sentiment[['Location', 'Month', 'Year', 'sentiment_positive', \n",
    "                    'sentiment_negative', 'sentiment_neutral', 'dominant_sentiment']].head(10)"
   ]
  }
 ],
 "metadata": {
  "kernelspec": {
   "display_name": "dt-rally-speeches-nlp-jcnckEk--py3.13",
   "language": "python",
   "name": "python3"
  },
  "language_info": {
   "codemirror_mode": {
    "name": "ipython",
    "version": 3
   },
   "file_extension": ".py",
   "mimetype": "text/x-python",
   "name": "python",
   "nbconvert_exporter": "python",
   "pygments_lexer": "ipython3",
   "version": "3.13.3"
  }
 },
 "nbformat": 4,
 "nbformat_minor": 5
}
