{
 "cells": [
  {
   "cell_type": "code",
   "execution_count": 1,
   "id": "f2a143fc",
   "metadata": {},
   "outputs": [],
   "source": [
    "%matplotlib inline"
   ]
  },
  {
   "cell_type": "code",
   "execution_count": 2,
   "id": "6af38e03",
   "metadata": {},
   "outputs": [],
   "source": [
    "import numpy as np\n",
    "import pandas as pd\n",
    "import matplotlib.pyplot as plt\n",
    "import math\n",
    "import tensorflow as tf\n",
    "\n",
    "from transformers import pipeline, AutoTokenizer\n",
    "\n",
    "from scipy.special import softmax\n",
    "\n",
    "from tensorflow.python.ops.numpy_ops import np_config"
   ]
  },
  {
   "cell_type": "code",
   "execution_count": 3,
   "id": "c6a4375f",
   "metadata": {},
   "outputs": [],
   "source": [
    "np_config.enable_numpy_behavior()"
   ]
  },
  {
   "cell_type": "markdown",
   "id": "26318174",
   "metadata": {},
   "source": [
    "## Loading and overview of stored dataset"
   ]
  },
  {
   "cell_type": "code",
   "execution_count": 4,
   "id": "05de699d",
   "metadata": {},
   "outputs": [],
   "source": [
    "%store -r DT_rally_speaches_dataset\n",
    "df = DT_rally_speaches_dataset"
   ]
  },
  {
   "cell_type": "code",
   "execution_count": 5,
   "id": "2c9cab8c",
   "metadata": {},
   "outputs": [
    {
     "data": {
      "text/html": [
       "<div>\n",
       "<style scoped>\n",
       "    .dataframe tbody tr th:only-of-type {\n",
       "        vertical-align: middle;\n",
       "    }\n",
       "\n",
       "    .dataframe tbody tr th {\n",
       "        vertical-align: top;\n",
       "    }\n",
       "\n",
       "    .dataframe thead th {\n",
       "        text-align: right;\n",
       "    }\n",
       "</style>\n",
       "<table border=\"1\" class=\"dataframe\">\n",
       "  <thead>\n",
       "    <tr style=\"text-align: right;\">\n",
       "      <th></th>\n",
       "      <th>Location</th>\n",
       "      <th>Month</th>\n",
       "      <th>Year</th>\n",
       "      <th>filename</th>\n",
       "      <th>content</th>\n",
       "    </tr>\n",
       "  </thead>\n",
       "  <tbody>\n",
       "    <tr>\n",
       "      <th>0</th>\n",
       "      <td>Battle Creek</td>\n",
       "      <td>Dec</td>\n",
       "      <td>2019</td>\n",
       "      <td>BattleCreekDec19_2019.txt</td>\n",
       "      <td>Thank you. Thank you. Thank you to Vice Presid...</td>\n",
       "    </tr>\n",
       "    <tr>\n",
       "      <th>1</th>\n",
       "      <td>Bemidji</td>\n",
       "      <td>Sep</td>\n",
       "      <td>2020</td>\n",
       "      <td>BemidjiSep18_2020.txt</td>\n",
       "      <td>There's a lot of people. That's great. Thank y...</td>\n",
       "    </tr>\n",
       "    <tr>\n",
       "      <th>2</th>\n",
       "      <td>Charleston</td>\n",
       "      <td>Feb</td>\n",
       "      <td>2020</td>\n",
       "      <td>CharlestonFeb28_2020.txt</td>\n",
       "      <td>Thank you. Thank you. Thank you. All I can say...</td>\n",
       "    </tr>\n",
       "    <tr>\n",
       "      <th>3</th>\n",
       "      <td>Charlotte</td>\n",
       "      <td>Mar</td>\n",
       "      <td>2020</td>\n",
       "      <td>CharlotteMar2_2020.txt</td>\n",
       "      <td>I want to thank you very much. North Carolina,...</td>\n",
       "    </tr>\n",
       "    <tr>\n",
       "      <th>4</th>\n",
       "      <td>Cincinnati</td>\n",
       "      <td>Aug</td>\n",
       "      <td>2019</td>\n",
       "      <td>CincinnatiAug1_2019.txt</td>\n",
       "      <td>Thank you all. Thank you very much. Thank you ...</td>\n",
       "    </tr>\n",
       "  </tbody>\n",
       "</table>\n",
       "</div>"
      ],
      "text/plain": [
       "        Location Month  Year                   filename  \\\n",
       "0   Battle Creek   Dec  2019  BattleCreekDec19_2019.txt   \n",
       "1        Bemidji   Sep  2020      BemidjiSep18_2020.txt   \n",
       "2     Charleston   Feb  2020   CharlestonFeb28_2020.txt   \n",
       "3      Charlotte   Mar  2020     CharlotteMar2_2020.txt   \n",
       "4     Cincinnati   Aug  2019    CincinnatiAug1_2019.txt   \n",
       "\n",
       "                                             content  \n",
       "0  Thank you. Thank you. Thank you to Vice Presid...  \n",
       "1  There's a lot of people. That's great. Thank y...  \n",
       "2  Thank you. Thank you. Thank you. All I can say...  \n",
       "3  I want to thank you very much. North Carolina,...  \n",
       "4  Thank you all. Thank you very much. Thank you ...  "
      ]
     },
     "execution_count": 5,
     "metadata": {},
     "output_type": "execute_result"
    }
   ],
   "source": [
    "df.head()"
   ]
  },
  {
   "cell_type": "markdown",
   "id": "490e8d61",
   "metadata": {},
   "source": [
    "## Model and tokenizer setup"
   ]
  },
  {
   "cell_type": "code",
   "execution_count": 6,
   "id": "8371855d",
   "metadata": {},
   "outputs": [],
   "source": [
    "#checkpoint = \"distilbert-base-uncased-finetuned-sst-2-english\"\n",
    "checkpoint = 'ProsusAI/finbert'\n",
    "tokenizer = AutoTokenizer.from_pretrained(checkpoint)"
   ]
  },
  {
   "cell_type": "markdown",
   "id": "92ede2bb",
   "metadata": {},
   "source": [
    "## Tokenizing a single rally into chunks"
   ]
  },
  {
   "cell_type": "code",
   "execution_count": 87,
   "id": "60840b0f",
   "metadata": {},
   "outputs": [
    {
     "name": "stdout",
     "output_type": "stream",
     "text": [
      "{'input_ids': <tf.Tensor: shape=(1, 24289), dtype=int32, numpy=array([[4067, 2017, 1012, ..., 4067, 2017, 1012]])>, 'token_type_ids': <tf.Tensor: shape=(1, 24289), dtype=int32, numpy=array([[0, 0, 0, ..., 0, 0, 0]])>, 'attention_mask': <tf.Tensor: shape=(1, 24289), dtype=int32, numpy=array([[1, 1, 1, ..., 1, 1, 1]])>}\n"
     ]
    }
   ],
   "source": [
    "tokens = tokenizer(df.content[0], add_special_tokens=False, return_tensors=\"tf\")\n",
    "print(tokens)"
   ]
  },
  {
   "cell_type": "code",
   "execution_count": 88,
   "id": "e5c2e75c",
   "metadata": {},
   "outputs": [
    {
     "data": {
      "text/plain": [
       "(24289, 24289, 47.62549019607843, 47.62549019607843)"
      ]
     },
     "execution_count": 88,
     "metadata": {},
     "output_type": "execute_result"
    }
   ],
   "source": [
    "tokens['input_ids'].size, tokens['attention_mask'].size, tokens['input_ids'].size/510, tokens['attention_mask'].size/510"
   ]
  },
  {
   "cell_type": "code",
   "execution_count": 89,
   "id": "8cca05f1",
   "metadata": {},
   "outputs": [
    {
     "name": "stdout",
     "output_type": "stream",
     "text": [
      "Number of input id tokens: 24289\n",
      "Number of attention mask flags: 24289\n"
     ]
    }
   ],
   "source": [
    "print(f\"Number of input id tokens: {tokens['input_ids'].size}\")\n",
    "print(f\"Number of attention mask flags: {tokens['attention_mask'].size}\")"
   ]
  },
  {
   "cell_type": "code",
   "execution_count": 90,
   "id": "c0c6f535",
   "metadata": {},
   "outputs": [],
   "source": [
    "# Setting up id and mask chunks\n",
    "chunk_size = 510\n",
    "id_chunks = np.array_split(tokens['input_ids'][0], math.ceil(tokens['input_ids'].size/chunk_size),axis=0)\n",
    "mask_chunks = np.array_split(tokens['attention_mask'][0], math.ceil(tokens['attention_mask'].size/chunk_size),axis=0)"
   ]
  },
  {
   "cell_type": "code",
   "execution_count": 91,
   "id": "fd83dc24",
   "metadata": {},
   "outputs": [
    {
     "name": "stdout",
     "output_type": "stream",
     "text": [
      "Number of chunks: 47.625\n"
     ]
    }
   ],
   "source": [
    "print(f\"Number of chunks: {tokens['input_ids'].size/chunk_size:.3f}\")"
   ]
  },
  {
   "cell_type": "code",
   "execution_count": 92,
   "id": "24be66e8",
   "metadata": {},
   "outputs": [],
   "source": [
    "id_chunks = [np.concatenate(([101],chunk,[102])) for chunk in id_chunks]\n",
    "mask_chunks = [np.concatenate(([1],chunk,[1])) for chunk in mask_chunks]\n",
    "\n",
    "# for chunk in id_chunks:\n",
    "#     print(chunk)\n",
    "#     print(len(chunk))"
   ]
  },
  {
   "cell_type": "code",
   "execution_count": 93,
   "id": "65d8f51e",
   "metadata": {},
   "outputs": [],
   "source": [
    "for i in range(len(id_chunks)):\n",
    "    longest_array = len(max(id_chunks, key=len))\n",
    "    if len(id_chunks[i]) < longest_array:\n",
    "        diff = longest_array - len(id_chunks[i])\n",
    "#         print(diff)\n",
    "#         print(len(id_chunks[i]))\n",
    "#         print(longest_array)\n",
    "        id_chunks[i] = np.concatenate((id_chunks[i],[0]*diff))\n",
    "        mask_chunks[i] = np.concatenate((mask_chunks[i],[0]*diff))"
   ]
  },
  {
   "cell_type": "code",
   "execution_count": 94,
   "id": "50e42f36",
   "metadata": {},
   "outputs": [],
   "source": [
    "# id_chunks = [np.concatenate(([101],chunk,[102])) for chunk in id_chunks]"
   ]
  },
  {
   "cell_type": "code",
   "execution_count": 95,
   "id": "084b9d33",
   "metadata": {},
   "outputs": [
    {
     "name": "stdout",
     "output_type": "stream",
     "text": [
      "509\n"
     ]
    }
   ],
   "source": [
    "print(len(id_chunks[0]))"
   ]
  },
  {
   "cell_type": "code",
   "execution_count": 96,
   "id": "d4bb86ee",
   "metadata": {},
   "outputs": [
    {
     "name": "stdout",
     "output_type": "stream",
     "text": [
      "509\n"
     ]
    }
   ],
   "source": [
    "print(len(mask_chunks[0]))"
   ]
  },
  {
   "cell_type": "code",
   "execution_count": 97,
   "id": "530de3b2",
   "metadata": {},
   "outputs": [],
   "source": [
    "tf_id_chunks = tf.convert_to_tensor(id_chunks)\n",
    "tf_mask_chunks = tf.convert_to_tensor(mask_chunks)\n",
    "\n",
    "# for chunk in tf_id_chunks:\n",
    "#     print(chunk)"
   ]
  },
  {
   "cell_type": "code",
   "execution_count": 98,
   "id": "c19ff553",
   "metadata": {},
   "outputs": [
    {
     "data": {
      "text/plain": [
       "{'input_ids': <tf.Tensor: shape=(48, 509), dtype=int32, numpy=\n",
       " array([[  101,  4067,  2017, ...,  2079,  2023,   102],\n",
       "        [  101,  1012,  1045, ...,  2057,   102,     0],\n",
       "        [  101,  2031,  1037, ...,  1010,   102,     0],\n",
       "        ...,\n",
       "        [  101,  2954,  1012, ...,  1998,   102,     0],\n",
       "        [  101,  1996,  3187, ..., 23523,   102,     0],\n",
       "        [  101,  4551,  2062, ...,  1012,   102,     0]])>,\n",
       " 'attention_mask': <tf.Tensor: shape=(48, 509), dtype=int32, numpy=\n",
       " array([[1, 1, 1, ..., 1, 1, 1],\n",
       "        [1, 1, 1, ..., 1, 1, 0],\n",
       "        [1, 1, 1, ..., 1, 1, 0],\n",
       "        ...,\n",
       "        [1, 1, 1, ..., 1, 1, 0],\n",
       "        [1, 1, 1, ..., 1, 1, 0],\n",
       "        [1, 1, 1, ..., 1, 1, 0]])>}"
      ]
     },
     "execution_count": 98,
     "metadata": {},
     "output_type": "execute_result"
    }
   ],
   "source": [
    "input_dict = {\n",
    "    'input_ids' : tf_id_chunks,\n",
    "    'attention_mask' : tf_mask_chunks\n",
    "}\n",
    "input_dict"
   ]
  },
  {
   "cell_type": "markdown",
   "id": "f470471f",
   "metadata": {},
   "source": [
    "### Running a sentiment analysis on the processed rally"
   ]
  },
  {
   "cell_type": "code",
   "execution_count": 99,
   "id": "94d54cf0",
   "metadata": {},
   "outputs": [],
   "source": [
    "from transformers import TFBertForSequenceClassification #, BertTokenizer"
   ]
  },
  {
   "cell_type": "code",
   "execution_count": 100,
   "id": "41e6d307",
   "metadata": {},
   "outputs": [
    {
     "name": "stderr",
     "output_type": "stream",
     "text": [
      "All model checkpoint layers were used when initializing TFBertForSequenceClassification.\n",
      "\n",
      "Some layers of TFBertForSequenceClassification were not initialized from the model checkpoint at ProsusAI/finbert and are newly initialized: ['classifier']\n",
      "You should probably TRAIN this model on a down-stream task to be able to use it for predictions and inference.\n"
     ]
    }
   ],
   "source": [
    "# tokenizer_bert = BertTokenizer.from_pretrained(checkpoint)\n",
    "model = TFBertForSequenceClassification.from_pretrained(checkpoint)"
   ]
  },
  {
   "cell_type": "code",
   "execution_count": 101,
   "id": "283aff83",
   "metadata": {},
   "outputs": [],
   "source": [
    "outputs = model(input_dict)"
   ]
  },
  {
   "cell_type": "code",
   "execution_count": 102,
   "id": "133377b7",
   "metadata": {},
   "outputs": [
    {
     "name": "stdout",
     "output_type": "stream",
     "text": [
      "(48, 3)\n"
     ]
    }
   ],
   "source": [
    "print(outputs.logits.shape)"
   ]
  },
  {
   "cell_type": "code",
   "execution_count": 103,
   "id": "3447443c",
   "metadata": {},
   "outputs": [
    {
     "name": "stdout",
     "output_type": "stream",
     "text": [
      "Logits shape -> (48, 3)\n"
     ]
    }
   ],
   "source": [
    "print(f\"Logits shape -> {outputs.logits.shape}\")"
   ]
  },
  {
   "cell_type": "code",
   "execution_count": 104,
   "id": "2b3a3630",
   "metadata": {},
   "outputs": [
    {
     "name": "stdout",
     "output_type": "stream",
     "text": [
      "tf.Tensor(\n",
      "[[-0.41827917 -0.3749227  -0.10345925]\n",
      " [-0.32495284 -0.46377504 -0.1810839 ]\n",
      " [-0.34142518 -0.48254752 -0.05065395]\n",
      " [-0.28309512 -0.48541123 -0.03713718]\n",
      " [-0.28874367 -0.46956846 -0.02656923]\n",
      " [-0.32833868 -0.40382636 -0.06200852]\n",
      " [-0.32496262 -0.46296763 -0.06675623]\n",
      " [-0.36027142 -0.44003338 -0.11672868]\n",
      " [-0.21218525 -0.51511925 -0.05750586]\n",
      " [-0.22146258 -0.56243    -0.11830644]\n",
      " [-0.25438398 -0.50330275 -0.09778984]\n",
      " [-0.22193721 -0.5021694  -0.11440882]\n",
      " [-0.2427035  -0.4946494  -0.0789438 ]\n",
      " [-0.20876695 -0.5470898  -0.11302897]\n",
      " [-0.23260756 -0.5343194  -0.13588414]\n",
      " [-0.2512871  -0.43164134 -0.04885272]\n",
      " [-0.21895008 -0.48574585 -0.09599911]\n",
      " [-0.24466869 -0.48090988 -0.12581503]\n",
      " [-0.22298059 -0.5059518  -0.08925903]\n",
      " [-0.28880718 -0.48594922 -0.12944987]\n",
      " [-0.2605177  -0.43235713 -0.16773638]\n",
      " [-0.279494   -0.46008223 -0.14272244]\n",
      " [-0.263717   -0.4271816  -0.07421461]\n",
      " [-0.24581556 -0.49935913 -0.10184646]\n",
      " [-0.2226723  -0.52962637 -0.1230198 ]\n",
      " [-0.195882   -0.50198585 -0.12869878]\n",
      " [-0.359996   -0.44616216 -0.09619372]\n",
      " [-0.3420621  -0.45506823 -0.15319791]\n",
      " [-0.30096814 -0.4312002  -0.17549731]\n",
      " [-0.30523947 -0.4269251  -0.11123763]\n",
      " [-0.34746397 -0.41758293 -0.03638284]\n",
      " [-0.3306158  -0.41603708 -0.07275054]\n",
      " [-0.23629892 -0.47927487 -0.1212115 ]\n",
      " [-0.21794894 -0.5605161  -0.10604544]\n",
      " [-0.2664643  -0.54222125 -0.06988958]\n",
      " [-0.33841854 -0.44879258 -0.1269689 ]\n",
      " [-0.36085117 -0.47137964 -0.09693778]\n",
      " [-0.2496273  -0.5166298  -0.10288615]\n",
      " [-0.17528982 -0.5250909  -0.16296984]\n",
      " [-0.20651223 -0.48974544 -0.18341973]\n",
      " [-0.23226914 -0.5282058  -0.18298781]\n",
      " [-0.28740755 -0.46441233 -0.21744469]\n",
      " [-0.34762853 -0.4608003  -0.06905153]\n",
      " [-0.34469986 -0.39767516 -0.1262506 ]\n",
      " [-0.16415298 -0.53803575 -0.23288628]\n",
      " [-0.2906015  -0.44048557 -0.19325317]\n",
      " [-0.3032346  -0.5109857  -0.05888993]\n",
      " [-0.37415123 -0.414802   -0.08216673]], shape=(48, 3), dtype=float32)\n"
     ]
    }
   ],
   "source": [
    "print(outputs.logits)"
   ]
  },
  {
   "cell_type": "code",
   "execution_count": 105,
   "id": "d1812962",
   "metadata": {},
   "outputs": [
    {
     "data": {
      "text/plain": [
       "{0: 'positive', 1: 'negative', 2: 'neutral'}"
      ]
     },
     "execution_count": 105,
     "metadata": {},
     "output_type": "execute_result"
    }
   ],
   "source": [
    "model.config.id2label"
   ]
  },
  {
   "cell_type": "code",
   "execution_count": 106,
   "id": "36b11d52",
   "metadata": {},
   "outputs": [
    {
     "name": "stdout",
     "output_type": "stream",
     "text": [
      "tf.Tensor(\n",
      "[[0.29288384 0.30586156 0.40125456]\n",
      " [0.3305659  0.28771886 0.38171527]\n",
      " [0.3119306  0.27087525 0.41719425]\n",
      " [0.3230305  0.2638632  0.41310623]\n",
      " [0.31904697 0.26627073 0.41468233]\n",
      " [0.3093622  0.28686884 0.40376902]\n",
      " [0.3158859  0.27516642 0.40894777]\n",
      " [0.3125882  0.28862396 0.3987878 ]\n",
      " [0.34412372 0.25418624 0.40169   ]\n",
      " [0.3546418  0.25217944 0.39317876]\n",
      " [0.3390791  0.26436076 0.3965601 ]\n",
      " [0.34853762 0.2633579  0.38810447]\n",
      " [0.33838448 0.26302177 0.39859366]\n",
      " [0.3554373  0.2534144  0.39114833]\n",
      " [0.35197547 0.26030385 0.38772058]\n",
      " [0.3268664  0.27292505 0.4002086 ]\n",
      " [0.3452254  0.2643838  0.39039087]\n",
      " [0.3429596  0.27079755 0.38624287]\n",
      " [0.3452304  0.26014546 0.39462408]\n",
      " [0.3340202  0.2742553  0.3917245 ]\n",
      " [0.34021288 0.28649813 0.37328896]\n",
      " [0.33541903 0.28000078 0.38458014]\n",
      " [0.32702777 0.27771083 0.39526144]\n",
      " [0.34119278 0.26478127 0.39402592]\n",
      " [0.35205424 0.2590008  0.38894492]\n",
      " [0.3564044  0.26242417 0.38117144]\n",
      " [0.31062534 0.28498065 0.40439403]\n",
      " [0.32247433 0.28801638 0.38950926]\n",
      " [0.3320523  0.29150593 0.37644175]\n",
      " [0.32263005 0.28566524 0.39170468]\n",
      " [0.30328923 0.28275135 0.41395944]\n",
      " [0.31130442 0.2858165  0.4028791 ]\n",
      " [0.34408465 0.26986226 0.38605314]\n",
      " [0.35356298 0.25101042 0.39542657]\n",
      " [0.33599624 0.25502026 0.40898344]\n",
      " [0.31939018 0.2860136  0.39459625]\n",
      " [0.31275645 0.28002986 0.40721372]\n",
      " [0.3420294  0.26188204 0.39608857]\n",
      " [0.3680226  0.2593927  0.37258467]\n",
      " [0.36013904 0.27130863 0.36855233]\n",
      " [0.3578649  0.2661923  0.37594277]\n",
      " [0.34361377 0.2878713  0.3685149 ]\n",
      " [0.311115   0.27782482 0.41106015]\n",
      " [0.3132293  0.29706773 0.38970292]\n",
      " [0.38144162 0.2624538  0.35610458]\n",
      " [0.33748984 0.2905139  0.37199625]\n",
      " [0.32370907 0.26298425 0.41330668]\n",
      " [0.30309948 0.29102534 0.40587515]], shape=(48, 3), dtype=float32)\n"
     ]
    }
   ],
   "source": [
    "predictions = tf.math.softmax(outputs.logits, axis=-1)\n",
    "print(predictions)"
   ]
  },
  {
   "cell_type": "code",
   "execution_count": 107,
   "id": "e7ccf2d2",
   "metadata": {},
   "outputs": [
    {
     "name": "stdout",
     "output_type": "stream",
     "text": [
      "tf.Tensor([0.33341685 0.27329552 0.39328766], shape=(3,), dtype=float32)\n"
     ]
    }
   ],
   "source": [
    "mean = tf.math.reduce_mean(predictions, axis=0, keepdims=False, name=None)\n",
    "print(mean)"
   ]
  },
  {
   "cell_type": "markdown",
   "id": "46e799cf",
   "metadata": {},
   "source": [
    "## Tokenizing all rallies"
   ]
  },
  {
   "cell_type": "code",
   "execution_count": 27,
   "id": "4a5f24ab",
   "metadata": {},
   "outputs": [],
   "source": [
    "# Define the maximum token limit for the BERT model\n",
    "# chunk_size = 500"
   ]
  },
  {
   "cell_type": "code",
   "execution_count": 28,
   "id": "e9f9d596",
   "metadata": {},
   "outputs": [],
   "source": [
    "def split_text_into_chunks(text, chunk_size):\n",
    "    # Tokenize the text into subwords\n",
    "    tokens = tokenizer.tokenize(text)\n",
    "#     tokens = tokenizer.tokenize(text, add_special_tokens=False, return_tensors=\"tf\")\n",
    "    current_chunk = []  # Current chunk of tokens\n",
    "    current_chunk_length = 0  # Current total token count in the chunk\n",
    "    chunks = []  # List to store the text chunks\n",
    "\n",
    "    for token in tokens:\n",
    "        # If adding the current token to the chunk doesn't exceed the token limit\n",
    "        if len(current_chunk) + len(token) <= chunk_size:  # chunk length pf 510 accounts for the [CLS] and [SEP] tokens\n",
    "            current_chunk.append(token)\n",
    "            current_chunk_length += len(token)\n",
    "        else:\n",
    "            if len(current_chunk) > 0:\n",
    "                chunks.append(\" \".join(current_chunk))\n",
    "                current_chunk = []\n",
    "                current_chunk_length = 0\n",
    "\n",
    "    # Add the last chunk if it's not empty\n",
    "    if len(current_chunk) > 0:\n",
    "        chunks.append(\" \".join(current_chunk))\n",
    "\n",
    "    return chunks"
   ]
  },
  {
   "cell_type": "code",
   "execution_count": 29,
   "id": "aad9b431",
   "metadata": {},
   "outputs": [
    {
     "name": "stdout",
     "output_type": "stream",
     "text": [
      "Predictions for text 1 shape: (48, 3)\n",
      "Predictions for text 2 shape: (46, 3)\n",
      "Predictions for text 3 shape: (25, 3)\n",
      "Predictions for text 4 shape: (18, 3)\n",
      "Predictions for text 5 shape: (22, 3)\n",
      "Predictions for text 6 shape: (32, 3)\n",
      "Predictions for text 7 shape: (28, 3)\n",
      "Predictions for text 8 shape: (32, 3)\n",
      "Predictions for text 9 shape: (45, 3)\n",
      "Predictions for text 10 shape: (24, 3)\n",
      "Predictions for text 11 shape: (27, 3)\n",
      "Predictions for text 12 shape: (29, 3)\n",
      "Predictions for text 13 shape: (24, 3)\n",
      "Predictions for text 14 shape: (26, 3)\n",
      "Predictions for text 15 shape: (37, 3)\n",
      "Predictions for text 16 shape: (33, 3)\n",
      "Predictions for text 17 shape: (24, 3)\n",
      "Predictions for text 18 shape: (25, 3)\n",
      "Predictions for text 19 shape: (38, 3)\n",
      "Predictions for text 20 shape: (31, 3)\n",
      "Predictions for text 21 shape: (39, 3)\n",
      "Predictions for text 22 shape: (26, 3)\n",
      "Predictions for text 23 shape: (24, 3)\n",
      "Predictions for text 24 shape: (17, 3)\n",
      "Predictions for text 25 shape: (31, 3)\n",
      "Predictions for text 26 shape: (29, 3)\n",
      "Predictions for text 27 shape: (26, 3)\n",
      "Predictions for text 28 shape: (32, 3)\n",
      "Predictions for text 29 shape: (6, 3)\n",
      "Predictions for text 30 shape: (29, 3)\n",
      "Predictions for text 31 shape: (30, 3)\n",
      "Predictions for text 32 shape: (25, 3)\n",
      "Predictions for text 33 shape: (18, 3)\n",
      "Predictions for text 34 shape: (29, 3)\n",
      "Predictions for text 35 shape: (17, 3)\n"
     ]
    }
   ],
   "source": [
    "input_ids_list = []\n",
    "attention_masks_list = []\n",
    "outputs_list = []\n",
    "\n",
    "for index, row in df.iterrows():\n",
    "#     text = row[\"text\"]\n",
    "    text = row[\"content\"]\n",
    "    text_chunks = split_text_into_chunks(text, chunk_size)\n",
    "\n",
    "#     input_ids_list = []\n",
    "#     attention_mask_list = []\n",
    "\n",
    "    for chunk in text_chunks:\n",
    "        encoding = tokenizer.encode_plus(\n",
    "            chunk,\n",
    "            add_special_tokens=True,\n",
    "            max_length=chunk_size,\n",
    "            padding='max_length',\n",
    "            truncation=True,\n",
    "            return_tensors='tf'\n",
    "        )\n",
    "        input_ids_list.append(encoding['input_ids'])\n",
    "        attention_mask_list.append(encoding['attention_mask'])\n",
    "\n",
    "    input_ids = tf.concat(input_ids_list, axis=0)\n",
    "    attention_mask = tf.concat(attention_mask_list, axis=0)\n",
    "    \n",
    "    input_ids_list.append(input_ids)\n",
    "    attention_masks_list.append(attention_mask)\n",
    "\n",
    "    # Run sentiment analysis using the BERT model\n",
    "    outputs = model([input_ids, attention_mask])\n",
    "    predictions = outputs.logits\n",
    "    \n",
    "    outputs_list.append(outputs)\n",
    "\n",
    "    # Process predictions as needed\n",
    "    print(f\"Predictions for text {index + 1} shape:\", predictions.shape)"
   ]
  },
  {
   "cell_type": "markdown",
   "id": "872d068f",
   "metadata": {},
   "source": [
    "## Looking into the mean values for all rallies"
   ]
  },
  {
   "cell_type": "code",
   "execution_count": 71,
   "id": "4dbed833",
   "metadata": {},
   "outputs": [],
   "source": [
    "predictions = []\n",
    "means = []\n",
    "\n",
    "for output in outputs_list:\n",
    "    prediction = tf.math.softmax(output.logits, axis=-1)\n",
    "    predictions.append(prediction)\n",
    "#     print(prediction)\n",
    "    \n",
    "    mean = tf.math.reduce_mean(prediction, axis=0, keepdims=False, name=None)\n",
    "    means.append(mean)\n",
    "#     print(mean)"
   ]
  },
  {
   "cell_type": "code",
   "execution_count": 86,
   "id": "ef896414",
   "metadata": {},
   "outputs": [
    {
     "name": "stdout",
     "output_type": "stream",
     "text": [
      "Rally 1: Positive -> 0.44 || Negative -> 0.24 || Neutral -> 0.32\n",
      "Rally 2: Positive -> 0.43 || Negative -> 0.25 || Neutral -> 0.31\n",
      "Rally 3: Positive -> 0.45 || Negative -> 0.25 || Neutral -> 0.30\n",
      "Rally 4: Positive -> 0.45 || Negative -> 0.25 || Neutral -> 0.30\n",
      "Rally 5: Positive -> 0.44 || Negative -> 0.25 || Neutral -> 0.31\n",
      "Rally 6: Positive -> 0.44 || Negative -> 0.25 || Neutral -> 0.31\n",
      "Rally 7: Positive -> 0.45 || Negative -> 0.24 || Neutral -> 0.31\n",
      "Rally 8: Positive -> 0.45 || Negative -> 0.25 || Neutral -> 0.30\n",
      "Rally 9: Positive -> 0.44 || Negative -> 0.26 || Neutral -> 0.30\n",
      "Rally 10: Positive -> 0.45 || Negative -> 0.25 || Neutral -> 0.30\n",
      "Rally 11: Positive -> 0.46 || Negative -> 0.25 || Neutral -> 0.29\n",
      "Rally 12: Positive -> 0.45 || Negative -> 0.24 || Neutral -> 0.31\n",
      "Rally 13: Positive -> 0.45 || Negative -> 0.25 || Neutral -> 0.30\n",
      "Rally 14: Positive -> 0.44 || Negative -> 0.24 || Neutral -> 0.32\n",
      "Rally 15: Positive -> 0.44 || Negative -> 0.25 || Neutral -> 0.31\n",
      "Rally 16: Positive -> 0.44 || Negative -> 0.24 || Neutral -> 0.32\n",
      "Rally 17: Positive -> 0.45 || Negative -> 0.24 || Neutral -> 0.31\n",
      "Rally 18: Positive -> 0.44 || Negative -> 0.24 || Neutral -> 0.32\n",
      "Rally 19: Positive -> 0.44 || Negative -> 0.24 || Neutral -> 0.32\n",
      "Rally 20: Positive -> 0.45 || Negative -> 0.25 || Neutral -> 0.30\n",
      "Rally 21: Positive -> 0.45 || Negative -> 0.24 || Neutral -> 0.31\n",
      "Rally 22: Positive -> 0.44 || Negative -> 0.25 || Neutral -> 0.31\n",
      "Rally 23: Positive -> 0.44 || Negative -> 0.24 || Neutral -> 0.32\n",
      "Rally 24: Positive -> 0.46 || Negative -> 0.25 || Neutral -> 0.29\n",
      "Rally 25: Positive -> 0.45 || Negative -> 0.25 || Neutral -> 0.30\n",
      "Rally 26: Positive -> 0.45 || Negative -> 0.25 || Neutral -> 0.30\n",
      "Rally 27: Positive -> 0.45 || Negative -> 0.25 || Neutral -> 0.30\n",
      "Rally 28: Positive -> 0.44 || Negative -> 0.25 || Neutral -> 0.31\n",
      "Rally 29: Positive -> 0.46 || Negative -> 0.28 || Neutral -> 0.27\n",
      "Rally 30: Positive -> 0.44 || Negative -> 0.24 || Neutral -> 0.31\n",
      "Rally 31: Positive -> 0.44 || Negative -> 0.24 || Neutral -> 0.32\n",
      "Rally 32: Positive -> 0.45 || Negative -> 0.23 || Neutral -> 0.32\n",
      "Rally 33: Positive -> 0.45 || Negative -> 0.25 || Neutral -> 0.30\n",
      "Rally 34: Positive -> 0.45 || Negative -> 0.25 || Neutral -> 0.30\n",
      "Rally 35: Positive -> 0.45 || Negative -> 0.24 || Neutral -> 0.31\n"
     ]
    }
   ],
   "source": [
    "for i in range(len(means)):\n",
    "    mean = means[i]\n",
    "    print(f\"Rally {i + 1}: Positive -> {mean[0]:.2f} || Negative -> {mean[1]:.2f} || Neutral -> {mean[2]:.2f}\")"
   ]
  },
  {
   "cell_type": "markdown",
   "id": "fa17f9a8",
   "metadata": {},
   "source": [
    "## Plotting chunk scores"
   ]
  },
  {
   "cell_type": "code",
   "execution_count": 52,
   "id": "f2828a7a",
   "metadata": {},
   "outputs": [],
   "source": [
    "# Initialize a list to store sentiment scores for the first class for all texts\n",
    "sentiment_scores_positive = []\n",
    "sentiment_scores_negative = []\n",
    "sentiment_scores_neutral = []\n",
    "\n",
    "# Loop through the outputs_list\n",
    "for outputs in outputs_list:\n",
    "    # Extract sentiment scores for the first class (adjust this based on your model's output structure)\n",
    "    sentiment_scores_positive.append(outputs.logits[:, 0])\n",
    "    sentiment_scores_negative.append(outputs.logits[:, 1])\n",
    "    sentiment_scores_neutral.append(outputs.logits[:, 2])"
   ]
  },
  {
   "cell_type": "code",
   "execution_count": 54,
   "id": "5c8245ed",
   "metadata": {},
   "outputs": [
    {
     "data": {
      "image/png": "[encoded data removed]",
      "text/plain": [
       "<Figure size 720x360 with 1 Axes>"
      ]
     },
     "metadata": {
      "needs_background": "light"
     },
     "output_type": "display_data"
    }
   ],
   "source": [
    "# Create a plot using Matplotlib\n",
    "plt.figure(figsize=(10, 5))\n",
    "plt.plot(sentiment_scores_positive[1])\n",
    "plt.xlabel('Sample Index')\n",
    "plt.ylabel('Negative Sentiment Probability')\n",
    "plt.title('Negative Sentiment Probability for Each Sample')\n",
    "plt.grid(True)\n",
    "plt.show()"
   ]
  },
  {
   "cell_type": "code",
   "execution_count": 61,
   "id": "1bfcd3de",
   "metadata": {},
   "outputs": [
    {
     "name": "stderr",
     "output_type": "stream",
     "text": [
      "<ipython-input-61-5518f7bcc836>:2: VisibleDeprecationWarning: Creating an ndarray from ragged nested sequences (which is a list-or-tuple of lists-or-tuples-or ndarrays with different lengths or shapes) is deprecated. If you meant to do this, you must specify 'dtype=object' when creating the ndarray.\n",
      "  sentiment_scores_positive_array = np.array(sentiment_scores_positive)\n"
     ]
    },
    {
     "data": {
      "image/png": "[encoded data removed]",
      "text/plain": [
       "<Figure size 864x360 with 1 Axes>"
      ]
     },
     "metadata": {
      "needs_background": "light"
     },
     "output_type": "display_data"
    }
   ],
   "source": [
    "# Convert the list of arrays into a NumPy array for easier manipulation\n",
    "sentiment_scores_positive_array = np.array(sentiment_scores_positive)\n",
    "\n",
    "# Picking just a subset of the outputs since all 35 wouldn't be all that readable\n",
    "sentiment_scores_positive_array = sentiment_scores_positive_array[2:8]\n",
    "\n",
    "# Create a plot using Matplotlib with improved readability\n",
    "plt.figure(figsize=(12, 5))\n",
    "\n",
    "# Define a list of line styles and colors for better differentiation\n",
    "line_styles = ['-', '--', '-.', ':', '-', '--', '-.', ':', '-', '--', '-.', ':', '-', '--', '-.']\n",
    "colors = ['b', 'g', 'r', 'c', 'm', 'y', 'k']\n",
    "\n",
    "for i in range(sentiment_scores_positive_array.shape[0]):\n",
    "    # Use different line styles and colors\n",
    "    line_style = line_styles[i % len(line_styles)]\n",
    "    color = colors[i % len(colors)]\n",
    "\n",
    "    # Reduce line width for improved readability\n",
    "    plt.plot(sentiment_scores_positive_array[i], label=f'Text {i+1}', linestyle=line_style, color=color, linewidth=1)\n",
    "\n",
    "plt.xlabel('Sample Index')\n",
    "plt.ylabel('Negative Sentiment Probability')\n",
    "plt.title('Negative Sentiment Probability for Each Sample')\n",
    "plt.grid(True)\n",
    "plt.legend(loc='upper right')\n",
    "\n",
    "# Adjust chart size\n",
    "plt.tight_layout()\n",
    "plt.show()"
   ]
  },
  {
   "cell_type": "code",
   "execution_count": null,
   "id": "29a4998a",
   "metadata": {},
   "outputs": [],
   "source": []
  },
  {
   "cell_type": "code",
   "execution_count": null,
   "id": "618b4a87",
   "metadata": {},
   "outputs": [],
   "source": []
  }
 ],
 "metadata": {
  "kernelspec": {
   "display_name": "Python 3",
   "language": "python",
   "name": "python3"
  },
  "language_info": {
   "codemirror_mode": {
    "name": "ipython",
    "version": 3
   },
   "file_extension": ".py",
   "mimetype": "text/x-python",
   "name": "python",
   "nbconvert_exporter": "python",
   "pygments_lexer": "ipython3",
   "version": "3.8.8"
  }
 },
 "nbformat": 4,
 "nbformat_minor": 5
}
