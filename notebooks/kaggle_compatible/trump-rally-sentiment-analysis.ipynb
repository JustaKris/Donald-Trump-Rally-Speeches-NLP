{
 "cells": [
  {
   "cell_type": "markdown",
   "id": "eb6e7432",
   "metadata": {},
   "source": [
    "# 🎤 Trump Rally Speeches - Advanced Sentiment Analysis with FinBERT\n",
    "\n",
    "This notebook performs **deep learning-based sentiment analysis** on Donald Trump's 2019-2020 rally speeches using **FinBERT**, a BERT-based transformer model fine-tuned for sentiment classification.\n",
    "\n",
    "---\n",
    "\n",
    "## 🔗 Project Links\n",
    "\n",
    "- **📊 Full Project (GitHub):** [Donald-Trump-Rally-Speeches-NLP](https://github.com/JustaKris/Donald-Trump-Rally-Speeches-NLP)\n",
    "- **🚀 Live API:** [Try the Sentiment Analysis API](https://trump-speeches-nlp-api.onrender.com/docs) *(FastAPI deployment)*\n",
    "- **📖 Documentation:** [Project Docs](https://github.com/JustaKris/Donald-Trump-Rally-Speeches-NLP/tree/main/docs)\n",
    "- **🐳 Deployment:** Azure App Service + Render (Docker containerized)\n",
    "\n",
    "---\n",
    "\n",
    "## 📚 Dataset\n",
    "\n",
    "This analysis uses the **[Donald Trump Rally Speeches dataset](https://www.kaggle.com/datasets/christianlillelund/donald-trumps-rallies)** by Christian Lillelund.\n",
    "\n",
    "**Dataset Details:**\n",
    "- **35 rally speeches** from July 2019 to September 2020\n",
    "- **300,000+ words** of transcribed content\n",
    "- Covers key events during first presidential campaign\n",
    "\n",
    "---\n",
    "\n",
    "## 🛠️ Tech Stack\n",
    "\n",
    "**Deep Learning & NLP:**\n",
    "- **Transformers (HuggingFace)**: FinBERT pre-trained model\n",
    "- **TensorFlow**: Deep learning framework\n",
    "- **BERT Architecture**: Bidirectional encoder representations\n",
    "- **Sentiment Classification**: 3-class (positive, negative, neutral)\n",
    "\n",
    "**Analysis & Visualization:**\n",
    "- Plotly for interactive dashboards\n",
    "- Pandas for data manipulation\n",
    "- NumPy for numerical operations\n",
    "\n",
    "**Production API (see GitHub):**\n",
    "- FastAPI for RESTful endpoints\n",
    "- Docker containerization\n",
    "- GitHub Actions CI/CD\n",
    "- pytest testing (70%+ coverage)\n",
    "\n",
    "---\n",
    "\n",
    "## 🎯 Analysis Overview\n",
    "\n",
    "1. **BERT-based sentiment classification** using FinBERT\n",
    "2. **Text chunking strategy** for handling long speeches (>512 tokens)\n",
    "3. **Temporal sentiment trends** across 2019-2020\n",
    "4. **Speech-level aggregation** with statistical analysis\n",
    "5. **Interactive visualizations** for exploring patterns\n",
    "\n",
    "---\n",
    "\n",
    "## 🧠 About FinBERT\n",
    "\n",
    "**FinBERT** (ProsusAI/finbert) is a BERT model fine-tuned for financial sentiment analysis. While designed for financial text, its 3-class sentiment classification (positive, negative, neutral) works excellently for political speech analysis.\n",
    "\n",
    "**Model Details:**\n",
    "- Base: BERT-base-uncased\n",
    "- Fine-tuned on: Financial news and reports\n",
    "- Output: Probability distribution over 3 sentiment classes\n",
    "- Max sequence length: 512 tokens\n",
    "\n",
    "---\n",
    "\n",
    "**Author:** Kristiyan Bonev  \n",
    "**License:** MIT  \n",
    "**Contact:** [GitHub](https://github.com/JustaKris)"
   ]
  },
  {
   "cell_type": "markdown",
   "id": "57ac6322",
   "metadata": {},
   "source": [
    "## Import Libraries\n",
    "\n",
    "Loading required libraries for deep learning, NLP, and visualization."
   ]
  },
  {
   "cell_type": "code",
   "execution_count": 1,
   "id": "eb38242d",
   "metadata": {},
   "outputs": [
    {
     "name": "stdout",
     "output_type": "stream",
     "text": [
      "✅ Libraries loaded successfully\n",
      "TensorFlow version: 2.20.0\n",
      "GPU Available: False\n"
     ]
    }
   ],
   "source": [
    "# Suppress warnings for cleaner output\n",
    "import warnings\n",
    "import os\n",
    "warnings.filterwarnings('ignore')\n",
    "os.environ['TF_CPP_MIN_LOG_LEVEL'] = '2'  # Suppress TensorFlow warnings\n",
    "os.environ['HF_HUB_DISABLE_SYMLINKS_WARNING'] = '1'  # Disable symlink warnings\n",
    "\n",
    "import numpy as np\n",
    "import pandas as pd\n",
    "import matplotlib.pyplot as plt\n",
    "import seaborn as sns\n",
    "\n",
    "import plotly.graph_objects as go\n",
    "import plotly.express as px\n",
    "from plotly.subplots import make_subplots\n",
    "\n",
    "import re\n",
    "import math\n",
    "import tensorflow as tf\n",
    "from tqdm.notebook import tqdm\n",
    "from typing import List, Tuple, Dict\n",
    "from pathlib import Path\n",
    "\n",
    "# Configure TensorFlow logging\n",
    "import logging\n",
    "logging.getLogger('tensorflow').setLevel(logging.ERROR)\n",
    "\n",
    "from transformers import pipeline, AutoTokenizer, TFBertForSequenceClassification\n",
    "from scipy.special import softmax\n",
    "from tensorflow.python.ops.numpy_ops import np_config\n",
    "\n",
    "# Enable NumPy behavior for TensorFlow\n",
    "np_config.enable_numpy_behavior()\n",
    "\n",
    "# Set visualization styles\n",
    "sns.set_style(\"whitegrid\")\n",
    "plt.rcParams['figure.dpi'] = 100\n",
    "\n",
    "print(f\"✅ Libraries loaded successfully\")\n",
    "print(f\"TensorFlow version: {tf.__version__}\")\n",
    "print(f\"GPU Available: {len(tf.config.list_physical_devices('GPU')) > 0}\")"
   ]
  },
  {
   "cell_type": "markdown",
   "id": "a94a0a96",
   "metadata": {},
   "source": [
    "## Load and Parse Data\n",
    "\n",
    "Loading all rally speech transcripts and extracting metadata from filenames.\n",
    "\n",
    "**Note:** On Kaggle, the dataset will be automatically mounted at `/kaggle/input/donald-trumps-rallies/`"
   ]
  },
  {
   "cell_type": "code",
   "execution_count": 2,
   "id": "08059c1e",
   "metadata": {},
   "outputs": [
    {
     "name": "stdout",
     "output_type": "stream",
     "text": [
      "Found 35 speech transcripts\n",
      "\n",
      "📊 Loaded 35 speeches from 2019 to 2020\n",
      "📅 Date range: Jul 2019 - Jun 2020\n"
     ]
    }
   ],
   "source": [
    "def load_speech_data(data_dir: str | Path) -> pd.DataFrame:\n",
    "    \"\"\"\n",
    "    Load all speech transcripts and extract metadata from filenames.\n",
    "    \n",
    "    Parameters:\n",
    "        data_dir: Path to directory containing speech text files\n",
    "        \n",
    "    Returns:\n",
    "        DataFrame with columns: Location, Month, Year, filename, content\n",
    "    \"\"\"\n",
    "    filenames, file_contents, years, months, locations = [], [], [], [], []\n",
    "    data_path = Path(data_dir)\n",
    "    \n",
    "    # Get list of text files\n",
    "    files = list(data_path.glob(\"*.txt\"))\n",
    "    print(f\"Found {len(files)} speech transcripts\")\n",
    "    \n",
    "    for file_path in files:\n",
    "        filename = file_path.name\n",
    "        filenames.append(filename)\n",
    "        \n",
    "        # Read file content\n",
    "        try:\n",
    "            with open(file_path, encoding=\"utf-8\") as file:\n",
    "                file_contents.append(file.read())\n",
    "        except Exception as e:\n",
    "            print(f\"Error reading {filename}: {e}\")\n",
    "            file_contents.append(\"\")\n",
    "        \n",
    "        # Extract metadata from filename (e.g., \"CincinnatiAug1_2019.txt\")\n",
    "        years.append(filename[-8:-4])\n",
    "        match = re.search(r\"([A-z]+)([A-z]{3})([0-9]+)\\_\", filename)\n",
    "        if match:\n",
    "            months.append(match.group(2))\n",
    "            # Add spaces before capital letters for location names\n",
    "            location_raw = match.group(1)\n",
    "            locations.append(''.join([' ' + c if c.isupper() else c for c in location_raw]).strip())\n",
    "        else:\n",
    "            months.append(\"Unknown\")\n",
    "            locations.append(\"Unknown\")\n",
    "    \n",
    "    # Create DataFrame\n",
    "    df = pd.DataFrame({\n",
    "        'Location': locations,\n",
    "        'Month': months,\n",
    "        'Year': years,\n",
    "        'filename': filenames,\n",
    "        'content': file_contents\n",
    "    })\n",
    "    \n",
    "    # Sort by chronological order (approximate)\n",
    "    month_order = ['Jul', 'Aug', 'Sep', 'Oct', 'Nov', 'Dec', 'Jan', 'Feb', 'Mar', 'Apr', 'May', 'Jun']\n",
    "    df['month_sort'] = df['Month'].apply(lambda x: month_order.index(x) if x in month_order else 99)\n",
    "    df = df.sort_values(['Year', 'month_sort']).reset_index(drop=True)\n",
    "    df = df.drop('month_sort', axis=1)\n",
    "    \n",
    "    return df\n",
    "\n",
    "\n",
    "def get_data_path():\n",
    "    \"\"\"\n",
    "    Determine the appropriate data directory path based on environment.\n",
    "    \n",
    "    Checks for Kaggle environment first, then falls back to local development path.\n",
    "    \n",
    "    Returns:\n",
    "        Path object pointing to the dataset directory\n",
    "        \n",
    "    Raises:\n",
    "        FileNotFoundError: If dataset not found in either environment\n",
    "    \"\"\"\n",
    "    # Kaggle environment check\n",
    "    kaggle_path = Path(\"/kaggle/input/donald-trumps-rallies\")\n",
    "    if kaggle_path.exists():\n",
    "        return kaggle_path\n",
    "\n",
    "    # Local environment fallback\n",
    "    local_path = Path(\"D:/Programming/Repositories/Donald-Trump-Rally-Speeches-NLP/data/Donald Trump Rally Speeches\")\n",
    "    if local_path.exists():\n",
    "        return local_path\n",
    "\n",
    "    # Neither path exists - raise error with helpful message\n",
    "    raise FileNotFoundError(\"Dataset not found in either local or Kaggle environment.\")\n",
    "\n",
    "\n",
    "# Load data using environment-aware path detection\n",
    "data_dir = get_data_path()\n",
    "df = load_speech_data(data_dir)\n",
    "\n",
    "print(f\"\\n📊 Loaded {len(df)} speeches from {df['Year'].min()} to {df['Year'].max()}\")\n",
    "print(f\"📅 Date range: {df['Month'].iloc[0]} {df['Year'].iloc[0]} - {df['Month'].iloc[-1]} {df['Year'].iloc[-1]}\")"
   ]
  },
  {
   "cell_type": "code",
   "execution_count": 3,
   "id": "03cc3fab",
   "metadata": {},
   "outputs": [
    {
     "name": "stdout",
     "output_type": "stream",
     "text": [
      "Dataset Overview:\n",
      "================================================================================\n"
     ]
    },
    {
     "data": {
      "text/html": [
       "<div>\n",
       "<style scoped>\n",
       "    .dataframe tbody tr th:only-of-type {\n",
       "        vertical-align: middle;\n",
       "    }\n",
       "\n",
       "    .dataframe tbody tr th {\n",
       "        vertical-align: top;\n",
       "    }\n",
       "\n",
       "    .dataframe thead th {\n",
       "        text-align: right;\n",
       "    }\n",
       "</style>\n",
       "<table border=\"1\" class=\"dataframe\">\n",
       "  <thead>\n",
       "    <tr style=\"text-align: right;\">\n",
       "      <th></th>\n",
       "      <th>Location</th>\n",
       "      <th>Month</th>\n",
       "      <th>Year</th>\n",
       "      <th>filename</th>\n",
       "      <th>content</th>\n",
       "    </tr>\n",
       "  </thead>\n",
       "  <tbody>\n",
       "    <tr>\n",
       "      <th>0</th>\n",
       "      <td>Greenville</td>\n",
       "      <td>Jul</td>\n",
       "      <td>2019</td>\n",
       "      <td>GreenvilleJul17_2019.txt</td>\n",
       "      <td>Thank you very much. Thank you. Thank you. Tha...</td>\n",
       "    </tr>\n",
       "    <tr>\n",
       "      <th>1</th>\n",
       "      <td>Cincinnati</td>\n",
       "      <td>Aug</td>\n",
       "      <td>2019</td>\n",
       "      <td>CincinnatiAug1_2019.txt</td>\n",
       "      <td>Thank you all. Thank you very much. Thank you ...</td>\n",
       "    </tr>\n",
       "    <tr>\n",
       "      <th>2</th>\n",
       "      <td>New Hampshire</td>\n",
       "      <td>Aug</td>\n",
       "      <td>2019</td>\n",
       "      <td>NewHampshireAug15_2019.txt</td>\n",
       "      <td>Thank you very much everybody. Thank you. Wow...</td>\n",
       "    </tr>\n",
       "    <tr>\n",
       "      <th>3</th>\n",
       "      <td>Fayetteville</td>\n",
       "      <td>Sep</td>\n",
       "      <td>2019</td>\n",
       "      <td>FayettevilleSep9_2019.txt</td>\n",
       "      <td>Thank you everybody. Thank you and Vice Presi...</td>\n",
       "    </tr>\n",
       "    <tr>\n",
       "      <th>4</th>\n",
       "      <td>New Mexico</td>\n",
       "      <td>Sep</td>\n",
       "      <td>2019</td>\n",
       "      <td>NewMexicoSep16_2019.txt</td>\n",
       "      <td>Wow, thank you. Thank you, New Mexico. Thank ...</td>\n",
       "    </tr>\n",
       "    <tr>\n",
       "      <th>5</th>\n",
       "      <td>Texas</td>\n",
       "      <td>Sep</td>\n",
       "      <td>2019</td>\n",
       "      <td>TexasSep23_2019.txt</td>\n",
       "      <td>Hello, Houston. I am so thrilled to be here in...</td>\n",
       "    </tr>\n",
       "    <tr>\n",
       "      <th>6</th>\n",
       "      <td>Dallas</td>\n",
       "      <td>Oct</td>\n",
       "      <td>2019</td>\n",
       "      <td>DallasOct17_2019.txt</td>\n",
       "      <td>Thank you. Thank you very much. Hello Dallas. ...</td>\n",
       "    </tr>\n",
       "    <tr>\n",
       "      <th>7</th>\n",
       "      <td>Minneapolis</td>\n",
       "      <td>Oct</td>\n",
       "      <td>2019</td>\n",
       "      <td>MinneapolisOct10_2019.txt</td>\n",
       "      <td>Thank you very much. Thank you, Minnesota. Thi...</td>\n",
       "    </tr>\n",
       "    <tr>\n",
       "      <th>8</th>\n",
       "      <td>Lexington</td>\n",
       "      <td>Nov</td>\n",
       "      <td>2019</td>\n",
       "      <td>LexingtonNov4_2019.txt</td>\n",
       "      <td>Thank you very much and thank you to the origi...</td>\n",
       "    </tr>\n",
       "    <tr>\n",
       "      <th>9</th>\n",
       "      <td>Tupelo</td>\n",
       "      <td>Nov</td>\n",
       "      <td>2019</td>\n",
       "      <td>TupeloNov1_2019.txt</td>\n",
       "      <td>ell, thank you very much. And hello, Tupelo. T...</td>\n",
       "    </tr>\n",
       "  </tbody>\n",
       "</table>\n",
       "</div>"
      ],
      "text/plain": [
       "        Location Month  Year                    filename  \\\n",
       "0     Greenville   Jul  2019    GreenvilleJul17_2019.txt   \n",
       "1     Cincinnati   Aug  2019     CincinnatiAug1_2019.txt   \n",
       "2  New Hampshire   Aug  2019  NewHampshireAug15_2019.txt   \n",
       "3   Fayetteville   Sep  2019   FayettevilleSep9_2019.txt   \n",
       "4     New Mexico   Sep  2019     NewMexicoSep16_2019.txt   \n",
       "5          Texas   Sep  2019         TexasSep23_2019.txt   \n",
       "6         Dallas   Oct  2019        DallasOct17_2019.txt   \n",
       "7    Minneapolis   Oct  2019   MinneapolisOct10_2019.txt   \n",
       "8      Lexington   Nov  2019      LexingtonNov4_2019.txt   \n",
       "9         Tupelo   Nov  2019         TupeloNov1_2019.txt   \n",
       "\n",
       "                                             content  \n",
       "0  Thank you very much. Thank you. Thank you. Tha...  \n",
       "1  Thank you all. Thank you very much. Thank you ...  \n",
       "2   Thank you very much everybody. Thank you. Wow...  \n",
       "3   Thank you everybody. Thank you and Vice Presi...  \n",
       "4   Wow, thank you. Thank you, New Mexico. Thank ...  \n",
       "5  Hello, Houston. I am so thrilled to be here in...  \n",
       "6  Thank you. Thank you very much. Hello Dallas. ...  \n",
       "7  Thank you very much. Thank you, Minnesota. Thi...  \n",
       "8  Thank you very much and thank you to the origi...  \n",
       "9  ell, thank you very much. And hello, Tupelo. T...  "
      ]
     },
     "execution_count": 3,
     "metadata": {},
     "output_type": "execute_result"
    }
   ],
   "source": [
    "# Display dataset overview\n",
    "print(\"Dataset Overview:\")\n",
    "print(f\"{'='*80}\")\n",
    "df.head(10)"
   ]
  },
  {
   "cell_type": "markdown",
   "id": "7996af1c",
   "metadata": {},
   "source": [
    "## Model and Tokenizer Setup\n",
    "\n",
    "Loading **FinBERT** (ProsusAI/finbert), a BERT model fine-tuned for sentiment analysis.\n",
    "\n",
    "**Sentiment Classes:**\n",
    "- **Positive**: Optimistic, confident language\n",
    "- **Negative**: Critical, pessimistic language  \n",
    "- **Neutral**: Factual, balanced statements\n",
    "\n",
    "**Note**: The model download may take a few minutes on first run. Progress bars and some warnings are normal during model loading."
   ]
  },
  {
   "cell_type": "code",
   "execution_count": null,
   "id": "a953b67c",
   "metadata": {},
   "outputs": [
    {
     "name": "stdout",
     "output_type": "stream",
     "text": [
      "🔄 Loading FinBERT model and tokenizer...\n",
      "   (This may take a few moments on first run)\n",
      "\n",
      "✅ Model loaded successfully!\n",
      "\n",
      "📋 Model Configuration:\n",
      "   Model: ProsusAI/finbert\n",
      "   Labels: {0: 'positive', 1: 'negative', 2: 'neutral'}\n",
      "   Max sequence length: 512 tokens\n",
      "✅ Model loaded successfully!\n",
      "\n",
      "📋 Model Configuration:\n",
      "   Model: ProsusAI/finbert\n",
      "   Labels: {0: 'positive', 1: 'negative', 2: 'neutral'}\n",
      "   Max sequence length: 512 tokens\n"
     ]
    }
   ],
   "source": [
    "# Load FinBERT model and tokenizer\n",
    "MODEL_CHECKPOINT = 'ProsusAI/finbert'\n",
    "\n",
    "print(\"🔄 Loading FinBERT model and tokenizer...\")\n",
    "print(\"   (This may take a few moments on first run)\\n\")\n",
    "\n",
    "# Suppress transformers warnings temporarily during model loading\n",
    "import transformers\n",
    "transformers.logging.set_verbosity_error()\n",
    "\n",
    "try:\n",
    "    tokenizer = AutoTokenizer.from_pretrained(MODEL_CHECKPOINT)\n",
    "    model = TFBertForSequenceClassification.from_pretrained(MODEL_CHECKPOINT)\n",
    "    \n",
    "    # Display model configuration\n",
    "    print(f\"✅ Model loaded successfully!\")\n",
    "    print(f\"\\n📋 Model Configuration:\")\n",
    "    print(f\"   Model: {MODEL_CHECKPOINT}\")\n",
    "    print(f\"   Labels: {model.config.id2label}\") # type: ignore\n",
    "    print(f\"   Max sequence length: {tokenizer.model_max_length} tokens\")\n",
    "    \n",
    "except Exception as e:\n",
    "    print(f\"❌ Error loading model: {e}\")\n",
    "    print(\"💡 Tip: Check your internet connection or try re-running the cell\")\n",
    "    raise\n",
    "\n",
    "# Restore normal logging for rest of notebook\n",
    "transformers.logging.set_verbosity_warning()"
   ]
  },
  {
   "cell_type": "markdown",
   "id": "c198a285",
   "metadata": {},
   "source": [
    "## Text Processing Functions\n",
    "\n",
    "BERT models have a maximum sequence length (512 tokens). We split long speeches into manageable chunks and aggregate the results.\n",
    "\n",
    "### Chunking Strategy:\n",
    "1. Tokenize full speech text\n",
    "2. Split into 510-token chunks (leaving room for [CLS] and [SEP] special tokens)\n",
    "3. Run sentiment analysis on each chunk\n",
    "4. Aggregate chunk-level predictions to get speech-level sentiment"
   ]
  },
  {
   "cell_type": "code",
   "execution_count": null,
   "id": "6ab4d5d8",
   "metadata": {},
   "outputs": [
    {
     "name": "stdout",
     "output_type": "stream",
     "text": [
      "✅ Text processing functions defined successfully!\n"
     ]
    }
   ],
   "source": [
    "def chunk_text_for_bert(text: str, tokenizer, max_length: int = 510) -> List[Dict]:\n",
    "    \"\"\"\n",
    "    Split text into chunks that fit within BERT's token limits.\n",
    "    \n",
    "    Parameters:\n",
    "        text: Input text to chunk\n",
    "        tokenizer: HuggingFace tokenizer\n",
    "        max_length: Maximum tokens per chunk (510 to leave room for [CLS] and [SEP])\n",
    "        \n",
    "    Returns:\n",
    "        List of encoded chunks ready for model input\n",
    "    \"\"\"\n",
    "    # Tokenize the full text\n",
    "    tokens = tokenizer.tokenize(text)\n",
    "    \n",
    "    # Split into chunks\n",
    "    chunks = []\n",
    "    for i in range(0, len(tokens), max_length):\n",
    "        chunk_tokens = tokens[i:i + max_length]\n",
    "        chunk_text = tokenizer.convert_tokens_to_string(chunk_tokens)\n",
    "        \n",
    "        # Encode with special tokens\n",
    "        encoding = tokenizer.encode_plus(\n",
    "            chunk_text,\n",
    "            add_special_tokens=True,\n",
    "            max_length=max_length + 2,  # +2 for [CLS] and [SEP]\n",
    "            padding='max_length',\n",
    "            truncation=True,\n",
    "            return_tensors='tf'\n",
    "        )\n",
    "        chunks.append(encoding)\n",
    "    \n",
    "    return chunks\n",
    "\n",
    "\n",
    "def analyze_sentiment(chunks: List[Dict], model) -> Tuple[np.ndarray, np.ndarray]:\n",
    "    \"\"\"\n",
    "    Run sentiment analysis on text chunks.\n",
    "    \n",
    "    Parameters:\n",
    "        chunks: List of encoded text chunks\n",
    "        model: Loaded sentiment analysis model\n",
    "        \n",
    "    Returns:\n",
    "        Tuple of (all_predictions, mean_sentiment) as numpy arrays\n",
    "    \"\"\"\n",
    "    all_predictions = []\n",
    "    \n",
    "    for chunk in chunks:\n",
    "        # Get model predictions\n",
    "        outputs = model(chunk)\n",
    "        \n",
    "        # Convert logits to probabilities\n",
    "        probs = tf.nn.softmax(outputs.logits, axis=-1)\n",
    "        all_predictions.append(probs.numpy()) # type: ignore\n",
    "    \n",
    "    # Stack all predictions\n",
    "    all_predictions = np.vstack(all_predictions)\n",
    "    \n",
    "    # Calculate mean sentiment across all chunks\n",
    "    mean_sentiment = np.mean(all_predictions, axis=0)\n",
    "    \n",
    "    return all_predictions, mean_sentiment\n",
    "\n",
    "print(\"✅ Text processing functions defined successfully!\")"
   ]
  },
  {
   "cell_type": "markdown",
   "id": "a7d8c662",
   "metadata": {},
   "source": [
    "## Run Sentiment Analysis on All Speeches\n",
    "\n",
    "Processing each speech through FinBERT to extract sentiment scores.\n",
    "\n",
    "**Note:** This may take 5-10 minutes depending on hardware. Each speech is split into multiple chunks for processing."
   ]
  },
  {
   "cell_type": "code",
   "execution_count": null,
   "id": "ed7657cf",
   "metadata": {},
   "outputs": [
    {
     "name": "stdout",
     "output_type": "stream",
     "text": [
      "🔄 Processing all speeches for sentiment analysis...\n",
      "\n"
     ]
    },
    {
     "data": {
      "application/vnd.jupyter.widget-view+json": {
       "model_id": "d880940b6fc742eaaba5cc8679be1a36",
       "version_major": 2,
       "version_minor": 0
      },
      "text/plain": [
       "Analyzing speeches:   0%|          | 0/35 [00:00<?, ?it/s]"
      ]
     },
     "metadata": {},
     "output_type": "display_data"
    },
    {
     "name": "stderr",
     "output_type": "stream",
     "text": [
      "Token indices sequence length is longer than the specified maximum sequence length for this model (14239 > 512). Running this sequence through the model will result in indexing errors\n"
     ]
    },
    {
     "name": "stdout",
     "output_type": "stream",
     "text": [
      "\n",
      "✅ Successfully analyzed 35 speeches!\n"
     ]
    }
   ],
   "source": [
    "# Process all speeches with progress tracking\n",
    "print(\"🔄 Processing all speeches for sentiment analysis...\\n\")\n",
    "\n",
    "sentiment_results = []\n",
    "\n",
    "for idx, row in tqdm(df.iterrows(), total=len(df), desc=\"Analyzing speeches\"):\n",
    "    try:\n",
    "        # Chunk the speech text\n",
    "        chunks = chunk_text_for_bert(row['content'], tokenizer, max_length=510)\n",
    "        \n",
    "        # Analyze sentiment\n",
    "        chunk_predictions, mean_sentiment = analyze_sentiment(chunks, model)\n",
    "        \n",
    "        # Store results\n",
    "        sentiment_results.append({\n",
    "            'speech_idx': idx,\n",
    "            'location': row['Location'],\n",
    "            'month': row['Month'],\n",
    "            'year': row['Year'],\n",
    "            'num_chunks': len(chunks),\n",
    "            'positive': mean_sentiment[0],\n",
    "            'negative': mean_sentiment[1],\n",
    "            'neutral': mean_sentiment[2],\n",
    "            'chunk_predictions': chunk_predictions,\n",
    "            'dominant_sentiment': model.config.id2label[np.argmax(mean_sentiment)] # type: ignore\n",
    "        })\n",
    "        \n",
    "    except Exception as e:\n",
    "        print(f\"\\n⚠️  Error processing speech {idx} ({row['Location']}): {e}\")\n",
    "        continue\n",
    "\n",
    "print(f\"\\n✅ Successfully analyzed {len(sentiment_results)} speeches!\")\n",
    "\n",
    "# Create results DataFrame\n",
    "sentiment_df = pd.DataFrame([{k: v for k, v in r.items() if k != 'chunk_predictions'} \n",
    "                              for r in sentiment_results])"
   ]
  },
  {
   "cell_type": "markdown",
   "id": "6598467a",
   "metadata": {},
   "source": [
    "## Sentiment Analysis Results\n",
    "\n",
    "Examining the sentiment scores for each speech."
   ]
  },
  {
   "cell_type": "code",
   "execution_count": 7,
   "id": "0f152d21",
   "metadata": {},
   "outputs": [
    {
     "name": "stdout",
     "output_type": "stream",
     "text": [
      "Sentiment Scores by Speech:\n",
      "\n",
      "================================================================================\n",
      "Greenville.................... (Jul 2019)\n",
      "   Positive: 0.394 | Negative: 0.265 | Neutral: 0.341\n",
      "   Dominant: positive | Chunks: 28\n",
      "\n",
      "Cincinnati.................... (Aug 2019)\n",
      "   Positive: 0.394 | Negative: 0.272 | Neutral: 0.334\n",
      "   Dominant: positive | Chunks: 21\n",
      "\n",
      "New Hampshire................. (Aug 2019)\n",
      "   Positive: 0.398 | Negative: 0.271 | Neutral: 0.331\n",
      "   Dominant: positive | Chunks: 26\n",
      "\n",
      "Fayetteville.................. (Sep 2019)\n",
      "   Positive: 0.392 | Negative: 0.287 | Neutral: 0.321\n",
      "   Dominant: positive | Chunks: 24\n",
      "\n",
      "New Mexico.................... (Sep 2019)\n",
      "   Positive: 0.391 | Negative: 0.271 | Neutral: 0.338\n",
      "   Dominant: positive | Chunks: 31\n",
      "\n",
      "Texas......................... (Sep 2019)\n",
      "   Positive: 0.396 | Negative: 0.317 | Neutral: 0.287\n",
      "   Dominant: positive | Chunks: 6\n",
      "\n",
      "Dallas........................ (Oct 2019)\n",
      "   Positive: 0.394 | Negative: 0.270 | Neutral: 0.336\n",
      "   Dominant: positive | Chunks: 28\n",
      "\n",
      "Minneapolis................... (Oct 2019)\n",
      "   Positive: 0.391 | Negative: 0.265 | Neutral: 0.344\n",
      "   Dominant: positive | Chunks: 31\n",
      "\n",
      "Lexington..................... (Nov 2019)\n",
      "   Positive: 0.393 | Negative: 0.272 | Neutral: 0.335\n",
      "   Dominant: positive | Chunks: 24\n",
      "\n",
      "Tupelo........................ (Nov 2019)\n",
      "   Positive: 0.395 | Negative: 0.267 | Neutral: 0.338\n",
      "   Dominant: positive | Chunks: 25\n",
      "\n",
      "Battle Creek.................. (Dec 2019)\n",
      "   Positive: 0.395 | Negative: 0.259 | Neutral: 0.346\n",
      "   Dominant: positive | Chunks: 48\n",
      "\n",
      "Hershey....................... (Dec 2019)\n",
      "   Positive: 0.394 | Negative: 0.268 | Neutral: 0.338\n",
      "   Dominant: positive | Chunks: 26\n",
      "\n",
      "New Hampshire................. (Aug 2020)\n",
      "   Positive: 0.394 | Negative: 0.265 | Neutral: 0.341\n",
      "   Dominant: positive | Chunks: 24\n",
      "\n",
      "Yuma.......................... (Aug 2020)\n",
      "   Positive: 0.393 | Negative: 0.273 | Neutral: 0.334\n",
      "   Dominant: positive | Chunks: 17\n",
      "\n",
      "Bemidji....................... (Sep 2020)\n",
      "   Positive: 0.391 | Negative: 0.258 | Neutral: 0.350\n",
      "   Dominant: positive | Chunks: 46\n",
      "\n",
      "Fayetteville.................. (Sep 2020)\n",
      "   Positive: 0.393 | Negative: 0.264 | Neutral: 0.343\n",
      "   Dominant: positive | Chunks: 45\n",
      "\n",
      "Freeland...................... (Sep 2020)\n",
      "   Positive: 0.392 | Negative: 0.277 | Neutral: 0.331\n",
      "   Dominant: positive | Chunks: 27\n",
      "\n",
      "Henderson..................... (Sep 2020)\n",
      "   Positive: 0.389 | Negative: 0.273 | Neutral: 0.338\n",
      "   Dominant: positive | Chunks: 24\n",
      "\n",
      "Latrobe....................... (Sep 2020)\n",
      "   Positive: 0.392 | Negative: 0.264 | Neutral: 0.344\n",
      "   Dominant: positive | Chunks: 33\n",
      "\n",
      "Minden........................ (Sep 2020)\n",
      "   Positive: 0.390 | Negative: 0.263 | Neutral: 0.348\n",
      "   Dominant: positive | Chunks: 38\n",
      "\n",
      "Mosinee....................... (Sep 2020)\n",
      "   Positive: 0.393 | Negative: 0.266 | Neutral: 0.341\n",
      "   Dominant: positive | Chunks: 38\n",
      "\n",
      "Ohio.......................... (Sep 2020)\n",
      "   Positive: 0.392 | Negative: 0.268 | Neutral: 0.340\n",
      "   Dominant: positive | Chunks: 29\n",
      "\n",
      "Pittsburgh.................... (Sep 2020)\n",
      "   Positive: 0.390 | Negative: 0.260 | Neutral: 0.350\n",
      "   Dominant: positive | Chunks: 32\n",
      "\n",
      "Salem......................... (Sep 2020)\n",
      "   Positive: 0.394 | Negative: 0.267 | Neutral: 0.339\n",
      "   Dominant: positive | Chunks: 29\n",
      "\n",
      "Des Moines.................... (Jan 2020)\n",
      "   Positive: 0.394 | Negative: 0.267 | Neutral: 0.339\n",
      "   Dominant: positive | Chunks: 31\n",
      "\n",
      "Milwaukee..................... (Jan 2020)\n",
      "   Positive: 0.398 | Negative: 0.267 | Neutral: 0.335\n",
      "   Dominant: positive | Chunks: 25\n",
      "\n",
      "Toledo........................ (Jan 2020)\n",
      "   Positive: 0.396 | Negative: 0.267 | Neutral: 0.336\n",
      "   Dominant: positive | Chunks: 29\n",
      "\n",
      "Wildwood...................... (Jan 2020)\n",
      "   Positive: 0.390 | Negative: 0.278 | Neutral: 0.332\n",
      "   Dominant: positive | Chunks: 18\n",
      "\n",
      "Charleston.................... (Feb 2020)\n",
      "   Positive: 0.388 | Negative: 0.271 | Neutral: 0.340\n",
      "   Dominant: positive | Chunks: 25\n",
      "\n",
      "Colorador Springs............. (Feb 2020)\n",
      "   Positive: 0.392 | Negative: 0.268 | Neutral: 0.340\n",
      "   Dominant: positive | Chunks: 31\n",
      "\n",
      "Las Vegas..................... (Feb 2020)\n",
      "   Positive: 0.392 | Negative: 0.265 | Neutral: 0.343\n",
      "   Dominant: positive | Chunks: 36\n",
      "\n",
      "New Hampshire................. (Feb 2020)\n",
      "   Positive: 0.397 | Negative: 0.282 | Neutral: 0.320\n",
      "   Dominant: positive | Chunks: 17\n",
      "\n",
      "Phoenix....................... (Feb 2020)\n",
      "   Positive: 0.390 | Negative: 0.278 | Neutral: 0.332\n",
      "   Dominant: positive | Chunks: 25\n",
      "\n",
      "Charlotte..................... (Mar 2020)\n",
      "   Positive: 0.394 | Negative: 0.277 | Neutral: 0.329\n",
      "   Dominant: positive | Chunks: 18\n",
      "\n",
      "Tulsa......................... (Jun 2020)\n",
      "   Positive: 0.395 | Negative: 0.260 | Neutral: 0.345\n",
      "   Dominant: positive | Chunks: 30\n",
      "\n"
     ]
    },
    {
     "data": {
      "text/html": [
       "<div>\n",
       "<style scoped>\n",
       "    .dataframe tbody tr th:only-of-type {\n",
       "        vertical-align: middle;\n",
       "    }\n",
       "\n",
       "    .dataframe tbody tr th {\n",
       "        vertical-align: top;\n",
       "    }\n",
       "\n",
       "    .dataframe thead th {\n",
       "        text-align: right;\n",
       "    }\n",
       "</style>\n",
       "<table border=\"1\" class=\"dataframe\">\n",
       "  <thead>\n",
       "    <tr style=\"text-align: right;\">\n",
       "      <th></th>\n",
       "      <th>speech_idx</th>\n",
       "      <th>location</th>\n",
       "      <th>month</th>\n",
       "      <th>year</th>\n",
       "      <th>num_chunks</th>\n",
       "      <th>positive</th>\n",
       "      <th>negative</th>\n",
       "      <th>neutral</th>\n",
       "      <th>dominant_sentiment</th>\n",
       "    </tr>\n",
       "  </thead>\n",
       "  <tbody>\n",
       "    <tr>\n",
       "      <th>0</th>\n",
       "      <td>0</td>\n",
       "      <td>Greenville</td>\n",
       "      <td>Jul</td>\n",
       "      <td>2019</td>\n",
       "      <td>28</td>\n",
       "      <td>0.394135</td>\n",
       "      <td>0.265128</td>\n",
       "      <td>0.340737</td>\n",
       "      <td>positive</td>\n",
       "    </tr>\n",
       "    <tr>\n",
       "      <th>1</th>\n",
       "      <td>1</td>\n",
       "      <td>Cincinnati</td>\n",
       "      <td>Aug</td>\n",
       "      <td>2019</td>\n",
       "      <td>21</td>\n",
       "      <td>0.394186</td>\n",
       "      <td>0.272307</td>\n",
       "      <td>0.333507</td>\n",
       "      <td>positive</td>\n",
       "    </tr>\n",
       "    <tr>\n",
       "      <th>2</th>\n",
       "      <td>2</td>\n",
       "      <td>New Hampshire</td>\n",
       "      <td>Aug</td>\n",
       "      <td>2019</td>\n",
       "      <td>26</td>\n",
       "      <td>0.397914</td>\n",
       "      <td>0.270642</td>\n",
       "      <td>0.331445</td>\n",
       "      <td>positive</td>\n",
       "    </tr>\n",
       "    <tr>\n",
       "      <th>3</th>\n",
       "      <td>3</td>\n",
       "      <td>Fayetteville</td>\n",
       "      <td>Sep</td>\n",
       "      <td>2019</td>\n",
       "      <td>24</td>\n",
       "      <td>0.392093</td>\n",
       "      <td>0.286814</td>\n",
       "      <td>0.321093</td>\n",
       "      <td>positive</td>\n",
       "    </tr>\n",
       "    <tr>\n",
       "      <th>4</th>\n",
       "      <td>4</td>\n",
       "      <td>New Mexico</td>\n",
       "      <td>Sep</td>\n",
       "      <td>2019</td>\n",
       "      <td>31</td>\n",
       "      <td>0.391417</td>\n",
       "      <td>0.270587</td>\n",
       "      <td>0.337996</td>\n",
       "      <td>positive</td>\n",
       "    </tr>\n",
       "    <tr>\n",
       "      <th>5</th>\n",
       "      <td>5</td>\n",
       "      <td>Texas</td>\n",
       "      <td>Sep</td>\n",
       "      <td>2019</td>\n",
       "      <td>6</td>\n",
       "      <td>0.395873</td>\n",
       "      <td>0.316721</td>\n",
       "      <td>0.287406</td>\n",
       "      <td>positive</td>\n",
       "    </tr>\n",
       "    <tr>\n",
       "      <th>6</th>\n",
       "      <td>6</td>\n",
       "      <td>Dallas</td>\n",
       "      <td>Oct</td>\n",
       "      <td>2019</td>\n",
       "      <td>28</td>\n",
       "      <td>0.394222</td>\n",
       "      <td>0.270229</td>\n",
       "      <td>0.335550</td>\n",
       "      <td>positive</td>\n",
       "    </tr>\n",
       "    <tr>\n",
       "      <th>7</th>\n",
       "      <td>7</td>\n",
       "      <td>Minneapolis</td>\n",
       "      <td>Oct</td>\n",
       "      <td>2019</td>\n",
       "      <td>31</td>\n",
       "      <td>0.390913</td>\n",
       "      <td>0.265286</td>\n",
       "      <td>0.343801</td>\n",
       "      <td>positive</td>\n",
       "    </tr>\n",
       "    <tr>\n",
       "      <th>8</th>\n",
       "      <td>8</td>\n",
       "      <td>Lexington</td>\n",
       "      <td>Nov</td>\n",
       "      <td>2019</td>\n",
       "      <td>24</td>\n",
       "      <td>0.393218</td>\n",
       "      <td>0.271917</td>\n",
       "      <td>0.334865</td>\n",
       "      <td>positive</td>\n",
       "    </tr>\n",
       "    <tr>\n",
       "      <th>9</th>\n",
       "      <td>9</td>\n",
       "      <td>Tupelo</td>\n",
       "      <td>Nov</td>\n",
       "      <td>2019</td>\n",
       "      <td>25</td>\n",
       "      <td>0.395425</td>\n",
       "      <td>0.266898</td>\n",
       "      <td>0.337677</td>\n",
       "      <td>positive</td>\n",
       "    </tr>\n",
       "  </tbody>\n",
       "</table>\n",
       "</div>"
      ],
      "text/plain": [
       "   speech_idx       location month  year  num_chunks  positive  negative  \\\n",
       "0           0     Greenville   Jul  2019          28  0.394135  0.265128   \n",
       "1           1     Cincinnati   Aug  2019          21  0.394186  0.272307   \n",
       "2           2  New Hampshire   Aug  2019          26  0.397914  0.270642   \n",
       "3           3   Fayetteville   Sep  2019          24  0.392093  0.286814   \n",
       "4           4     New Mexico   Sep  2019          31  0.391417  0.270587   \n",
       "5           5          Texas   Sep  2019           6  0.395873  0.316721   \n",
       "6           6         Dallas   Oct  2019          28  0.394222  0.270229   \n",
       "7           7    Minneapolis   Oct  2019          31  0.390913  0.265286   \n",
       "8           8      Lexington   Nov  2019          24  0.393218  0.271917   \n",
       "9           9         Tupelo   Nov  2019          25  0.395425  0.266898   \n",
       "\n",
       "    neutral dominant_sentiment  \n",
       "0  0.340737           positive  \n",
       "1  0.333507           positive  \n",
       "2  0.331445           positive  \n",
       "3  0.321093           positive  \n",
       "4  0.337996           positive  \n",
       "5  0.287406           positive  \n",
       "6  0.335550           positive  \n",
       "7  0.343801           positive  \n",
       "8  0.334865           positive  \n",
       "9  0.337677           positive  "
      ]
     },
     "execution_count": 7,
     "metadata": {},
     "output_type": "execute_result"
    }
   ],
   "source": [
    "# Display sentiment scores\n",
    "print(\"Sentiment Scores by Speech:\\n\")\n",
    "print(\"=\"*80)\n",
    "\n",
    "for idx, row in sentiment_df.iterrows():\n",
    "    print(f\"{row['location']:.<30} ({row['month']} {row['year']})\")\n",
    "    print(f\"   Positive: {row['positive']:.3f} | Negative: {row['negative']:.3f} | Neutral: {row['neutral']:.3f}\")\n",
    "    print(f\"   Dominant: {row['dominant_sentiment']} | Chunks: {row['num_chunks']}\")\n",
    "    print()\n",
    "\n",
    "# Show DataFrame\n",
    "sentiment_df.head(10)"
   ]
  },
  {
   "cell_type": "markdown",
   "id": "17b43a27",
   "metadata": {},
   "source": [
    "## Interactive Sentiment Dashboard\n",
    "\n",
    "Creating comprehensive visualizations to explore sentiment patterns across all speeches."
   ]
  },
  {
   "cell_type": "code",
   "execution_count": 8,
   "id": "faa8a65c",
   "metadata": {},
   "outputs": [
    {
     "data": {
      "application/vnd.plotly.v1+json": {
       "config": {
        "plotlyServerURL": "https://plot.ly"
       },
       "data": [
        {
         "marker": {
          "color": "#2ecc71"
         },
         "name": "Positive",
         "showlegend": true,
         "type": "bar",
         "x": [
          "Greenville",
          "Cincinnati",
          "New Hampshire",
          "Fayetteville",
          "New Mexico",
          "Texas",
          "Dallas",
          "Minneapolis",
          "Lexington",
          "Tupelo",
          "Battle Creek",
          "Hershey",
          "New Hampshire",
          "Yuma",
          "Bemidji",
          "Fayetteville",
          "Freeland",
          "Henderson",
          "Latrobe",
          "Minden",
          "Mosinee",
          "Ohio",
          "Pittsburgh",
          "Salem",
          "Des Moines",
          "Milwaukee",
          "Toledo",
          "Wildwood",
          "Charleston",
          "Colorador Springs",
          "Las Vegas",
          "New Hampshire",
          "Phoenix",
          "Charlotte",
          "Tulsa"
         ],
         "xaxis": "x",
         "y": {
          "bdata": "D8zJPsvSyT5Xu8s+aMDIPslnyD7br8o+a9fJPsYlyD7oU8k+MnXKPqM9yj5Vs8k+H5DJPpE9yT5mZ8g+vErJPi+NyD68Wcc+2oHIPmxxxz41a8k+nLrIPn+1xz4Tk8k+hLPJPsT0yz4t88o+SsnHPka/xj5JsMg+F6jIPseDyz4/4sc+V5rJPpkUyj4=",
          "dtype": "f4"
         },
         "yaxis": "y"
        },
        {
         "marker": {
          "color": "#e74c3c"
         },
         "name": "Negative",
         "showlegend": true,
         "type": "bar",
         "x": [
          "Greenville",
          "Cincinnati",
          "New Hampshire",
          "Fayetteville",
          "New Mexico",
          "Texas",
          "Dallas",
          "Minneapolis",
          "Lexington",
          "Tupelo",
          "Battle Creek",
          "Hershey",
          "New Hampshire",
          "Yuma",
          "Bemidji",
          "Fayetteville",
          "Freeland",
          "Henderson",
          "Latrobe",
          "Minden",
          "Mosinee",
          "Ohio",
          "Pittsburgh",
          "Salem",
          "Des Moines",
          "Milwaukee",
          "Toledo",
          "Wildwood",
          "Charleston",
          "Colorador Springs",
          "Las Vegas",
          "New Hampshire",
          "Phoenix",
          "Charlotte",
          "Tulsa"
         ],
         "xaxis": "x",
         "y": {
          "bdata": "1L6HPtRriz6JkYo+R9mSPmaKij5BKaI+bVuKPofThz6uOIs+2aaIPq17hD4HS4k+LOSHPsPliz5tK4Q+zzWHPrnQjT77jos+t1eHPgFwhj5FLYg+FBuJPhz7hD4t8Ig+W6qIPqi4iD665Yg+oXOOPvr8ij6lDYk+laqHPjiEkD51OY4+i+6NPugXhT4=",
          "dtype": "f4"
         },
         "yaxis": "y"
        },
        {
         "marker": {
          "color": "#95a5a6"
         },
         "name": "Neutral",
         "showlegend": true,
         "type": "bar",
         "x": [
          "Greenville",
          "Cincinnati",
          "New Hampshire",
          "Fayetteville",
          "New Mexico",
          "Texas",
          "Dallas",
          "Minneapolis",
          "Lexington",
          "Tupelo",
          "Battle Creek",
          "Hershey",
          "New Hampshire",
          "Yuma",
          "Bemidji",
          "Fayetteville",
          "Freeland",
          "Henderson",
          "Latrobe",
          "Minden",
          "Mosinee",
          "Ohio",
          "Pittsburgh",
          "Salem",
          "Des Moines",
          "Milwaukee",
          "Toledo",
          "Wildwood",
          "Charleston",
          "Colorador Springs",
          "Las Vegas",
          "New Hampshire",
          "Phoenix",
          "Charlotte",
          "Tulsa"
         ],
         "xaxis": "x",
         "y": {
          "bdata": "HnWuPmLBqj4fs6k+TWakPtENrT7kJpM+KM2rPq8GsD5rc6s+9uOsPrBGsT6kAa0+tYuuPqvcqj4tbbM+dn+vPheiqT5IF60+cCawPpMesj6HZ64+USquPmVPsz6/fK0+IqKtPpdSqz4aJ6w+FMOpPsBDrj4RQq4+Ua2vPgL4oz5M5Kk+HHeoPn7TsD4=",
          "dtype": "f4"
         },
         "yaxis": "y"
        },
        {
         "marker": {
          "color": "#2ecc71"
         },
         "name": "Positive",
         "showlegend": false,
         "type": "bar",
         "x": [
          "2019",
          "2020"
         ],
         "xaxis": "x2",
         "y": {
          "bdata": "IL7JPucDyT4=",
          "dtype": "f4"
         },
         "yaxis": "y2"
        },
        {
         "marker": {
          "color": "#e74c3c"
         },
         "name": "Negative",
         "showlegend": false,
         "type": "bar",
         "x": [
          "2019",
          "2020"
         ],
         "xaxis": "x2",
         "y": {
          "bdata": "3BeMPr2NiT4=",
          "dtype": "f4"
         },
         "yaxis": "y2"
        },
        {
         "marker": {
          "color": "#95a5a6"
         },
         "name": "Neutral",
         "showlegend": false,
         "type": "bar",
         "x": [
          "2019",
          "2020"
         ],
         "xaxis": "x2",
         "y": {
          "bdata": "BCqqPl1urT4=",
          "dtype": "f4"
         },
         "yaxis": "y2"
        },
        {
         "domain": {
          "x": [
           0,
           0.45
          ],
          "y": [
           0,
           0.375
          ]
         },
         "labels": [
          "positive"
         ],
         "marker": {
          "colors": [
           "#2ecc71",
           "#e74c3c",
           "#95a5a6"
          ]
         },
         "showlegend": false,
         "type": "pie",
         "values": {
          "bdata": "Iw==",
          "dtype": "i1"
         }
        },
        {
         "line": {
          "color": "#2ecc71",
          "width": 2
         },
         "mode": "lines+markers",
         "name": "Positive",
         "showlegend": false,
         "type": "scatter",
         "x": {
          "bdata": "AAECAwQFBgcICQoLDA0ODxAREhMUFRYXGBkaGxwdHh8gISI=",
          "dtype": "i1"
         },
         "xaxis": "x3",
         "y": {
          "bdata": "D8zJPsvSyT5Xu8s+aMDIPslnyD7br8o+a9fJPsYlyD7oU8k+MnXKPqM9yj5Vs8k+H5DJPpE9yT5mZ8g+vErJPi+NyD68Wcc+2oHIPmxxxz41a8k+nLrIPn+1xz4Tk8k+hLPJPsT0yz4t88o+SsnHPka/xj5JsMg+F6jIPseDyz4/4sc+V5rJPpkUyj4=",
          "dtype": "f4"
         },
         "yaxis": "y3"
        },
        {
         "line": {
          "color": "#e74c3c",
          "width": 2
         },
         "mode": "lines+markers",
         "name": "Negative",
         "showlegend": false,
         "type": "scatter",
         "x": {
          "bdata": "AAECAwQFBgcICQoLDA0ODxAREhMUFRYXGBkaGxwdHh8gISI=",
          "dtype": "i1"
         },
         "xaxis": "x3",
         "y": {
          "bdata": "1L6HPtRriz6JkYo+R9mSPmaKij5BKaI+bVuKPofThz6uOIs+2aaIPq17hD4HS4k+LOSHPsPliz5tK4Q+zzWHPrnQjT77jos+t1eHPgFwhj5FLYg+FBuJPhz7hD4t8Ig+W6qIPqi4iD665Yg+oXOOPvr8ij6lDYk+laqHPjiEkD51OY4+i+6NPugXhT4=",
          "dtype": "f4"
         },
         "yaxis": "y3"
        },
        {
         "line": {
          "color": "#95a5a6",
          "width": 2
         },
         "mode": "lines+markers",
         "name": "Neutral",
         "showlegend": false,
         "type": "scatter",
         "x": {
          "bdata": "AAECAwQFBgcICQoLDA0ODxAREhMUFRYXGBkaGxwdHh8gISI=",
          "dtype": "i1"
         },
         "xaxis": "x3",
         "y": {
          "bdata": "HnWuPmLBqj4fs6k+TWakPtENrT7kJpM+KM2rPq8GsD5rc6s+9uOsPrBGsT6kAa0+tYuuPqvcqj4tbbM+dn+vPheiqT5IF60+cCawPpMesj6HZ64+USquPmVPsz6/fK0+IqKtPpdSqz4aJ6w+FMOpPsBDrj4RQq4+Ua2vPgL4oz5M5Kk+HHeoPn7TsD4=",
          "dtype": "f4"
         },
         "yaxis": "y3"
        }
       ],
       "layout": {
        "annotations": [
         {
          "font": {
           "size": 16
          },
          "showarrow": false,
          "text": "Sentiment Distribution Across All Speeches",
          "x": 0.225,
          "xanchor": "center",
          "xref": "paper",
          "y": 1,
          "yanchor": "bottom",
          "yref": "paper"
         },
         {
          "font": {
           "size": 16
          },
          "showarrow": false,
          "text": "Average Sentiment by Year",
          "x": 0.775,
          "xanchor": "center",
          "xref": "paper",
          "y": 1,
          "yanchor": "bottom",
          "yref": "paper"
         },
         {
          "font": {
           "size": 16
          },
          "showarrow": false,
          "text": "Dominant Sentiment Count",
          "x": 0.225,
          "xanchor": "center",
          "xref": "paper",
          "y": 0.375,
          "yanchor": "bottom",
          "yref": "paper"
         },
         {
          "font": {
           "size": 16
          },
          "showarrow": false,
          "text": "Sentiment Trends Over Time",
          "x": 0.775,
          "xanchor": "center",
          "xref": "paper",
          "y": 0.375,
          "yanchor": "bottom",
          "yref": "paper"
         }
        ],
        "barmode": "group",
        "height": 900,
        "showlegend": true,
        "template": {
         "data": {
          "bar": [
           {
            "error_x": {
             "color": "#2a3f5f"
            },
            "error_y": {
             "color": "#2a3f5f"
            },
            "marker": {
             "line": {
              "color": "white",
              "width": 0.5
             },
             "pattern": {
              "fillmode": "overlay",
              "size": 10,
              "solidity": 0.2
             }
            },
            "type": "bar"
           }
          ],
          "barpolar": [
           {
            "marker": {
             "line": {
              "color": "white",
              "width": 0.5
             },
             "pattern": {
              "fillmode": "overlay",
              "size": 10,
              "solidity": 0.2
             }
            },
            "type": "barpolar"
           }
          ],
          "carpet": [
           {
            "aaxis": {
             "endlinecolor": "#2a3f5f",
             "gridcolor": "#C8D4E3",
             "linecolor": "#C8D4E3",
             "minorgridcolor": "#C8D4E3",
             "startlinecolor": "#2a3f5f"
            },
            "baxis": {
             "endlinecolor": "#2a3f5f",
             "gridcolor": "#C8D4E3",
             "linecolor": "#C8D4E3",
             "minorgridcolor": "#C8D4E3",
             "startlinecolor": "#2a3f5f"
            },
            "type": "carpet"
           }
          ],
          "choropleth": [
           {
            "colorbar": {
             "outlinewidth": 0,
             "ticks": ""
            },
            "type": "choropleth"
           }
          ],
          "contour": [
           {
            "colorbar": {
             "outlinewidth": 0,
             "ticks": ""
            },
            "colorscale": [
             [
              0,
              "#0d0887"
             ],
             [
              0.1111111111111111,
              "#46039f"
             ],
             [
              0.2222222222222222,
              "#7201a8"
             ],
             [
              0.3333333333333333,
              "#9c179e"
             ],
             [
              0.4444444444444444,
              "#bd3786"
             ],
             [
              0.5555555555555556,
              "#d8576b"
             ],
             [
              0.6666666666666666,
              "#ed7953"
             ],
             [
              0.7777777777777778,
              "#fb9f3a"
             ],
             [
              0.8888888888888888,
              "#fdca26"
             ],
             [
              1,
              "#f0f921"
             ]
            ],
            "type": "contour"
           }
          ],
          "contourcarpet": [
           {
            "colorbar": {
             "outlinewidth": 0,
             "ticks": ""
            },
            "type": "contourcarpet"
           }
          ],
          "heatmap": [
           {
            "colorbar": {
             "outlinewidth": 0,
             "ticks": ""
            },
            "colorscale": [
             [
              0,
              "#0d0887"
             ],
             [
              0.1111111111111111,
              "#46039f"
             ],
             [
              0.2222222222222222,
              "#7201a8"
             ],
             [
              0.3333333333333333,
              "#9c179e"
             ],
             [
              0.4444444444444444,
              "#bd3786"
             ],
             [
              0.5555555555555556,
              "#d8576b"
             ],
             [
              0.6666666666666666,
              "#ed7953"
             ],
             [
              0.7777777777777778,
              "#fb9f3a"
             ],
             [
              0.8888888888888888,
              "#fdca26"
             ],
             [
              1,
              "#f0f921"
             ]
            ],
            "type": "heatmap"
           }
          ],
          "histogram": [
           {
            "marker": {
             "pattern": {
              "fillmode": "overlay",
              "size": 10,
              "solidity": 0.2
             }
            },
            "type": "histogram"
           }
          ],
          "histogram2d": [
           {
            "colorbar": {
             "outlinewidth": 0,
             "ticks": ""
            },
            "colorscale": [
             [
              0,
              "#0d0887"
             ],
             [
              0.1111111111111111,
              "#46039f"
             ],
             [
              0.2222222222222222,
              "#7201a8"
             ],
             [
              0.3333333333333333,
              "#9c179e"
             ],
             [
              0.4444444444444444,
              "#bd3786"
             ],
             [
              0.5555555555555556,
              "#d8576b"
             ],
             [
              0.6666666666666666,
              "#ed7953"
             ],
             [
              0.7777777777777778,
              "#fb9f3a"
             ],
             [
              0.8888888888888888,
              "#fdca26"
             ],
             [
              1,
              "#f0f921"
             ]
            ],
            "type": "histogram2d"
           }
          ],
          "histogram2dcontour": [
           {
            "colorbar": {
             "outlinewidth": 0,
             "ticks": ""
            },
            "colorscale": [
             [
              0,
              "#0d0887"
             ],
             [
              0.1111111111111111,
              "#46039f"
             ],
             [
              0.2222222222222222,
              "#7201a8"
             ],
             [
              0.3333333333333333,
              "#9c179e"
             ],
             [
              0.4444444444444444,
              "#bd3786"
             ],
             [
              0.5555555555555556,
              "#d8576b"
             ],
             [
              0.6666666666666666,
              "#ed7953"
             ],
             [
              0.7777777777777778,
              "#fb9f3a"
             ],
             [
              0.8888888888888888,
              "#fdca26"
             ],
             [
              1,
              "#f0f921"
             ]
            ],
            "type": "histogram2dcontour"
           }
          ],
          "mesh3d": [
           {
            "colorbar": {
             "outlinewidth": 0,
             "ticks": ""
            },
            "type": "mesh3d"
           }
          ],
          "parcoords": [
           {
            "line": {
             "colorbar": {
              "outlinewidth": 0,
              "ticks": ""
             }
            },
            "type": "parcoords"
           }
          ],
          "pie": [
           {
            "automargin": true,
            "type": "pie"
           }
          ],
          "scatter": [
           {
            "fillpattern": {
             "fillmode": "overlay",
             "size": 10,
             "solidity": 0.2
            },
            "type": "scatter"
           }
          ],
          "scatter3d": [
           {
            "line": {
             "colorbar": {
              "outlinewidth": 0,
              "ticks": ""
             }
            },
            "marker": {
             "colorbar": {
              "outlinewidth": 0,
              "ticks": ""
             }
            },
            "type": "scatter3d"
           }
          ],
          "scattercarpet": [
           {
            "marker": {
             "colorbar": {
              "outlinewidth": 0,
              "ticks": ""
             }
            },
            "type": "scattercarpet"
           }
          ],
          "scattergeo": [
           {
            "marker": {
             "colorbar": {
              "outlinewidth": 0,
              "ticks": ""
             }
            },
            "type": "scattergeo"
           }
          ],
          "scattergl": [
           {
            "marker": {
             "colorbar": {
              "outlinewidth": 0,
              "ticks": ""
             }
            },
            "type": "scattergl"
           }
          ],
          "scattermap": [
           {
            "marker": {
             "colorbar": {
              "outlinewidth": 0,
              "ticks": ""
             }
            },
            "type": "scattermap"
           }
          ],
          "scattermapbox": [
           {
            "marker": {
             "colorbar": {
              "outlinewidth": 0,
              "ticks": ""
             }
            },
            "type": "scattermapbox"
           }
          ],
          "scatterpolar": [
           {
            "marker": {
             "colorbar": {
              "outlinewidth": 0,
              "ticks": ""
             }
            },
            "type": "scatterpolar"
           }
          ],
          "scatterpolargl": [
           {
            "marker": {
             "colorbar": {
              "outlinewidth": 0,
              "ticks": ""
             }
            },
            "type": "scatterpolargl"
           }
          ],
          "scatterternary": [
           {
            "marker": {
             "colorbar": {
              "outlinewidth": 0,
              "ticks": ""
             }
            },
            "type": "scatterternary"
           }
          ],
          "surface": [
           {
            "colorbar": {
             "outlinewidth": 0,
             "ticks": ""
            },
            "colorscale": [
             [
              0,
              "#0d0887"
             ],
             [
              0.1111111111111111,
              "#46039f"
             ],
             [
              0.2222222222222222,
              "#7201a8"
             ],
             [
              0.3333333333333333,
              "#9c179e"
             ],
             [
              0.4444444444444444,
              "#bd3786"
             ],
             [
              0.5555555555555556,
              "#d8576b"
             ],
             [
              0.6666666666666666,
              "#ed7953"
             ],
             [
              0.7777777777777778,
              "#fb9f3a"
             ],
             [
              0.8888888888888888,
              "#fdca26"
             ],
             [
              1,
              "#f0f921"
             ]
            ],
            "type": "surface"
           }
          ],
          "table": [
           {
            "cells": {
             "fill": {
              "color": "#EBF0F8"
             },
             "line": {
              "color": "white"
             }
            },
            "header": {
             "fill": {
              "color": "#C8D4E3"
             },
             "line": {
              "color": "white"
             }
            },
            "type": "table"
           }
          ]
         },
         "layout": {
          "annotationdefaults": {
           "arrowcolor": "#2a3f5f",
           "arrowhead": 0,
           "arrowwidth": 1
          },
          "autotypenumbers": "strict",
          "coloraxis": {
           "colorbar": {
            "outlinewidth": 0,
            "ticks": ""
           }
          },
          "colorscale": {
           "diverging": [
            [
             0,
             "#8e0152"
            ],
            [
             0.1,
             "#c51b7d"
            ],
            [
             0.2,
             "#de77ae"
            ],
            [
             0.3,
             "#f1b6da"
            ],
            [
             0.4,
             "#fde0ef"
            ],
            [
             0.5,
             "#f7f7f7"
            ],
            [
             0.6,
             "#e6f5d0"
            ],
            [
             0.7,
             "#b8e186"
            ],
            [
             0.8,
             "#7fbc41"
            ],
            [
             0.9,
             "#4d9221"
            ],
            [
             1,
             "#276419"
            ]
           ],
           "sequential": [
            [
             0,
             "#0d0887"
            ],
            [
             0.1111111111111111,
             "#46039f"
            ],
            [
             0.2222222222222222,
             "#7201a8"
            ],
            [
             0.3333333333333333,
             "#9c179e"
            ],
            [
             0.4444444444444444,
             "#bd3786"
            ],
            [
             0.5555555555555556,
             "#d8576b"
            ],
            [
             0.6666666666666666,
             "#ed7953"
            ],
            [
             0.7777777777777778,
             "#fb9f3a"
            ],
            [
             0.8888888888888888,
             "#fdca26"
            ],
            [
             1,
             "#f0f921"
            ]
           ],
           "sequentialminus": [
            [
             0,
             "#0d0887"
            ],
            [
             0.1111111111111111,
             "#46039f"
            ],
            [
             0.2222222222222222,
             "#7201a8"
            ],
            [
             0.3333333333333333,
             "#9c179e"
            ],
            [
             0.4444444444444444,
             "#bd3786"
            ],
            [
             0.5555555555555556,
             "#d8576b"
            ],
            [
             0.6666666666666666,
             "#ed7953"
            ],
            [
             0.7777777777777778,
             "#fb9f3a"
            ],
            [
             0.8888888888888888,
             "#fdca26"
            ],
            [
             1,
             "#f0f921"
            ]
           ]
          },
          "colorway": [
           "#636efa",
           "#EF553B",
           "#00cc96",
           "#ab63fa",
           "#FFA15A",
           "#19d3f3",
           "#FF6692",
           "#B6E880",
           "#FF97FF",
           "#FECB52"
          ],
          "font": {
           "color": "#2a3f5f"
          },
          "geo": {
           "bgcolor": "white",
           "lakecolor": "white",
           "landcolor": "white",
           "showlakes": true,
           "showland": true,
           "subunitcolor": "#C8D4E3"
          },
          "hoverlabel": {
           "align": "left"
          },
          "hovermode": "closest",
          "mapbox": {
           "style": "light"
          },
          "paper_bgcolor": "white",
          "plot_bgcolor": "white",
          "polar": {
           "angularaxis": {
            "gridcolor": "#EBF0F8",
            "linecolor": "#EBF0F8",
            "ticks": ""
           },
           "bgcolor": "white",
           "radialaxis": {
            "gridcolor": "#EBF0F8",
            "linecolor": "#EBF0F8",
            "ticks": ""
           }
          },
          "scene": {
           "xaxis": {
            "backgroundcolor": "white",
            "gridcolor": "#DFE8F3",
            "gridwidth": 2,
            "linecolor": "#EBF0F8",
            "showbackground": true,
            "ticks": "",
            "zerolinecolor": "#EBF0F8"
           },
           "yaxis": {
            "backgroundcolor": "white",
            "gridcolor": "#DFE8F3",
            "gridwidth": 2,
            "linecolor": "#EBF0F8",
            "showbackground": true,
            "ticks": "",
            "zerolinecolor": "#EBF0F8"
           },
           "zaxis": {
            "backgroundcolor": "white",
            "gridcolor": "#DFE8F3",
            "gridwidth": 2,
            "linecolor": "#EBF0F8",
            "showbackground": true,
            "ticks": "",
            "zerolinecolor": "#EBF0F8"
           }
          },
          "shapedefaults": {
           "line": {
            "color": "#2a3f5f"
           }
          },
          "ternary": {
           "aaxis": {
            "gridcolor": "#DFE8F3",
            "linecolor": "#A2B1C6",
            "ticks": ""
           },
           "baxis": {
            "gridcolor": "#DFE8F3",
            "linecolor": "#A2B1C6",
            "ticks": ""
           },
           "bgcolor": "white",
           "caxis": {
            "gridcolor": "#DFE8F3",
            "linecolor": "#A2B1C6",
            "ticks": ""
           }
          },
          "title": {
           "x": 0.05
          },
          "xaxis": {
           "automargin": true,
           "gridcolor": "#EBF0F8",
           "linecolor": "#EBF0F8",
           "ticks": "",
           "title": {
            "standoff": 15
           },
           "zerolinecolor": "#EBF0F8",
           "zerolinewidth": 2
          },
          "yaxis": {
           "automargin": true,
           "gridcolor": "#EBF0F8",
           "linecolor": "#EBF0F8",
           "ticks": "",
           "title": {
            "standoff": 15
           },
           "zerolinecolor": "#EBF0F8",
           "zerolinewidth": 2
          }
         }
        },
        "title": {
         "text": "Comprehensive Sentiment Analysis Dashboard"
        },
        "xaxis": {
         "anchor": "y",
         "domain": [
          0,
          0.45
         ],
         "tickangle": -45
        },
        "xaxis2": {
         "anchor": "y2",
         "domain": [
          0.55,
          1
         ]
        },
        "xaxis3": {
         "anchor": "y3",
         "domain": [
          0.55,
          1
         ],
         "title": {
          "text": "Speech Index"
         }
        },
        "yaxis": {
         "anchor": "x",
         "domain": [
          0.625,
          1
         ],
         "title": {
          "text": "Probability"
         }
        },
        "yaxis2": {
         "anchor": "x2",
         "domain": [
          0.625,
          1
         ],
         "title": {
          "text": "Probability"
         }
        },
        "yaxis3": {
         "anchor": "x3",
         "domain": [
          0,
          0.375
         ],
         "title": {
          "text": "Sentiment Score"
         }
        }
       }
      }
     },
     "metadata": {},
     "output_type": "display_data"
    }
   ],
   "source": [
    "# Create comprehensive sentiment visualization\n",
    "fig = make_subplots(\n",
    "    rows=2, cols=2,\n",
    "    subplot_titles=('Sentiment Distribution Across All Speeches',\n",
    "                    'Average Sentiment by Year',\n",
    "                    'Dominant Sentiment Count',\n",
    "                    'Sentiment Trends Over Time'),\n",
    "    specs=[[{\"type\": \"bar\"}, {\"type\": \"bar\"}],\n",
    "           [{\"type\": \"pie\"}, {\"type\": \"scatter\"}]]\n",
    ")\n",
    "\n",
    "# 1. Overall sentiment distribution (stacked bar)\n",
    "fig.add_trace(\n",
    "    go.Bar(name='Positive', x=sentiment_df['location'], y=sentiment_df['positive'],\n",
    "           marker_color='#2ecc71', showlegend=True),\n",
    "    row=1, col=1\n",
    ")\n",
    "fig.add_trace(\n",
    "    go.Bar(name='Negative', x=sentiment_df['location'], y=sentiment_df['negative'],\n",
    "           marker_color='#e74c3c', showlegend=True),\n",
    "    row=1, col=1\n",
    ")\n",
    "fig.add_trace(\n",
    "    go.Bar(name='Neutral', x=sentiment_df['location'], y=sentiment_df['neutral'],\n",
    "           marker_color='#95a5a6', showlegend=True),\n",
    "    row=1, col=1\n",
    ")\n",
    "\n",
    "# 2. Average sentiment by year\n",
    "year_avg = sentiment_df.groupby('year')[['positive', 'negative', 'neutral']].mean()\n",
    "fig.add_trace(\n",
    "    go.Bar(name='Positive', x=year_avg.index, y=year_avg['positive'],\n",
    "           marker_color='#2ecc71', showlegend=False),\n",
    "    row=1, col=2\n",
    ")\n",
    "fig.add_trace(\n",
    "    go.Bar(name='Negative', x=year_avg.index, y=year_avg['negative'],\n",
    "           marker_color='#e74c3c', showlegend=False),\n",
    "    row=1, col=2\n",
    ")\n",
    "fig.add_trace(\n",
    "    go.Bar(name='Neutral', x=year_avg.index, y=year_avg['neutral'],\n",
    "           marker_color='#95a5a6', showlegend=False),\n",
    "    row=1, col=2\n",
    ")\n",
    "\n",
    "# 3. Dominant sentiment pie chart\n",
    "sentiment_counts = sentiment_df['dominant_sentiment'].value_counts()\n",
    "fig.add_trace(\n",
    "    go.Pie(labels=sentiment_counts.index, values=sentiment_counts.values,\n",
    "           marker=dict(colors=['#2ecc71', '#e74c3c', '#95a5a6']),\n",
    "           showlegend=False),\n",
    "    row=2, col=1\n",
    ")\n",
    "\n",
    "# 4. Sentiment timeline\n",
    "fig.add_trace(\n",
    "    go.Scatter(x=sentiment_df['speech_idx'], y=sentiment_df['positive'],\n",
    "               mode='lines+markers', name='Positive',\n",
    "               line=dict(color='#2ecc71', width=2), showlegend=False),\n",
    "    row=2, col=2\n",
    ")\n",
    "fig.add_trace(\n",
    "    go.Scatter(x=sentiment_df['speech_idx'], y=sentiment_df['negative'],\n",
    "               mode='lines+markers', name='Negative',\n",
    "               line=dict(color='#e74c3c', width=2), showlegend=False),\n",
    "    row=2, col=2\n",
    ")\n",
    "fig.add_trace(\n",
    "    go.Scatter(x=sentiment_df['speech_idx'], y=sentiment_df['neutral'],\n",
    "               mode='lines+markers', name='Neutral',\n",
    "               line=dict(color='#95a5a6', width=2), showlegend=False),\n",
    "    row=2, col=2\n",
    ")\n",
    "\n",
    "# Update layout\n",
    "fig.update_layout(\n",
    "    height=900,\n",
    "    title_text=\"Comprehensive Sentiment Analysis Dashboard\",\n",
    "    showlegend=True,\n",
    "    barmode='group',\n",
    "    template='plotly_white'\n",
    ")\n",
    "\n",
    "fig.update_xaxes(tickangle=-45, row=1, col=1)\n",
    "fig.update_yaxes(title_text=\"Probability\", row=1, col=1)\n",
    "fig.update_yaxes(title_text=\"Probability\", row=1, col=2)\n",
    "fig.update_yaxes(title_text=\"Sentiment Score\", row=2, col=2)\n",
    "fig.update_xaxes(title_text=\"Speech Index\", row=2, col=2)\n",
    "\n",
    "fig.show()"
   ]
  },
  {
   "cell_type": "markdown",
   "id": "262a173a",
   "metadata": {},
   "source": [
    "## Sentiment Heatmap\n",
    "\n",
    "Visualizing sentiment patterns across speeches in a compact heatmap format."
   ]
  },
  {
   "cell_type": "code",
   "execution_count": 9,
   "id": "c0d76ec6",
   "metadata": {},
   "outputs": [
    {
     "data": {
      "application/vnd.plotly.v1+json": {
       "config": {
        "plotlyServerURL": "https://plot.ly"
       },
       "data": [
        {
         "colorbar": {
          "title": {
           "text": "Probability"
          }
         },
         "colorscale": [
          [
           0,
           "rgb(165,0,38)"
          ],
          [
           0.1,
           "rgb(215,48,39)"
          ],
          [
           0.2,
           "rgb(244,109,67)"
          ],
          [
           0.3,
           "rgb(253,174,97)"
          ],
          [
           0.4,
           "rgb(254,224,139)"
          ],
          [
           0.5,
           "rgb(255,255,191)"
          ],
          [
           0.6,
           "rgb(217,239,139)"
          ],
          [
           0.7,
           "rgb(166,217,106)"
          ],
          [
           0.8,
           "rgb(102,189,99)"
          ],
          [
           0.9,
           "rgb(26,152,80)"
          ],
          [
           1,
           "rgb(0,104,55)"
          ]
         ],
         "text": {
          "bdata": "D8zJPsvSyT5Xu8s+aMDIPslnyD7br8o+a9fJPsYlyD7oU8k+MnXKPqM9yj5Vs8k+H5DJPpE9yT5mZ8g+vErJPi+NyD68Wcc+2oHIPmxxxz41a8k+nLrIPn+1xz4Tk8k+hLPJPsT0yz4t88o+SsnHPka/xj5JsMg+F6jIPseDyz4/4sc+V5rJPpkUyj7Uvoc+1GuLPomRij5H2ZI+ZoqKPkEpoj5tW4o+h9OHPq44iz7Zpog+rXuEPgdLiT4s5Ic+w+WLPm0rhD7PNYc+udCNPvuOiz63V4c+AXCGPkUtiD4UG4k+HPuEPi3wiD5bqog+qLiIPrrliD6hc44++vyKPqUNiT6Vqoc+OISQPnU5jj6L7o0+6BeFPh51rj5iwao+H7OpPk1mpD7RDa0+5CaTPijNqz6vBrA+a3OrPvbjrD6wRrE+pAGtPrWLrj6r3Ko+LW2zPnZ/rz4Xoqk+SBetPnAmsD6THrI+h2euPlEqrj5lT7M+v3ytPiKirT6XUqs+GiesPhTDqT7AQ64+EUKuPlGtrz4C+KM+TOSpPhx3qD5+07A+",
          "dtype": "f4",
          "shape": "3, 35"
         },
         "textfont": {
          "size": 10
         },
         "texttemplate": "%{text:.2f}",
         "type": "heatmap",
         "x": [
          "Greenville",
          "Cincinnati",
          "New Hampshire",
          "Fayetteville",
          "New Mexico",
          "Texas",
          "Dallas",
          "Minneapolis",
          "Lexington",
          "Tupelo",
          "Battle Creek",
          "Hershey",
          "New Hampshire",
          "Yuma",
          "Bemidji",
          "Fayetteville",
          "Freeland",
          "Henderson",
          "Latrobe",
          "Minden",
          "Mosinee",
          "Ohio",
          "Pittsburgh",
          "Salem",
          "Des Moines",
          "Milwaukee",
          "Toledo",
          "Wildwood",
          "Charleston",
          "Colorador Sprin...",
          "Las Vegas",
          "New Hampshire",
          "Phoenix",
          "Charlotte",
          "Tulsa"
         ],
         "y": [
          "Positive",
          "Negative",
          "Neutral"
         ],
         "z": {
          "bdata": "D8zJPsvSyT5Xu8s+aMDIPslnyD7br8o+a9fJPsYlyD7oU8k+MnXKPqM9yj5Vs8k+H5DJPpE9yT5mZ8g+vErJPi+NyD68Wcc+2oHIPmxxxz41a8k+nLrIPn+1xz4Tk8k+hLPJPsT0yz4t88o+SsnHPka/xj5JsMg+F6jIPseDyz4/4sc+V5rJPpkUyj7Uvoc+1GuLPomRij5H2ZI+ZoqKPkEpoj5tW4o+h9OHPq44iz7Zpog+rXuEPgdLiT4s5Ic+w+WLPm0rhD7PNYc+udCNPvuOiz63V4c+AXCGPkUtiD4UG4k+HPuEPi3wiD5bqog+qLiIPrrliD6hc44++vyKPqUNiT6Vqoc+OISQPnU5jj6L7o0+6BeFPh51rj5iwao+H7OpPk1mpD7RDa0+5CaTPijNqz6vBrA+a3OrPvbjrD6wRrE+pAGtPrWLrj6r3Ko+LW2zPnZ/rz4Xoqk+SBetPnAmsD6THrI+h2euPlEqrj5lT7M+v3ytPiKirT6XUqs+GiesPhTDqT7AQ64+EUKuPlGtrz4C+KM+TOSpPhx3qD5+07A+",
          "dtype": "f4",
          "shape": "3, 35"
         }
        }
       ],
       "layout": {
        "height": 400,
        "template": {
         "data": {
          "bar": [
           {
            "error_x": {
             "color": "#2a3f5f"
            },
            "error_y": {
             "color": "#2a3f5f"
            },
            "marker": {
             "line": {
              "color": "white",
              "width": 0.5
             },
             "pattern": {
              "fillmode": "overlay",
              "size": 10,
              "solidity": 0.2
             }
            },
            "type": "bar"
           }
          ],
          "barpolar": [
           {
            "marker": {
             "line": {
              "color": "white",
              "width": 0.5
             },
             "pattern": {
              "fillmode": "overlay",
              "size": 10,
              "solidity": 0.2
             }
            },
            "type": "barpolar"
           }
          ],
          "carpet": [
           {
            "aaxis": {
             "endlinecolor": "#2a3f5f",
             "gridcolor": "#C8D4E3",
             "linecolor": "#C8D4E3",
             "minorgridcolor": "#C8D4E3",
             "startlinecolor": "#2a3f5f"
            },
            "baxis": {
             "endlinecolor": "#2a3f5f",
             "gridcolor": "#C8D4E3",
             "linecolor": "#C8D4E3",
             "minorgridcolor": "#C8D4E3",
             "startlinecolor": "#2a3f5f"
            },
            "type": "carpet"
           }
          ],
          "choropleth": [
           {
            "colorbar": {
             "outlinewidth": 0,
             "ticks": ""
            },
            "type": "choropleth"
           }
          ],
          "contour": [
           {
            "colorbar": {
             "outlinewidth": 0,
             "ticks": ""
            },
            "colorscale": [
             [
              0,
              "#0d0887"
             ],
             [
              0.1111111111111111,
              "#46039f"
             ],
             [
              0.2222222222222222,
              "#7201a8"
             ],
             [
              0.3333333333333333,
              "#9c179e"
             ],
             [
              0.4444444444444444,
              "#bd3786"
             ],
             [
              0.5555555555555556,
              "#d8576b"
             ],
             [
              0.6666666666666666,
              "#ed7953"
             ],
             [
              0.7777777777777778,
              "#fb9f3a"
             ],
             [
              0.8888888888888888,
              "#fdca26"
             ],
             [
              1,
              "#f0f921"
             ]
            ],
            "type": "contour"
           }
          ],
          "contourcarpet": [
           {
            "colorbar": {
             "outlinewidth": 0,
             "ticks": ""
            },
            "type": "contourcarpet"
           }
          ],
          "heatmap": [
           {
            "colorbar": {
             "outlinewidth": 0,
             "ticks": ""
            },
            "colorscale": [
             [
              0,
              "#0d0887"
             ],
             [
              0.1111111111111111,
              "#46039f"
             ],
             [
              0.2222222222222222,
              "#7201a8"
             ],
             [
              0.3333333333333333,
              "#9c179e"
             ],
             [
              0.4444444444444444,
              "#bd3786"
             ],
             [
              0.5555555555555556,
              "#d8576b"
             ],
             [
              0.6666666666666666,
              "#ed7953"
             ],
             [
              0.7777777777777778,
              "#fb9f3a"
             ],
             [
              0.8888888888888888,
              "#fdca26"
             ],
             [
              1,
              "#f0f921"
             ]
            ],
            "type": "heatmap"
           }
          ],
          "histogram": [
           {
            "marker": {
             "pattern": {
              "fillmode": "overlay",
              "size": 10,
              "solidity": 0.2
             }
            },
            "type": "histogram"
           }
          ],
          "histogram2d": [
           {
            "colorbar": {
             "outlinewidth": 0,
             "ticks": ""
            },
            "colorscale": [
             [
              0,
              "#0d0887"
             ],
             [
              0.1111111111111111,
              "#46039f"
             ],
             [
              0.2222222222222222,
              "#7201a8"
             ],
             [
              0.3333333333333333,
              "#9c179e"
             ],
             [
              0.4444444444444444,
              "#bd3786"
             ],
             [
              0.5555555555555556,
              "#d8576b"
             ],
             [
              0.6666666666666666,
              "#ed7953"
             ],
             [
              0.7777777777777778,
              "#fb9f3a"
             ],
             [
              0.8888888888888888,
              "#fdca26"
             ],
             [
              1,
              "#f0f921"
             ]
            ],
            "type": "histogram2d"
           }
          ],
          "histogram2dcontour": [
           {
            "colorbar": {
             "outlinewidth": 0,
             "ticks": ""
            },
            "colorscale": [
             [
              0,
              "#0d0887"
             ],
             [
              0.1111111111111111,
              "#46039f"
             ],
             [
              0.2222222222222222,
              "#7201a8"
             ],
             [
              0.3333333333333333,
              "#9c179e"
             ],
             [
              0.4444444444444444,
              "#bd3786"
             ],
             [
              0.5555555555555556,
              "#d8576b"
             ],
             [
              0.6666666666666666,
              "#ed7953"
             ],
             [
              0.7777777777777778,
              "#fb9f3a"
             ],
             [
              0.8888888888888888,
              "#fdca26"
             ],
             [
              1,
              "#f0f921"
             ]
            ],
            "type": "histogram2dcontour"
           }
          ],
          "mesh3d": [
           {
            "colorbar": {
             "outlinewidth": 0,
             "ticks": ""
            },
            "type": "mesh3d"
           }
          ],
          "parcoords": [
           {
            "line": {
             "colorbar": {
              "outlinewidth": 0,
              "ticks": ""
             }
            },
            "type": "parcoords"
           }
          ],
          "pie": [
           {
            "automargin": true,
            "type": "pie"
           }
          ],
          "scatter": [
           {
            "fillpattern": {
             "fillmode": "overlay",
             "size": 10,
             "solidity": 0.2
            },
            "type": "scatter"
           }
          ],
          "scatter3d": [
           {
            "line": {
             "colorbar": {
              "outlinewidth": 0,
              "ticks": ""
             }
            },
            "marker": {
             "colorbar": {
              "outlinewidth": 0,
              "ticks": ""
             }
            },
            "type": "scatter3d"
           }
          ],
          "scattercarpet": [
           {
            "marker": {
             "colorbar": {
              "outlinewidth": 0,
              "ticks": ""
             }
            },
            "type": "scattercarpet"
           }
          ],
          "scattergeo": [
           {
            "marker": {
             "colorbar": {
              "outlinewidth": 0,
              "ticks": ""
             }
            },
            "type": "scattergeo"
           }
          ],
          "scattergl": [
           {
            "marker": {
             "colorbar": {
              "outlinewidth": 0,
              "ticks": ""
             }
            },
            "type": "scattergl"
           }
          ],
          "scattermap": [
           {
            "marker": {
             "colorbar": {
              "outlinewidth": 0,
              "ticks": ""
             }
            },
            "type": "scattermap"
           }
          ],
          "scattermapbox": [
           {
            "marker": {
             "colorbar": {
              "outlinewidth": 0,
              "ticks": ""
             }
            },
            "type": "scattermapbox"
           }
          ],
          "scatterpolar": [
           {
            "marker": {
             "colorbar": {
              "outlinewidth": 0,
              "ticks": ""
             }
            },
            "type": "scatterpolar"
           }
          ],
          "scatterpolargl": [
           {
            "marker": {
             "colorbar": {
              "outlinewidth": 0,
              "ticks": ""
             }
            },
            "type": "scatterpolargl"
           }
          ],
          "scatterternary": [
           {
            "marker": {
             "colorbar": {
              "outlinewidth": 0,
              "ticks": ""
             }
            },
            "type": "scatterternary"
           }
          ],
          "surface": [
           {
            "colorbar": {
             "outlinewidth": 0,
             "ticks": ""
            },
            "colorscale": [
             [
              0,
              "#0d0887"
             ],
             [
              0.1111111111111111,
              "#46039f"
             ],
             [
              0.2222222222222222,
              "#7201a8"
             ],
             [
              0.3333333333333333,
              "#9c179e"
             ],
             [
              0.4444444444444444,
              "#bd3786"
             ],
             [
              0.5555555555555556,
              "#d8576b"
             ],
             [
              0.6666666666666666,
              "#ed7953"
             ],
             [
              0.7777777777777778,
              "#fb9f3a"
             ],
             [
              0.8888888888888888,
              "#fdca26"
             ],
             [
              1,
              "#f0f921"
             ]
            ],
            "type": "surface"
           }
          ],
          "table": [
           {
            "cells": {
             "fill": {
              "color": "#EBF0F8"
             },
             "line": {
              "color": "white"
             }
            },
            "header": {
             "fill": {
              "color": "#C8D4E3"
             },
             "line": {
              "color": "white"
             }
            },
            "type": "table"
           }
          ]
         },
         "layout": {
          "annotationdefaults": {
           "arrowcolor": "#2a3f5f",
           "arrowhead": 0,
           "arrowwidth": 1
          },
          "autotypenumbers": "strict",
          "coloraxis": {
           "colorbar": {
            "outlinewidth": 0,
            "ticks": ""
           }
          },
          "colorscale": {
           "diverging": [
            [
             0,
             "#8e0152"
            ],
            [
             0.1,
             "#c51b7d"
            ],
            [
             0.2,
             "#de77ae"
            ],
            [
             0.3,
             "#f1b6da"
            ],
            [
             0.4,
             "#fde0ef"
            ],
            [
             0.5,
             "#f7f7f7"
            ],
            [
             0.6,
             "#e6f5d0"
            ],
            [
             0.7,
             "#b8e186"
            ],
            [
             0.8,
             "#7fbc41"
            ],
            [
             0.9,
             "#4d9221"
            ],
            [
             1,
             "#276419"
            ]
           ],
           "sequential": [
            [
             0,
             "#0d0887"
            ],
            [
             0.1111111111111111,
             "#46039f"
            ],
            [
             0.2222222222222222,
             "#7201a8"
            ],
            [
             0.3333333333333333,
             "#9c179e"
            ],
            [
             0.4444444444444444,
             "#bd3786"
            ],
            [
             0.5555555555555556,
             "#d8576b"
            ],
            [
             0.6666666666666666,
             "#ed7953"
            ],
            [
             0.7777777777777778,
             "#fb9f3a"
            ],
            [
             0.8888888888888888,
             "#fdca26"
            ],
            [
             1,
             "#f0f921"
            ]
           ],
           "sequentialminus": [
            [
             0,
             "#0d0887"
            ],
            [
             0.1111111111111111,
             "#46039f"
            ],
            [
             0.2222222222222222,
             "#7201a8"
            ],
            [
             0.3333333333333333,
             "#9c179e"
            ],
            [
             0.4444444444444444,
             "#bd3786"
            ],
            [
             0.5555555555555556,
             "#d8576b"
            ],
            [
             0.6666666666666666,
             "#ed7953"
            ],
            [
             0.7777777777777778,
             "#fb9f3a"
            ],
            [
             0.8888888888888888,
             "#fdca26"
            ],
            [
             1,
             "#f0f921"
            ]
           ]
          },
          "colorway": [
           "#636efa",
           "#EF553B",
           "#00cc96",
           "#ab63fa",
           "#FFA15A",
           "#19d3f3",
           "#FF6692",
           "#B6E880",
           "#FF97FF",
           "#FECB52"
          ],
          "font": {
           "color": "#2a3f5f"
          },
          "geo": {
           "bgcolor": "white",
           "lakecolor": "white",
           "landcolor": "white",
           "showlakes": true,
           "showland": true,
           "subunitcolor": "#C8D4E3"
          },
          "hoverlabel": {
           "align": "left"
          },
          "hovermode": "closest",
          "mapbox": {
           "style": "light"
          },
          "paper_bgcolor": "white",
          "plot_bgcolor": "white",
          "polar": {
           "angularaxis": {
            "gridcolor": "#EBF0F8",
            "linecolor": "#EBF0F8",
            "ticks": ""
           },
           "bgcolor": "white",
           "radialaxis": {
            "gridcolor": "#EBF0F8",
            "linecolor": "#EBF0F8",
            "ticks": ""
           }
          },
          "scene": {
           "xaxis": {
            "backgroundcolor": "white",
            "gridcolor": "#DFE8F3",
            "gridwidth": 2,
            "linecolor": "#EBF0F8",
            "showbackground": true,
            "ticks": "",
            "zerolinecolor": "#EBF0F8"
           },
           "yaxis": {
            "backgroundcolor": "white",
            "gridcolor": "#DFE8F3",
            "gridwidth": 2,
            "linecolor": "#EBF0F8",
            "showbackground": true,
            "ticks": "",
            "zerolinecolor": "#EBF0F8"
           },
           "zaxis": {
            "backgroundcolor": "white",
            "gridcolor": "#DFE8F3",
            "gridwidth": 2,
            "linecolor": "#EBF0F8",
            "showbackground": true,
            "ticks": "",
            "zerolinecolor": "#EBF0F8"
           }
          },
          "shapedefaults": {
           "line": {
            "color": "#2a3f5f"
           }
          },
          "ternary": {
           "aaxis": {
            "gridcolor": "#DFE8F3",
            "linecolor": "#A2B1C6",
            "ticks": ""
           },
           "baxis": {
            "gridcolor": "#DFE8F3",
            "linecolor": "#A2B1C6",
            "ticks": ""
           },
           "bgcolor": "white",
           "caxis": {
            "gridcolor": "#DFE8F3",
            "linecolor": "#A2B1C6",
            "ticks": ""
           }
          },
          "title": {
           "x": 0.05
          },
          "xaxis": {
           "automargin": true,
           "gridcolor": "#EBF0F8",
           "linecolor": "#EBF0F8",
           "ticks": "",
           "title": {
            "standoff": 15
           },
           "zerolinecolor": "#EBF0F8",
           "zerolinewidth": 2
          },
          "yaxis": {
           "automargin": true,
           "gridcolor": "#EBF0F8",
           "linecolor": "#EBF0F8",
           "ticks": "",
           "title": {
            "standoff": 15
           },
           "zerolinecolor": "#EBF0F8",
           "zerolinewidth": 2
          }
         }
        },
        "title": {
         "text": "Sentiment Heatmap: All Speeches"
        },
        "xaxis": {
         "tickangle": -45,
         "title": {
          "text": "Speech Location"
         }
        },
        "yaxis": {
         "title": {
          "text": "Sentiment Type"
         }
        }
       }
      }
     },
     "metadata": {},
     "output_type": "display_data"
    }
   ],
   "source": [
    "# Create sentiment heatmap\n",
    "heatmap_data = sentiment_df[['positive', 'negative', 'neutral']].T\n",
    "heatmap_data.columns = [f\"{row['location'][:15]}...\" if len(row['location']) > 15 \n",
    "                        else row['location'] \n",
    "                        for _, row in sentiment_df.iterrows()]\n",
    "\n",
    "fig = go.Figure(data=go.Heatmap(\n",
    "    z=heatmap_data.values,\n",
    "    x=heatmap_data.columns,\n",
    "    y=['Positive', 'Negative', 'Neutral'],\n",
    "    colorscale='RdYlGn',\n",
    "    text=heatmap_data.values,\n",
    "    texttemplate='%{text:.2f}',\n",
    "    textfont={\"size\": 10},\n",
    "    colorbar=dict(title=\"Probability\")\n",
    "))\n",
    "\n",
    "fig.update_layout(\n",
    "    title='Sentiment Heatmap: All Speeches',\n",
    "    xaxis_title='Speech Location',\n",
    "    yaxis_title='Sentiment Type',\n",
    "    height=400,\n",
    "    template='plotly_white'\n",
    ")\n",
    "\n",
    "fig.update_xaxes(tickangle=-45)\n",
    "fig.show()"
   ]
  },
  {
   "cell_type": "markdown",
   "id": "aff7fa49",
   "metadata": {},
   "source": [
    "## Chunk-Level Sentiment Analysis\n",
    "\n",
    "Examining how sentiment varies **within** individual speeches. This reveals whether speeches maintain consistent tone or shift sentiment throughout."
   ]
  },
  {
   "cell_type": "code",
   "execution_count": 10,
   "id": "cb446da7",
   "metadata": {},
   "outputs": [
    {
     "data": {
      "application/vnd.plotly.v1+json": {
       "config": {
        "plotlyServerURL": "https://plot.ly"
       },
       "data": [
        {
         "line": {
          "color": "#2ecc71"
         },
         "mode": "lines+markers",
         "name": "Positive",
         "showlegend": true,
         "type": "scatter",
         "x": [
          0,
          1,
          2,
          3,
          4,
          5,
          6,
          7,
          8,
          9,
          10,
          11,
          12,
          13,
          14,
          15,
          16,
          17,
          18,
          19,
          20,
          21,
          22,
          23,
          24,
          25,
          26,
          27
         ],
         "xaxis": "x",
         "y": {
          "bdata": "Wq3KPq4g0z4LPdA+GC3QPldIxD6pIcg+qtnDPpd3yD6rPcY+Qx7PPmFHxD796cQ++e7LPtm4zT6qANI+xve6Prnhxz4+y84+EnjCPur1xz659c8+Y2rGPi8dxj5pZsk+G9/GPvQHzj5Eu8Y+pY/TPg==",
          "dtype": "f4"
         },
         "yaxis": "y"
        },
        {
         "line": {
          "color": "#e74c3c"
         },
         "mode": "lines+markers",
         "name": "Negative",
         "showlegend": true,
         "type": "scatter",
         "x": [
          0,
          1,
          2,
          3,
          4,
          5,
          6,
          7,
          8,
          9,
          10,
          11,
          12,
          13,
          14,
          15,
          16,
          17,
          18,
          19,
          20,
          21,
          22,
          23,
          24,
          25,
          26,
          27
         ],
         "xaxis": "x",
         "y": {
          "bdata": "beuEPqkNiD5N6Xg+zKCKPsnWgD4Pd4g+MP92PoT9gj6RAIA+U1B2PmBinz4W34w+QRaBPrq6fz5UM4c+046TPh/riT7k44M+Dhh/PkIBgj4ZtIE+E6+KPkC0kT50n4Q+TKZ+PiLVmD4dTqU+QFyKPg==",
          "dtype": "f4"
         },
         "yaxis": "y"
        },
        {
         "line": {
          "color": "#95a5a6"
         },
         "mode": "lines+markers",
         "name": "Neutral",
         "showlegend": true,
         "type": "scatter",
         "x": [
          0,
          1,
          2,
          3,
          4,
          5,
          6,
          7,
          8,
          9,
          10,
          11,
          12,
          13,
          14,
          15,
          16,
          17,
          18,
          19,
          20,
          21,
          22,
          23,
          24,
          25,
          26,
          27
         ],
         "xaxis": "x",
         "y": {
          "bdata": "OGewPqvRpD5NTrM+HjKlPuHguj5JZ68+wKbAPuaKtD7Gwbk+lLm1PkBWnD7rNq4+x/qyPstpsj7/y6Y+aHmxPigzrj7gUK0+6fu9PtQItj4wVq4+i+auPpIuqD4j+rE+wM25PuoimT6f9pM+GRSiPg==",
          "dtype": "f4"
         },
         "yaxis": "y"
        },
        {
         "line": {
          "color": "#2ecc71"
         },
         "mode": "lines+markers",
         "name": "Positive",
         "showlegend": false,
         "type": "scatter",
         "x": [
          0,
          1,
          2,
          3,
          4,
          5,
          6,
          7,
          8,
          9,
          10,
          11,
          12,
          13,
          14,
          15,
          16,
          17,
          18,
          19,
          20,
          21,
          22,
          23,
          24,
          25,
          26,
          27,
          28,
          29,
          30,
          31,
          32,
          33,
          34,
          35,
          36,
          37,
          38,
          39,
          40,
          41,
          42,
          43,
          44,
          45,
          46,
          47
         ],
         "xaxis": "x2",
         "y": {
          "bdata": "xezSPjqCzD4tHNU+rHHJPowD0D6fHM0+fu/NPpRuyD7lTsw+ilnDPmHewz4a1s0+LA7BPuahxz6n0sk+RDrJPsm6xz6wJMo+c3HJPq9OyT4uvM0+rvfIPg7jxz5RB8k+2oDDPlZHwz6SMNA+bYDHPtOd1D54g8E+T8DMPiYMzj4kOMo+AGLGPi60yD6odss+BkHRPk4jxz7MmM0+V6jGPmmWyD7BZ8c+fFzMPpPuxj5/88Q+BZDIPnzZyT4/RNU+",
          "dtype": "f4"
         },
         "yaxis": "y2"
        },
        {
         "line": {
          "color": "#e74c3c"
         },
         "mode": "lines+markers",
         "name": "Negative",
         "showlegend": false,
         "type": "scatter",
         "x": [
          0,
          1,
          2,
          3,
          4,
          5,
          6,
          7,
          8,
          9,
          10,
          11,
          12,
          13,
          14,
          15,
          16,
          17,
          18,
          19,
          20,
          21,
          22,
          23,
          24,
          25,
          26,
          27,
          28,
          29,
          30,
          31,
          32,
          33,
          34,
          35,
          36,
          37,
          38,
          39,
          40,
          41,
          42,
          43,
          44,
          45,
          46,
          47
         ],
         "xaxis": "x2",
         "y": {
          "bdata": "xbeaPkwljD4d/4I+vGyDPj8Ehz7Vt4Y+UM2MPhbdmj4YYW4+vDJvPmIWfT7lBYE+iMaAPgeEfz4A04A+IROAPmujgD7ApHQ+oAd/PrtThj7aSIY+/zJ+PgwxfD768Hc+wVOBPhyhdz5LYIM+kKGSPoKjjT4QPoA+1y+OPjinmD4mYno+9Y5xPqlxcj5kt5A+tP2GPvDjcz5dfYU+P1GBPgWqgT48A4U+bquQPsPqgD44sXc+aayKPgSOgj4wmpM+",
          "dtype": "f4"
         },
         "yaxis": "y2"
        },
        {
         "line": {
          "color": "#95a5a6"
         },
         "mode": "lines+markers",
         "name": "Neutral",
         "showlegend": false,
         "type": "scatter",
         "x": [
          0,
          1,
          2,
          3,
          4,
          5,
          6,
          7,
          8,
          9,
          10,
          11,
          12,
          13,
          14,
          15,
          16,
          17,
          18,
          19,
          20,
          21,
          22,
          23,
          24,
          25,
          26,
          27,
          28,
          29,
          30,
          31,
          32,
          33,
          34,
          35,
          36,
          37,
          38,
          39,
          40,
          41,
          42,
          43,
          44,
          45,
          46,
          47
         ],
         "xaxis": "x2",
         "y": {
          "bdata": "dluSPnpYpz635Kc+mCGzPjX4qD6MK6w+MkOlPlW0nD6RgLw+Fg3FPnCWvT4BJLE+Syu+PhacuD5XWrU+mbK2Psuhtz7viLs+vgq3PpddsD74+qs+0O63PmwEuj4vALs+Yyu7PhrowD4nb6w+At6lPqq+nT54Pr4+2g+lPqJMmT7Ilrg+htbAPvwSvj720aM+RsGnPrrqvj7Z6aw+aga4PpG/tT4BlbM+FfiiPqkmuD7nM78+lMOsPoCYsz6QIZc+",
          "dtype": "f4"
         },
         "yaxis": "y2"
        },
        {
         "line": {
          "color": "#2ecc71"
         },
         "mode": "lines+markers",
         "name": "Positive",
         "showlegend": false,
         "type": "scatter",
         "x": [
          0,
          1,
          2,
          3,
          4,
          5,
          6,
          7,
          8,
          9,
          10,
          11,
          12,
          13,
          14,
          15,
          16,
          17,
          18,
          19,
          20,
          21,
          22,
          23,
          24,
          25,
          26,
          27,
          28,
          29,
          30,
          31,
          32,
          33,
          34,
          35,
          36,
          37
         ],
         "xaxis": "x3",
         "y": {
          "bdata": "n93KPlbWxz46SMk+yHPKPiIwyT4QHc4+abPPPvZwzD4mPdE+QQzLPmgoxz5Rqco+bGHBPgXizz7Pqs4+7Y7IPp3zxj7sosw+jnDJPkENxj78ssM+k5jHPn4qxD49B8U+czzOPqRcyj5Tmcg+UQvCPhMZyD5Ug8g+RXLHPoHlxD5vM8M+KdPPPqTqvz6CL8g+O9/LPjGs1j4=",
          "dtype": "f4"
         },
         "yaxis": "y3"
        },
        {
         "line": {
          "color": "#e74c3c"
         },
         "mode": "lines+markers",
         "name": "Negative",
         "showlegend": false,
         "type": "scatter",
         "x": [
          0,
          1,
          2,
          3,
          4,
          5,
          6,
          7,
          8,
          9,
          10,
          11,
          12,
          13,
          14,
          15,
          16,
          17,
          18,
          19,
          20,
          21,
          22,
          23,
          24,
          25,
          26,
          27,
          28,
          29,
          30,
          31,
          32,
          33,
          34,
          35,
          36,
          37
         ],
         "xaxis": "x3",
         "y": {
          "bdata": "VRuUPkMFgz53spE+g3WDPum7hz7HwoM+hGCBPjLEkT7vRYo+skxyPrAEij6gdow+r9+DPi06hT7kCn8+ahCHPktzhz7pNn0+Sbl+PlMsfD4jTYY+SyuJPq59cj42BIc+XN2WPioqiz5VB4w+4P2QPjmsiz6LzYs+zuGIPvChhz6kLIY+Z9WAPk9HjT4pIJA+uYaJPpH9mT4=",
          "dtype": "f4"
         },
         "yaxis": "y3"
        },
        {
         "line": {
          "color": "#95a5a6"
         },
         "mode": "lines+markers",
         "name": "Neutral",
         "showlegend": false,
         "type": "scatter",
         "x": [
          0,
          1,
          2,
          3,
          4,
          5,
          6,
          7,
          8,
          9,
          10,
          11,
          12,
          13,
          14,
          15,
          16,
          17,
          18,
          19,
          20,
          21,
          22,
          23,
          24,
          25,
          26,
          27,
          28,
          29,
          30,
          31,
          32,
          33,
          34,
          35,
          36,
          37
         ],
         "xaxis": "x3",
         "y": {
          "bdata": "CwehPmYktT5SBaU+thayPvcTrz4mIK4+EuyuPtnKoT7ufKQ+ZM27PunSrj4O4Kg+5L66Pszjqj7Az7E+qmCwPhqZsT6dwbQ+zTK3Ppfcuz7g/7U+IjyvPquWwj6N9LM+LuaaPjJ5qj5XX6s+zfasPrM6rD4ir6s+7KuvPo54sz7un7Y+cVevPgzOsj5UsKc+DJqqPj1Wjz4=",
          "dtype": "f4"
         },
         "yaxis": "y3"
        },
        {
         "line": {
          "color": "#2ecc71"
         },
         "mode": "lines+markers",
         "name": "Positive",
         "showlegend": false,
         "type": "scatter",
         "x": [
          0,
          1,
          2,
          3,
          4,
          5,
          6,
          7,
          8,
          9,
          10,
          11,
          12,
          13,
          14,
          15,
          16,
          17,
          18,
          19,
          20,
          21,
          22,
          23,
          24,
          25,
          26,
          27,
          28,
          29,
          30,
          31,
          32,
          33,
          34,
          35
         ],
         "xaxis": "x4",
         "y": {
          "bdata": "1x/HPsd+0j7Ap88+mvrEPllryz416Ms+iu7KPsv4yT5UvcI+5QLLPpbfzD7I5sk+LnfRPtlrwz5rXM4+E3nMPgJLwD4lf8U+BizLPke8yj7KjMU+sfLJPtUZyT51a8U+LxjCPgmgzD6BUMw+8G7FPtI+yz6qArw+lQHCPgPMwj4kpsI+WhPBPsAyyD7YvdY+",
          "dtype": "f4"
         },
         "yaxis": "y4"
        },
        {
         "line": {
          "color": "#e74c3c"
         },
         "mode": "lines+markers",
         "name": "Negative",
         "showlegend": false,
         "type": "scatter",
         "x": [
          0,
          1,
          2,
          3,
          4,
          5,
          6,
          7,
          8,
          9,
          10,
          11,
          12,
          13,
          14,
          15,
          16,
          17,
          18,
          19,
          20,
          21,
          22,
          23,
          24,
          25,
          26,
          27,
          28,
          29,
          30,
          31,
          32,
          33,
          34,
          35
         ],
         "xaxis": "x4",
         "y": {
          "bdata": "7DV+PuTXkT4rLoM+n1KPPoy2gj6OYHg+bnCBPmFshz5NGYQ+jXKKPosIhD4VTHE+3A6GPogufj4jy3M+liiGPnimjT7UkYU+wHaQPpROhT5oaoA+aDOaPlR/lD7NAoE+6F6GPhQPfz71x4E+dw6BPtmYcj4uqJM+QCiLPgWAhT5djIU+XNaTPu2apD5a4po+",
          "dtype": "f4"
         },
         "yaxis": "y4"
        },
        {
         "line": {
          "color": "#95a5a6"
         },
         "mode": "lines+markers",
         "name": "Neutral",
         "showlegend": false,
         "type": "scatter",
         "x": [
          0,
          1,
          2,
          3,
          4,
          5,
          6,
          7,
          8,
          9,
          10,
          11,
          12,
          13,
          14,
          15,
          16,
          17,
          18,
          19,
          20,
          21,
          22,
          23,
          24,
          25,
          26,
          27,
          28,
          29,
          30,
          31,
          32,
          33,
          34,
          35
         ],
         "xaxis": "x4",
         "y": {
          "bdata": "NcW5Plapmz4UKq0+yLKrPhzesT6G57c+CKGzPtSarj5hKbk+kIqqPt0Xrz4tc70+93moPuJ8vT4Dvrc+V16tPoMOsj4I77Q+N12kPif1rz7PCLo+6tmbPtdmoj69kbk+6Ii3Pm7Ysz6K57E+nIK5PsJ0uz4nVbA+K9ayPvuztz5+zbc+SxarPlMykz7PX44+",
          "dtype": "f4"
         },
         "yaxis": "y4"
        }
       ],
       "layout": {
        "annotations": [
         {
          "font": {
           "size": 16
          },
          "showarrow": false,
          "text": "Greenville (Jul 2019)",
          "x": 0.225,
          "xanchor": "center",
          "xref": "paper",
          "y": 1,
          "yanchor": "bottom",
          "yref": "paper"
         },
         {
          "font": {
           "size": 16
          },
          "showarrow": false,
          "text": "Battle Creek (Dec 2019)",
          "x": 0.775,
          "xanchor": "center",
          "xref": "paper",
          "y": 1,
          "yanchor": "bottom",
          "yref": "paper"
         },
         {
          "font": {
           "size": 16
          },
          "showarrow": false,
          "text": "Mosinee (Sep 2020)",
          "x": 0.225,
          "xanchor": "center",
          "xref": "paper",
          "y": 0.375,
          "yanchor": "bottom",
          "yref": "paper"
         },
         {
          "font": {
           "size": 16
          },
          "showarrow": false,
          "text": "Las Vegas (Feb 2020)",
          "x": 0.775,
          "xanchor": "center",
          "xref": "paper",
          "y": 0.375,
          "yanchor": "bottom",
          "yref": "paper"
         }
        ],
        "height": 800,
        "showlegend": true,
        "template": {
         "data": {
          "bar": [
           {
            "error_x": {
             "color": "#2a3f5f"
            },
            "error_y": {
             "color": "#2a3f5f"
            },
            "marker": {
             "line": {
              "color": "white",
              "width": 0.5
             },
             "pattern": {
              "fillmode": "overlay",
              "size": 10,
              "solidity": 0.2
             }
            },
            "type": "bar"
           }
          ],
          "barpolar": [
           {
            "marker": {
             "line": {
              "color": "white",
              "width": 0.5
             },
             "pattern": {
              "fillmode": "overlay",
              "size": 10,
              "solidity": 0.2
             }
            },
            "type": "barpolar"
           }
          ],
          "carpet": [
           {
            "aaxis": {
             "endlinecolor": "#2a3f5f",
             "gridcolor": "#C8D4E3",
             "linecolor": "#C8D4E3",
             "minorgridcolor": "#C8D4E3",
             "startlinecolor": "#2a3f5f"
            },
            "baxis": {
             "endlinecolor": "#2a3f5f",
             "gridcolor": "#C8D4E3",
             "linecolor": "#C8D4E3",
             "minorgridcolor": "#C8D4E3",
             "startlinecolor": "#2a3f5f"
            },
            "type": "carpet"
           }
          ],
          "choropleth": [
           {
            "colorbar": {
             "outlinewidth": 0,
             "ticks": ""
            },
            "type": "choropleth"
           }
          ],
          "contour": [
           {
            "colorbar": {
             "outlinewidth": 0,
             "ticks": ""
            },
            "colorscale": [
             [
              0,
              "#0d0887"
             ],
             [
              0.1111111111111111,
              "#46039f"
             ],
             [
              0.2222222222222222,
              "#7201a8"
             ],
             [
              0.3333333333333333,
              "#9c179e"
             ],
             [
              0.4444444444444444,
              "#bd3786"
             ],
             [
              0.5555555555555556,
              "#d8576b"
             ],
             [
              0.6666666666666666,
              "#ed7953"
             ],
             [
              0.7777777777777778,
              "#fb9f3a"
             ],
             [
              0.8888888888888888,
              "#fdca26"
             ],
             [
              1,
              "#f0f921"
             ]
            ],
            "type": "contour"
           }
          ],
          "contourcarpet": [
           {
            "colorbar": {
             "outlinewidth": 0,
             "ticks": ""
            },
            "type": "contourcarpet"
           }
          ],
          "heatmap": [
           {
            "colorbar": {
             "outlinewidth": 0,
             "ticks": ""
            },
            "colorscale": [
             [
              0,
              "#0d0887"
             ],
             [
              0.1111111111111111,
              "#46039f"
             ],
             [
              0.2222222222222222,
              "#7201a8"
             ],
             [
              0.3333333333333333,
              "#9c179e"
             ],
             [
              0.4444444444444444,
              "#bd3786"
             ],
             [
              0.5555555555555556,
              "#d8576b"
             ],
             [
              0.6666666666666666,
              "#ed7953"
             ],
             [
              0.7777777777777778,
              "#fb9f3a"
             ],
             [
              0.8888888888888888,
              "#fdca26"
             ],
             [
              1,
              "#f0f921"
             ]
            ],
            "type": "heatmap"
           }
          ],
          "histogram": [
           {
            "marker": {
             "pattern": {
              "fillmode": "overlay",
              "size": 10,
              "solidity": 0.2
             }
            },
            "type": "histogram"
           }
          ],
          "histogram2d": [
           {
            "colorbar": {
             "outlinewidth": 0,
             "ticks": ""
            },
            "colorscale": [
             [
              0,
              "#0d0887"
             ],
             [
              0.1111111111111111,
              "#46039f"
             ],
             [
              0.2222222222222222,
              "#7201a8"
             ],
             [
              0.3333333333333333,
              "#9c179e"
             ],
             [
              0.4444444444444444,
              "#bd3786"
             ],
             [
              0.5555555555555556,
              "#d8576b"
             ],
             [
              0.6666666666666666,
              "#ed7953"
             ],
             [
              0.7777777777777778,
              "#fb9f3a"
             ],
             [
              0.8888888888888888,
              "#fdca26"
             ],
             [
              1,
              "#f0f921"
             ]
            ],
            "type": "histogram2d"
           }
          ],
          "histogram2dcontour": [
           {
            "colorbar": {
             "outlinewidth": 0,
             "ticks": ""
            },
            "colorscale": [
             [
              0,
              "#0d0887"
             ],
             [
              0.1111111111111111,
              "#46039f"
             ],
             [
              0.2222222222222222,
              "#7201a8"
             ],
             [
              0.3333333333333333,
              "#9c179e"
             ],
             [
              0.4444444444444444,
              "#bd3786"
             ],
             [
              0.5555555555555556,
              "#d8576b"
             ],
             [
              0.6666666666666666,
              "#ed7953"
             ],
             [
              0.7777777777777778,
              "#fb9f3a"
             ],
             [
              0.8888888888888888,
              "#fdca26"
             ],
             [
              1,
              "#f0f921"
             ]
            ],
            "type": "histogram2dcontour"
           }
          ],
          "mesh3d": [
           {
            "colorbar": {
             "outlinewidth": 0,
             "ticks": ""
            },
            "type": "mesh3d"
           }
          ],
          "parcoords": [
           {
            "line": {
             "colorbar": {
              "outlinewidth": 0,
              "ticks": ""
             }
            },
            "type": "parcoords"
           }
          ],
          "pie": [
           {
            "automargin": true,
            "type": "pie"
           }
          ],
          "scatter": [
           {
            "fillpattern": {
             "fillmode": "overlay",
             "size": 10,
             "solidity": 0.2
            },
            "type": "scatter"
           }
          ],
          "scatter3d": [
           {
            "line": {
             "colorbar": {
              "outlinewidth": 0,
              "ticks": ""
             }
            },
            "marker": {
             "colorbar": {
              "outlinewidth": 0,
              "ticks": ""
             }
            },
            "type": "scatter3d"
           }
          ],
          "scattercarpet": [
           {
            "marker": {
             "colorbar": {
              "outlinewidth": 0,
              "ticks": ""
             }
            },
            "type": "scattercarpet"
           }
          ],
          "scattergeo": [
           {
            "marker": {
             "colorbar": {
              "outlinewidth": 0,
              "ticks": ""
             }
            },
            "type": "scattergeo"
           }
          ],
          "scattergl": [
           {
            "marker": {
             "colorbar": {
              "outlinewidth": 0,
              "ticks": ""
             }
            },
            "type": "scattergl"
           }
          ],
          "scattermap": [
           {
            "marker": {
             "colorbar": {
              "outlinewidth": 0,
              "ticks": ""
             }
            },
            "type": "scattermap"
           }
          ],
          "scattermapbox": [
           {
            "marker": {
             "colorbar": {
              "outlinewidth": 0,
              "ticks": ""
             }
            },
            "type": "scattermapbox"
           }
          ],
          "scatterpolar": [
           {
            "marker": {
             "colorbar": {
              "outlinewidth": 0,
              "ticks": ""
             }
            },
            "type": "scatterpolar"
           }
          ],
          "scatterpolargl": [
           {
            "marker": {
             "colorbar": {
              "outlinewidth": 0,
              "ticks": ""
             }
            },
            "type": "scatterpolargl"
           }
          ],
          "scatterternary": [
           {
            "marker": {
             "colorbar": {
              "outlinewidth": 0,
              "ticks": ""
             }
            },
            "type": "scatterternary"
           }
          ],
          "surface": [
           {
            "colorbar": {
             "outlinewidth": 0,
             "ticks": ""
            },
            "colorscale": [
             [
              0,
              "#0d0887"
             ],
             [
              0.1111111111111111,
              "#46039f"
             ],
             [
              0.2222222222222222,
              "#7201a8"
             ],
             [
              0.3333333333333333,
              "#9c179e"
             ],
             [
              0.4444444444444444,
              "#bd3786"
             ],
             [
              0.5555555555555556,
              "#d8576b"
             ],
             [
              0.6666666666666666,
              "#ed7953"
             ],
             [
              0.7777777777777778,
              "#fb9f3a"
             ],
             [
              0.8888888888888888,
              "#fdca26"
             ],
             [
              1,
              "#f0f921"
             ]
            ],
            "type": "surface"
           }
          ],
          "table": [
           {
            "cells": {
             "fill": {
              "color": "#EBF0F8"
             },
             "line": {
              "color": "white"
             }
            },
            "header": {
             "fill": {
              "color": "#C8D4E3"
             },
             "line": {
              "color": "white"
             }
            },
            "type": "table"
           }
          ]
         },
         "layout": {
          "annotationdefaults": {
           "arrowcolor": "#2a3f5f",
           "arrowhead": 0,
           "arrowwidth": 1
          },
          "autotypenumbers": "strict",
          "coloraxis": {
           "colorbar": {
            "outlinewidth": 0,
            "ticks": ""
           }
          },
          "colorscale": {
           "diverging": [
            [
             0,
             "#8e0152"
            ],
            [
             0.1,
             "#c51b7d"
            ],
            [
             0.2,
             "#de77ae"
            ],
            [
             0.3,
             "#f1b6da"
            ],
            [
             0.4,
             "#fde0ef"
            ],
            [
             0.5,
             "#f7f7f7"
            ],
            [
             0.6,
             "#e6f5d0"
            ],
            [
             0.7,
             "#b8e186"
            ],
            [
             0.8,
             "#7fbc41"
            ],
            [
             0.9,
             "#4d9221"
            ],
            [
             1,
             "#276419"
            ]
           ],
           "sequential": [
            [
             0,
             "#0d0887"
            ],
            [
             0.1111111111111111,
             "#46039f"
            ],
            [
             0.2222222222222222,
             "#7201a8"
            ],
            [
             0.3333333333333333,
             "#9c179e"
            ],
            [
             0.4444444444444444,
             "#bd3786"
            ],
            [
             0.5555555555555556,
             "#d8576b"
            ],
            [
             0.6666666666666666,
             "#ed7953"
            ],
            [
             0.7777777777777778,
             "#fb9f3a"
            ],
            [
             0.8888888888888888,
             "#fdca26"
            ],
            [
             1,
             "#f0f921"
            ]
           ],
           "sequentialminus": [
            [
             0,
             "#0d0887"
            ],
            [
             0.1111111111111111,
             "#46039f"
            ],
            [
             0.2222222222222222,
             "#7201a8"
            ],
            [
             0.3333333333333333,
             "#9c179e"
            ],
            [
             0.4444444444444444,
             "#bd3786"
            ],
            [
             0.5555555555555556,
             "#d8576b"
            ],
            [
             0.6666666666666666,
             "#ed7953"
            ],
            [
             0.7777777777777778,
             "#fb9f3a"
            ],
            [
             0.8888888888888888,
             "#fdca26"
            ],
            [
             1,
             "#f0f921"
            ]
           ]
          },
          "colorway": [
           "#636efa",
           "#EF553B",
           "#00cc96",
           "#ab63fa",
           "#FFA15A",
           "#19d3f3",
           "#FF6692",
           "#B6E880",
           "#FF97FF",
           "#FECB52"
          ],
          "font": {
           "color": "#2a3f5f"
          },
          "geo": {
           "bgcolor": "white",
           "lakecolor": "white",
           "landcolor": "white",
           "showlakes": true,
           "showland": true,
           "subunitcolor": "#C8D4E3"
          },
          "hoverlabel": {
           "align": "left"
          },
          "hovermode": "closest",
          "mapbox": {
           "style": "light"
          },
          "paper_bgcolor": "white",
          "plot_bgcolor": "white",
          "polar": {
           "angularaxis": {
            "gridcolor": "#EBF0F8",
            "linecolor": "#EBF0F8",
            "ticks": ""
           },
           "bgcolor": "white",
           "radialaxis": {
            "gridcolor": "#EBF0F8",
            "linecolor": "#EBF0F8",
            "ticks": ""
           }
          },
          "scene": {
           "xaxis": {
            "backgroundcolor": "white",
            "gridcolor": "#DFE8F3",
            "gridwidth": 2,
            "linecolor": "#EBF0F8",
            "showbackground": true,
            "ticks": "",
            "zerolinecolor": "#EBF0F8"
           },
           "yaxis": {
            "backgroundcolor": "white",
            "gridcolor": "#DFE8F3",
            "gridwidth": 2,
            "linecolor": "#EBF0F8",
            "showbackground": true,
            "ticks": "",
            "zerolinecolor": "#EBF0F8"
           },
           "zaxis": {
            "backgroundcolor": "white",
            "gridcolor": "#DFE8F3",
            "gridwidth": 2,
            "linecolor": "#EBF0F8",
            "showbackground": true,
            "ticks": "",
            "zerolinecolor": "#EBF0F8"
           }
          },
          "shapedefaults": {
           "line": {
            "color": "#2a3f5f"
           }
          },
          "ternary": {
           "aaxis": {
            "gridcolor": "#DFE8F3",
            "linecolor": "#A2B1C6",
            "ticks": ""
           },
           "baxis": {
            "gridcolor": "#DFE8F3",
            "linecolor": "#A2B1C6",
            "ticks": ""
           },
           "bgcolor": "white",
           "caxis": {
            "gridcolor": "#DFE8F3",
            "linecolor": "#A2B1C6",
            "ticks": ""
           }
          },
          "title": {
           "x": 0.05
          },
          "xaxis": {
           "automargin": true,
           "gridcolor": "#EBF0F8",
           "linecolor": "#EBF0F8",
           "ticks": "",
           "title": {
            "standoff": 15
           },
           "zerolinecolor": "#EBF0F8",
           "zerolinewidth": 2
          },
          "yaxis": {
           "automargin": true,
           "gridcolor": "#EBF0F8",
           "linecolor": "#EBF0F8",
           "ticks": "",
           "title": {
            "standoff": 15
           },
           "zerolinecolor": "#EBF0F8",
           "zerolinewidth": 2
          }
         }
        },
        "title": {
         "text": "Sentiment Variation Within Individual Speeches"
        },
        "xaxis": {
         "anchor": "y",
         "domain": [
          0,
          0.45
         ],
         "title": {
          "text": "Chunk Index"
         }
        },
        "xaxis2": {
         "anchor": "y2",
         "domain": [
          0.55,
          1
         ],
         "title": {
          "text": "Chunk Index"
         }
        },
        "xaxis3": {
         "anchor": "y3",
         "domain": [
          0,
          0.45
         ],
         "title": {
          "text": "Chunk Index"
         }
        },
        "xaxis4": {
         "anchor": "y4",
         "domain": [
          0.55,
          1
         ],
         "title": {
          "text": "Chunk Index"
         }
        },
        "yaxis": {
         "anchor": "x",
         "domain": [
          0.625,
          1
         ],
         "title": {
          "text": "Sentiment Score"
         }
        },
        "yaxis2": {
         "anchor": "x2",
         "domain": [
          0.625,
          1
         ],
         "title": {
          "text": "Sentiment Score"
         }
        },
        "yaxis3": {
         "anchor": "x3",
         "domain": [
          0,
          0.375
         ],
         "title": {
          "text": "Sentiment Score"
         }
        },
        "yaxis4": {
         "anchor": "x4",
         "domain": [
          0,
          0.375
         ],
         "title": {
          "text": "Sentiment Score"
         }
        }
       }
      }
     },
     "metadata": {},
     "output_type": "display_data"
    }
   ],
   "source": [
    "# Select a few interesting speeches to examine in detail\n",
    "selected_speeches = [0, 10, 20, 30]  # First, middle, and later speeches\n",
    "\n",
    "fig = make_subplots(\n",
    "    rows=2, cols=2,\n",
    "    subplot_titles=[f\"{sentiment_results[i]['location']} ({sentiment_results[i]['month']} {sentiment_results[i]['year']})\" \n",
    "                    for i in selected_speeches]\n",
    ")\n",
    "\n",
    "positions = [(1, 1), (1, 2), (2, 1), (2, 2)]\n",
    "\n",
    "for idx, (speech_idx, pos) in enumerate(zip(selected_speeches, positions)):\n",
    "    result = sentiment_results[speech_idx]\n",
    "    chunks = result['chunk_predictions']\n",
    "    \n",
    "    chunk_indices = list(range(len(chunks)))\n",
    "    \n",
    "    # Add traces for each sentiment\n",
    "    fig.add_trace(\n",
    "        go.Scatter(x=chunk_indices, y=chunks[:, 0],\n",
    "                   mode='lines+markers', name='Positive',\n",
    "                   line=dict(color='#2ecc71'), showlegend=(idx == 0)),\n",
    "        row=pos[0], col=pos[1]\n",
    "    )\n",
    "    fig.add_trace(\n",
    "        go.Scatter(x=chunk_indices, y=chunks[:, 1],\n",
    "                   mode='lines+markers', name='Negative',\n",
    "                   line=dict(color='#e74c3c'), showlegend=(idx == 0)),\n",
    "        row=pos[0], col=pos[1]\n",
    "    )\n",
    "    fig.add_trace(\n",
    "        go.Scatter(x=chunk_indices, y=chunks[:, 2],\n",
    "                   mode='lines+markers', name='Neutral',\n",
    "                   line=dict(color='#95a5a6'), showlegend=(idx == 0)),\n",
    "        row=pos[0], col=pos[1]\n",
    "    )\n",
    "    \n",
    "    fig.update_xaxes(title_text=\"Chunk Index\", row=pos[0], col=pos[1])\n",
    "    fig.update_yaxes(title_text=\"Sentiment Score\", row=pos[0], col=pos[1])\n",
    "\n",
    "fig.update_layout(\n",
    "    height=800,\n",
    "    title_text=\"Sentiment Variation Within Individual Speeches\",\n",
    "    template='plotly_white',\n",
    "    showlegend=True\n",
    ")\n",
    "\n",
    "fig.show()"
   ]
  },
  {
   "cell_type": "markdown",
   "id": "58e01e91",
   "metadata": {},
   "source": [
    "## Temporal Analysis: Sentiment Over Time\n",
    "\n",
    "Analyzing how sentiment evolved throughout 2019 and 2020. Did the tone shift as political events unfolded?"
   ]
  },
  {
   "cell_type": "code",
   "execution_count": 11,
   "id": "2ecc0fb9",
   "metadata": {},
   "outputs": [
    {
     "data": {
      "application/vnd.plotly.v1+json": {
       "config": {
        "plotlyServerURL": "https://plot.ly"
       },
       "data": [
        {
         "hovertemplate": "<b>%{text}</b><br>Positive: %{y:.3f}<extra></extra>",
         "line": {
          "color": "#2ecc71",
          "width": 3
         },
         "marker": {
          "size": 8
         },
         "mode": "lines+markers",
         "name": "Positive",
         "text": [
          "Greenville",
          "Cincinnati",
          "New Hampshire",
          "Fayetteville",
          "New Mexico",
          "Texas",
          "Dallas",
          "Minneapolis",
          "Lexington",
          "Tupelo",
          "Battle Creek",
          "Hershey",
          "New Hampshire",
          "Yuma",
          "Bemidji",
          "Fayetteville",
          "Freeland",
          "Henderson",
          "Latrobe",
          "Minden",
          "Mosinee",
          "Ohio",
          "Pittsburgh",
          "Salem",
          "Des Moines",
          "Milwaukee",
          "Toledo",
          "Wildwood",
          "Charleston",
          "Colorador Springs",
          "Las Vegas",
          "New Hampshire",
          "Phoenix",
          "Charlotte",
          "Tulsa"
         ],
         "type": "scatter",
         "x": {
          "bdata": "AAECAwQFBgcICQoLDA0ODxAREhMUFRYXGBkaGxwdHh8gISI=",
          "dtype": "i1"
         },
         "y": {
          "bdata": "D8zJPsvSyT5Xu8s+aMDIPslnyD7br8o+a9fJPsYlyD7oU8k+MnXKPqM9yj5Vs8k+H5DJPpE9yT5mZ8g+vErJPi+NyD68Wcc+2oHIPmxxxz41a8k+nLrIPn+1xz4Tk8k+hLPJPsT0yz4t88o+SsnHPka/xj5JsMg+F6jIPseDyz4/4sc+V5rJPpkUyj4=",
          "dtype": "f4"
         }
        },
        {
         "hovertemplate": "<b>%{text}</b><br>Negative: %{y:.3f}<extra></extra>",
         "line": {
          "color": "#e74c3c",
          "width": 3
         },
         "marker": {
          "size": 8
         },
         "mode": "lines+markers",
         "name": "Negative",
         "text": [
          "Greenville",
          "Cincinnati",
          "New Hampshire",
          "Fayetteville",
          "New Mexico",
          "Texas",
          "Dallas",
          "Minneapolis",
          "Lexington",
          "Tupelo",
          "Battle Creek",
          "Hershey",
          "New Hampshire",
          "Yuma",
          "Bemidji",
          "Fayetteville",
          "Freeland",
          "Henderson",
          "Latrobe",
          "Minden",
          "Mosinee",
          "Ohio",
          "Pittsburgh",
          "Salem",
          "Des Moines",
          "Milwaukee",
          "Toledo",
          "Wildwood",
          "Charleston",
          "Colorador Springs",
          "Las Vegas",
          "New Hampshire",
          "Phoenix",
          "Charlotte",
          "Tulsa"
         ],
         "type": "scatter",
         "x": {
          "bdata": "AAECAwQFBgcICQoLDA0ODxAREhMUFRYXGBkaGxwdHh8gISI=",
          "dtype": "i1"
         },
         "y": {
          "bdata": "1L6HPtRriz6JkYo+R9mSPmaKij5BKaI+bVuKPofThz6uOIs+2aaIPq17hD4HS4k+LOSHPsPliz5tK4Q+zzWHPrnQjT77jos+t1eHPgFwhj5FLYg+FBuJPhz7hD4t8Ig+W6qIPqi4iD665Yg+oXOOPvr8ij6lDYk+laqHPjiEkD51OY4+i+6NPugXhT4=",
          "dtype": "f4"
         }
        },
        {
         "hovertemplate": "<b>%{text}</b><br>Neutral: %{y:.3f}<extra></extra>",
         "line": {
          "color": "#95a5a6",
          "width": 3
         },
         "marker": {
          "size": 8
         },
         "mode": "lines+markers",
         "name": "Neutral",
         "text": [
          "Greenville",
          "Cincinnati",
          "New Hampshire",
          "Fayetteville",
          "New Mexico",
          "Texas",
          "Dallas",
          "Minneapolis",
          "Lexington",
          "Tupelo",
          "Battle Creek",
          "Hershey",
          "New Hampshire",
          "Yuma",
          "Bemidji",
          "Fayetteville",
          "Freeland",
          "Henderson",
          "Latrobe",
          "Minden",
          "Mosinee",
          "Ohio",
          "Pittsburgh",
          "Salem",
          "Des Moines",
          "Milwaukee",
          "Toledo",
          "Wildwood",
          "Charleston",
          "Colorador Springs",
          "Las Vegas",
          "New Hampshire",
          "Phoenix",
          "Charlotte",
          "Tulsa"
         ],
         "type": "scatter",
         "x": {
          "bdata": "AAECAwQFBgcICQoLDA0ODxAREhMUFRYXGBkaGxwdHh8gISI=",
          "dtype": "i1"
         },
         "y": {
          "bdata": "HnWuPmLBqj4fs6k+TWakPtENrT7kJpM+KM2rPq8GsD5rc6s+9uOsPrBGsT6kAa0+tYuuPqvcqj4tbbM+dn+vPheiqT5IF60+cCawPpMesj6HZ64+USquPmVPsz6/fK0+IqKtPpdSqz4aJ6w+FMOpPsBDrj4RQq4+Ua2vPgL4oz5M5Kk+HHeoPn7TsD4=",
          "dtype": "f4"
         }
        }
       ],
       "layout": {
        "height": 500,
        "hovermode": "x unified",
        "template": {
         "data": {
          "bar": [
           {
            "error_x": {
             "color": "#2a3f5f"
            },
            "error_y": {
             "color": "#2a3f5f"
            },
            "marker": {
             "line": {
              "color": "white",
              "width": 0.5
             },
             "pattern": {
              "fillmode": "overlay",
              "size": 10,
              "solidity": 0.2
             }
            },
            "type": "bar"
           }
          ],
          "barpolar": [
           {
            "marker": {
             "line": {
              "color": "white",
              "width": 0.5
             },
             "pattern": {
              "fillmode": "overlay",
              "size": 10,
              "solidity": 0.2
             }
            },
            "type": "barpolar"
           }
          ],
          "carpet": [
           {
            "aaxis": {
             "endlinecolor": "#2a3f5f",
             "gridcolor": "#C8D4E3",
             "linecolor": "#C8D4E3",
             "minorgridcolor": "#C8D4E3",
             "startlinecolor": "#2a3f5f"
            },
            "baxis": {
             "endlinecolor": "#2a3f5f",
             "gridcolor": "#C8D4E3",
             "linecolor": "#C8D4E3",
             "minorgridcolor": "#C8D4E3",
             "startlinecolor": "#2a3f5f"
            },
            "type": "carpet"
           }
          ],
          "choropleth": [
           {
            "colorbar": {
             "outlinewidth": 0,
             "ticks": ""
            },
            "type": "choropleth"
           }
          ],
          "contour": [
           {
            "colorbar": {
             "outlinewidth": 0,
             "ticks": ""
            },
            "colorscale": [
             [
              0,
              "#0d0887"
             ],
             [
              0.1111111111111111,
              "#46039f"
             ],
             [
              0.2222222222222222,
              "#7201a8"
             ],
             [
              0.3333333333333333,
              "#9c179e"
             ],
             [
              0.4444444444444444,
              "#bd3786"
             ],
             [
              0.5555555555555556,
              "#d8576b"
             ],
             [
              0.6666666666666666,
              "#ed7953"
             ],
             [
              0.7777777777777778,
              "#fb9f3a"
             ],
             [
              0.8888888888888888,
              "#fdca26"
             ],
             [
              1,
              "#f0f921"
             ]
            ],
            "type": "contour"
           }
          ],
          "contourcarpet": [
           {
            "colorbar": {
             "outlinewidth": 0,
             "ticks": ""
            },
            "type": "contourcarpet"
           }
          ],
          "heatmap": [
           {
            "colorbar": {
             "outlinewidth": 0,
             "ticks": ""
            },
            "colorscale": [
             [
              0,
              "#0d0887"
             ],
             [
              0.1111111111111111,
              "#46039f"
             ],
             [
              0.2222222222222222,
              "#7201a8"
             ],
             [
              0.3333333333333333,
              "#9c179e"
             ],
             [
              0.4444444444444444,
              "#bd3786"
             ],
             [
              0.5555555555555556,
              "#d8576b"
             ],
             [
              0.6666666666666666,
              "#ed7953"
             ],
             [
              0.7777777777777778,
              "#fb9f3a"
             ],
             [
              0.8888888888888888,
              "#fdca26"
             ],
             [
              1,
              "#f0f921"
             ]
            ],
            "type": "heatmap"
           }
          ],
          "histogram": [
           {
            "marker": {
             "pattern": {
              "fillmode": "overlay",
              "size": 10,
              "solidity": 0.2
             }
            },
            "type": "histogram"
           }
          ],
          "histogram2d": [
           {
            "colorbar": {
             "outlinewidth": 0,
             "ticks": ""
            },
            "colorscale": [
             [
              0,
              "#0d0887"
             ],
             [
              0.1111111111111111,
              "#46039f"
             ],
             [
              0.2222222222222222,
              "#7201a8"
             ],
             [
              0.3333333333333333,
              "#9c179e"
             ],
             [
              0.4444444444444444,
              "#bd3786"
             ],
             [
              0.5555555555555556,
              "#d8576b"
             ],
             [
              0.6666666666666666,
              "#ed7953"
             ],
             [
              0.7777777777777778,
              "#fb9f3a"
             ],
             [
              0.8888888888888888,
              "#fdca26"
             ],
             [
              1,
              "#f0f921"
             ]
            ],
            "type": "histogram2d"
           }
          ],
          "histogram2dcontour": [
           {
            "colorbar": {
             "outlinewidth": 0,
             "ticks": ""
            },
            "colorscale": [
             [
              0,
              "#0d0887"
             ],
             [
              0.1111111111111111,
              "#46039f"
             ],
             [
              0.2222222222222222,
              "#7201a8"
             ],
             [
              0.3333333333333333,
              "#9c179e"
             ],
             [
              0.4444444444444444,
              "#bd3786"
             ],
             [
              0.5555555555555556,
              "#d8576b"
             ],
             [
              0.6666666666666666,
              "#ed7953"
             ],
             [
              0.7777777777777778,
              "#fb9f3a"
             ],
             [
              0.8888888888888888,
              "#fdca26"
             ],
             [
              1,
              "#f0f921"
             ]
            ],
            "type": "histogram2dcontour"
           }
          ],
          "mesh3d": [
           {
            "colorbar": {
             "outlinewidth": 0,
             "ticks": ""
            },
            "type": "mesh3d"
           }
          ],
          "parcoords": [
           {
            "line": {
             "colorbar": {
              "outlinewidth": 0,
              "ticks": ""
             }
            },
            "type": "parcoords"
           }
          ],
          "pie": [
           {
            "automargin": true,
            "type": "pie"
           }
          ],
          "scatter": [
           {
            "fillpattern": {
             "fillmode": "overlay",
             "size": 10,
             "solidity": 0.2
            },
            "type": "scatter"
           }
          ],
          "scatter3d": [
           {
            "line": {
             "colorbar": {
              "outlinewidth": 0,
              "ticks": ""
             }
            },
            "marker": {
             "colorbar": {
              "outlinewidth": 0,
              "ticks": ""
             }
            },
            "type": "scatter3d"
           }
          ],
          "scattercarpet": [
           {
            "marker": {
             "colorbar": {
              "outlinewidth": 0,
              "ticks": ""
             }
            },
            "type": "scattercarpet"
           }
          ],
          "scattergeo": [
           {
            "marker": {
             "colorbar": {
              "outlinewidth": 0,
              "ticks": ""
             }
            },
            "type": "scattergeo"
           }
          ],
          "scattergl": [
           {
            "marker": {
             "colorbar": {
              "outlinewidth": 0,
              "ticks": ""
             }
            },
            "type": "scattergl"
           }
          ],
          "scattermap": [
           {
            "marker": {
             "colorbar": {
              "outlinewidth": 0,
              "ticks": ""
             }
            },
            "type": "scattermap"
           }
          ],
          "scattermapbox": [
           {
            "marker": {
             "colorbar": {
              "outlinewidth": 0,
              "ticks": ""
             }
            },
            "type": "scattermapbox"
           }
          ],
          "scatterpolar": [
           {
            "marker": {
             "colorbar": {
              "outlinewidth": 0,
              "ticks": ""
             }
            },
            "type": "scatterpolar"
           }
          ],
          "scatterpolargl": [
           {
            "marker": {
             "colorbar": {
              "outlinewidth": 0,
              "ticks": ""
             }
            },
            "type": "scatterpolargl"
           }
          ],
          "scatterternary": [
           {
            "marker": {
             "colorbar": {
              "outlinewidth": 0,
              "ticks": ""
             }
            },
            "type": "scatterternary"
           }
          ],
          "surface": [
           {
            "colorbar": {
             "outlinewidth": 0,
             "ticks": ""
            },
            "colorscale": [
             [
              0,
              "#0d0887"
             ],
             [
              0.1111111111111111,
              "#46039f"
             ],
             [
              0.2222222222222222,
              "#7201a8"
             ],
             [
              0.3333333333333333,
              "#9c179e"
             ],
             [
              0.4444444444444444,
              "#bd3786"
             ],
             [
              0.5555555555555556,
              "#d8576b"
             ],
             [
              0.6666666666666666,
              "#ed7953"
             ],
             [
              0.7777777777777778,
              "#fb9f3a"
             ],
             [
              0.8888888888888888,
              "#fdca26"
             ],
             [
              1,
              "#f0f921"
             ]
            ],
            "type": "surface"
           }
          ],
          "table": [
           {
            "cells": {
             "fill": {
              "color": "#EBF0F8"
             },
             "line": {
              "color": "white"
             }
            },
            "header": {
             "fill": {
              "color": "#C8D4E3"
             },
             "line": {
              "color": "white"
             }
            },
            "type": "table"
           }
          ]
         },
         "layout": {
          "annotationdefaults": {
           "arrowcolor": "#2a3f5f",
           "arrowhead": 0,
           "arrowwidth": 1
          },
          "autotypenumbers": "strict",
          "coloraxis": {
           "colorbar": {
            "outlinewidth": 0,
            "ticks": ""
           }
          },
          "colorscale": {
           "diverging": [
            [
             0,
             "#8e0152"
            ],
            [
             0.1,
             "#c51b7d"
            ],
            [
             0.2,
             "#de77ae"
            ],
            [
             0.3,
             "#f1b6da"
            ],
            [
             0.4,
             "#fde0ef"
            ],
            [
             0.5,
             "#f7f7f7"
            ],
            [
             0.6,
             "#e6f5d0"
            ],
            [
             0.7,
             "#b8e186"
            ],
            [
             0.8,
             "#7fbc41"
            ],
            [
             0.9,
             "#4d9221"
            ],
            [
             1,
             "#276419"
            ]
           ],
           "sequential": [
            [
             0,
             "#0d0887"
            ],
            [
             0.1111111111111111,
             "#46039f"
            ],
            [
             0.2222222222222222,
             "#7201a8"
            ],
            [
             0.3333333333333333,
             "#9c179e"
            ],
            [
             0.4444444444444444,
             "#bd3786"
            ],
            [
             0.5555555555555556,
             "#d8576b"
            ],
            [
             0.6666666666666666,
             "#ed7953"
            ],
            [
             0.7777777777777778,
             "#fb9f3a"
            ],
            [
             0.8888888888888888,
             "#fdca26"
            ],
            [
             1,
             "#f0f921"
            ]
           ],
           "sequentialminus": [
            [
             0,
             "#0d0887"
            ],
            [
             0.1111111111111111,
             "#46039f"
            ],
            [
             0.2222222222222222,
             "#7201a8"
            ],
            [
             0.3333333333333333,
             "#9c179e"
            ],
            [
             0.4444444444444444,
             "#bd3786"
            ],
            [
             0.5555555555555556,
             "#d8576b"
            ],
            [
             0.6666666666666666,
             "#ed7953"
            ],
            [
             0.7777777777777778,
             "#fb9f3a"
            ],
            [
             0.8888888888888888,
             "#fdca26"
            ],
            [
             1,
             "#f0f921"
            ]
           ]
          },
          "colorway": [
           "#636efa",
           "#EF553B",
           "#00cc96",
           "#ab63fa",
           "#FFA15A",
           "#19d3f3",
           "#FF6692",
           "#B6E880",
           "#FF97FF",
           "#FECB52"
          ],
          "font": {
           "color": "#2a3f5f"
          },
          "geo": {
           "bgcolor": "white",
           "lakecolor": "white",
           "landcolor": "white",
           "showlakes": true,
           "showland": true,
           "subunitcolor": "#C8D4E3"
          },
          "hoverlabel": {
           "align": "left"
          },
          "hovermode": "closest",
          "mapbox": {
           "style": "light"
          },
          "paper_bgcolor": "white",
          "plot_bgcolor": "white",
          "polar": {
           "angularaxis": {
            "gridcolor": "#EBF0F8",
            "linecolor": "#EBF0F8",
            "ticks": ""
           },
           "bgcolor": "white",
           "radialaxis": {
            "gridcolor": "#EBF0F8",
            "linecolor": "#EBF0F8",
            "ticks": ""
           }
          },
          "scene": {
           "xaxis": {
            "backgroundcolor": "white",
            "gridcolor": "#DFE8F3",
            "gridwidth": 2,
            "linecolor": "#EBF0F8",
            "showbackground": true,
            "ticks": "",
            "zerolinecolor": "#EBF0F8"
           },
           "yaxis": {
            "backgroundcolor": "white",
            "gridcolor": "#DFE8F3",
            "gridwidth": 2,
            "linecolor": "#EBF0F8",
            "showbackground": true,
            "ticks": "",
            "zerolinecolor": "#EBF0F8"
           },
           "zaxis": {
            "backgroundcolor": "white",
            "gridcolor": "#DFE8F3",
            "gridwidth": 2,
            "linecolor": "#EBF0F8",
            "showbackground": true,
            "ticks": "",
            "zerolinecolor": "#EBF0F8"
           }
          },
          "shapedefaults": {
           "line": {
            "color": "#2a3f5f"
           }
          },
          "ternary": {
           "aaxis": {
            "gridcolor": "#DFE8F3",
            "linecolor": "#A2B1C6",
            "ticks": ""
           },
           "baxis": {
            "gridcolor": "#DFE8F3",
            "linecolor": "#A2B1C6",
            "ticks": ""
           },
           "bgcolor": "white",
           "caxis": {
            "gridcolor": "#DFE8F3",
            "linecolor": "#A2B1C6",
            "ticks": ""
           }
          },
          "title": {
           "x": 0.05
          },
          "xaxis": {
           "automargin": true,
           "gridcolor": "#EBF0F8",
           "linecolor": "#EBF0F8",
           "ticks": "",
           "title": {
            "standoff": 15
           },
           "zerolinecolor": "#EBF0F8",
           "zerolinewidth": 2
          },
          "yaxis": {
           "automargin": true,
           "gridcolor": "#EBF0F8",
           "linecolor": "#EBF0F8",
           "ticks": "",
           "title": {
            "standoff": 15
           },
           "zerolinecolor": "#EBF0F8",
           "zerolinewidth": 2
          }
         }
        },
        "title": {
         "text": "Sentiment Evolution Over Time (2019-2020)"
        },
        "xaxis": {
         "title": {
          "text": "Speech Index (Chronological)"
         }
        },
        "yaxis": {
         "title": {
          "text": "Sentiment Score"
         }
        }
       }
      }
     },
     "metadata": {},
     "output_type": "display_data"
    }
   ],
   "source": [
    "# Create temporal visualization\n",
    "fig = go.Figure()\n",
    "\n",
    "# Add sentiment traces\n",
    "fig.add_trace(go.Scatter(\n",
    "    x=sentiment_df['speech_idx'],\n",
    "    y=sentiment_df['positive'],\n",
    "    mode='lines+markers',\n",
    "    name='Positive',\n",
    "    line=dict(color='#2ecc71', width=3),\n",
    "    marker=dict(size=8),\n",
    "    hovertemplate='<b>%{text}</b><br>Positive: %{y:.3f}<extra></extra>',\n",
    "    text=sentiment_df['location']\n",
    "))\n",
    "\n",
    "fig.add_trace(go.Scatter(\n",
    "    x=sentiment_df['speech_idx'],\n",
    "    y=sentiment_df['negative'],\n",
    "    mode='lines+markers',\n",
    "    name='Negative',\n",
    "    line=dict(color='#e74c3c', width=3),\n",
    "    marker=dict(size=8),\n",
    "    hovertemplate='<b>%{text}</b><br>Negative: %{y:.3f}<extra></extra>',\n",
    "    text=sentiment_df['location']\n",
    "))\n",
    "\n",
    "fig.add_trace(go.Scatter(\n",
    "    x=sentiment_df['speech_idx'],\n",
    "    y=sentiment_df['neutral'],\n",
    "    mode='lines+markers',\n",
    "    name='Neutral',\n",
    "    line=dict(color='#95a5a6', width=3),\n",
    "    marker=dict(size=8),\n",
    "    hovertemplate='<b>%{text}</b><br>Neutral: %{y:.3f}<extra></extra>',\n",
    "    text=sentiment_df['location']\n",
    "))\n",
    "\n",
    "fig.update_layout(\n",
    "    title='Sentiment Evolution Over Time (2019-2020)',\n",
    "    xaxis_title='Speech Index (Chronological)',\n",
    "    yaxis_title='Sentiment Score',\n",
    "    height=500,\n",
    "    template='plotly_white',\n",
    "    hovermode='x unified'\n",
    ")\n",
    "\n",
    "fig.show()"
   ]
  },
  {
   "cell_type": "code",
   "execution_count": 12,
   "id": "bce996f0",
   "metadata": {},
   "outputs": [
    {
     "data": {
      "application/vnd.plotly.v1+json": {
       "config": {
        "plotlyServerURL": "https://plot.ly"
       },
       "data": [
        {
         "marker": {
          "color": "#2ecc71",
          "opacity": 0.3,
          "size": 6
         },
         "mode": "markers",
         "name": "Positive (raw)",
         "showlegend": true,
         "type": "scatter",
         "x": {
          "bdata": "AAECAwQFBgcICQoLDA0ODxAREhMUFRYXGBkaGxwdHh8gISI=",
          "dtype": "i1"
         },
         "y": {
          "bdata": "D8zJPsvSyT5Xu8s+aMDIPslnyD7br8o+a9fJPsYlyD7oU8k+MnXKPqM9yj5Vs8k+H5DJPpE9yT5mZ8g+vErJPi+NyD68Wcc+2oHIPmxxxz41a8k+nLrIPn+1xz4Tk8k+hLPJPsT0yz4t88o+SsnHPka/xj5JsMg+F6jIPseDyz4/4sc+V5rJPpkUyj4=",
          "dtype": "f4"
         }
        },
        {
         "marker": {
          "color": "#e74c3c",
          "opacity": 0.3,
          "size": 6
         },
         "mode": "markers",
         "name": "Negative (raw)",
         "showlegend": true,
         "type": "scatter",
         "x": {
          "bdata": "AAECAwQFBgcICQoLDA0ODxAREhMUFRYXGBkaGxwdHh8gISI=",
          "dtype": "i1"
         },
         "y": {
          "bdata": "1L6HPtRriz6JkYo+R9mSPmaKij5BKaI+bVuKPofThz6uOIs+2aaIPq17hD4HS4k+LOSHPsPliz5tK4Q+zzWHPrnQjT77jos+t1eHPgFwhj5FLYg+FBuJPhz7hD4t8Ig+W6qIPqi4iD665Yg+oXOOPvr8ij6lDYk+laqHPjiEkD51OY4+i+6NPugXhT4=",
          "dtype": "f4"
         }
        },
        {
         "line": {
          "color": "#2ecc71",
          "width": 4
         },
         "mode": "lines",
         "name": "Positive (3-speech avg)",
         "type": "scatter",
         "x": {
          "bdata": "AAECAwQFBgcICQoLDA0ODxAREhMUFRYXGBkaGxwdHh8gISI=",
          "dtype": "i1"
         },
         "y": {
          "bdata": "AAAAAAAA+H9VVVW1bE7ZPwAAAMBFQ9k/q6qqqiU02T8AAACAACnZPwAAAKCgNNk/AAAAgOAx2T+rqqoKYSPZPwAAAAD0Kdk/AAAA4EdA2T8AAADAQUTZP6uqqkq2Otk/AAAA4Aow2T8AAABANiLZPwAAACBSH9k/VVVVtfgX2T+rqqpKvAzZP6uqqopdBNk/AAAAwIr42D9VVVV1mg7ZPwAAAOD3ENk/AAAAAM4T2T8AAABAdxXZPwAAAEDWH9k/q6qqyiNN2T+rqqqKz1vZP1VVVXViR9k/q6qqitIP2T9VVVW1s/fYPwAAAED8ANk/VVVV9dYz2T9VVVU1QSvZP1VVVTVZNdk/AAAAoAwm2T8AAAAAAAD4fw==",
          "dtype": "f8"
         }
        },
        {
         "line": {
          "color": "#e74c3c",
          "width": 4
         },
         "mode": "lines",
         "name": "Negative (3-speech avg)",
         "type": "scatter",
         "x": {
          "bdata": "AAECAwQFBgcICQoLDA0ODxAREhMUFRYXGBkaGxwdHh8gISI=",
          "dtype": "i1"
         },
         "y": {
          "bdata": "AAAAAAAA+H9VVVW1LD3RP6uqqiqcs9E/VVVVlTeq0T8AAABA36XSPwAAAIBLS9I/q6qqilcu0j8AAADApjnRP6uqqup1J9E/VVVV1cwD0T9VVVU1O+/QP6uqqqoe59A/q6qq6jQ20T8AAACAjv/QPwAAAKBK+NA/q6qqir8M0T8AAAAgkFvRP6uqqsr5XNE/VVVVdUcO0T9VVVU1NerQPwAAAMAD/dA/VVVVNXrt0D9VVVU1mfXQP1VVVdXm8NA/q6qqqswY0T9VVVU1XRjRP1VVVXUVVtE/q6qqikNu0T9VVVVV7W/RP1VVVdWMJ9E/AAAAwIRi0T+rqqpqrZnRP1VVVVWC3NE/q6qqqqli0T8AAAAAAAD4fw==",
          "dtype": "f8"
         }
        }
       ],
       "layout": {
        "height": 500,
        "template": {
         "data": {
          "bar": [
           {
            "error_x": {
             "color": "#2a3f5f"
            },
            "error_y": {
             "color": "#2a3f5f"
            },
            "marker": {
             "line": {
              "color": "white",
              "width": 0.5
             },
             "pattern": {
              "fillmode": "overlay",
              "size": 10,
              "solidity": 0.2
             }
            },
            "type": "bar"
           }
          ],
          "barpolar": [
           {
            "marker": {
             "line": {
              "color": "white",
              "width": 0.5
             },
             "pattern": {
              "fillmode": "overlay",
              "size": 10,
              "solidity": 0.2
             }
            },
            "type": "barpolar"
           }
          ],
          "carpet": [
           {
            "aaxis": {
             "endlinecolor": "#2a3f5f",
             "gridcolor": "#C8D4E3",
             "linecolor": "#C8D4E3",
             "minorgridcolor": "#C8D4E3",
             "startlinecolor": "#2a3f5f"
            },
            "baxis": {
             "endlinecolor": "#2a3f5f",
             "gridcolor": "#C8D4E3",
             "linecolor": "#C8D4E3",
             "minorgridcolor": "#C8D4E3",
             "startlinecolor": "#2a3f5f"
            },
            "type": "carpet"
           }
          ],
          "choropleth": [
           {
            "colorbar": {
             "outlinewidth": 0,
             "ticks": ""
            },
            "type": "choropleth"
           }
          ],
          "contour": [
           {
            "colorbar": {
             "outlinewidth": 0,
             "ticks": ""
            },
            "colorscale": [
             [
              0,
              "#0d0887"
             ],
             [
              0.1111111111111111,
              "#46039f"
             ],
             [
              0.2222222222222222,
              "#7201a8"
             ],
             [
              0.3333333333333333,
              "#9c179e"
             ],
             [
              0.4444444444444444,
              "#bd3786"
             ],
             [
              0.5555555555555556,
              "#d8576b"
             ],
             [
              0.6666666666666666,
              "#ed7953"
             ],
             [
              0.7777777777777778,
              "#fb9f3a"
             ],
             [
              0.8888888888888888,
              "#fdca26"
             ],
             [
              1,
              "#f0f921"
             ]
            ],
            "type": "contour"
           }
          ],
          "contourcarpet": [
           {
            "colorbar": {
             "outlinewidth": 0,
             "ticks": ""
            },
            "type": "contourcarpet"
           }
          ],
          "heatmap": [
           {
            "colorbar": {
             "outlinewidth": 0,
             "ticks": ""
            },
            "colorscale": [
             [
              0,
              "#0d0887"
             ],
             [
              0.1111111111111111,
              "#46039f"
             ],
             [
              0.2222222222222222,
              "#7201a8"
             ],
             [
              0.3333333333333333,
              "#9c179e"
             ],
             [
              0.4444444444444444,
              "#bd3786"
             ],
             [
              0.5555555555555556,
              "#d8576b"
             ],
             [
              0.6666666666666666,
              "#ed7953"
             ],
             [
              0.7777777777777778,
              "#fb9f3a"
             ],
             [
              0.8888888888888888,
              "#fdca26"
             ],
             [
              1,
              "#f0f921"
             ]
            ],
            "type": "heatmap"
           }
          ],
          "histogram": [
           {
            "marker": {
             "pattern": {
              "fillmode": "overlay",
              "size": 10,
              "solidity": 0.2
             }
            },
            "type": "histogram"
           }
          ],
          "histogram2d": [
           {
            "colorbar": {
             "outlinewidth": 0,
             "ticks": ""
            },
            "colorscale": [
             [
              0,
              "#0d0887"
             ],
             [
              0.1111111111111111,
              "#46039f"
             ],
             [
              0.2222222222222222,
              "#7201a8"
             ],
             [
              0.3333333333333333,
              "#9c179e"
             ],
             [
              0.4444444444444444,
              "#bd3786"
             ],
             [
              0.5555555555555556,
              "#d8576b"
             ],
             [
              0.6666666666666666,
              "#ed7953"
             ],
             [
              0.7777777777777778,
              "#fb9f3a"
             ],
             [
              0.8888888888888888,
              "#fdca26"
             ],
             [
              1,
              "#f0f921"
             ]
            ],
            "type": "histogram2d"
           }
          ],
          "histogram2dcontour": [
           {
            "colorbar": {
             "outlinewidth": 0,
             "ticks": ""
            },
            "colorscale": [
             [
              0,
              "#0d0887"
             ],
             [
              0.1111111111111111,
              "#46039f"
             ],
             [
              0.2222222222222222,
              "#7201a8"
             ],
             [
              0.3333333333333333,
              "#9c179e"
             ],
             [
              0.4444444444444444,
              "#bd3786"
             ],
             [
              0.5555555555555556,
              "#d8576b"
             ],
             [
              0.6666666666666666,
              "#ed7953"
             ],
             [
              0.7777777777777778,
              "#fb9f3a"
             ],
             [
              0.8888888888888888,
              "#fdca26"
             ],
             [
              1,
              "#f0f921"
             ]
            ],
            "type": "histogram2dcontour"
           }
          ],
          "mesh3d": [
           {
            "colorbar": {
             "outlinewidth": 0,
             "ticks": ""
            },
            "type": "mesh3d"
           }
          ],
          "parcoords": [
           {
            "line": {
             "colorbar": {
              "outlinewidth": 0,
              "ticks": ""
             }
            },
            "type": "parcoords"
           }
          ],
          "pie": [
           {
            "automargin": true,
            "type": "pie"
           }
          ],
          "scatter": [
           {
            "fillpattern": {
             "fillmode": "overlay",
             "size": 10,
             "solidity": 0.2
            },
            "type": "scatter"
           }
          ],
          "scatter3d": [
           {
            "line": {
             "colorbar": {
              "outlinewidth": 0,
              "ticks": ""
             }
            },
            "marker": {
             "colorbar": {
              "outlinewidth": 0,
              "ticks": ""
             }
            },
            "type": "scatter3d"
           }
          ],
          "scattercarpet": [
           {
            "marker": {
             "colorbar": {
              "outlinewidth": 0,
              "ticks": ""
             }
            },
            "type": "scattercarpet"
           }
          ],
          "scattergeo": [
           {
            "marker": {
             "colorbar": {
              "outlinewidth": 0,
              "ticks": ""
             }
            },
            "type": "scattergeo"
           }
          ],
          "scattergl": [
           {
            "marker": {
             "colorbar": {
              "outlinewidth": 0,
              "ticks": ""
             }
            },
            "type": "scattergl"
           }
          ],
          "scattermap": [
           {
            "marker": {
             "colorbar": {
              "outlinewidth": 0,
              "ticks": ""
             }
            },
            "type": "scattermap"
           }
          ],
          "scattermapbox": [
           {
            "marker": {
             "colorbar": {
              "outlinewidth": 0,
              "ticks": ""
             }
            },
            "type": "scattermapbox"
           }
          ],
          "scatterpolar": [
           {
            "marker": {
             "colorbar": {
              "outlinewidth": 0,
              "ticks": ""
             }
            },
            "type": "scatterpolar"
           }
          ],
          "scatterpolargl": [
           {
            "marker": {
             "colorbar": {
              "outlinewidth": 0,
              "ticks": ""
             }
            },
            "type": "scatterpolargl"
           }
          ],
          "scatterternary": [
           {
            "marker": {
             "colorbar": {
              "outlinewidth": 0,
              "ticks": ""
             }
            },
            "type": "scatterternary"
           }
          ],
          "surface": [
           {
            "colorbar": {
             "outlinewidth": 0,
             "ticks": ""
            },
            "colorscale": [
             [
              0,
              "#0d0887"
             ],
             [
              0.1111111111111111,
              "#46039f"
             ],
             [
              0.2222222222222222,
              "#7201a8"
             ],
             [
              0.3333333333333333,
              "#9c179e"
             ],
             [
              0.4444444444444444,
              "#bd3786"
             ],
             [
              0.5555555555555556,
              "#d8576b"
             ],
             [
              0.6666666666666666,
              "#ed7953"
             ],
             [
              0.7777777777777778,
              "#fb9f3a"
             ],
             [
              0.8888888888888888,
              "#fdca26"
             ],
             [
              1,
              "#f0f921"
             ]
            ],
            "type": "surface"
           }
          ],
          "table": [
           {
            "cells": {
             "fill": {
              "color": "#EBF0F8"
             },
             "line": {
              "color": "white"
             }
            },
            "header": {
             "fill": {
              "color": "#C8D4E3"
             },
             "line": {
              "color": "white"
             }
            },
            "type": "table"
           }
          ]
         },
         "layout": {
          "annotationdefaults": {
           "arrowcolor": "#2a3f5f",
           "arrowhead": 0,
           "arrowwidth": 1
          },
          "autotypenumbers": "strict",
          "coloraxis": {
           "colorbar": {
            "outlinewidth": 0,
            "ticks": ""
           }
          },
          "colorscale": {
           "diverging": [
            [
             0,
             "#8e0152"
            ],
            [
             0.1,
             "#c51b7d"
            ],
            [
             0.2,
             "#de77ae"
            ],
            [
             0.3,
             "#f1b6da"
            ],
            [
             0.4,
             "#fde0ef"
            ],
            [
             0.5,
             "#f7f7f7"
            ],
            [
             0.6,
             "#e6f5d0"
            ],
            [
             0.7,
             "#b8e186"
            ],
            [
             0.8,
             "#7fbc41"
            ],
            [
             0.9,
             "#4d9221"
            ],
            [
             1,
             "#276419"
            ]
           ],
           "sequential": [
            [
             0,
             "#0d0887"
            ],
            [
             0.1111111111111111,
             "#46039f"
            ],
            [
             0.2222222222222222,
             "#7201a8"
            ],
            [
             0.3333333333333333,
             "#9c179e"
            ],
            [
             0.4444444444444444,
             "#bd3786"
            ],
            [
             0.5555555555555556,
             "#d8576b"
            ],
            [
             0.6666666666666666,
             "#ed7953"
            ],
            [
             0.7777777777777778,
             "#fb9f3a"
            ],
            [
             0.8888888888888888,
             "#fdca26"
            ],
            [
             1,
             "#f0f921"
            ]
           ],
           "sequentialminus": [
            [
             0,
             "#0d0887"
            ],
            [
             0.1111111111111111,
             "#46039f"
            ],
            [
             0.2222222222222222,
             "#7201a8"
            ],
            [
             0.3333333333333333,
             "#9c179e"
            ],
            [
             0.4444444444444444,
             "#bd3786"
            ],
            [
             0.5555555555555556,
             "#d8576b"
            ],
            [
             0.6666666666666666,
             "#ed7953"
            ],
            [
             0.7777777777777778,
             "#fb9f3a"
            ],
            [
             0.8888888888888888,
             "#fdca26"
            ],
            [
             1,
             "#f0f921"
            ]
           ]
          },
          "colorway": [
           "#636efa",
           "#EF553B",
           "#00cc96",
           "#ab63fa",
           "#FFA15A",
           "#19d3f3",
           "#FF6692",
           "#B6E880",
           "#FF97FF",
           "#FECB52"
          ],
          "font": {
           "color": "#2a3f5f"
          },
          "geo": {
           "bgcolor": "white",
           "lakecolor": "white",
           "landcolor": "white",
           "showlakes": true,
           "showland": true,
           "subunitcolor": "#C8D4E3"
          },
          "hoverlabel": {
           "align": "left"
          },
          "hovermode": "closest",
          "mapbox": {
           "style": "light"
          },
          "paper_bgcolor": "white",
          "plot_bgcolor": "white",
          "polar": {
           "angularaxis": {
            "gridcolor": "#EBF0F8",
            "linecolor": "#EBF0F8",
            "ticks": ""
           },
           "bgcolor": "white",
           "radialaxis": {
            "gridcolor": "#EBF0F8",
            "linecolor": "#EBF0F8",
            "ticks": ""
           }
          },
          "scene": {
           "xaxis": {
            "backgroundcolor": "white",
            "gridcolor": "#DFE8F3",
            "gridwidth": 2,
            "linecolor": "#EBF0F8",
            "showbackground": true,
            "ticks": "",
            "zerolinecolor": "#EBF0F8"
           },
           "yaxis": {
            "backgroundcolor": "white",
            "gridcolor": "#DFE8F3",
            "gridwidth": 2,
            "linecolor": "#EBF0F8",
            "showbackground": true,
            "ticks": "",
            "zerolinecolor": "#EBF0F8"
           },
           "zaxis": {
            "backgroundcolor": "white",
            "gridcolor": "#DFE8F3",
            "gridwidth": 2,
            "linecolor": "#EBF0F8",
            "showbackground": true,
            "ticks": "",
            "zerolinecolor": "#EBF0F8"
           }
          },
          "shapedefaults": {
           "line": {
            "color": "#2a3f5f"
           }
          },
          "ternary": {
           "aaxis": {
            "gridcolor": "#DFE8F3",
            "linecolor": "#A2B1C6",
            "ticks": ""
           },
           "baxis": {
            "gridcolor": "#DFE8F3",
            "linecolor": "#A2B1C6",
            "ticks": ""
           },
           "bgcolor": "white",
           "caxis": {
            "gridcolor": "#DFE8F3",
            "linecolor": "#A2B1C6",
            "ticks": ""
           }
          },
          "title": {
           "x": 0.05
          },
          "xaxis": {
           "automargin": true,
           "gridcolor": "#EBF0F8",
           "linecolor": "#EBF0F8",
           "ticks": "",
           "title": {
            "standoff": 15
           },
           "zerolinecolor": "#EBF0F8",
           "zerolinewidth": 2
          },
          "yaxis": {
           "automargin": true,
           "gridcolor": "#EBF0F8",
           "linecolor": "#EBF0F8",
           "ticks": "",
           "title": {
            "standoff": 15
           },
           "zerolinecolor": "#EBF0F8",
           "zerolinewidth": 2
          }
         }
        },
        "title": {
         "text": "Sentiment Trends with 3-Speech Moving Average"
        },
        "xaxis": {
         "title": {
          "text": "Speech Index (Chronological)"
         }
        },
        "yaxis": {
         "title": {
          "text": "Sentiment Score"
         }
        }
       }
      }
     },
     "metadata": {},
     "output_type": "display_data"
    }
   ],
   "source": [
    "# Calculate rolling average to see trends more clearly\n",
    "window = 3\n",
    "sentiment_df['positive_ma'] = sentiment_df['positive'].rolling(window=window, center=True).mean()\n",
    "sentiment_df['negative_ma'] = sentiment_df['negative'].rolling(window=window, center=True).mean()\n",
    "sentiment_df['neutral_ma'] = sentiment_df['neutral'].rolling(window=window, center=True).mean()\n",
    "\n",
    "# Plot with moving average\n",
    "fig = go.Figure()\n",
    "\n",
    "# Raw data (lighter)\n",
    "fig.add_trace(go.Scatter(x=sentiment_df['speech_idx'], y=sentiment_df['positive'],\n",
    "                          mode='markers', name='Positive (raw)',\n",
    "                          marker=dict(color='#2ecc71', size=6, opacity=0.3),\n",
    "                          showlegend=True))\n",
    "fig.add_trace(go.Scatter(x=sentiment_df['speech_idx'], y=sentiment_df['negative'],\n",
    "                          mode='markers', name='Negative (raw)',\n",
    "                          marker=dict(color='#e74c3c', size=6, opacity=0.3),\n",
    "                          showlegend=True))\n",
    "\n",
    "# Moving averages (bold)\n",
    "fig.add_trace(go.Scatter(x=sentiment_df['speech_idx'], y=sentiment_df['positive_ma'],\n",
    "                          mode='lines', name=f'Positive ({window}-speech avg)',\n",
    "                          line=dict(color='#2ecc71', width=4)))\n",
    "fig.add_trace(go.Scatter(x=sentiment_df['speech_idx'], y=sentiment_df['negative_ma'],\n",
    "                          mode='lines', name=f'Negative ({window}-speech avg)',\n",
    "                          line=dict(color='#e74c3c', width=4)))\n",
    "\n",
    "fig.update_layout(\n",
    "    title=f'Sentiment Trends with {window}-Speech Moving Average',\n",
    "    xaxis_title='Speech Index (Chronological)',\n",
    "    yaxis_title='Sentiment Score',\n",
    "    height=500,\n",
    "    template='plotly_white'\n",
    ")\n",
    "\n",
    "fig.show()"
   ]
  },
  {
   "cell_type": "markdown",
   "id": "6265e5ea",
   "metadata": {},
   "source": [
    "## Year-over-Year Comparison\n",
    "\n",
    "Comparing sentiment patterns between 2019 and 2020 using box plots to show distribution."
   ]
  },
  {
   "cell_type": "code",
   "execution_count": 13,
   "id": "93fd204b",
   "metadata": {},
   "outputs": [
    {
     "name": "stdout",
     "output_type": "stream",
     "text": [
      "Year-over-Year Sentiment Statistics:\n",
      "================================================================================\n",
      "     positive                      negative                      neutral  \\\n",
      "         mean    std    min    max     mean    std    min    max    mean   \n",
      "year                                                                       \n",
      "2019    0.394  0.002  0.391  0.398    0.274  0.015  0.259  0.317   0.332   \n",
      "2020    0.393  0.003  0.388  0.398    0.269  0.007  0.258  0.282   0.339   \n",
      "\n",
      "                          speech_idx  \n",
      "        std    min    max      count  \n",
      "year                                  \n",
      "2019  0.016  0.287  0.346         12  \n",
      "2020  0.007  0.320  0.350         23  \n",
      "\n"
     ]
    },
    {
     "data": {
      "application/vnd.plotly.v1+json": {
       "config": {
        "plotlyServerURL": "https://plot.ly"
       },
       "data": [
        {
         "marker": {
          "color": "#2ecc71"
         },
         "name": "2019",
         "showlegend": true,
         "type": "box",
         "xaxis": "x",
         "y": {
          "bdata": "D8zJPsvSyT5Xu8s+aMDIPslnyD7br8o+a9fJPsYlyD7oU8k+MnXKPqM9yj5Vs8k+",
          "dtype": "f4"
         },
         "yaxis": "y"
        },
        {
         "marker": {
          "color": "#e74c3c"
         },
         "name": "2019",
         "showlegend": false,
         "type": "box",
         "xaxis": "x2",
         "y": {
          "bdata": "1L6HPtRriz6JkYo+R9mSPmaKij5BKaI+bVuKPofThz6uOIs+2aaIPq17hD4HS4k+",
          "dtype": "f4"
         },
         "yaxis": "y2"
        },
        {
         "marker": {
          "color": "#95a5a6"
         },
         "name": "2019",
         "showlegend": false,
         "type": "box",
         "xaxis": "x3",
         "y": {
          "bdata": "HnWuPmLBqj4fs6k+TWakPtENrT7kJpM+KM2rPq8GsD5rc6s+9uOsPrBGsT6kAa0+",
          "dtype": "f4"
         },
         "yaxis": "y3"
        },
        {
         "marker": {
          "color": "#27ae60"
         },
         "name": "2020",
         "showlegend": true,
         "type": "box",
         "xaxis": "x",
         "y": {
          "bdata": "H5DJPpE9yT5mZ8g+vErJPi+NyD68Wcc+2oHIPmxxxz41a8k+nLrIPn+1xz4Tk8k+hLPJPsT0yz4t88o+SsnHPka/xj5JsMg+F6jIPseDyz4/4sc+V5rJPpkUyj4=",
          "dtype": "f4"
         },
         "yaxis": "y"
        },
        {
         "marker": {
          "color": "#c0392b"
         },
         "name": "2020",
         "showlegend": false,
         "type": "box",
         "xaxis": "x2",
         "y": {
          "bdata": "LOSHPsPliz5tK4Q+zzWHPrnQjT77jos+t1eHPgFwhj5FLYg+FBuJPhz7hD4t8Ig+W6qIPqi4iD665Yg+oXOOPvr8ij6lDYk+laqHPjiEkD51OY4+i+6NPugXhT4=",
          "dtype": "f4"
         },
         "yaxis": "y2"
        },
        {
         "marker": {
          "color": "#7f8c8d"
         },
         "name": "2020",
         "showlegend": false,
         "type": "box",
         "xaxis": "x3",
         "y": {
          "bdata": "tYuuPqvcqj4tbbM+dn+vPheiqT5IF60+cCawPpMesj6HZ64+USquPmVPsz6/fK0+IqKtPpdSqz4aJ6w+FMOpPsBDrj4RQq4+Ua2vPgL4oz5M5Kk+HHeoPn7TsD4=",
          "dtype": "f4"
         },
         "yaxis": "y3"
        }
       ],
       "layout": {
        "annotations": [
         {
          "font": {
           "size": 16
          },
          "showarrow": false,
          "text": "Positive Sentiment",
          "x": 0.14444444444444446,
          "xanchor": "center",
          "xref": "paper",
          "y": 1,
          "yanchor": "bottom",
          "yref": "paper"
         },
         {
          "font": {
           "size": 16
          },
          "showarrow": false,
          "text": "Negative Sentiment",
          "x": 0.5,
          "xanchor": "center",
          "xref": "paper",
          "y": 1,
          "yanchor": "bottom",
          "yref": "paper"
         },
         {
          "font": {
           "size": 16
          },
          "showarrow": false,
          "text": "Neutral Sentiment",
          "x": 0.8555555555555556,
          "xanchor": "center",
          "xref": "paper",
          "y": 1,
          "yanchor": "bottom",
          "yref": "paper"
         }
        ],
        "height": 400,
        "showlegend": true,
        "template": {
         "data": {
          "bar": [
           {
            "error_x": {
             "color": "#2a3f5f"
            },
            "error_y": {
             "color": "#2a3f5f"
            },
            "marker": {
             "line": {
              "color": "white",
              "width": 0.5
             },
             "pattern": {
              "fillmode": "overlay",
              "size": 10,
              "solidity": 0.2
             }
            },
            "type": "bar"
           }
          ],
          "barpolar": [
           {
            "marker": {
             "line": {
              "color": "white",
              "width": 0.5
             },
             "pattern": {
              "fillmode": "overlay",
              "size": 10,
              "solidity": 0.2
             }
            },
            "type": "barpolar"
           }
          ],
          "carpet": [
           {
            "aaxis": {
             "endlinecolor": "#2a3f5f",
             "gridcolor": "#C8D4E3",
             "linecolor": "#C8D4E3",
             "minorgridcolor": "#C8D4E3",
             "startlinecolor": "#2a3f5f"
            },
            "baxis": {
             "endlinecolor": "#2a3f5f",
             "gridcolor": "#C8D4E3",
             "linecolor": "#C8D4E3",
             "minorgridcolor": "#C8D4E3",
             "startlinecolor": "#2a3f5f"
            },
            "type": "carpet"
           }
          ],
          "choropleth": [
           {
            "colorbar": {
             "outlinewidth": 0,
             "ticks": ""
            },
            "type": "choropleth"
           }
          ],
          "contour": [
           {
            "colorbar": {
             "outlinewidth": 0,
             "ticks": ""
            },
            "colorscale": [
             [
              0,
              "#0d0887"
             ],
             [
              0.1111111111111111,
              "#46039f"
             ],
             [
              0.2222222222222222,
              "#7201a8"
             ],
             [
              0.3333333333333333,
              "#9c179e"
             ],
             [
              0.4444444444444444,
              "#bd3786"
             ],
             [
              0.5555555555555556,
              "#d8576b"
             ],
             [
              0.6666666666666666,
              "#ed7953"
             ],
             [
              0.7777777777777778,
              "#fb9f3a"
             ],
             [
              0.8888888888888888,
              "#fdca26"
             ],
             [
              1,
              "#f0f921"
             ]
            ],
            "type": "contour"
           }
          ],
          "contourcarpet": [
           {
            "colorbar": {
             "outlinewidth": 0,
             "ticks": ""
            },
            "type": "contourcarpet"
           }
          ],
          "heatmap": [
           {
            "colorbar": {
             "outlinewidth": 0,
             "ticks": ""
            },
            "colorscale": [
             [
              0,
              "#0d0887"
             ],
             [
              0.1111111111111111,
              "#46039f"
             ],
             [
              0.2222222222222222,
              "#7201a8"
             ],
             [
              0.3333333333333333,
              "#9c179e"
             ],
             [
              0.4444444444444444,
              "#bd3786"
             ],
             [
              0.5555555555555556,
              "#d8576b"
             ],
             [
              0.6666666666666666,
              "#ed7953"
             ],
             [
              0.7777777777777778,
              "#fb9f3a"
             ],
             [
              0.8888888888888888,
              "#fdca26"
             ],
             [
              1,
              "#f0f921"
             ]
            ],
            "type": "heatmap"
           }
          ],
          "histogram": [
           {
            "marker": {
             "pattern": {
              "fillmode": "overlay",
              "size": 10,
              "solidity": 0.2
             }
            },
            "type": "histogram"
           }
          ],
          "histogram2d": [
           {
            "colorbar": {
             "outlinewidth": 0,
             "ticks": ""
            },
            "colorscale": [
             [
              0,
              "#0d0887"
             ],
             [
              0.1111111111111111,
              "#46039f"
             ],
             [
              0.2222222222222222,
              "#7201a8"
             ],
             [
              0.3333333333333333,
              "#9c179e"
             ],
             [
              0.4444444444444444,
              "#bd3786"
             ],
             [
              0.5555555555555556,
              "#d8576b"
             ],
             [
              0.6666666666666666,
              "#ed7953"
             ],
             [
              0.7777777777777778,
              "#fb9f3a"
             ],
             [
              0.8888888888888888,
              "#fdca26"
             ],
             [
              1,
              "#f0f921"
             ]
            ],
            "type": "histogram2d"
           }
          ],
          "histogram2dcontour": [
           {
            "colorbar": {
             "outlinewidth": 0,
             "ticks": ""
            },
            "colorscale": [
             [
              0,
              "#0d0887"
             ],
             [
              0.1111111111111111,
              "#46039f"
             ],
             [
              0.2222222222222222,
              "#7201a8"
             ],
             [
              0.3333333333333333,
              "#9c179e"
             ],
             [
              0.4444444444444444,
              "#bd3786"
             ],
             [
              0.5555555555555556,
              "#d8576b"
             ],
             [
              0.6666666666666666,
              "#ed7953"
             ],
             [
              0.7777777777777778,
              "#fb9f3a"
             ],
             [
              0.8888888888888888,
              "#fdca26"
             ],
             [
              1,
              "#f0f921"
             ]
            ],
            "type": "histogram2dcontour"
           }
          ],
          "mesh3d": [
           {
            "colorbar": {
             "outlinewidth": 0,
             "ticks": ""
            },
            "type": "mesh3d"
           }
          ],
          "parcoords": [
           {
            "line": {
             "colorbar": {
              "outlinewidth": 0,
              "ticks": ""
             }
            },
            "type": "parcoords"
           }
          ],
          "pie": [
           {
            "automargin": true,
            "type": "pie"
           }
          ],
          "scatter": [
           {
            "fillpattern": {
             "fillmode": "overlay",
             "size": 10,
             "solidity": 0.2
            },
            "type": "scatter"
           }
          ],
          "scatter3d": [
           {
            "line": {
             "colorbar": {
              "outlinewidth": 0,
              "ticks": ""
             }
            },
            "marker": {
             "colorbar": {
              "outlinewidth": 0,
              "ticks": ""
             }
            },
            "type": "scatter3d"
           }
          ],
          "scattercarpet": [
           {
            "marker": {
             "colorbar": {
              "outlinewidth": 0,
              "ticks": ""
             }
            },
            "type": "scattercarpet"
           }
          ],
          "scattergeo": [
           {
            "marker": {
             "colorbar": {
              "outlinewidth": 0,
              "ticks": ""
             }
            },
            "type": "scattergeo"
           }
          ],
          "scattergl": [
           {
            "marker": {
             "colorbar": {
              "outlinewidth": 0,
              "ticks": ""
             }
            },
            "type": "scattergl"
           }
          ],
          "scattermap": [
           {
            "marker": {
             "colorbar": {
              "outlinewidth": 0,
              "ticks": ""
             }
            },
            "type": "scattermap"
           }
          ],
          "scattermapbox": [
           {
            "marker": {
             "colorbar": {
              "outlinewidth": 0,
              "ticks": ""
             }
            },
            "type": "scattermapbox"
           }
          ],
          "scatterpolar": [
           {
            "marker": {
             "colorbar": {
              "outlinewidth": 0,
              "ticks": ""
             }
            },
            "type": "scatterpolar"
           }
          ],
          "scatterpolargl": [
           {
            "marker": {
             "colorbar": {
              "outlinewidth": 0,
              "ticks": ""
             }
            },
            "type": "scatterpolargl"
           }
          ],
          "scatterternary": [
           {
            "marker": {
             "colorbar": {
              "outlinewidth": 0,
              "ticks": ""
             }
            },
            "type": "scatterternary"
           }
          ],
          "surface": [
           {
            "colorbar": {
             "outlinewidth": 0,
             "ticks": ""
            },
            "colorscale": [
             [
              0,
              "#0d0887"
             ],
             [
              0.1111111111111111,
              "#46039f"
             ],
             [
              0.2222222222222222,
              "#7201a8"
             ],
             [
              0.3333333333333333,
              "#9c179e"
             ],
             [
              0.4444444444444444,
              "#bd3786"
             ],
             [
              0.5555555555555556,
              "#d8576b"
             ],
             [
              0.6666666666666666,
              "#ed7953"
             ],
             [
              0.7777777777777778,
              "#fb9f3a"
             ],
             [
              0.8888888888888888,
              "#fdca26"
             ],
             [
              1,
              "#f0f921"
             ]
            ],
            "type": "surface"
           }
          ],
          "table": [
           {
            "cells": {
             "fill": {
              "color": "#EBF0F8"
             },
             "line": {
              "color": "white"
             }
            },
            "header": {
             "fill": {
              "color": "#C8D4E3"
             },
             "line": {
              "color": "white"
             }
            },
            "type": "table"
           }
          ]
         },
         "layout": {
          "annotationdefaults": {
           "arrowcolor": "#2a3f5f",
           "arrowhead": 0,
           "arrowwidth": 1
          },
          "autotypenumbers": "strict",
          "coloraxis": {
           "colorbar": {
            "outlinewidth": 0,
            "ticks": ""
           }
          },
          "colorscale": {
           "diverging": [
            [
             0,
             "#8e0152"
            ],
            [
             0.1,
             "#c51b7d"
            ],
            [
             0.2,
             "#de77ae"
            ],
            [
             0.3,
             "#f1b6da"
            ],
            [
             0.4,
             "#fde0ef"
            ],
            [
             0.5,
             "#f7f7f7"
            ],
            [
             0.6,
             "#e6f5d0"
            ],
            [
             0.7,
             "#b8e186"
            ],
            [
             0.8,
             "#7fbc41"
            ],
            [
             0.9,
             "#4d9221"
            ],
            [
             1,
             "#276419"
            ]
           ],
           "sequential": [
            [
             0,
             "#0d0887"
            ],
            [
             0.1111111111111111,
             "#46039f"
            ],
            [
             0.2222222222222222,
             "#7201a8"
            ],
            [
             0.3333333333333333,
             "#9c179e"
            ],
            [
             0.4444444444444444,
             "#bd3786"
            ],
            [
             0.5555555555555556,
             "#d8576b"
            ],
            [
             0.6666666666666666,
             "#ed7953"
            ],
            [
             0.7777777777777778,
             "#fb9f3a"
            ],
            [
             0.8888888888888888,
             "#fdca26"
            ],
            [
             1,
             "#f0f921"
            ]
           ],
           "sequentialminus": [
            [
             0,
             "#0d0887"
            ],
            [
             0.1111111111111111,
             "#46039f"
            ],
            [
             0.2222222222222222,
             "#7201a8"
            ],
            [
             0.3333333333333333,
             "#9c179e"
            ],
            [
             0.4444444444444444,
             "#bd3786"
            ],
            [
             0.5555555555555556,
             "#d8576b"
            ],
            [
             0.6666666666666666,
             "#ed7953"
            ],
            [
             0.7777777777777778,
             "#fb9f3a"
            ],
            [
             0.8888888888888888,
             "#fdca26"
            ],
            [
             1,
             "#f0f921"
            ]
           ]
          },
          "colorway": [
           "#636efa",
           "#EF553B",
           "#00cc96",
           "#ab63fa",
           "#FFA15A",
           "#19d3f3",
           "#FF6692",
           "#B6E880",
           "#FF97FF",
           "#FECB52"
          ],
          "font": {
           "color": "#2a3f5f"
          },
          "geo": {
           "bgcolor": "white",
           "lakecolor": "white",
           "landcolor": "white",
           "showlakes": true,
           "showland": true,
           "subunitcolor": "#C8D4E3"
          },
          "hoverlabel": {
           "align": "left"
          },
          "hovermode": "closest",
          "mapbox": {
           "style": "light"
          },
          "paper_bgcolor": "white",
          "plot_bgcolor": "white",
          "polar": {
           "angularaxis": {
            "gridcolor": "#EBF0F8",
            "linecolor": "#EBF0F8",
            "ticks": ""
           },
           "bgcolor": "white",
           "radialaxis": {
            "gridcolor": "#EBF0F8",
            "linecolor": "#EBF0F8",
            "ticks": ""
           }
          },
          "scene": {
           "xaxis": {
            "backgroundcolor": "white",
            "gridcolor": "#DFE8F3",
            "gridwidth": 2,
            "linecolor": "#EBF0F8",
            "showbackground": true,
            "ticks": "",
            "zerolinecolor": "#EBF0F8"
           },
           "yaxis": {
            "backgroundcolor": "white",
            "gridcolor": "#DFE8F3",
            "gridwidth": 2,
            "linecolor": "#EBF0F8",
            "showbackground": true,
            "ticks": "",
            "zerolinecolor": "#EBF0F8"
           },
           "zaxis": {
            "backgroundcolor": "white",
            "gridcolor": "#DFE8F3",
            "gridwidth": 2,
            "linecolor": "#EBF0F8",
            "showbackground": true,
            "ticks": "",
            "zerolinecolor": "#EBF0F8"
           }
          },
          "shapedefaults": {
           "line": {
            "color": "#2a3f5f"
           }
          },
          "ternary": {
           "aaxis": {
            "gridcolor": "#DFE8F3",
            "linecolor": "#A2B1C6",
            "ticks": ""
           },
           "baxis": {
            "gridcolor": "#DFE8F3",
            "linecolor": "#A2B1C6",
            "ticks": ""
           },
           "bgcolor": "white",
           "caxis": {
            "gridcolor": "#DFE8F3",
            "linecolor": "#A2B1C6",
            "ticks": ""
           }
          },
          "title": {
           "x": 0.05
          },
          "xaxis": {
           "automargin": true,
           "gridcolor": "#EBF0F8",
           "linecolor": "#EBF0F8",
           "ticks": "",
           "title": {
            "standoff": 15
           },
           "zerolinecolor": "#EBF0F8",
           "zerolinewidth": 2
          },
          "yaxis": {
           "automargin": true,
           "gridcolor": "#EBF0F8",
           "linecolor": "#EBF0F8",
           "ticks": "",
           "title": {
            "standoff": 15
           },
           "zerolinecolor": "#EBF0F8",
           "zerolinewidth": 2
          }
         }
        },
        "title": {
         "text": "Sentiment Distribution by Year"
        },
        "xaxis": {
         "anchor": "y",
         "domain": [
          0,
          0.2888888888888889
         ]
        },
        "xaxis2": {
         "anchor": "y2",
         "domain": [
          0.35555555555555557,
          0.6444444444444445
         ]
        },
        "xaxis3": {
         "anchor": "y3",
         "domain": [
          0.7111111111111111,
          1
         ]
        },
        "yaxis": {
         "anchor": "x",
         "domain": [
          0,
          1
         ],
         "title": {
          "text": "Sentiment Score"
         }
        },
        "yaxis2": {
         "anchor": "x2",
         "domain": [
          0,
          1
         ],
         "title": {
          "text": "Sentiment Score"
         }
        },
        "yaxis3": {
         "anchor": "x3",
         "domain": [
          0,
          1
         ],
         "title": {
          "text": "Sentiment Score"
         }
        }
       }
      }
     },
     "metadata": {},
     "output_type": "display_data"
    },
    {
     "name": "stdout",
     "output_type": "stream",
     "text": [
      "\n",
      "📊 Key Insights:\n",
      "================================================================================\n",
      "\n",
      "2019:\n",
      "  • Average Positive: 0.394 (±0.002)\n",
      "  • Average Negative: 0.274 (±0.015)\n",
      "  • Average Neutral:  0.332 (±0.016)\n",
      "  • Speeches: 12\n",
      "\n",
      "2020:\n",
      "  • Average Positive: 0.393 (±0.003)\n",
      "  • Average Negative: 0.269 (±0.007)\n",
      "  • Average Neutral:  0.339 (±0.007)\n",
      "  • Speeches: 23\n"
     ]
    }
   ],
   "source": [
    "# Compare sentiment statistics by year\n",
    "year_stats = sentiment_df.groupby('year').agg({\n",
    "    'positive': ['mean', 'std', 'min', 'max'],\n",
    "    'negative': ['mean', 'std', 'min', 'max'],\n",
    "    'neutral': ['mean', 'std', 'min', 'max'],\n",
    "    'speech_idx': 'count'\n",
    "}).round(3)\n",
    "\n",
    "print(\"Year-over-Year Sentiment Statistics:\")\n",
    "print(\"=\"*80)\n",
    "print(year_stats)\n",
    "print()\n",
    "\n",
    "# Create box plots for sentiment distribution by year\n",
    "fig = make_subplots(\n",
    "    rows=1, cols=3,\n",
    "    subplot_titles=('Positive Sentiment', 'Negative Sentiment', 'Neutral Sentiment')\n",
    ")\n",
    "\n",
    "for year in sentiment_df['year'].unique():\n",
    "    year_data = sentiment_df[sentiment_df['year'] == year]\n",
    "    \n",
    "    fig.add_trace(\n",
    "        go.Box(y=year_data['positive'], name=year, showlegend=True,\n",
    "               marker_color='#2ecc71' if year == '2019' else '#27ae60'),\n",
    "        row=1, col=1\n",
    "    )\n",
    "    fig.add_trace(\n",
    "        go.Box(y=year_data['negative'], name=year, showlegend=False,\n",
    "               marker_color='#e74c3c' if year == '2019' else '#c0392b'),\n",
    "        row=1, col=2\n",
    "    )\n",
    "    fig.add_trace(\n",
    "        go.Box(y=year_data['neutral'], name=year, showlegend=False,\n",
    "               marker_color='#95a5a6' if year == '2019' else '#7f8c8d'),\n",
    "        row=1, col=3\n",
    "    )\n",
    "\n",
    "fig.update_layout(\n",
    "    title_text='Sentiment Distribution by Year',\n",
    "    height=400,\n",
    "    template='plotly_white',\n",
    "    showlegend=True\n",
    ")\n",
    "\n",
    "fig.update_yaxes(title_text=\"Sentiment Score\", row=1, col=1)\n",
    "fig.update_yaxes(title_text=\"Sentiment Score\", row=1, col=2)\n",
    "fig.update_yaxes(title_text=\"Sentiment Score\", row=1, col=3)\n",
    "\n",
    "fig.show()\n",
    "\n",
    "# Statistical comparison\n",
    "print(\"\\n📊 Key Insights:\")\n",
    "print(\"=\"*80)\n",
    "for year in sorted(sentiment_df['year'].unique()):\n",
    "    year_data = sentiment_df[sentiment_df['year'] == year]\n",
    "    print(f\"\\n{year}:\")\n",
    "    print(f\"  • Average Positive: {year_data['positive'].mean():.3f} (±{year_data['positive'].std():.3f})\")\n",
    "    print(f\"  • Average Negative: {year_data['negative'].mean():.3f} (±{year_data['negative'].std():.3f})\")\n",
    "    print(f\"  • Average Neutral:  {year_data['neutral'].mean():.3f} (±{year_data['neutral'].std():.3f})\")\n",
    "    print(f\"  • Speeches: {len(year_data)}\")"
   ]
  },
  {
   "cell_type": "markdown",
   "id": "1174e73e",
   "metadata": {},
   "source": [
    "## Summary Statistics and Insights\n",
    "\n",
    "Comprehensive analysis summary with key findings."
   ]
  },
  {
   "cell_type": "code",
   "execution_count": 14,
   "id": "4a29f0e7",
   "metadata": {},
   "outputs": [
    {
     "name": "stdout",
     "output_type": "stream",
     "text": [
      "================================================================================\n",
      "📊 SENTIMENT ANALYSIS SUMMARY\n",
      "================================================================================\n",
      "\n",
      "🎤 Dataset Overview:\n",
      "   Total Speeches Analyzed: 35\n",
      "   Time Period: Jul 2019 - Jun 2020\n",
      "   Total Text Chunks Processed: 985\n",
      "   Average Chunks per Speech: 28.1\n",
      "\n",
      "📈 Overall Sentiment Scores:\n",
      "   Positive: 0.393 (±0.002)\n",
      "   Negative: 0.270 (±0.010)\n",
      "   Neutral:  0.337 (±0.011)\n",
      "\n",
      "🎯 Dominant Sentiment Distribution:\n",
      "   positive: 35 speeches (100.0%)\n",
      "\n",
      "✨ Most Positive Speeches:\n",
      "   • Milwaukee (Jan 2020): 0.398\n",
      "   • New Hampshire (Aug 2019): 0.398\n",
      "   • New Hampshire (Feb 2020): 0.397\n",
      "\n",
      "⚠️  Most Negative Speeches:\n",
      "   • Texas (Sep 2019): 0.317\n",
      "   • Fayetteville (Sep 2019): 0.287\n",
      "   • New Hampshire (Feb 2020): 0.282\n",
      "\n",
      "📊 Sentiment Variation:\n",
      "   Speeches with Most Sentiment Variation:\n",
      "   • Texas (Sep 2019): variance = 0.0006\n",
      "   • Colorador Springs (Feb 2020): variance = 0.0005\n",
      "   • Lexington (Nov 2019): variance = 0.0005\n",
      "\n",
      "   Speeches with Most Consistent Sentiment:\n",
      "   • Dallas (Oct 2019): variance = 0.0003\n",
      "   • Pittsburgh (Sep 2020): variance = 0.0002\n",
      "   • Mosinee (Sep 2020): variance = 0.0002\n",
      "\n",
      "================================================================================\n"
     ]
    }
   ],
   "source": [
    "# Comprehensive summary\n",
    "print(\"=\" * 80)\n",
    "print(\"📊 SENTIMENT ANALYSIS SUMMARY\")\n",
    "print(\"=\" * 80)\n",
    "\n",
    "# Overall statistics\n",
    "print(f\"\\n🎤 Dataset Overview:\")\n",
    "print(f\"   Total Speeches Analyzed: {len(sentiment_df)}\")\n",
    "print(f\"   Time Period: {sentiment_df['month'].iloc[0]} {sentiment_df['year'].iloc[0]} - {sentiment_df['month'].iloc[-1]} {sentiment_df['year'].iloc[-1]}\")\n",
    "print(f\"   Total Text Chunks Processed: {sentiment_df['num_chunks'].sum():,}\")\n",
    "print(f\"   Average Chunks per Speech: {sentiment_df['num_chunks'].mean():.1f}\")\n",
    "\n",
    "# Overall sentiment averages\n",
    "print(f\"\\n📈 Overall Sentiment Scores:\")\n",
    "print(f\"   Positive: {sentiment_df['positive'].mean():.3f} (±{sentiment_df['positive'].std():.3f})\")\n",
    "print(f\"   Negative: {sentiment_df['negative'].mean():.3f} (±{sentiment_df['negative'].std():.3f})\")\n",
    "print(f\"   Neutral:  {sentiment_df['neutral'].mean():.3f} (±{sentiment_df['neutral'].std():.3f})\")\n",
    "\n",
    "# Dominant sentiment\n",
    "dominant_counts = sentiment_df['dominant_sentiment'].value_counts()\n",
    "print(f\"\\n🎯 Dominant Sentiment Distribution:\")\n",
    "for sentiment, count in dominant_counts.items():\n",
    "    percentage = (count / len(sentiment_df)) * 100\n",
    "    print(f\"   {sentiment}: {count} speeches ({percentage:.1f}%)\")\n",
    "\n",
    "# Most/least positive speeches\n",
    "most_positive = sentiment_df.nlargest(3, 'positive')\n",
    "most_negative = sentiment_df.nlargest(3, 'negative')\n",
    "\n",
    "print(f\"\\n✨ Most Positive Speeches:\")\n",
    "for _, row in most_positive.iterrows():\n",
    "    print(f\"   • {row['location']} ({row['month']} {row['year']}): {row['positive']:.3f}\")\n",
    "\n",
    "print(f\"\\n⚠️  Most Negative Speeches:\")\n",
    "for _, row in most_negative.iterrows():\n",
    "    print(f\"   • {row['location']} ({row['month']} {row['year']}): {row['negative']:.3f}\")\n",
    "\n",
    "# Sentiment volatility (speeches with high variance in chunks)\n",
    "print(f\"\\n📊 Sentiment Variation:\")\n",
    "chunk_variances = []\n",
    "for result in sentiment_results:\n",
    "    chunks = result['chunk_predictions']\n",
    "    variance = np.var(chunks, axis=0).mean()\n",
    "    chunk_variances.append((result['location'], result['month'], result['year'], variance))\n",
    "\n",
    "chunk_variances.sort(key=lambda x: x[3], reverse=True)\n",
    "print(f\"   Speeches with Most Sentiment Variation:\")\n",
    "for location, month, year, var in chunk_variances[:3]:\n",
    "    print(f\"   • {location} ({month} {year}): variance = {var:.4f}\")\n",
    "\n",
    "print(f\"\\n   Speeches with Most Consistent Sentiment:\")\n",
    "for location, month, year, var in chunk_variances[-3:]:\n",
    "    print(f\"   • {location} ({month} {year}): variance = {var:.4f}\")\n",
    "\n",
    "print(\"\\n\" + \"=\" * 80)"
   ]
  },
  {
   "cell_type": "markdown",
   "id": "1bca72d8",
   "metadata": {},
   "source": [
    "---\n",
    "\n",
    "## 🚀 Next Steps: Full Project Features\n",
    "\n",
    "This notebook demonstrates **advanced sentiment analysis with BERT transformers**. For the complete project, visit the GitHub repository which includes:\n",
    "\n",
    "### 📊 Additional Notebooks\n",
    "- **Word Frequency & Topics Analysis**: N-gram extraction, word clouds, temporal linguistic patterns\n",
    "- **Masked Language Modeling**: Custom DistilBERT fine-tuning on domain-specific corpus\n",
    "\n",
    "### 🚀 Production-Ready API\n",
    "Try the live FastAPI application that serves this exact sentiment analysis model:\n",
    "- **Sentiment Analysis Endpoint**: Analyze any text with FinBERT\n",
    "- **Batch Processing**: Handle multiple texts efficiently\n",
    "- **RESTful Design**: Clean API with automatic documentation\n",
    "- **Error Handling**: Robust input validation and error responses\n",
    "\n",
    "**Live API Docs:** [https://trump-speeches-nlp-api.onrender.com/docs](https://trump-speeches-nlp-api.onrender.com/docs)\n",
    "\n",
    "**Example API Request:**\n",
    "```python\n",
    "import requests\n",
    "\n",
    "response = requests.post(\n",
    "    \"https://trump-speeches-nlp-api.onrender.com/sentiment\",\n",
    "    json={\"text\": \"Your text here\"}\n",
    ")\n",
    "print(response.json())\n",
    "```\n",
    "\n",
    "### 🛠️ Professional Engineering Practices\n",
    "- **Testing**: 38 unit/integration tests with 70%+ coverage (pytest)\n",
    "- **CI/CD**: GitHub Actions pipeline (tests, linting, security scans, deployment)\n",
    "- **Code Quality**: Black, flake8, isort, mypy for consistent code standards\n",
    "- **Deployment**: Docker containerization with Azure + Render deployment\n",
    "- **Documentation**: Comprehensive guides for setup, testing, and deployment\n",
    "- **Poetry**: Modern Python dependency management\n",
    "\n",
    "---\n",
    "\n",
    "## 📚 Learn More\n",
    "\n",
    "- **GitHub Repository:** [Donald-Trump-Rally-Speeches-NLP](https://github.com/JustaKris/Donald-Trump-Rally-Speeches-NLP)\n",
    "- **Dataset Source:** [Kaggle Dataset](https://www.kaggle.com/datasets/christianlillelund/donald-trumps-rallies)\n",
    "- **FinBERT Model:** [HuggingFace Model Card](https://huggingface.co/ProsusAI/finbert)\n",
    "- **Author:** Kristiyan Bonev | [GitHub Profile](https://github.com/JustaKris)\n",
    "\n",
    "---\n",
    "\n",
    "### 💬 Feedback Welcome!\n",
    "\n",
    "If you found this analysis helpful:\n",
    "- ⭐ Star the GitHub repository\n",
    "- 🔼 Upvote this Kaggle notebook\n",
    "- 💡 Share your thoughts in the comments\n",
    "- 🐛 Report issues or suggest improvements on GitHub\n",
    "\n",
    "**License:** MIT - Feel free to use, modify, and learn from this code!\n",
    "\n",
    "---\n",
    "\n",
    "## 🔬 Technical Notes\n",
    "\n",
    "### Why FinBERT for Political Speeches?\n",
    "\n",
    "While FinBERT was fine-tuned on financial text, its sentiment classification transfers well to political speeches because:\n",
    "1. **Structured language**: Both domains use formal, persuasive language\n",
    "2. **Clear sentiment signals**: Financial and political texts both express optimism/pessimism explicitly\n",
    "3. **BERT foundation**: Pre-trained on diverse text, captures general language understanding\n",
    "4. **3-class setup**: Positive/Negative/Neutral classification fits political analysis perfectly\n",
    "\n",
    "### Chunking Strategy Explained\n",
    "\n",
    "BERT models have a hard limit of 512 tokens. Our approach:\n",
    "- **Chunk size**: 510 tokens (leaving room for [CLS] and [SEP])\n",
    "- **Aggregation**: Average predictions across chunks\n",
    "- **Why this works**: Sentiment tends to be consistent within speeches; averaging smooths local variations\n",
    "\n",
    "### Performance Considerations\n",
    "\n",
    "- **Model size**: ~440MB download\n",
    "- **Processing time**: ~5-10 minutes for 35 speeches on CPU\n",
    "- **GPU acceleration**: Use GPU runtime for 5-10x speedup\n",
    "- **Memory usage**: ~2GB RAM for model + data"
   ]
  }
 ],
 "metadata": {
  "kernelspec": {
   "display_name": "dt-rally-speeches-nlp-jcnckEk--py3.13",
   "language": "python",
   "name": "python3"
  },
  "language_info": {
   "codemirror_mode": {
    "name": "ipython",
    "version": 3
   },
   "file_extension": ".py",
   "mimetype": "text/x-python",
   "name": "python",
   "nbconvert_exporter": "python",
   "pygments_lexer": "ipython3",
   "version": "3.13.3"
  }
 },
 "nbformat": 4,
 "nbformat_minor": 5
}
